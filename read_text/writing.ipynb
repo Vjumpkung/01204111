{
 "cells": [
  {
   "cell_type": "code",
   "execution_count": 3,
   "source": [
    "A = open(\"fucking.txt\" , \"w\")\r\n",
    "A.write(\"a\\n\")\r\n",
    "A.write(\"a\")\r\n",
    "A.close()"
   ],
   "outputs": [],
   "metadata": {}
  }
 ],
 "metadata": {
  "orig_nbformat": 4,
  "language_info": {
   "name": "python",
   "version": "3.8.8",
   "mimetype": "text/x-python",
   "codemirror_mode": {
    "name": "ipython",
    "version": 3
   },
   "pygments_lexer": "ipython3",
   "nbconvert_exporter": "python",
   "file_extension": ".py"
  },
  "kernelspec": {
   "name": "python3",
   "display_name": "Python 3.8.8 64-bit ('base': conda)"
  },
  "interpreter": {
   "hash": "430f1c63627d9b863fc174d5b288526dd274c8851c8551f402fcf24b846224bb"
  }
 },
 "nbformat": 4,
 "nbformat_minor": 2
}