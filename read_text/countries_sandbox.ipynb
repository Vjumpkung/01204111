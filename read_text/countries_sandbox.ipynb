{
 "cells": [
  {
   "cell_type": "code",
   "execution_count": 18,
   "source": [
    "def read_data():\r\n",
    "    with open(\"cities.csv\") as citi:\r\n",
    "        data = citi.readlines()[1::]\r\n",
    "        data = [data[i].strip().split(\",\") for i in range(len(data))]\r\n",
    "        data = list(zip(*data))\r\n",
    "    return data"
   ],
   "outputs": [],
   "metadata": {}
  },
  {
   "cell_type": "code",
   "execution_count": null,
   "source": [
    "data = read_data()\r\n",
    "print(data)"
   ],
   "outputs": [],
   "metadata": {}
  },
  {
   "cell_type": "markdown",
   "source": [
    "# Countries start with ..."
   ],
   "metadata": {}
  },
  {
   "cell_type": "code",
   "execution_count": 20,
   "source": [
    "countries_start_with = {}\r\n",
    "for i in data[1]:\r\n",
    "    if not i[0] in countries_start_with:\r\n",
    "        countries_start_with.setdefault(i[0],i)\r\n",
    "    else:\r\n",
    "        pass\r\n",
    "print(countries_start_with)"
   ],
   "outputs": [
    {
     "output_type": "stream",
     "name": "stdout",
     "text": [
      "{'D': 'Denmark', 'U': 'United Kingdom', 'S': 'Sweden', 'T': 'Turkey', 'F': 'France', 'N': 'Netherlands', 'I': 'Italy', 'A': 'Andorra', 'R': 'Romania', 'G': 'Greece', 'M': 'Moldova', 'P': 'Poland', 'B': 'Belarus', 'C': 'Czech Republic', 'H': 'Hungary', 'L': 'Latvia', 'E': 'Estonia'}\n"
     ]
    }
   ],
   "metadata": {}
  },
  {
   "cell_type": "markdown",
   "source": [
    "# City start with ..."
   ],
   "metadata": {}
  },
  {
   "cell_type": "code",
   "execution_count": 21,
   "source": [
    "city_start_with = {}\r\n",
    "for i in data[0]:\r\n",
    "    if not i[0] in city_start_with:\r\n",
    "        city_start_with.setdefault(i[0],[i])\r\n",
    "    else:\r\n",
    "        city_start_with[i[0]].append(i)\r\n",
    "print(city_start_with)"
   ],
   "outputs": [
    {
     "output_type": "stream",
     "name": "stdout",
     "text": [
      "{'A': ['Aalborg', 'Aberdeen', 'Abisko', 'Adana', 'Albacete', 'Algeciras', 'Amiens', 'Amsterdam', 'Ancona', 'Andorra', 'Angers', 'Ankara', 'Antalya', 'Arad', 'Athens', 'Augsburg'], 'B': ['Bacau', 'Badajoz', 'Baia Mare', 'Balti', 'Barcelona', 'Bari', 'Basel', 'Batman', 'Belfast', 'Belgrade', 'Bergamo', 'Bergen', 'Berlin', 'Bialystok', 'Bielefeld', 'Bila Tserkva', 'Bilbao', 'Birmingham', 'Blackpool', 'Bodo', 'Bologna', 'Bonn', 'Bordeaux', 'Botosani', 'Bournemouth', 'Bradford', 'Braga', 'Braila', 'Bratislava', 'Bremen', 'Brest', 'Brest', 'Brno', 'Brugge', 'Bucharest', 'Budapest', 'Burgas', 'Burgos', 'Bursa', 'Bydgoszcz', 'Bytom'], 'C': ['Caen', 'Cambridge', 'Cartagena', 'Catania', 'Chemnitz', 'Cherkasy', 'Chernihiv', 'Chernivtsi', 'Chisinau', 'Constanta', 'Cork', 'Cosenza', 'Craiova'], 'D': ['Daugavpils', 'Debrecen', 'Denizli', 'Dijon', 'Dublin', 'Dundee'], 'E': ['Edinburgh', 'Edirne', 'Elbasan', 'Elblag', 'Erfurt', 'Erzincan', 'Erzurum', 'Eskisehir', 'Exeter'], 'F': ['Foggia', 'Frankfurt', 'Freiburg'], 'G': ['Galway', 'Gaziantep', 'Geneva', 'Genoa', 'Glasgow', 'Gà¸£à¸–teborg', 'Granada', 'Graz', 'Grenoble', 'Groningen', 'Gyor'], 'H': ['Heidelberg', 'Helsinki', 'Horlivka', 'Hrodna', 'Huelva'], 'I': ['Ingolstadt', 'Innsbruck', 'Inverness', 'Istanbul'], 'K': ['Kalamata', 'Karaman', 'Karlsruhe', 'Kaunas', 'Kayseri', 'Kherson', 'Kielce', 'Kiev', 'Kiruna', 'Klaipeda', 'Kosice', 'Koszalin', 'Kremenchuk', 'Kryvyy Rih'], 'L': ['Le Mans', 'Lille', 'Limoges', 'Linz', 'Lisbon', 'Ljubljana', 'Lvov'], 'M': ['Maastricht', 'Madrid', 'Magdeburg', 'Makiyivka', 'Malatya', 'Malmà¸£à¸–', 'Manisa', 'Marbella', 'Marseille', 'Mazyr', 'Messina', 'Metz', 'Milan', 'Minsk', 'Montpellier', 'Mulhouse', 'Murcia'], 'N': ['Nice', 'Nis', 'Novi Sad'], 'O': ['Odense', 'Ordu', 'Orsha', 'Oslo', 'Ostrava', 'Oulu', 'Oviedo'], 'P': ['Palermo', 'Patras', 'Perpignan', 'Perugia', 'Pescara', 'Pinsk', 'Pleven', 'Plovdiv', 'Podgorica', 'Poznan', 'Prague'], 'R': ['Reims', 'Riga', 'Rijeka', 'Rivne', 'Rome', 'Rostock', 'Ruse'], 'S': ['Salamanca', 'Salzburg', 'Samsun', 'Santander', 'Sarajevo', 'Sibiu', 'Siirt', 'Sivas', 'Skopje', 'Split', 'Stara Zagora', 'Stavanger', 'Stockholm', 'Sumy', 'Swansea', 'Szeged'], 'T': ['Tallinn', 'Tampere', 'Tarsus', 'Tartu', 'Tekirdag', 'Toulouse', 'Trabzon', 'Trieste', 'Trikala', 'Trondheim', 'Turku'], 'U': ['Uppsala'], 'V': ['Valencia', 'Vienna', 'Vigo', 'Vilnius'], 'W': ['Warsaw', 'Wroclaw'], 'Y': ['Yevpatoriya'], 'Z': ['Zaragoza', 'Zhytomyr', 'Zonguldak', 'Zurich']}\n"
     ]
    }
   ],
   "metadata": {}
  },
  {
   "cell_type": "markdown",
   "source": [],
   "metadata": {}
  },
  {
   "cell_type": "code",
   "execution_count": null,
   "source": [],
   "outputs": [],
   "metadata": {}
  }
 ],
 "metadata": {
  "orig_nbformat": 4,
  "language_info": {
   "name": "python",
   "version": "3.6.13",
   "mimetype": "text/x-python",
   "codemirror_mode": {
    "name": "ipython",
    "version": 3
   },
   "pygments_lexer": "ipython3",
   "nbconvert_exporter": "python",
   "file_extension": ".py"
  },
  "kernelspec": {
   "name": "python3",
   "display_name": "Python 3.6.13 64-bit ('elab': conda)"
  },
  "interpreter": {
   "hash": "15bb5b5caed0bbca38a2f71d04205bf45dd89b88527a22cde4771643e1402263"
  }
 },
 "nbformat": 4,
 "nbformat_minor": 2
}