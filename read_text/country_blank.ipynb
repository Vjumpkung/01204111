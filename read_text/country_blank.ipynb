{
 "cells": [
  {
   "cell_type": "code",
   "execution_count": null,
   "source": [
    "# read data\r\n",
    "# write everything"
   ],
   "outputs": [],
   "metadata": {}
  },
  {
   "cell_type": "markdown",
   "source": [
    "# 1. Population of EU"
   ],
   "metadata": {}
  },
  {
   "cell_type": "code",
   "execution_count": null,
   "source": [
    "# your code here"
   ],
   "outputs": [],
   "metadata": {}
  },
  {
   "cell_type": "markdown",
   "source": [
    "# 2. Population by first letter of the country name [A,B,C,D,...]"
   ],
   "metadata": {}
  },
  {
   "cell_type": "code",
   "execution_count": null,
   "source": [
    "# your code here"
   ],
   "outputs": [],
   "metadata": {}
  },
  {
   "cell_type": "markdown",
   "source": [
    "# 3.Number of country that is by coastline (yes)"
   ],
   "metadata": {}
  },
  {
   "cell_type": "code",
   "execution_count": null,
   "source": [
    "# your code here"
   ],
   "outputs": [],
   "metadata": {}
  },
  {
   "cell_type": "markdown",
   "source": [
    "# 4.Countries with  population > 50 SORT BY POPULATION (DESCENDING ORDER)"
   ],
   "metadata": {}
  },
  {
   "cell_type": "code",
   "execution_count": null,
   "source": [
    "# your code here"
   ],
   "outputs": [],
   "metadata": {}
  },
  {
   "cell_type": "markdown",
   "source": [
    "# example output  \r\n",
    "## 1. Population of EU\r\n",
    "```\r\n",
    "505.27\r\n",
    "\r\n",
    "```\r\n",
    "## 2. Population by first letter of the country name from A to Z\r\n",
    "```\r\n",
    "letter : A , pop : 11.54\r\n",
    "letter : B , pop : 31.75\r\n",
    "letter : C , pop : 15.96\r\n",
    "letter : D , pop : 5.69\r\n",
    "letter : E , pop : 1.31\r\n",
    "letter : F , pop : 70.19\r\n",
    "letter : G , pop : 91.60\r\n",
    "letter : H , pop : 9.82\r\n",
    "letter : I , pop : 64.84\r\n",
    "letter : K , pop : 1.91\r\n",
    "letter : L , pop : 5.43\r\n",
    "letter : M , pop : 6.77\r\n",
    "letter : N , pop : 22.25\r\n",
    "letter : P , pop : 48.89\r\n",
    "letter : R , pop : 19.37\r\n",
    "letter : S , pop : 80.60\r\n",
    "letter : T , pop : 79.62\r\n",
    "letter : U , pop : 109.73\r\n",
    "\r\n",
    "```\r\n",
    "## 3.Number of country that is by coastline (yes)\r\n",
    "```\r\n",
    "coastline country count : 29\r\n",
    "\r\n",
    "```\r\n",
    "## 4.Countries with  population > 50 SORT BY POPULATION (DESCENDING ORDER)\r\n",
    "```\r\n",
    "Germany 80.68\r\n",
    "Turkey 79.62\r\n",
    "United Kingdom 65.11\r\n",
    "France 64.67\r\n",
    "Italy 59.8\r\n",
    "\r\n",
    "```"
   ],
   "metadata": {}
  }
 ],
 "metadata": {
  "orig_nbformat": 4,
  "language_info": {
   "name": "python",
   "version": "3.6.13",
   "mimetype": "text/x-python",
   "codemirror_mode": {
    "name": "ipython",
    "version": 3
   },
   "pygments_lexer": "ipython3",
   "nbconvert_exporter": "python",
   "file_extension": ".py"
  },
  "kernelspec": {
   "name": "python3",
   "display_name": "Python 3.6.13 64-bit ('elab': conda)"
  },
  "interpreter": {
   "hash": "15bb5b5caed0bbca38a2f71d04205bf45dd89b88527a22cde4771643e1402263"
  }
 },
 "nbformat": 4,
 "nbformat_minor": 2
}