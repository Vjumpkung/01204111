{
 "cells": [
  {
   "cell_type": "code",
   "execution_count": 2,
   "source": [
    "# read data\r\n",
    "# write everything\r\n",
    "import pandas as pd\r\n",
    "country = pd.read_csv(\"Countries.csv\")"
   ],
   "outputs": [],
   "metadata": {}
  },
  {
   "cell_type": "markdown",
   "source": [
    "# 1. Population of EU"
   ],
   "metadata": {}
  },
  {
   "cell_type": "code",
   "execution_count": 25,
   "source": [
    "# your code here\r\n",
    "print(round(sum(country[\"population\"][country[\"EU\"] == \"yes\"]),2))"
   ],
   "outputs": [
    {
     "output_type": "stream",
     "name": "stdout",
     "text": [
      "505.27\n"
     ]
    }
   ],
   "metadata": {}
  },
  {
   "cell_type": "markdown",
   "source": [
    "# 2. Population by first letter of the country name [A,B,C,D,...]"
   ],
   "metadata": {}
  },
  {
   "cell_type": "code",
   "execution_count": 26,
   "source": [
    "# your code here\r\n",
    "A_to_Z = [chr(i) for i in range(ord(\"A\"),ord(\"Z\")+1)]\r\n",
    "data = [round(sum(country[country[\"country\"].str.contains(j)][\"population\"]),2) for j in A_to_Z]\r\n",
    "y = [print(f\"letter : {i} , pop : {data[A_to_Z.index(i)]}\") for i in A_to_Z if data[A_to_Z.index(i)] > 0][0]"
   ],
   "outputs": [
    {
     "output_type": "stream",
     "name": "stdout",
     "text": [
      "letter : A , pop : 11.54\n",
      "letter : B , pop : 31.75\n",
      "letter : C , pop : 15.96\n",
      "letter : D , pop : 5.69\n",
      "letter : E , pop : 1.31\n",
      "letter : F , pop : 70.19\n",
      "letter : G , pop : 91.6\n",
      "letter : H , pop : 13.62\n",
      "letter : I , pop : 64.84\n",
      "letter : K , pop : 67.02\n",
      "letter : L , pop : 5.43\n",
      "letter : M , pop : 6.77\n",
      "letter : N , pop : 22.25\n",
      "letter : P , pop : 48.89\n",
      "letter : R , pop : 29.92\n",
      "letter : S , pop : 80.6\n",
      "letter : T , pop : 79.62\n",
      "letter : U , pop : 109.73\n"
     ]
    }
   ],
   "metadata": {}
  },
  {
   "cell_type": "markdown",
   "source": [
    "# 3.Number of country that is by coastline (yes)"
   ],
   "metadata": {}
  },
  {
   "cell_type": "code",
   "execution_count": 13,
   "source": [
    "coastline_count = country[country[\"coastline\"] == \"yes\"]\r\n",
    "print(\"coastline country count :\",coastline_count.coastline.count())"
   ],
   "outputs": [
    {
     "output_type": "stream",
     "name": "stdout",
     "text": [
      "coastline country count : 29\n"
     ]
    }
   ],
   "metadata": {}
  },
  {
   "cell_type": "markdown",
   "source": [
    "# 4.Countries with  population > 50 SORT BY POPULATION (DESCENDING ORDER)"
   ],
   "metadata": {}
  },
  {
   "cell_type": "code",
   "execution_count": 60,
   "source": [
    "# your code here\r\n",
    "more_than_50 = country[country.population > 50].sort_values(by=[\"population\"],ascending=False)\r\n",
    "for i in list(zip(more_than_50.country, more_than_50.population)):\r\n",
    "    print(*i)"
   ],
   "outputs": [
    {
     "output_type": "stream",
     "name": "stdout",
     "text": [
      "Germany 80.68\n",
      "Turkey 79.62\n",
      "United Kingdom 65.11\n",
      "France 64.67\n",
      "Italy 59.8\n"
     ]
    }
   ],
   "metadata": {}
  },
  {
   "cell_type": "markdown",
   "source": [
    "# example output  \r\n",
    "## 1. Population of EU\r\n",
    "```\r\n",
    "505.27\r\n",
    "\r\n",
    "```\r\n",
    "## 2. Population by first letter of the country name from A to Z\r\n",
    "```\r\n",
    "letter : A , pop : 11.54\r\n",
    "letter : B , pop : 31.75\r\n",
    "letter : C , pop : 15.96\r\n",
    "letter : D , pop : 5.69\r\n",
    "letter : E , pop : 1.31\r\n",
    "letter : F , pop : 70.19\r\n",
    "letter : G , pop : 91.60\r\n",
    "letter : H , pop : 9.82\r\n",
    "letter : I , pop : 64.84\r\n",
    "letter : K , pop : 1.91\r\n",
    "letter : L , pop : 5.43\r\n",
    "letter : M , pop : 6.77\r\n",
    "letter : N , pop : 22.25\r\n",
    "letter : P , pop : 48.89\r\n",
    "letter : R , pop : 19.37\r\n",
    "letter : S , pop : 80.60\r\n",
    "letter : T , pop : 79.62\r\n",
    "letter : U , pop : 109.73\r\n",
    "\r\n",
    "```\r\n",
    "## 3.Number of country that is by coastline (yes)\r\n",
    "```\r\n",
    "coastline country count : 29\r\n",
    "\r\n",
    "```\r\n",
    "## 4.Countries with  population > 50 SORT BY POPULATION (DESCENDING ORDER)\r\n",
    "```\r\n",
    "Germany 80.68\r\n",
    "Turkey 79.62\r\n",
    "United Kingdom 65.11\r\n",
    "France 64.67\r\n",
    "Italy 59.8\r\n",
    "\r\n",
    "```"
   ],
   "metadata": {}
  }
 ],
 "metadata": {
  "orig_nbformat": 4,
  "language_info": {
   "name": "python",
   "version": "3.9.6",
   "mimetype": "text/x-python",
   "codemirror_mode": {
    "name": "ipython",
    "version": 3
   },
   "pygments_lexer": "ipython3",
   "nbconvert_exporter": "python",
   "file_extension": ".py"
  },
  "kernelspec": {
   "name": "python3",
   "display_name": "Python 3.9.6 64-bit ('python39': conda)"
  },
  "interpreter": {
   "hash": "7cffbab6619079a2a799a61432cc0cf7b30e6fb2dcb99e0e31409e12eb5c19b2"
  }
 },
 "nbformat": 4,
 "nbformat_minor": 2
}