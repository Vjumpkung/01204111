{
 "cells": [
  {
   "cell_type": "code",
   "execution_count": 1,
   "source": [
    "import numpy as np\r\n",
    "import matplotlib.pyplot as plt\r\n",
    "F2 = [0.1,0.510,1.560,2.750,4.030,5.530,7.080,8.59,10.19,11.76]\r\n",
    "F1 = [0.05,0.31,1.66,3.2,4.78,6.37,8.15,9.86,11.57,13.36]\r\n",
    "A = (0.995)\r\n",
    "F1 = np.array(F1)\r\n",
    "sigma1 = F1/A\r\n",
    "F2 = np.array(F2)\r\n",
    "sigma2 = F2/A\r\n",
    "avgsigma = (sigma1+sigma2)/2\r\n",
    "plt.plot(np.array([1.1,2.2,3.3,4.4,5.6,6.7,7.8,8.9,10,11.2]),avgsigma,\".\")\r\n",
    "x = np.array([1.1,2.2,3.3,4.4,5.6,6.7,7.8,8.9,10,11.2])\r\n",
    "y = avgsigma\r\n",
    "m, b = np.polyfit(x, y, 1)\r\n",
    "plt.plot(x, m*x + b)\r\n",
    "plt.show()"
   ],
   "outputs": [
    {
     "output_type": "display_data",
     "data": {
      "image/png": "[encoded data removed]",
      "text/plain": [
       "<Figure size 432x288 with 1 Axes>"
      ]
     },
     "metadata": {
      "needs_background": "light"
     }
    }
   ],
   "metadata": {}
  },
  {
   "cell_type": "markdown",
   "source": [],
   "metadata": {}
  },
  {
   "cell_type": "code",
   "execution_count": 6,
   "source": [
    "import numpy as np\r\n"
   ],
   "outputs": [],
   "metadata": {}
  },
  {
   "cell_type": "code",
   "execution_count": 10,
   "source": [
    "((1.31-0.91)/(1.31))*100"
   ],
   "outputs": [
    {
     "output_type": "execute_result",
     "data": {
      "text/plain": [
       "30.53435114503817"
      ]
     },
     "metadata": {},
     "execution_count": 10
    }
   ],
   "metadata": {}
  },
  {
   "cell_type": "code",
   "execution_count": 11,
   "source": [
    "(lambda x : m*x + b)(2)"
   ],
   "outputs": [
    {
     "output_type": "execute_result",
     "data": {
      "text/plain": [
       "0.23827862354207197"
      ]
     },
     "metadata": {},
     "execution_count": 11
    }
   ],
   "metadata": {}
  },
  {
   "cell_type": "code",
   "execution_count": 12,
   "source": [
    "(10.7-0.238)/(10-2)"
   ],
   "outputs": [
    {
     "output_type": "execute_result",
     "data": {
      "text/plain": [
       "1.30775"
      ]
     },
     "metadata": {},
     "execution_count": 12
    }
   ],
   "metadata": {}
  },
  {
   "cell_type": "code",
   "execution_count": 13,
   "source": [
    "m"
   ],
   "outputs": [
    {
     "output_type": "execute_result",
     "data": {
      "text/plain": [
       "1.3010227764003597"
      ]
     },
     "metadata": {},
     "execution_count": 13
    }
   ],
   "metadata": {}
  },
  {
   "cell_type": "code",
   "execution_count": 1,
   "source": [
    "import numpy as np\r\n",
    "before = np.array([0.250,0.215,0.176])\r\n",
    "after1 = np.array([0.0872,0,-0.0501])\r\n",
    "after2 = np.array([0.159,0.204,0.223])\r\n",
    "m1 = np.array([0.41147,0.31147,0.21147])\r\n",
    "m2 = np.array([0.20039,0.30039,0.40039])\r\n"
   ],
   "outputs": [],
   "metadata": {}
  },
  {
   "cell_type": "code",
   "execution_count": 10,
   "source": [
    "(before**2)/(2*m1)"
   ],
   "outputs": [
    {
     "output_type": "execute_result",
     "data": {
      "text/plain": [
       "array([0.07594721, 0.07420458, 0.0732397 ])"
      ]
     },
     "metadata": {},
     "execution_count": 10
    }
   ],
   "metadata": {}
  },
  {
   "cell_type": "code",
   "execution_count": 22,
   "source": [
    "e1 = (after1**2)/(2*m1)\r\n",
    "e1"
   ],
   "outputs": [
    {
     "output_type": "execute_result",
     "data": {
      "text/plain": [
       "array([0.00923985, 0.        , 0.00593467])"
      ]
     },
     "metadata": {},
     "execution_count": 22
    }
   ],
   "metadata": {}
  },
  {
   "cell_type": "code",
   "execution_count": 23,
   "source": [
    "e2 = (after2**2)/(2*m2)\r\n",
    "e2"
   ],
   "outputs": [
    {
     "output_type": "execute_result",
     "data": {
      "text/plain": [
       "array([0.06307949, 0.06926995, 0.0621007 ])"
      ]
     },
     "metadata": {},
     "execution_count": 23
    }
   ],
   "metadata": {}
  },
  {
   "cell_type": "code",
   "execution_count": 24,
   "source": [
    "e1+e2"
   ],
   "outputs": [
    {
     "output_type": "execute_result",
     "data": {
      "text/plain": [
       "array([0.07231934, 0.06926995, 0.06803537])"
      ]
     },
     "metadata": {},
     "execution_count": 24
    }
   ],
   "metadata": {}
  },
  {
   "cell_type": "code",
   "execution_count": 31,
   "source": [
    "from statistics import mean\r\n",
    "mean([0.432,0.405])"
   ],
   "outputs": [
    {
     "output_type": "execute_result",
     "data": {
      "text/plain": [
       "0.4185"
      ]
     },
     "metadata": {},
     "execution_count": 31
    }
   ],
   "metadata": {}
  },
  {
   "cell_type": "code",
   "execution_count": 47,
   "source": [
    "m1 = np.array([0.41123,0.31123,0.21123])\r\n",
    "m2 = np.array([0.20069,0.30069,0.40069])\r\n",
    "t1 = np.array([0.1615,0.1425,0.1195])\r\n",
    "t1d = np.array([0.2555,0.317,0.421])\r\n",
    "t2d = np.array([0.2525,0.316,0.4185])\r\n",
    "d1,d2 = 0.0990,0.0990\r\n",
    "v1 = d1/t1\r\n",
    "v1d = None\r\n",
    "v2d = None"
   ],
   "outputs": [],
   "metadata": {}
  },
  {
   "cell_type": "code",
   "execution_count": 48,
   "source": [
    "v1 = d1/t1\r\n",
    "v1"
   ],
   "outputs": [
    {
     "output_type": "execute_result",
     "data": {
      "text/plain": [
       "array([0.6130031 , 0.69473684, 0.82845188])"
      ]
     },
     "metadata": {},
     "execution_count": 48
    }
   ],
   "metadata": {}
  },
  {
   "cell_type": "code",
   "execution_count": 49,
   "source": [
    "v1d = d1/t1d\r\n",
    "v1d"
   ],
   "outputs": [
    {
     "output_type": "execute_result",
     "data": {
      "text/plain": [
       "array([0.38747554, 0.31230284, 0.23515439])"
      ]
     },
     "metadata": {},
     "execution_count": 49
    }
   ],
   "metadata": {}
  },
  {
   "cell_type": "code",
   "execution_count": 50,
   "source": [
    "v2d = d2/t2d\r\n",
    "v2d"
   ],
   "outputs": [
    {
     "output_type": "execute_result",
     "data": {
      "text/plain": [
       "array([0.39207921, 0.31329114, 0.23655914])"
      ]
     },
     "metadata": {},
     "execution_count": 50
    }
   ],
   "metadata": {}
  },
  {
   "cell_type": "code",
   "execution_count": 51,
   "source": [
    "vavg = (v1d+v2d)/2\r\n",
    "vavg"
   ],
   "outputs": [
    {
     "output_type": "execute_result",
     "data": {
      "text/plain": [
       "array([0.38977737, 0.31279699, 0.23585677])"
      ]
     },
     "metadata": {},
     "execution_count": 51
    }
   ],
   "metadata": {}
  },
  {
   "cell_type": "code",
   "execution_count": null,
   "source": [],
   "outputs": [],
   "metadata": {}
  },
  {
   "cell_type": "code",
   "execution_count": 52,
   "source": [
    "print(m1*v1)\r\n",
    "print((m1+m2)*vavg)"
   ],
   "outputs": [
    {
     "output_type": "stream",
     "name": "stdout",
     "text": [
      "[0.25208526 0.21622295 0.17499389]\n",
      "[0.23851257 0.19140673 0.14432547]\n"
     ]
    }
   ],
   "metadata": {}
  },
  {
   "cell_type": "code",
   "execution_count": 56,
   "source": [
    "pbefore = m1*v1\r\n",
    "pafter = (m1+m2)*vavg\r\n",
    "e1 = ((pbefore)**2)/(2*m1)\r\n",
    "e2 = ((pafter)**2)/(2*(m1+m2))\r\n",
    "print(e1)\r\n",
    "print(e2)"
   ],
   "outputs": [
    {
     "output_type": "stream",
     "name": "stdout",
     "text": [
      "[0.07726452 0.07510902 0.07248701]\n",
      "[0.0464834  0.02993572 0.01702007]\n"
     ]
    }
   ],
   "metadata": {}
  },
  {
   "cell_type": "code",
   "execution_count": 8,
   "source": [
    "round((39.8-29.2),2)"
   ],
   "outputs": [
    {
     "output_type": "execute_result",
     "data": {
      "text/plain": [
       "10.6"
      ]
     },
     "metadata": {},
     "execution_count": 8
    }
   ],
   "metadata": {}
  },
  {
   "cell_type": "code",
   "execution_count": 16,
   "source": [
    "import numpy as np\r\n",
    "import matplotlib.pyplot as plt\r\n",
    "plt.plot([0,2.7,5.4,8,10.6],[0,1,2,3,4],\".\")\r\n",
    "np.ployfit\r\n",
    "plt.show()"
   ],
   "outputs": [
    {
     "output_type": "display_data",
     "data": {
      "image/png": "[encoded data removed]",
      "text/plain": [
       "<Figure size 432x288 with 1 Axes>"
      ]
     },
     "metadata": {
      "needs_background": "light"
     }
    }
   ],
   "metadata": {}
  },
  {
   "cell_type": "code",
   "execution_count": 24,
   "source": [
    "from statistics import mean\r\n",
    "2*mean([0.06,0.0599])"
   ],
   "outputs": [
    {
     "output_type": "execute_result",
     "data": {
      "text/plain": [
       "0.1199"
      ]
     },
     "metadata": {},
     "execution_count": 24
    }
   ],
   "metadata": {}
  },
  {
   "cell_type": "code",
   "execution_count": 38,
   "source": [
    "A = np.array([8.61,10.70,2.50,3.20])\r\n",
    "(0.36*A/100)/(0.36982)"
   ],
   "outputs": [
    {
     "output_type": "execute_result",
     "data": {
      "text/plain": [
       "array([0.08381375, 0.10415878, 0.02433616, 0.03115029])"
      ]
     },
     "metadata": {},
     "execution_count": 38
    }
   ],
   "metadata": {}
  },
  {
   "cell_type": "code",
   "execution_count": 39,
   "source": [
    "gamma = lambda T : (-0.0167*T+7.5987)/100\r\n",
    "gamma(10)"
   ],
   "outputs": [
    {
     "output_type": "execute_result",
     "data": {
      "text/plain": [
       "0.07431700000000001"
      ]
     },
     "metadata": {},
     "execution_count": 39
    }
   ],
   "metadata": {}
  },
  {
   "cell_type": "code",
   "execution_count": 43,
   "source": [
    "((0.0961-0.0743)/(0.0743))*100"
   ],
   "outputs": [
    {
     "output_type": "execute_result",
     "data": {
      "text/plain": [
       "29.34051144010767"
      ]
     },
     "metadata": {},
     "execution_count": 43
    }
   ],
   "metadata": {}
  }
 ],
 "metadata": {
  "orig_nbformat": 4,
  "language_info": {
   "name": "python",
   "version": "3.9.6",
   "mimetype": "text/x-python",
   "codemirror_mode": {
    "name": "ipython",
    "version": 3
   },
   "pygments_lexer": "ipython3",
   "nbconvert_exporter": "python",
   "file_extension": ".py"
  },
  "kernelspec": {
   "name": "python3",
   "display_name": "Python 3.9.6 64-bit ('python39': conda)"
  },
  "interpreter": {
   "hash": "7cffbab6619079a2a799a61432cc0cf7b30e6fb2dcb99e0e31409e12eb5c19b2"
  }
 },
 "nbformat": 4,
 "nbformat_minor": 2
}