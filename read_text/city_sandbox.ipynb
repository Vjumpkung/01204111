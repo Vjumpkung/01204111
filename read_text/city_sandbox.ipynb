{
 "cells": [
  {
   "cell_type": "code",
   "execution_count": 1,
   "source": [
    "def read_data():\r\n",
    "    with open(\"cities.csv\") as citi:\r\n",
    "        data = citi.readlines()[1::]\r\n",
    "        data = [data[i].strip().split(\",\") for i in range(len(data))]\r\n",
    "        data = list(zip(*data))\r\n",
    "    with open(\"countries.csv\") as countries:\r\n",
    "        data2 = countries.readlines()[1::]\r\n",
    "        data2 = [data2[i].strip().split(\",\") for i in range(len(data2))]\r\n",
    "        data2 = list(zip(*data2))\r\n",
    "    return data,data2"
   ],
   "outputs": [],
   "metadata": {}
  },
  {
   "cell_type": "code",
   "execution_count": 2,
   "source": [
    "cities,countries = read_data()"
   ],
   "outputs": [],
   "metadata": {}
  },
  {
   "cell_type": "markdown",
   "source": [
    "# 1.Mean temperature of each country"
   ],
   "metadata": {}
  },
  {
   "cell_type": "code",
   "execution_count": 6,
   "source": [
    "from statistics import mean\r\n",
    "temperature_country = {}\r\n",
    "for i in range(len(cities[1])):\r\n",
    "    if not cities[1][i] in temperature_country:\r\n",
    "        temperature_country.setdefault(cities[1][i],[float(cities[4][i])])\r\n",
    "    else:\r\n",
    "        temperature_country[cities[1][i]].append(float(cities[4][i]))\r\n",
    "for j in sorted(temperature_country):\r\n",
    "    print(f\"{j:<22} : {mean(temperature_country[j]):>6.3f}\")"
   ],
   "outputs": [
    {
     "output_type": "stream",
     "name": "stdout",
     "text": [
      "Albania                : 15.180\n",
      "Andorra                :  9.600\n",
      "Austria                :  6.144\n",
      "Belarus                :  5.947\n",
      "Belgium                :  9.650\n",
      "Bosnia and Herzegovina :  9.600\n",
      "Bulgaria               : 10.440\n",
      "Croatia                : 10.865\n",
      "Czech Republic         :  7.857\n",
      "Denmark                :  7.625\n",
      "Estonia                :  4.590\n",
      "Finland                :  3.487\n",
      "France                 : 10.151\n",
      "Germany                :  7.869\n",
      "Greece                 : 16.902\n",
      "Hungary                :  9.602\n",
      "Ireland                :  9.300\n",
      "Italy                  : 13.475\n",
      "Latvia                 :  5.270\n",
      "Lithuania              :  6.143\n",
      "Macedonia              :  9.360\n",
      "Moldova                :  8.415\n",
      "Montenegro             :  9.990\n",
      "Netherlands            :  8.757\n",
      "Norway                 :  3.726\n",
      "Poland                 :  7.250\n",
      "Portugal               : 14.470\n",
      "Romania                :  9.224\n",
      "Serbia                 :  9.850\n",
      "Slovakia               :  8.480\n",
      "Slovenia               :  9.270\n",
      "Spain                  : 14.238\n",
      "Sweden                 :  3.587\n",
      "Switzerland            :  7.253\n",
      "Turkey                 : 11.727\n",
      "Ukraine                :  7.420\n",
      "United Kingdom         :  8.650\n"
     ]
    }
   ],
   "metadata": {}
  },
  {
   "cell_type": "markdown",
   "source": [
    "# 2.Mean temperature of EU"
   ],
   "metadata": {}
  },
  {
   "cell_type": "code",
   "execution_count": 4,
   "source": [
    "from statistics import mean\r\n",
    "eu_temperature_country = {}\r\n",
    "for i in range(len(cities[1])):\r\n",
    "    if (not cities[1][i] in eu_temperature_country) and (cities[1][i] in [countries[0][i] for i in range(len(countries[0])) if countries[2][i] == \"yes\"]):\r\n",
    "        eu_temperature_country.setdefault(cities[1][i],[float(cities[4][i])])\r\n",
    "    elif cities[1][i] in [countries[0][i] for i in range(len(countries[0])) if countries[2][i] == \"yes\"]:\r\n",
    "        eu_temperature_country[cities[1][i]].append(float(cities[4][i]))\r\n",
    "    else:\r\n",
    "        continue\r\n",
    "xi = 0\r\n",
    "N = 0\r\n",
    "for j in sorted(eu_temperature_country):\r\n",
    "    xi += sum(eu_temperature_country[j])\r\n",
    "    N += len(eu_temperature_country[j])\r\n",
    "print(round(xi/N,2))"
   ],
   "outputs": [
    {
     "output_type": "stream",
     "name": "stdout",
     "text": [
      "9.69\n"
     ]
    }
   ],
   "metadata": {}
  },
  {
   "cell_type": "markdown",
   "source": [
    "# 3.Standard Deviation of EU temperature"
   ],
   "metadata": {}
  },
  {
   "cell_type": "code",
   "execution_count": 5,
   "source": [
    "from statistics import stdev,mean\r\n",
    "eu_temperature_country = {}\r\n",
    "for i in range(len(cities[1])):\r\n",
    "    if (not cities[1][i] in eu_temperature_country) and (cities[1][i] in [countries[0][i] for i in range(len(countries[0])) if countries[2][i] == \"yes\"]):\r\n",
    "        eu_temperature_country.setdefault(cities[1][i],[float(cities[4][i])])\r\n",
    "    elif cities[1][i] in [countries[0][i] for i in range(len(countries[0])) if countries[2][i] == \"yes\"]:\r\n",
    "        eu_temperature_country[cities[1][i]].append(float(cities[4][i]))\r\n",
    "    else:\r\n",
    "        continue\r\n",
    "full_list = []\r\n",
    "for j in sorted(eu_temperature_country):\r\n",
    "    full_list += eu_temperature_country[j]\r\n",
    "print(round(stdev(full_list),2))"
   ],
   "outputs": [
    {
     "output_type": "stream",
     "name": "stdout",
     "text": [
      "3.66\n"
     ]
    }
   ],
   "metadata": {}
  }
 ],
 "metadata": {
  "orig_nbformat": 4,
  "language_info": {
   "name": "python",
   "version": "3.6.13",
   "mimetype": "text/x-python",
   "codemirror_mode": {
    "name": "ipython",
    "version": 3
   },
   "pygments_lexer": "ipython3",
   "nbconvert_exporter": "python",
   "file_extension": ".py"
  },
  "kernelspec": {
   "name": "python3",
   "display_name": "Python 3.6.13 64-bit ('elab': conda)"
  },
  "interpreter": {
   "hash": "15bb5b5caed0bbca38a2f71d04205bf45dd89b88527a22cde4771643e1402263"
  }
 },
 "nbformat": 4,
 "nbformat_minor": 2
}