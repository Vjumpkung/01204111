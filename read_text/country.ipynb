{
 "cells": [
  {
   "cell_type": "code",
   "execution_count": 2,
   "source": [
    "def read_data():\r\n",
    "    with open(\"Countries.csv\") as citi:\r\n",
    "        data = citi.readlines()[1::]\r\n",
    "        data = [data[i].strip().split(\",\") for i in range(len(data))]\r\n",
    "        data = list(zip(*data))\r\n",
    "    return data"
   ],
   "outputs": [],
   "metadata": {}
  },
  {
   "cell_type": "code",
   "execution_count": 3,
   "source": [
    "data = read_data()"
   ],
   "outputs": [],
   "metadata": {}
  },
  {
   "cell_type": "code",
   "execution_count": 7,
   "source": [
    "def read_data():\r\n",
    "    with open(input(\"Enter File name: \")) as citi:\r\n",
    "        data = citi.readlines()[1::]\r\n",
    "        data = [data[i].strip().split(\",\") for i in range(len(data))]\r\n",
    "        data = list(zip(*data))\r\n",
    "    return data\r\n",
    "data = read_data()\r\n",
    "for ind,val in enumerate(data[0]):\r\n",
    "    if data[2][ind] == \"no\" and data[3][ind] == \"yes\":\r\n",
    "        print(f\"{val} {data[1][ind]}\")"
   ],
   "outputs": [
    {
     "output_type": "stream",
     "name": "stdout",
     "text": [
      "Albania 2.9\n",
      "Bosnia and Herzegovina 3.8\n",
      "Iceland 0.33\n",
      "Montenegro 0.63\n",
      "Norway 5.27\n",
      "Turkey 79.62\n",
      "Ukraine 44.62\n"
     ]
    }
   ],
   "metadata": {}
  },
  {
   "cell_type": "markdown",
   "source": [
    "# 1. Population of EU"
   ],
   "metadata": {}
  },
  {
   "cell_type": "code",
   "execution_count": 10,
   "source": [
    "EU_population = {}\r\n",
    "EeeYou = [data[0][i] for i in range(len(data[0])) if data[2][i] == \"yes\"]\r\n",
    "for i in EeeYou:\r\n",
    "    EU_population[i] = data[1][data[0].index(i)]\r\n",
    "EU_population = list(EU_population.items())\r\n",
    "print(f\"{sum([float(EU_population[i][1]) for i in range(len(EU_population))]):.2f}\")"
   ],
   "outputs": [
    {
     "output_type": "stream",
     "name": "stdout",
     "text": [
      "505.27\n"
     ]
    }
   ],
   "metadata": {}
  },
  {
   "cell_type": "markdown",
   "source": [
    "# 2. Population by first letter of the country name [A,B,C,D,...]"
   ],
   "metadata": {}
  },
  {
   "cell_type": "code",
   "execution_count": 11,
   "source": [
    "first_letter_population = {}\r\n",
    "for i in range(len(data[0])):\r\n",
    "    placeholder = {}\r\n",
    "    if not data[0][i][0] in first_letter_population:\r\n",
    "        first_letter_population[data[0][i][0]] = float(data[1][i])\r\n",
    "    else:\r\n",
    "        first_letter_population[data[0][i][0]] += float(data[1][i])\r\n",
    "for i in first_letter_population:\r\n",
    "    print(f\"letter : {i} , pop : {first_letter_population[i]:.2f}\")"
   ],
   "outputs": [
    {
     "output_type": "stream",
     "name": "stdout",
     "text": [
      "letter : A , pop : 11.54\n",
      "letter : B , pop : 31.75\n",
      "letter : C , pop : 15.96\n",
      "letter : D , pop : 5.69\n",
      "letter : E , pop : 1.31\n",
      "letter : F , pop : 70.19\n",
      "letter : G , pop : 91.60\n",
      "letter : H , pop : 9.82\n",
      "letter : I , pop : 64.84\n",
      "letter : K , pop : 1.91\n",
      "letter : L , pop : 5.43\n",
      "letter : M , pop : 6.77\n",
      "letter : N , pop : 22.25\n",
      "letter : P , pop : 48.89\n",
      "letter : R , pop : 19.37\n",
      "letter : S , pop : 80.60\n",
      "letter : T , pop : 79.62\n",
      "letter : U , pop : 109.73\n"
     ]
    }
   ],
   "metadata": {}
  },
  {
   "cell_type": "markdown",
   "source": [
    "# 3.Number of country that is by coastline (yes)"
   ],
   "metadata": {}
  },
  {
   "cell_type": "code",
   "execution_count": 12,
   "source": [
    "print(\"coastline country count : \" + str(data[3].count(\"yes\")))"
   ],
   "outputs": [
    {
     "output_type": "stream",
     "name": "stdout",
     "text": [
      "coastline country count : 29\n"
     ]
    }
   ],
   "metadata": {}
  },
  {
   "cell_type": "markdown",
   "source": [
    "# 4.Countries with  population > 50 SORT BY POPULATION (DESCENDING ORDER)"
   ],
   "metadata": {}
  },
  {
   "cell_type": "code",
   "execution_count": 13,
   "source": [
    "x = sorted(zip(map(float,data[1]),data[0]))\r\n",
    "x = [x[i] for i in range(len(x)) if x[i][0] > 50]\r\n",
    "for i in x[::-1]:\r\n",
    "    print(*i[::-1])"
   ],
   "outputs": [
    {
     "output_type": "stream",
     "name": "stdout",
     "text": [
      "Germany 80.68\n",
      "Turkey 79.62\n",
      "United Kingdom 65.11\n",
      "France 64.67\n",
      "Italy 59.8\n"
     ]
    }
   ],
   "metadata": {}
  }
 ],
 "metadata": {
  "orig_nbformat": 4,
  "language_info": {
   "name": "python",
   "version": "3.6.13",
   "mimetype": "text/x-python",
   "codemirror_mode": {
    "name": "ipython",
    "version": 3
   },
   "pygments_lexer": "ipython3",
   "nbconvert_exporter": "python",
   "file_extension": ".py"
  },
  "kernelspec": {
   "name": "python3",
   "display_name": "Python 3.6.13 64-bit ('elab': conda)"
  },
  "interpreter": {
   "hash": "1b6539e9ad35fc39de9761771fdbe27c8409b0251b431a05aac35241c2500571"
  }
 },
 "nbformat": 4,
 "nbformat_minor": 2
}