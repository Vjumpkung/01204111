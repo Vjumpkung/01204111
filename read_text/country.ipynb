{
 "cells": [
  {
   "cell_type": "code",
   "execution_count": 8,
   "source": [
    "def read_data():\r\n",
    "    with open(\"Countries.csv\") as citi:\r\n",
    "        data = citi.readlines()[1::]\r\n",
    "        data = [data[i].strip().split(\",\") for i in range(len(data))]\r\n",
    "        data = list(zip(*data))\r\n",
    "    return data"
   ],
   "outputs": [],
   "metadata": {}
  },
  {
   "cell_type": "code",
   "execution_count": 9,
   "source": [
    "data = read_data()"
   ],
   "outputs": [],
   "metadata": {}
  },
  {
   "cell_type": "markdown",
   "source": [
    "# 1. Population of EU"
   ],
   "metadata": {}
  },
  {
   "cell_type": "code",
   "execution_count": 10,
   "source": [
    "EU_population = {}\r\n",
    "EeeYou = [data[0][i] for i in range(len(data[0])) if data[2][i] == \"yes\"]\r\n",
    "for i in EeeYou:\r\n",
    "    EU_population[i] = data[1][data[0].index(i)]\r\n",
    "EU_population = list(EU_population.items())\r\n",
    "print(f\"{sum([float(EU_population[i][1]) for i in range(len(EU_population))]):.2f}\")"
   ],
   "outputs": [
    {
     "output_type": "stream",
     "name": "stdout",
     "text": [
      "505.27\n"
     ]
    }
   ],
   "metadata": {}
  },
  {
   "cell_type": "markdown",
   "source": [
    "# 2. Population by first letter of the country name [A,B,C,D,...]"
   ],
   "metadata": {}
  },
  {
   "cell_type": "code",
   "execution_count": 11,
   "source": [
    "first_letter_population = {}\r\n",
    "for i in range(len(data[0])):\r\n",
    "    placeholder = {}\r\n",
    "    if not data[0][i][0] in first_letter_population:\r\n",
    "        first_letter_population[data[0][i][0]] = float(data[1][i])\r\n",
    "    else:\r\n",
    "        first_letter_population[data[0][i][0]] += float(data[1][i])\r\n",
    "for i in first_letter_population:\r\n",
    "    print(f\"letter : {i} , pop : {first_letter_population[i]:.2f}\")"
   ],
   "outputs": [
    {
     "output_type": "stream",
     "name": "stdout",
     "text": [
      "letter : A , pop : 11.54\n",
      "letter : B , pop : 31.75\n",
      "letter : C , pop : 15.96\n",
      "letter : D , pop : 5.69\n",
      "letter : E , pop : 1.31\n",
      "letter : F , pop : 70.19\n",
      "letter : G , pop : 91.60\n",
      "letter : H , pop : 9.82\n",
      "letter : I , pop : 64.84\n",
      "letter : K , pop : 1.91\n",
      "letter : L , pop : 5.43\n",
      "letter : M , pop : 6.77\n",
      "letter : N , pop : 22.25\n",
      "letter : P , pop : 48.89\n",
      "letter : R , pop : 19.37\n",
      "letter : S , pop : 80.60\n",
      "letter : T , pop : 79.62\n",
      "letter : U , pop : 109.73\n"
     ]
    }
   ],
   "metadata": {}
  },
  {
   "cell_type": "markdown",
   "source": [
    "# 3.Number of country that is by coastline (yes)"
   ],
   "metadata": {}
  },
  {
   "cell_type": "code",
   "execution_count": 12,
   "source": [
    "print(\"coastline country count : \" + str(data[3].count(\"yes\")))"
   ],
   "outputs": [
    {
     "output_type": "stream",
     "name": "stdout",
     "text": [
      "coastline country count : 29\n"
     ]
    }
   ],
   "metadata": {}
  },
  {
   "cell_type": "markdown",
   "source": [
    "# 4.Countries with  population > 50 SORT BY POPULATION (DESCENDING ORDER)"
   ],
   "metadata": {}
  },
  {
   "cell_type": "code",
   "execution_count": 13,
   "source": [
    "x = sorted(zip(map(float,data[1]),data[0]))\r\n",
    "x = [x[i] for i in range(len(x)) if x[i][0] > 50]\r\n",
    "for i in x[::-1]:\r\n",
    "    print(*i[::-1])"
   ],
   "outputs": [
    {
     "output_type": "stream",
     "name": "stdout",
     "text": [
      "Germany 80.68\n",
      "Turkey 79.62\n",
      "United Kingdom 65.11\n",
      "France 64.67\n",
      "Italy 59.8\n"
     ]
    }
   ],
   "metadata": {}
  },
  {
   "cell_type": "code",
   "execution_count": 14,
   "source": [
    "sorted(zip(data[0],map(float,data[1])))"
   ],
   "outputs": [
    {
     "output_type": "execute_result",
     "data": {
      "text/plain": [
       "[('Albania', 2.9),\n",
       " ('Andorra', 0.07),\n",
       " ('Austria', 8.57),\n",
       " ('Belarus', 9.48),\n",
       " ('Belgium', 11.37),\n",
       " ('Bosnia and Herzegovina', 3.8),\n",
       " ('Bulgaria', 7.1),\n",
       " ('Croatia', 4.23),\n",
       " ('Cyprus', 1.18),\n",
       " ('Czech Republic', 10.55),\n",
       " ('Denmark', 5.69),\n",
       " ('Estonia', 1.31),\n",
       " ('Finland', 5.52),\n",
       " ('France', 64.67),\n",
       " ('Germany', 80.68),\n",
       " ('Greece', 10.92),\n",
       " ('Hungary', 9.82),\n",
       " ('Iceland', 0.33),\n",
       " ('Ireland', 4.71),\n",
       " ('Italy', 59.8),\n",
       " ('Kosovo', 1.91),\n",
       " ('Latvia', 1.96),\n",
       " ('Liechtenstein', 0.04),\n",
       " ('Lithuania', 2.85),\n",
       " ('Luxembourg', 0.58),\n",
       " ('Macedonia', 2.08),\n",
       " ('Moldova', 4.06),\n",
       " ('Montenegro', 0.63),\n",
       " ('Netherlands', 16.98),\n",
       " ('Norway', 5.27),\n",
       " ('Poland', 38.59),\n",
       " ('Portugal', 10.3),\n",
       " ('Romania', 19.37),\n",
       " ('Serbia', 8.81),\n",
       " ('Slovakia', 5.43),\n",
       " ('Slovenia', 2.07),\n",
       " ('Spain', 46.06),\n",
       " ('Sweden', 9.85),\n",
       " ('Switzerland', 8.38),\n",
       " ('Turkey', 79.62),\n",
       " ('Ukraine', 44.62),\n",
       " ('United Kingdom', 65.11)]"
      ]
     },
     "metadata": {},
     "execution_count": 14
    }
   ],
   "metadata": {}
  }
 ],
 "metadata": {
  "orig_nbformat": 4,
  "language_info": {
   "name": "python",
   "version": "3.6.13",
   "mimetype": "text/x-python",
   "codemirror_mode": {
    "name": "ipython",
    "version": 3
   },
   "pygments_lexer": "ipython3",
   "nbconvert_exporter": "python",
   "file_extension": ".py"
  },
  "kernelspec": {
   "name": "python3",
   "display_name": "Python 3.6.13 64-bit ('elab': conda)"
  },
  "interpreter": {
   "hash": "15bb5b5caed0bbca38a2f71d04205bf45dd89b88527a22cde4771643e1402263"
  }
 },
 "nbformat": 4,
 "nbformat_minor": 2
}