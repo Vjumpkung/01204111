{
 "cells": [
  {
   "cell_type": "code",
   "execution_count": 160,
   "source": [
    "s = '''AABBCCCBBCCDDDABABDDCCDDCC\r\n",
    "6300000001 AABBCCCBBCCDDDABABDDCCDDCA\r\n",
    "6300000002 A BBCD BDBAAABA ABDBCCCDCC\r\n",
    "6300000003 ABABCCNNAADDDABAB CCDDAC\r\n",
    "6300000004 AABBCCCBBCCDDDABABDDCCDD'''"
   ],
   "outputs": [],
   "metadata": {}
  },
  {
   "cell_type": "code",
   "execution_count": 161,
   "source": [
    "y = s.split(\"\\n\")\r\n",
    "answer_key = y[0]"
   ],
   "outputs": [],
   "metadata": {}
  },
  {
   "cell_type": "code",
   "execution_count": 162,
   "source": [
    "y = y[1:]\r\n",
    "std = [x[:10] for x in y[:]]\r\n",
    "ans = [x[11:] for x in y[:]]"
   ],
   "outputs": [],
   "metadata": {}
  },
  {
   "cell_type": "code",
   "execution_count": 163,
   "source": [
    "ans"
   ],
   "outputs": [
    {
     "output_type": "execute_result",
     "data": {
      "text/plain": [
       "['AABBCCCBBCCDDDABABDDCCDDCA',\n",
       " 'A BBCD BDBAAABA ABDBCCCDCC',\n",
       " 'ABABCCNNAADDDABAB CCDDAC',\n",
       " 'AABBCCCBBCCDDDABABDDCCDD']"
      ]
     },
     "metadata": {},
     "execution_count": 163
    }
   ],
   "metadata": {}
  },
  {
   "cell_type": "code",
   "execution_count": 164,
   "source": [
    "for i in range(len(ans)):\r\n",
    "    if len(ans[i]) < len(ans[0]):\r\n",
    "        print(ans[i])\r\n",
    "        while True:\r\n",
    "            ans[i] = ans[i] + \" \"\r\n",
    "            if len(ans[i]) == len(ans[0]) : break\r\n",
    "    else:\r\n",
    "        continue\r\n",
    "ans"
   ],
   "outputs": [
    {
     "output_type": "stream",
     "name": "stdout",
     "text": [
      "ABABCCNNAADDDABAB CCDDAC\n",
      "AABBCCCBBCCDDDABABDDCCDD\n"
     ]
    },
    {
     "output_type": "execute_result",
     "data": {
      "text/plain": [
       "['AABBCCCBBCCDDDABABDDCCDDCA',\n",
       " 'A BBCD BDBAAABA ABDBCCCDCC',\n",
       " 'ABABCCNNAADDDABAB CCDDAC  ',\n",
       " 'AABBCCCBBCCDDDABABDDCCDD  ']"
      ]
     },
     "metadata": {},
     "execution_count": 164
    }
   ],
   "metadata": {}
  },
  {
   "cell_type": "code",
   "execution_count": 165,
   "source": [
    "newans = [list(i) for i in ans]"
   ],
   "outputs": [],
   "metadata": {}
  },
  {
   "cell_type": "code",
   "execution_count": 166,
   "source": [
    "for i in newans:\r\n",
    "    print(i)"
   ],
   "outputs": [
    {
     "output_type": "stream",
     "name": "stdout",
     "text": [
      "['A', 'A', 'B', 'B', 'C', 'C', 'C', 'B', 'B', 'C', 'C', 'D', 'D', 'D', 'A', 'B', 'A', 'B', 'D', 'D', 'C', 'C', 'D', 'D', 'C', 'A']\n",
      "['A', ' ', 'B', 'B', 'C', 'D', ' ', 'B', 'D', 'B', 'A', 'A', 'A', 'B', 'A', ' ', 'A', 'B', 'D', 'B', 'C', 'C', 'C', 'D', 'C', 'C']\n",
      "['A', 'B', 'A', 'B', 'C', 'C', 'N', 'N', 'A', 'A', 'D', 'D', 'D', 'A', 'B', 'A', 'B', ' ', 'C', 'C', 'D', 'D', 'A', 'C', ' ', ' ']\n",
      "['A', 'A', 'B', 'B', 'C', 'C', 'C', 'B', 'B', 'C', 'C', 'D', 'D', 'D', 'A', 'B', 'A', 'B', 'D', 'D', 'C', 'C', 'D', 'D', ' ', ' ']\n"
     ]
    }
   ],
   "metadata": {}
  },
  {
   "cell_type": "code",
   "execution_count": 167,
   "source": [
    "score = []\r\n",
    "for i in range(len(newans)):\r\n",
    "    placescore = 0\r\n",
    "    for j in range(len(newans[0])):\r\n",
    "        if newans[i][j] == list(answer_key)[j]:\r\n",
    "            placescore += 1\r\n",
    "    score.append(placescore)\r\n"
   ],
   "outputs": [],
   "metadata": {}
  },
  {
   "cell_type": "markdown",
   "source": [
    "```\r\n",
    "['A', 'A', 'B', 'B', 'C', 'C', 'C', 'B', 'B', 'C', 'C', 'D', 'D', 'D', 'A', 'B', 'A', 'B', 'D', 'D', 'C', 'C', 'D', 'D', 'C', 'A']\r\n",
    "['A', ' ', 'B', 'B', 'C', 'D', ' ', 'B', 'D', 'B', 'A', 'A', 'A', 'B', 'A', ' ', 'A', 'B', 'D', 'B', 'C', 'C', 'C', 'D', 'C', 'C']\r\n",
    "['A', 'B', 'A', 'B', 'C', 'C', 'N', 'N', 'A', 'A', 'D', 'D', 'D', 'A', 'B', 'A', 'B', ' ', 'C', 'C', 'D', 'D', 'A', 'C', ' ', ' ']\r\n",
    "['A', 'A', 'B', 'B', 'C', 'C', 'C', 'B', 'B', 'C', 'C', 'D', 'D', 'D', 'A', 'B', 'A', 'B', 'D', 'D', 'C', 'C', 'D', 'D', ' ', ' ']\r\n",
    "```"
   ],
   "metadata": {}
  },
  {
   "cell_type": "code",
   "execution_count": 168,
   "source": [
    "score"
   ],
   "outputs": [
    {
     "output_type": "execute_result",
     "data": {
      "text/plain": [
       "[25, 14, 6, 24]"
      ]
     },
     "metadata": {},
     "execution_count": 168
    }
   ],
   "metadata": {}
  },
  {
   "cell_type": "code",
   "execution_count": 169,
   "source": [
    "list(zip(std,score))\r\n",
    "for i in list(zip(std,score)):\r\n",
    "    print(str(i[0])+\",\"+str(i[1]))"
   ],
   "outputs": [
    {
     "output_type": "stream",
     "name": "stdout",
     "text": [
      "6300000001,25\n",
      "6300000002,14\n",
      "6300000003,6\n",
      "6300000004,24\n"
     ]
    }
   ],
   "metadata": {}
  },
  {
   "cell_type": "code",
   "execution_count": 7,
   "source": [
    "import pandas as pd\r\n",
    "pd.read_csv(\"ตารางสอบ.csv\",dtype=str)"
   ],
   "outputs": [
    {
     "output_type": "execute_result",
     "data": {
      "text/html": [
       "<div>\n",
       "<style scoped>\n",
       "    .dataframe tbody tr th:only-of-type {\n",
       "        vertical-align: middle;\n",
       "    }\n",
       "\n",
       "    .dataframe tbody tr th {\n",
       "        vertical-align: top;\n",
       "    }\n",
       "\n",
       "    .dataframe thead th {\n",
       "        text-align: right;\n",
       "    }\n",
       "</style>\n",
       "<table border=\"1\" class=\"dataframe\">\n",
       "  <thead>\n",
       "    <tr style=\"text-align: right;\">\n",
       "      <th></th>\n",
       "      <th>id</th>\n",
       "      <th>name</th>\n",
       "      <th>date</th>\n",
       "      <th>start</th>\n",
       "      <th>end</th>\n",
       "    </tr>\n",
       "  </thead>\n",
       "  <tbody>\n",
       "    <tr>\n",
       "      <th>0</th>\n",
       "      <td>01420133</td>\n",
       "      <td>Lab Physics</td>\n",
       "      <td>19 ต.ค. 2564</td>\n",
       "      <td>17.00</td>\n",
       "      <td>18.30</td>\n",
       "    </tr>\n",
       "    <tr>\n",
       "      <th>1</th>\n",
       "      <td>01417167</td>\n",
       "      <td>Math 1</td>\n",
       "      <td>27 ต.ค. 2564</td>\n",
       "      <td>14.30</td>\n",
       "      <td>16.30</td>\n",
       "    </tr>\n",
       "    <tr>\n",
       "      <th>2</th>\n",
       "      <td>01204111</td>\n",
       "      <td>Com Pro</td>\n",
       "      <td>29 ต.ค. 2564</td>\n",
       "      <td>9.00</td>\n",
       "      <td>12.00</td>\n",
       "    </tr>\n",
       "    <tr>\n",
       "      <th>3</th>\n",
       "      <td>01999033</td>\n",
       "      <td>Arts of Living</td>\n",
       "      <td>30 ต.ค. 2564</td>\n",
       "      <td>9.00</td>\n",
       "      <td>11.00</td>\n",
       "    </tr>\n",
       "    <tr>\n",
       "      <th>4</th>\n",
       "      <td>01999021</td>\n",
       "      <td>Thai Commu</td>\n",
       "      <td>30 ต.ค. 2564</td>\n",
       "      <td>14.30</td>\n",
       "      <td>16.00</td>\n",
       "    </tr>\n",
       "    <tr>\n",
       "      <th>5</th>\n",
       "      <td>01420111</td>\n",
       "      <td>Physics 1</td>\n",
       "      <td>1 พ.ย. 2564</td>\n",
       "      <td>9.00</td>\n",
       "      <td>11.00</td>\n",
       "    </tr>\n",
       "  </tbody>\n",
       "</table>\n",
       "</div>"
      ],
      "text/plain": [
       "         id            name          date  start    end\n",
       "0  01420133     Lab Physics  19 ต.ค. 2564  17.00  18.30\n",
       "1  01417167          Math 1  27 ต.ค. 2564  14.30  16.30\n",
       "2  01204111         Com Pro  29 ต.ค. 2564   9.00  12.00\n",
       "3  01999033  Arts of Living  30 ต.ค. 2564   9.00  11.00\n",
       "4  01999021      Thai Commu  30 ต.ค. 2564  14.30  16.00\n",
       "5  01420111       Physics 1   1 พ.ย. 2564   9.00  11.00"
      ]
     },
     "metadata": {},
     "execution_count": 7
    }
   ],
   "metadata": {}
  },
  {
   "cell_type": "code",
   "execution_count": 11,
   "source": [
    "import numpy as np\r\n",
    "X = np.random.randint(0,1000000,10000000)"
   ],
   "outputs": [],
   "metadata": {}
  },
  {
   "cell_type": "code",
   "execution_count": 12,
   "source": [
    "from time import time\r\n",
    "t1 = time()\r\n",
    "np.sort(X)\r\n",
    "t2 = time()\r\n",
    "t2-t1"
   ],
   "outputs": [
    {
     "output_type": "execute_result",
     "data": {
      "text/plain": [
       "0.6943447589874268"
      ]
     },
     "metadata": {},
     "execution_count": 12
    }
   ],
   "metadata": {}
  },
  {
   "cell_type": "code",
   "execution_count": 13,
   "source": [
    "import random\r\n",
    "Y = X.tolist()\r\n",
    "from time import time\r\n",
    "t1 = time()\r\n",
    "Y.sort()\r\n",
    "t2 = time()\r\n",
    "t2-t1"
   ],
   "outputs": [
    {
     "output_type": "execute_result",
     "data": {
      "text/plain": [
       "7.193010568618774"
      ]
     },
     "metadata": {},
     "execution_count": 13
    }
   ],
   "metadata": {}
  },
  {
   "cell_type": "code",
   "execution_count": 14,
   "source": [
    "import statistics\r\n",
    "\r\n",
    "def quicksort(numbers):\r\n",
    "  if len(numbers) <= 1:\r\n",
    "    return numbers\r\n",
    "  else:\r\n",
    "    pivot = statistics.median(\r\n",
    "      [\r\n",
    "        numbers[0],\r\n",
    "        numbers[len(numbers) // 2],\r\n",
    "        numbers[-1]\r\n",
    "      ]\r\n",
    "    )\r\n",
    "    items_less, pivot_items, items_greater = (\r\n",
    "      [n for n in numbers if n < pivot],\r\n",
    "      [n for n in numbers if n == pivot],\r\n",
    "      [n for n in numbers if n > pivot]\r\n",
    "    )\r\n",
    "\r\n",
    "    return (\r\n",
    "      quicksort(items_less) +\r\n",
    "      pivot_items +\r\n",
    "      quicksort(items_greater)\r\n",
    "    )"
   ],
   "outputs": [],
   "metadata": {}
  },
  {
   "cell_type": "code",
   "execution_count": 15,
   "source": [
    "from time import time\r\n",
    "Z = X.tolist()\r\n",
    "t1 = time()\r\n",
    "quicksort(Z)\r\n",
    "t2 = time()\r\n",
    "t2-t1"
   ],
   "outputs": [
    {
     "output_type": "execute_result",
     "data": {
      "text/plain": [
       "118.83839893341064"
      ]
     },
     "metadata": {},
     "execution_count": 15
    }
   ],
   "metadata": {}
  },
  {
   "cell_type": "code",
   "execution_count": 2,
   "source": [
    "!pip install algorithms"
   ],
   "outputs": [
    {
     "output_type": "stream",
     "name": "stdout",
     "text": [
      "Collecting algorithms\n",
      "  Downloading algorithms-0.1.4-py3-none-any.whl (209 kB)\n",
      "Installing collected packages: algorithms\n",
      "Successfully installed algorithms-0.1.4\n"
     ]
    }
   ],
   "metadata": {}
  },
  {
   "cell_type": "code",
   "execution_count": 10,
   "source": [
    "import numpy as np\r\n",
    "from algorithms.sort import merge_sort,bubble_sort,selection_sort\r\n",
    "from random import randint\r\n",
    "import time\r\n",
    "\r\n",
    "def elap(sort_algo, nbElem, step):\r\n",
    "  times = []\r\n",
    "  for x in range(0,nbElem,step):\r\n",
    "    start_time = time.time()\r\n",
    "    list2 = sort_algo(list1[:x])\r\n",
    "    #list2 = quick_sort(list1[:x])\r\n",
    "    elapsed_time = time.time() - start_time\r\n",
    "    times.append(elapsed_time)\r\n",
    "  return times\r\n",
    "\r\n",
    "nbElem, step = 100000, 2\r\n",
    "list1 = [randint(0,1000000) for i in range(nbElem)]\r\n",
    "\r\n",
    "sortAlgos = [np.sort, sorted]\r\n",
    "#sortAlgos = [quick_sort, merge_sort, selection_sort]\r\n",
    "  # bubble_sort is too slow to wait\r\n",
    "\r\n",
    "myTimes = {}\r\n",
    "for sort_algo in sortAlgos:\r\n",
    "  print(f' Calling -> {sort_algo.__name__}', end='')\r\n",
    "  times = elap(sort_algo, nbElem, step)\r\n",
    "  print(f', {sum(times):.4f} second(s)')\r\n",
    "  myTimes[sort_algo.__name__] = times\r\n",
    "\r\n",
    "x=[i for i in range(0,nbElem,step)]"
   ],
   "outputs": [
    {
     "output_type": "stream",
     "name": "stdout",
     "text": [
      " Calling -> sort, 416.7177 second(s)\n",
      " Calling -> sorted, 608.2331 second(s)\n"
     ]
    }
   ],
   "metadata": {}
  },
  {
   "cell_type": "code",
   "execution_count": 15,
   "source": [
    "import matplotlib.pyplot as plt\r\n",
    "%matplotlib inline\r\n",
    "plt.xlabel(\"No. of elements\")\r\n",
    "plt.ylabel(\"Time required\")\r\n",
    "#plt.plot(x, myTimes['merge_sort'], color='b', label='merged sort')\r\n",
    "plt.plot(x, myTimes['sort'], color='m', label='numpy sort')\r\n",
    "plt.plot(x, myTimes['sorted'], color='g', label='sorted')\r\n",
    "plt.legend()"
   ],
   "outputs": [
    {
     "output_type": "execute_result",
     "data": {
      "text/plain": [
       "<matplotlib.legend.Legend at 0x229c9085790>"
      ]
     },
     "metadata": {},
     "execution_count": 15
    },
    {
     "output_type": "display_data",
     "data": {
      "image/png": "[encoded data removed]",
      "text/plain": [
       "<Figure size 432x288 with 1 Axes>"
      ]
     },
     "metadata": {
      "needs_background": "light"
     }
    }
   ],
   "metadata": {}
  }
 ],
 "metadata": {
  "orig_nbformat": 4,
  "language_info": {
   "name": "python",
   "version": "3.9.6",
   "mimetype": "text/x-python",
   "codemirror_mode": {
    "name": "ipython",
    "version": 3
   },
   "pygments_lexer": "ipython3",
   "nbconvert_exporter": "python",
   "file_extension": ".py"
  },
  "kernelspec": {
   "name": "python3",
   "display_name": "Python 3.9.6 64-bit ('python39': conda)"
  },
  "interpreter": {
   "hash": "7cffbab6619079a2a799a61432cc0cf7b30e6fb2dcb99e0e31409e12eb5c19b2"
  }
 },
 "nbformat": 4,
 "nbformat_minor": 2
}