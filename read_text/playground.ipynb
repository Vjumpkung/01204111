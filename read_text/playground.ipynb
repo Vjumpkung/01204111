{
 "cells": [
  {
   "cell_type": "code",
   "execution_count": 160,
   "source": [
    "s = '''AABBCCCBBCCDDDABABDDCCDDCC\r\n",
    "6300000001 AABBCCCBBCCDDDABABDDCCDDCA\r\n",
    "6300000002 A BBCD BDBAAABA ABDBCCCDCC\r\n",
    "6300000003 ABABCCNNAADDDABAB CCDDAC\r\n",
    "6300000004 AABBCCCBBCCDDDABABDDCCDD'''"
   ],
   "outputs": [],
   "metadata": {}
  },
  {
   "cell_type": "code",
   "execution_count": 161,
   "source": [
    "y = s.split(\"\\n\")\r\n",
    "answer_key = y[0]"
   ],
   "outputs": [],
   "metadata": {}
  },
  {
   "cell_type": "code",
   "execution_count": 162,
   "source": [
    "y = y[1:]\r\n",
    "std = [x[:10] for x in y[:]]\r\n",
    "ans = [x[11:] for x in y[:]]"
   ],
   "outputs": [],
   "metadata": {}
  },
  {
   "cell_type": "code",
   "execution_count": 163,
   "source": [
    "ans"
   ],
   "outputs": [
    {
     "output_type": "execute_result",
     "data": {
      "text/plain": [
       "['AABBCCCBBCCDDDABABDDCCDDCA',\n",
       " 'A BBCD BDBAAABA ABDBCCCDCC',\n",
       " 'ABABCCNNAADDDABAB CCDDAC',\n",
       " 'AABBCCCBBCCDDDABABDDCCDD']"
      ]
     },
     "metadata": {},
     "execution_count": 163
    }
   ],
   "metadata": {}
  },
  {
   "cell_type": "code",
   "execution_count": 164,
   "source": [
    "for i in range(len(ans)):\r\n",
    "    if len(ans[i]) < len(ans[0]):\r\n",
    "        print(ans[i])\r\n",
    "        while True:\r\n",
    "            ans[i] = ans[i] + \" \"\r\n",
    "            if len(ans[i]) == len(ans[0]) : break\r\n",
    "    else:\r\n",
    "        continue\r\n",
    "ans"
   ],
   "outputs": [
    {
     "output_type": "stream",
     "name": "stdout",
     "text": [
      "ABABCCNNAADDDABAB CCDDAC\n",
      "AABBCCCBBCCDDDABABDDCCDD\n"
     ]
    },
    {
     "output_type": "execute_result",
     "data": {
      "text/plain": [
       "['AABBCCCBBCCDDDABABDDCCDDCA',\n",
       " 'A BBCD BDBAAABA ABDBCCCDCC',\n",
       " 'ABABCCNNAADDDABAB CCDDAC  ',\n",
       " 'AABBCCCBBCCDDDABABDDCCDD  ']"
      ]
     },
     "metadata": {},
     "execution_count": 164
    }
   ],
   "metadata": {}
  },
  {
   "cell_type": "code",
   "execution_count": 165,
   "source": [
    "newans = [list(i) for i in ans]"
   ],
   "outputs": [],
   "metadata": {}
  },
  {
   "cell_type": "code",
   "execution_count": 166,
   "source": [
    "for i in newans:\r\n",
    "    print(i)"
   ],
   "outputs": [
    {
     "output_type": "stream",
     "name": "stdout",
     "text": [
      "['A', 'A', 'B', 'B', 'C', 'C', 'C', 'B', 'B', 'C', 'C', 'D', 'D', 'D', 'A', 'B', 'A', 'B', 'D', 'D', 'C', 'C', 'D', 'D', 'C', 'A']\n",
      "['A', ' ', 'B', 'B', 'C', 'D', ' ', 'B', 'D', 'B', 'A', 'A', 'A', 'B', 'A', ' ', 'A', 'B', 'D', 'B', 'C', 'C', 'C', 'D', 'C', 'C']\n",
      "['A', 'B', 'A', 'B', 'C', 'C', 'N', 'N', 'A', 'A', 'D', 'D', 'D', 'A', 'B', 'A', 'B', ' ', 'C', 'C', 'D', 'D', 'A', 'C', ' ', ' ']\n",
      "['A', 'A', 'B', 'B', 'C', 'C', 'C', 'B', 'B', 'C', 'C', 'D', 'D', 'D', 'A', 'B', 'A', 'B', 'D', 'D', 'C', 'C', 'D', 'D', ' ', ' ']\n"
     ]
    }
   ],
   "metadata": {}
  },
  {
   "cell_type": "code",
   "execution_count": 167,
   "source": [
    "score = []\r\n",
    "for i in range(len(newans)):\r\n",
    "    placescore = 0\r\n",
    "    for j in range(len(newans[0])):\r\n",
    "        if newans[i][j] == list(answer_key)[j]:\r\n",
    "            placescore += 1\r\n",
    "    score.append(placescore)\r\n"
   ],
   "outputs": [],
   "metadata": {}
  },
  {
   "cell_type": "markdown",
   "source": [
    "```\r\n",
    "['A', 'A', 'B', 'B', 'C', 'C', 'C', 'B', 'B', 'C', 'C', 'D', 'D', 'D', 'A', 'B', 'A', 'B', 'D', 'D', 'C', 'C', 'D', 'D', 'C', 'A']\r\n",
    "['A', ' ', 'B', 'B', 'C', 'D', ' ', 'B', 'D', 'B', 'A', 'A', 'A', 'B', 'A', ' ', 'A', 'B', 'D', 'B', 'C', 'C', 'C', 'D', 'C', 'C']\r\n",
    "['A', 'B', 'A', 'B', 'C', 'C', 'N', 'N', 'A', 'A', 'D', 'D', 'D', 'A', 'B', 'A', 'B', ' ', 'C', 'C', 'D', 'D', 'A', 'C', ' ', ' ']\r\n",
    "['A', 'A', 'B', 'B', 'C', 'C', 'C', 'B', 'B', 'C', 'C', 'D', 'D', 'D', 'A', 'B', 'A', 'B', 'D', 'D', 'C', 'C', 'D', 'D', ' ', ' ']\r\n",
    "```"
   ],
   "metadata": {}
  },
  {
   "cell_type": "code",
   "execution_count": 168,
   "source": [
    "score"
   ],
   "outputs": [
    {
     "output_type": "execute_result",
     "data": {
      "text/plain": [
       "[25, 14, 6, 24]"
      ]
     },
     "metadata": {},
     "execution_count": 168
    }
   ],
   "metadata": {}
  },
  {
   "cell_type": "code",
   "execution_count": 169,
   "source": [
    "list(zip(std,score))\r\n",
    "for i in list(zip(std,score)):\r\n",
    "    print(str(i[0])+\",\"+str(i[1]))"
   ],
   "outputs": [
    {
     "output_type": "stream",
     "name": "stdout",
     "text": [
      "6300000001,25\n",
      "6300000002,14\n",
      "6300000003,6\n",
      "6300000004,24\n"
     ]
    }
   ],
   "metadata": {}
  }
 ],
 "metadata": {
  "orig_nbformat": 4,
  "language_info": {
   "name": "python",
   "version": "3.6.13",
   "mimetype": "text/x-python",
   "codemirror_mode": {
    "name": "ipython",
    "version": 3
   },
   "pygments_lexer": "ipython3",
   "nbconvert_exporter": "python",
   "file_extension": ".py"
  },
  "kernelspec": {
   "name": "python3",
   "display_name": "Python 3.6.13 64-bit ('elab': conda)"
  },
  "interpreter": {
   "hash": "15bb5b5caed0bbca38a2f71d04205bf45dd89b88527a22cde4771643e1402263"
  }
 },
 "nbformat": 4,
 "nbformat_minor": 2
}