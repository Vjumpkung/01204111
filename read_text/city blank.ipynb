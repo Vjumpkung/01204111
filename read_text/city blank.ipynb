{
 "cells": [
  {
   "cell_type": "code",
   "execution_count": 3,
   "source": [
    "# read data\r\n",
    "# write everything\r\n",
    "import pandas as pd\r\n",
    "city = pd.read_csv(\"Cities.csv\")\r\n",
    "country = pd.read_csv(\"Countries.csv\")"
   ],
   "outputs": [],
   "metadata": {}
  },
  {
   "cell_type": "markdown",
   "source": [
    "# 1.Mean temperature of each country"
   ],
   "metadata": {}
  },
  {
   "cell_type": "code",
   "execution_count": 2,
   "source": [
    "# your code here\r\n"
   ],
   "outputs": [],
   "metadata": {}
  },
  {
   "cell_type": "markdown",
   "source": [
    "# 2.Mean temperature of EU"
   ],
   "metadata": {}
  },
  {
   "cell_type": "code",
   "execution_count": 3,
   "source": [
    "# your code here"
   ],
   "outputs": [],
   "metadata": {}
  },
  {
   "cell_type": "markdown",
   "source": [
    "# 3.Standard Deviation of EU temperature"
   ],
   "metadata": {}
  },
  {
   "cell_type": "code",
   "execution_count": 4,
   "source": [
    "# your code here"
   ],
   "outputs": [],
   "metadata": {}
  },
  {
   "cell_type": "markdown",
   "source": [
    "# example output  \r\n",
    "## 1.Mean temperature of each country\r\n",
    "```\r\n",
    "Albania                : 15.180\r\n",
    "Andorra                :  9.600\r\n",
    "Austria                :  6.144\r\n",
    "Belarus                :  5.947\r\n",
    "Belgium                :  9.650\r\n",
    "Bosnia and Herzegovina :  9.600\r\n",
    "Bulgaria               : 10.440\r\n",
    "Croatia                : 10.865\r\n",
    "Czech Republic         :  7.857\r\n",
    "Denmark                :  7.625\r\n",
    "Estonia                :  4.590\r\n",
    "Finland                :  3.487\r\n",
    "France                 : 10.151\r\n",
    "Germany                :  7.869\r\n",
    "Greece                 : 16.902\r\n",
    "Hungary                :  9.602\r\n",
    "Ireland                :  9.300\r\n",
    "Italy                  : 13.475\r\n",
    "Latvia                 :  5.270\r\n",
    "Lithuania              :  6.143\r\n",
    "Macedonia              :  9.360\r\n",
    "Moldova                :  8.415\r\n",
    "Montenegro             :  9.990\r\n",
    "Netherlands            :  8.757\r\n",
    "Norway                 :  3.726\r\n",
    "Poland                 :  7.250\r\n",
    "Portugal               : 14.470\r\n",
    "Romania                :  9.224\r\n",
    "Serbia                 :  9.850\r\n",
    "Slovakia               :  8.480\r\n",
    "Slovenia               :  9.270\r\n",
    "Spain                  : 14.238\r\n",
    "Sweden                 :  3.587\r\n",
    "Switzerland            :  7.253\r\n",
    "Turkey                 : 11.727\r\n",
    "Ukraine                :  7.420\r\n",
    "United Kingdom         :  8.650\r\n",
    "\r\n",
    "```\r\n",
    "## 2.Mean temperature of EU\r\n",
    "```9.69```\r\n",
    "## 3.Standard Deviation of EU temperature\r\n",
    "```3.66```"
   ],
   "metadata": {}
  }
 ],
 "metadata": {
  "orig_nbformat": 4,
  "language_info": {
   "name": "python",
   "version": "3.9.6",
   "mimetype": "text/x-python",
   "codemirror_mode": {
    "name": "ipython",
    "version": 3
   },
   "pygments_lexer": "ipython3",
   "nbconvert_exporter": "python",
   "file_extension": ".py"
  },
  "kernelspec": {
   "name": "python3",
   "display_name": "Python 3.9.6 64-bit ('python39': conda)"
  },
  "interpreter": {
   "hash": "7cffbab6619079a2a799a61432cc0cf7b30e6fb2dcb99e0e31409e12eb5c19b2"
  }
 },
 "nbformat": 4,
 "nbformat_minor": 2
}