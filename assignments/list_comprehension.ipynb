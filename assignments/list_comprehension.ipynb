{
 "cells": [
  {
   "cell_type": "markdown",
   "source": [
    "# List Comprehension"
   ],
   "metadata": {}
  },
  {
   "cell_type": "markdown",
   "source": [
    "## เป็นการสร้าง list โดยมีเพียงบรรทัดเดียว  \r\n",
    "## ส่วนประกอบของ list comprehension\r\n",
    "## lst = [expression (if condition == True) for item in iterable if condition == True]\r\n",
    "- ### expression คือคำสั่งที่กระทำ\r\n",
    "- ### for item in iterable คือการ for ทั่วไปเลย   \r\n",
    "- ### เงื่อนไขพิเศษคือใส่กรณีในช่วงระหว่างการ loop โดยใส่เป็น if condition"
   ],
   "metadata": {}
  },
  {
   "cell_type": "markdown",
   "source": [
    "# Exmaple 1 list ของจำนวนคู่บวกจาก 0 ถึง 20"
   ],
   "metadata": {}
  },
  {
   "cell_type": "code",
   "execution_count": null,
   "source": [
    "[i for i in range(21) if i%2 == 0]"
   ],
   "outputs": [],
   "metadata": {}
  },
  {
   "cell_type": "markdown",
   "source": [
    "# Example 2 list comprehension ก็สามารถยัด function ได้เช่นกัน\r\n",
    "#### หมายเหตุ [0] คือ print จะ return เป็น None เพื่อจะไม่ให้พิมพ์ออกมาก็เลยต้องใส่ [0] ไว้"
   ],
   "metadata": {}
  },
  {
   "cell_type": "code",
   "execution_count": null,
   "source": [
    "x = [\"1\",\"2\",\"3\"]\r\n",
    "[int(i) for i in x]"
   ],
   "outputs": [],
   "metadata": {}
  },
  {
   "cell_type": "markdown",
   "source": [
    "# Example 3 สร้าง matrix m x n มิติ"
   ],
   "metadata": {}
  },
  {
   "cell_type": "code",
   "execution_count": null,
   "source": [
    "m = 3\r\n",
    "n = 3\r\n",
    "[[0 for j in range(n)] for i in range(m)]"
   ],
   "outputs": [],
   "metadata": {}
  },
  {
   "cell_type": "markdown",
   "source": [
    "## แบบฝึกหัด 1 สร้าง list ที่ประกอบไปด้วย A ถึง Z (บรรทัดเดียวเท่านั้น!)\r\n",
    "### Hint : ใช้ chr() ord()"
   ],
   "metadata": {}
  },
  {
   "cell_type": "code",
   "execution_count": null,
   "source": [
    "# your code here"
   ],
   "outputs": [],
   "metadata": {}
  },
  {
   "cell_type": "markdown",
   "source": [
    "# แบบฝึกหัด 2 สร้าง list จากจำนวนนับตั้งแต่ 1 ถึง 20 โดยจำนวนที่ 2 หารลงตัวให้ติดลบไว้ด้านหน้า และ ที่เหลือให้เป็นบวก (บรรทัดเดียวเท่านั้น!)  \r\n",
    "### Hint : ใช้ if else"
   ],
   "metadata": {}
  },
  {
   "cell_type": "code",
   "execution_count": null,
   "source": [
    "# your code here"
   ],
   "outputs": [],
   "metadata": {}
  },
  {
   "cell_type": "markdown",
   "source": [
    "# แบบฝึกหัด 3 จงทำคำสั่งนี้ให้เป็น list comprehension  \r\n",
    "```py\r\n",
    "fruits = [\"apple\", \"banana\", \"cherry\", \"kiwi\", \"mango\"]\r\n",
    "newlist = []\r\n",
    "\r\n",
    "for x in fruits:\r\n",
    "  if \"a\" in x:\r\n",
    "    newlist.append(x)\r\n",
    "\r\n",
    "print(newlist)\r\n",
    "```"
   ],
   "metadata": {}
  },
  {
   "cell_type": "code",
   "execution_count": null,
   "source": [
    "# your code here"
   ],
   "outputs": [],
   "metadata": {}
  },
  {
   "cell_type": "markdown",
   "source": [
    "# แบบฝึกหัด 4 จงทำสมาชิกนี้ให้เหลือแต่ตัวเลข   \r\n",
    "## Example  ['R8RqF3PCYR'] --> ['83']"
   ],
   "metadata": {}
  },
  {
   "cell_type": "code",
   "execution_count": null,
   "source": [
    "s = ['cxDNzaL6s5', 'uWqRUdDbk0', 'yV9IwzW0ZJ', 'MB1ESSaQRv', 'PqPpEntBhY', 'rwiTUkL3xs', 'P2WRAm5dp2', '8N19mndlPc', 'mNCEyGtrcr', '84bWi3VvT3']\r\n",
    "# your code here"
   ],
   "outputs": [],
   "metadata": {}
  }
 ],
 "metadata": {
  "orig_nbformat": 4,
  "language_info": {
   "name": "python",
   "version": "3.6.13",
   "mimetype": "text/x-python",
   "codemirror_mode": {
    "name": "ipython",
    "version": 3
   },
   "pygments_lexer": "ipython3",
   "nbconvert_exporter": "python",
   "file_extension": ".py"
  },
  "kernelspec": {
   "name": "python3",
   "display_name": "Python 3.6.13 64-bit ('elab': conda)"
  },
  "interpreter": {
   "hash": "15bb5b5caed0bbca38a2f71d04205bf45dd89b88527a22cde4771643e1402263"
  }
 },
 "nbformat": 4,
 "nbformat_minor": 2
}