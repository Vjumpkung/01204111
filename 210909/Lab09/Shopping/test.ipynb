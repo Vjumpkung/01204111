{
 "cells": [
  {
   "cell_type": "code",
   "execution_count": 85,
   "source": [
    "import json\r\n",
    "inp = input(\"Enter json filename : \")\r\n",
    "df = json.load(open(inp))\r\n",
    "products = df[\"products\"]\r\n",
    "products = dict([list(i.values()) for i in products])\r\n",
    "custo = df[\"customers\"]\r\n",
    "custo = sorted(custo,key=lambda x : x[\"customer_name\"])\r\n",
    "def cal_product(sinkar,chamnuan):\r\n",
    "    if sinkar in products:\r\n",
    "        return int(products[sinkar])*chamnuan \r\n",
    "    return 0\r\n",
    "def change(total_price, pay):\r\n",
    "    bank_notes = (1000,500,100,50,20,10,5,2,1)\r\n",
    "    thorn = pay - total_price\r\n",
    "    #print(f\"Customer's change: {thorn}\")\r\n",
    "    for i in range(len(bank_notes)):\r\n",
    "        if thorn//bank_notes[i] > 0:\r\n",
    "            print(f\"{bank_notes[i]} : {thorn//bank_notes[i]}\")\r\n",
    "        else:\r\n",
    "            pass\r\n",
    "        thorn = thorn - (thorn//bank_notes[i])*bank_notes[i]\r\n",
    "for j,i in enumerate(custo):\r\n",
    "    print(i[\"customer_name\"])\r\n",
    "    total = 0\r\n",
    "    example1 = list(custo[j]['order'].items())\r\n",
    "    for k in example1:\r\n",
    "        total += cal_product(k[0],k[1])\r\n",
    "    if custo[j][\"money\"]-total == 0:\r\n",
    "        print(\"no change\")\r\n",
    "    else:\r\n",
    "        #print(f\"must thorn {custo[j]['money']-total}\")\r\n",
    "        change(total,custo[j][\"money\"])\r\n",
    "    print()"
   ],
   "outputs": [
    {
     "output_type": "stream",
     "name": "stdout",
     "text": [
      "Japan\n",
      "no change\n",
      "\n",
      "Tokyo\n",
      "500: 1\n",
      "100: 3\n",
      "10: 1\n",
      "\n",
      "ant\n",
      "1000: 9\n",
      "500: 1\n",
      "100: 2\n",
      "20: 1\n",
      "10: 1\n",
      "5: 1\n",
      "2: 1\n",
      "1: 1\n",
      "\n"
     ]
    }
   ],
   "metadata": {}
  },
  {
   "cell_type": "code",
   "execution_count": 60,
   "source": [],
   "outputs": [],
   "metadata": {}
  },
  {
   "cell_type": "code",
   "execution_count": 61,
   "source": [],
   "outputs": [],
   "metadata": {}
  },
  {
   "cell_type": "code",
   "execution_count": 62,
   "source": [
    "custo"
   ],
   "outputs": [
    {
     "output_type": "execute_result",
     "data": {
      "text/plain": [
       "[{'customer_name': 'Japan',\n",
       "  'order': {'Apple': 1, 'Grape': 1, 'Banana': 1},\n",
       "  'money': 88},\n",
       " {'customer_name': 'Tokyo', 'order': {'Apple': 3, 'Banana': 5}, 'money': 1000},\n",
       " {'customer_name': 'ant', 'order': {'Apple': 3, 'Grape': 5}, 'money': 10003}]"
      ]
     },
     "metadata": {},
     "execution_count": 62
    }
   ],
   "metadata": {}
  },
  {
   "cell_type": "code",
   "execution_count": 65,
   "source": [
    "example1 = list(custo[1]['order'].items())"
   ],
   "outputs": [],
   "metadata": {}
  },
  {
   "cell_type": "code",
   "execution_count": 72,
   "source": [
    "total = 0\r\n",
    "for i in example1:\r\n",
    "    total += cal_product(i[0],i[1])\r\n",
    "total"
   ],
   "outputs": [
    {
     "output_type": "execute_result",
     "data": {
      "text/plain": [
       "190"
      ]
     },
     "metadata": {},
     "execution_count": 72
    }
   ],
   "metadata": {}
  },
  {
   "cell_type": "code",
   "execution_count": 36,
   "source": [
    "products"
   ],
   "outputs": [
    {
     "output_type": "execute_result",
     "data": {
      "text/plain": [
       "{'Apple': '15', 'Banana': '29', 'Grape': '44'}"
      ]
     },
     "metadata": {},
     "execution_count": 36
    }
   ],
   "metadata": {}
  },
  {
   "cell_type": "code",
   "execution_count": 71,
   "source": [],
   "outputs": [],
   "metadata": {}
  },
  {
   "cell_type": "code",
   "execution_count": 70,
   "source": [
    "cal_product(\"Apple\",3)"
   ],
   "outputs": [
    {
     "output_type": "execute_result",
     "data": {
      "text/plain": [
       "45"
      ]
     },
     "metadata": {},
     "execution_count": 70
    }
   ],
   "metadata": {}
  },
  {
   "cell_type": "code",
   "execution_count": 80,
   "source": [],
   "outputs": [
    {
     "output_type": "stream",
     "name": "stdout",
     "text": [
      "Japan\n",
      "no change\n",
      "\n",
      "Tokyo\n",
      "500: 1\n",
      "100: 3\n",
      "10: 1\n",
      "\n",
      "ant\n",
      "1000: 9\n",
      "500: 1\n",
      "100: 2\n",
      "20: 1\n",
      "10: 1\n",
      "5: 1\n",
      "1: 3\n",
      "\n"
     ]
    }
   ],
   "metadata": {}
  }
 ],
 "metadata": {
  "orig_nbformat": 4,
  "language_info": {
   "name": "python",
   "version": "3.6.13",
   "mimetype": "text/x-python",
   "codemirror_mode": {
    "name": "ipython",
    "version": 3
   },
   "pygments_lexer": "ipython3",
   "nbconvert_exporter": "python",
   "file_extension": ".py"
  },
  "kernelspec": {
   "name": "python3",
   "display_name": "Python 3.6.13 64-bit ('elab': conda)"
  },
  "interpreter": {
   "hash": "15bb5b5caed0bbca38a2f71d04205bf45dd89b88527a22cde4771643e1402263"
  }
 },
 "nbformat": 4,
 "nbformat_minor": 2
}