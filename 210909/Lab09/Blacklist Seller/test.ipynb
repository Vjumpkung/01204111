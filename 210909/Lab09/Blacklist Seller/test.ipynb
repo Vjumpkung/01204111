{
 "cells": [
  {
   "cell_type": "code",
   "execution_count": 70,
   "source": [
    "import json\r\n",
    "inp = input(\"Filename : \")\r\n",
    "data = input(\"Data : \")\r\n",
    "df = json.load(open(inp))\r\n",
    "lst = []\r\n",
    "for i in df[0]:\r\n",
    "    wait = []\r\n",
    "    for j in df:\r\n",
    "        wait.append(j[i])\r\n",
    "    lst.append(wait)\r\n",
    "if len([1 for i in list(zip(*lst)) if data in i]) == 1:\r\n",
    "    print(\"Found in blacklist\")\r\n",
    "    for i in df:\r\n",
    "        if data in i.values():\r\n",
    "            for j in i:\r\n",
    "                print(j,\":\",i[j])\r\n",
    "else:\r\n",
    "    print(\"Not found in blacklist\")"
   ],
   "outputs": [
    {
     "output_type": "stream",
     "name": "stdout",
     "text": [
      "Found in blacklist\n",
      "name : Prayuth Sunotea\n",
      "account number : 549623\n",
      "ID number : 486235\n"
     ]
    }
   ],
   "metadata": {}
  }
 ],
 "metadata": {
  "orig_nbformat": 4,
  "language_info": {
   "name": "python",
   "version": "3.6.13",
   "mimetype": "text/x-python",
   "codemirror_mode": {
    "name": "ipython",
    "version": 3
   },
   "pygments_lexer": "ipython3",
   "nbconvert_exporter": "python",
   "file_extension": ".py"
  },
  "kernelspec": {
   "name": "python3",
   "display_name": "Python 3.6.13 64-bit ('elab': conda)"
  },
  "interpreter": {
   "hash": "15bb5b5caed0bbca38a2f71d04205bf45dd89b88527a22cde4771643e1402263"
  }
 },
 "nbformat": 4,
 "nbformat_minor": 2
}