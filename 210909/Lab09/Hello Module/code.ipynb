{
 "cells": [
  {
   "cell_type": "code",
   "execution_count": 2,
   "source": [
    "code = '''\r\n",
    "def greeting(name):\r\n",
    "  print(\"Hello, \" + name)'''\r\n",
    "\r\n",
    "with open('mymodule.py', 'w') as f:\r\n",
    "  f.write(code)\r\n",
    "\r\n",
    "##-----------------------------------------\r\n",
    "\r\n",
    "import mymodule\r\n",
    "inp = input(\"Name : \")\r\n",
    "mymodule.greeting(inp)"
   ],
   "outputs": [
    {
     "output_type": "stream",
     "name": "stdout",
     "text": [
      "Hello, stamp\n"
     ]
    }
   ],
   "metadata": {}
  }
 ],
 "metadata": {
  "orig_nbformat": 4,
  "language_info": {
   "name": "python",
   "version": "3.6.13",
   "mimetype": "text/x-python",
   "codemirror_mode": {
    "name": "ipython",
    "version": 3
   },
   "pygments_lexer": "ipython3",
   "nbconvert_exporter": "python",
   "file_extension": ".py"
  },
  "kernelspec": {
   "name": "python3",
   "display_name": "Python 3.6.13 64-bit ('elab': conda)"
  },
  "interpreter": {
   "hash": "15bb5b5caed0bbca38a2f71d04205bf45dd89b88527a22cde4771643e1402263"
  }
 },
 "nbformat": 4,
 "nbformat_minor": 2
}