{
 "cells": [
  {
   "cell_type": "code",
   "execution_count": 16,
   "source": [
    "import json,statistics\r\n",
    "data = json.load(open(input(\"Filename : \")))\r\n",
    "typ = input(\"type : \")"
   ],
   "outputs": [],
   "metadata": {}
  },
  {
   "cell_type": "code",
   "execution_count": 17,
   "source": [
    "edok = {}\r\n",
    "for i in data:\r\n",
    "    if i[\"species\"] not in edok:\r\n",
    "        edok.setdefault(i[\"species\"],[i[typ]])\r\n",
    "    else:\r\n",
    "        edok[i[\"species\"]].append(i[typ])\r\n",
    "for i in edok:\r\n",
    "    print(f\"{i} = {statistics.mean(edok[i]):.2f}\")"
   ],
   "outputs": [
    {
     "output_type": "stream",
     "name": "stdout",
     "text": [
      "Blue = 2.00\n",
      "Wall = 4.67\n"
     ]
    }
   ],
   "metadata": {}
  }
 ],
 "metadata": {
  "orig_nbformat": 4,
  "language_info": {
   "name": "python",
   "version": "3.6.13",
   "mimetype": "text/x-python",
   "codemirror_mode": {
    "name": "ipython",
    "version": 3
   },
   "pygments_lexer": "ipython3",
   "nbconvert_exporter": "python",
   "file_extension": ".py"
  },
  "kernelspec": {
   "name": "python3",
   "display_name": "Python 3.6.13 64-bit ('elab': conda)"
  },
  "interpreter": {
   "hash": "15bb5b5caed0bbca38a2f71d04205bf45dd89b88527a22cde4771643e1402263"
  }
 },
 "nbformat": 4,
 "nbformat_minor": 2
}