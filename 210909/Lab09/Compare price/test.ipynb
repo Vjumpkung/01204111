{
 "cells": [
  {
   "cell_type": "code",
   "execution_count": 17,
   "source": [
    "import json\r\n",
    "fn = input(\"Filename : \")\r\n",
    "df = json.load(open(fn))\r\n",
    "which = input()\r\n",
    "x = [(i['Brand'],i['Cost']) for i in df if which in i.values()]\r\n",
    "filters = min(x,key=lambda x : int(x[1]))\r\n",
    "print(f\"{filters[0]} : {filters[1]}\")"
   ],
   "outputs": [
    {
     "output_type": "stream",
     "name": "stdout",
     "text": [
      "Nestloop : 5\n"
     ]
    }
   ],
   "metadata": {}
  }
 ],
 "metadata": {
  "orig_nbformat": 4,
  "language_info": {
   "name": "python",
   "version": "3.6.13",
   "mimetype": "text/x-python",
   "codemirror_mode": {
    "name": "ipython",
    "version": 3
   },
   "pygments_lexer": "ipython3",
   "nbconvert_exporter": "python",
   "file_extension": ".py"
  },
  "kernelspec": {
   "name": "python3",
   "display_name": "Python 3.6.13 64-bit ('elab': conda)"
  },
  "interpreter": {
   "hash": "15bb5b5caed0bbca38a2f71d04205bf45dd89b88527a22cde4771643e1402263"
  }
 },
 "nbformat": 4,
 "nbformat_minor": 2
}