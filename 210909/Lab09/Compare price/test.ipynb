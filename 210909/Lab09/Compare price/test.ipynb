{
 "cells": [
  {
   "cell_type": "code",
   "execution_count": 17,
   "source": [
    "import json\r\n",
    "fn = input(\"Filename : \")\r\n",
    "df = json.load(open(fn))\r\n",
    "which = input()\r\n",
    "x = [(i['Brand'],i['Cost']) for i in df if which in i.values()]\r\n",
    "filters = min(x,key=lambda x : int(x[1]))\r\n",
    "print(f\"{filters[0]} : {filters[1]}\")"
   ],
   "outputs": [
    {
     "output_type": "stream",
     "name": "stdout",
     "text": [
      "Nestloop : 5\n"
     ]
    }
   ],
   "metadata": {}
  },
  {
   "cell_type": "code",
   "execution_count": 1,
   "source": [
    "print([exec(\"import json\"),(lambda df,which : f\"{(lambda x : min(x,key=lambda x : int(x[1]))[0])([(i['Brand'],i['Cost']) for i in df if which in i.values()])} : {(lambda x : min(x,key=lambda x : int(x[1]))[1])([(i['Brand'],i['Cost']) for i in df if which in i.values()])}\")(json.load(open(input(\"Filename : \"))),input())][1])"
   ],
   "outputs": [
    {
     "output_type": "execute_result",
     "data": {
      "text/plain": [
       "'Nestloop : 5'"
      ]
     },
     "metadata": {},
     "execution_count": 1
    }
   ],
   "metadata": {}
  }
 ],
 "metadata": {
  "orig_nbformat": 4,
  "language_info": {
   "name": "python",
   "version": "3.6.13",
   "mimetype": "text/x-python",
   "codemirror_mode": {
    "name": "ipython",
    "version": 3
   },
   "pygments_lexer": "ipython3",
   "nbconvert_exporter": "python",
   "file_extension": ".py"
  },
  "kernelspec": {
   "name": "python3",
   "display_name": "Python 3.6.13 64-bit ('elab': conda)"
  },
  "interpreter": {
   "hash": "c0ce7a4de90984b074fb61d36c8f151b370ea8860eecea01391ee083639484b6"
  }
 },
 "nbformat": 4,
 "nbformat_minor": 2
}