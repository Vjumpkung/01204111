{
 "cells": [
  {
   "cell_type": "code",
   "execution_count": 124,
   "source": [
    "def showO(n):\r\n",
    "    for _  in range(n):\r\n",
    "        for a1 in range(1, (n+1)//2 + 1): #from row 1 to 5\r\n",
    "            print(\" \"*((n+1)//2 - a1), end = \"\")\r\n",
    "            for i in range(n):\r\n",
    "                print(\"O\"*((a1*2)-1), end = \" \"*(n-a1*2+1))\r\n",
    "            print(\"\")\r\n",
    "\r\n",
    "        for a1 in range((n+1)//2 + 1, n + 1): #from row 6 to 9\r\n",
    "            print(\" \"*(a1 - (n+1)//2), end = \"\")\r\n",
    "            for i in range(n):\r\n",
    "                print(\"O\"*((n+1 - a1)*2 - 1), end = \" \"*(a1*2-n-1))\r\n",
    "            print()"
   ],
   "outputs": [],
   "metadata": {}
  },
  {
   "cell_type": "code",
   "execution_count": 126,
   "source": [
    "code = '''\r\n",
    "def showO(n):\r\n",
    "    for _  in range(n):\r\n",
    "        for a1 in range(1, (n+1)//2 + 1): #from row 1 to 5\r\n",
    "            print(\" \"*((n+1)//2 - a1), end = \"\")\r\n",
    "            for i in range(n):\r\n",
    "                print(\"O\"*((a1*2)-1), end = \" \"*(n-a1*2+1))\r\n",
    "            print(\"\")\r\n",
    "\r\n",
    "        for a1 in range((n+1)//2 + 1, n + 1): #from row 6 to 9\r\n",
    "            print(\" \"*(a1 - (n+1)//2), end = \"\")\r\n",
    "            for i in range(n):\r\n",
    "                print(\"O\"*((n+1 - a1)*2 - 1), end = \" \"*(a1*2-n-1))\r\n",
    "            print()\r\n",
    "'''\r\n",
    "\r\n",
    "with open('printO.py', 'w') as f:\r\n",
    "  f.write(code)\r\n",
    "\r\n",
    "##-----------------------------------------\r\n",
    "\r\n",
    "import printO\r\n",
    "inp = int(input())\r\n",
    "printO.showO(inp)"
   ],
   "outputs": [
    {
     "output_type": "stream",
     "name": "stdout",
     "text": [
      " O  O  O  \n",
      "OOOOOOOOO\n",
      " O  O  O  \n",
      " O  O  O  \n",
      "OOOOOOOOO\n",
      " O  O  O  \n",
      " O  O  O  \n",
      "OOOOOOOOO\n",
      " O  O  O  \n"
     ]
    }
   ],
   "metadata": {}
  }
 ],
 "metadata": {
  "orig_nbformat": 4,
  "language_info": {
   "name": "python",
   "version": "3.6.13",
   "mimetype": "text/x-python",
   "codemirror_mode": {
    "name": "ipython",
    "version": 3
   },
   "pygments_lexer": "ipython3",
   "nbconvert_exporter": "python",
   "file_extension": ".py"
  },
  "kernelspec": {
   "name": "python3",
   "display_name": "Python 3.6.13 64-bit ('elab': conda)"
  },
  "interpreter": {
   "hash": "15bb5b5caed0bbca38a2f71d04205bf45dd89b88527a22cde4771643e1402263"
  }
 },
 "nbformat": 4,
 "nbformat_minor": 2
}