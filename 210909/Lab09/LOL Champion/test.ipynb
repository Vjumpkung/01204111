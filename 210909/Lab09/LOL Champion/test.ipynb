{
 "cells": [
  {
   "cell_type": "code",
   "execution_count": 51,
   "source": [
    "import json\r\n",
    "inp = input(\"Filename : \")\r\n",
    "data = json.load(open(inp))\r\n",
    "cas = int(input(\"Case : \"))\r\n",
    "chara = input(\"Character : \")"
   ],
   "outputs": [],
   "metadata": {}
  },
  {
   "cell_type": "code",
   "execution_count": null,
   "source": [
    "def case_one(c):\r\n",
    "    dic = data\r\n",
    "    c=c.split(',')\r\n",
    "    for i in dic.values():\r\n",
    "        if str(i[\"id\"]) in c:\r\n",
    "            print(f'{i[\"id\"]}\\t---\\t{i[\"name\"]}\\t---\\t{i[\"title\"]}')"
   ],
   "outputs": [],
   "metadata": {}
  },
  {
   "cell_type": "code",
   "execution_count": 53,
   "source": [
    "def case_two(chara):\r\n",
    "    wait = []\r\n",
    "    for i in chara.split(\",\"):\r\n",
    "        for j in data:\r\n",
    "            if data[j][\"name\"][0] == i:\r\n",
    "                wait.append(j)\r\n",
    "    wait = sorted(wait,key=lambda x : int(x))\r\n",
    "    for j in wait:\r\n",
    "        print(f\"{data[j]['id']}\\t---\\t{data[j]['name']}\\t---\\t{data[j]['title']}\")"
   ],
   "outputs": [],
   "metadata": {}
  },
  {
   "cell_type": "code",
   "execution_count": 54,
   "source": [
    "def case_three(chara):\r\n",
    "    wait = []\r\n",
    "    for i in chara.split(\",\"):\r\n",
    "        for j in data:\r\n",
    "            if data[j][\"title\"].strip(\"the\").strip(\"The\").strip()[0] == i:\r\n",
    "                wait.append(j)\r\n",
    "    wait = sorted(wait,key=lambda x : int(x))\r\n",
    "    for j in wait:\r\n",
    "        print(f\"{data[j]['id']}\\t---\\t{data[j]['name']}\\t---\\t{data[j]['title']}\")"
   ],
   "outputs": [],
   "metadata": {}
  },
  {
   "cell_type": "code",
   "execution_count": 55,
   "source": [
    "if cas == 0: case_one(chara)\r\n",
    "elif cas == 1: case_two(chara)\r\n",
    "elif cas == 2: case_three(chara)"
   ],
   "outputs": [],
   "metadata": {}
  }
 ],
 "metadata": {
  "orig_nbformat": 4,
  "language_info": {
   "name": "python",
   "version": "3.6.13",
   "mimetype": "text/x-python",
   "codemirror_mode": {
    "name": "ipython",
    "version": 3
   },
   "pygments_lexer": "ipython3",
   "nbconvert_exporter": "python",
   "file_extension": ".py"
  },
  "kernelspec": {
   "name": "python3",
   "display_name": "Python 3.6.13 64-bit ('elab': conda)"
  },
  "interpreter": {
   "hash": "15bb5b5caed0bbca38a2f71d04205bf45dd89b88527a22cde4771643e1402263"
  }
 },
 "nbformat": 4,
 "nbformat_minor": 2
}