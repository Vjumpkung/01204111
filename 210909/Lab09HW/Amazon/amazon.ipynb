{
 "cells": [
  {
   "cell_type": "code",
   "execution_count": 27,
   "source": [
    "import json,statistics\r\n",
    "fn = input(\"file name: \")\r\n",
    "with open(fn) as fp:\r\n",
    "    data = fp.readlines()\r\n",
    "    lst = [json.loads(data[i]) for i in range(9000)]\r\n",
    "nen = int(input(\"input: \"))"
   ],
   "outputs": [],
   "metadata": {}
  },
  {
   "cell_type": "code",
   "execution_count": 28,
   "source": [
    "def kor1():\r\n",
    "    print(len(lst))"
   ],
   "outputs": [],
   "metadata": {}
  },
  {
   "cell_type": "code",
   "execution_count": 29,
   "source": [
    "def kor3():\r\n",
    "    productidls = set()\r\n",
    "    for i in lst:\r\n",
    "        if i[\"productID\"] not in productidls:\r\n",
    "            productidls.add(i[\"productID\"])\r\n",
    "    print(len(productidls))"
   ],
   "outputs": [],
   "metadata": {}
  },
  {
   "cell_type": "code",
   "execution_count": 30,
   "source": [
    "def kor2():\r\n",
    "    reviewerIDidls = set()\r\n",
    "    for i in lst:\r\n",
    "        if i[\"reviewerID\"] not in reviewerIDidls:\r\n",
    "            reviewerIDidls.add(i[\"reviewerID\"])\r\n",
    "    print(len(reviewerIDidls))"
   ],
   "outputs": [],
   "metadata": {}
  },
  {
   "cell_type": "code",
   "execution_count": 31,
   "source": [
    "def category_ls(pos):\r\n",
    "    sinkarluck = {}\r\n",
    "    for i in lst:\r\n",
    "        if (i[\"category\"].split(\">\"))[pos] not in sinkarluck:\r\n",
    "            sinkarluck.setdefault((i[\"category\"].split(\">\"))[pos],1)\r\n",
    "        else:\r\n",
    "            sinkarluck[(i[\"category\"].split(\">\"))[pos]] += 1\r\n",
    "    print(len(sinkarluck))"
   ],
   "outputs": [],
   "metadata": {}
  },
  {
   "cell_type": "code",
   "execution_count": 32,
   "source": [
    "def most_review():\r\n",
    "    review_count = {}\r\n",
    "    for i in lst:\r\n",
    "        if i[\"reviewerID\"] not in review_count:\r\n",
    "            review_count.setdefault(i[\"reviewerID\"],1)\r\n",
    "        else:\r\n",
    "            review_count[i[\"reviewerID\"]] += 1\r\n",
    "    print(max(review_count.items(),key=lambda x : x[1])[0])"
   ],
   "outputs": [],
   "metadata": {}
  },
  {
   "cell_type": "code",
   "execution_count": 33,
   "source": [
    "def ชื่อสินค้าที่ได้คะแนนเฉลี่ยสูงที่สุด():\r\n",
    "    reviewPro = {}\r\n",
    "    for i in lst:\r\n",
    "        if i['productName'] not in reviewPro:\r\n",
    "            reviewPro.setdefault(i['productName'],[i['overall']])\r\n",
    "        else:\r\n",
    "            reviewPro[i['productName']].append(i['overall'])\r\n",
    "    review_lst = []\r\n",
    "    def getmean(x):\r\n",
    "        return statistics.mean(x[1])\r\n",
    "    mamimum = statistics.mean(max(reviewPro.items(),key=getmean)[1])\r\n",
    "    #mamimum = statistics.mean(max(reviewPro.items(),key=lambda x : statistics.mean(x[1]))[1])\r\n",
    "    for k,l in list(reviewPro.items()):\r\n",
    "        if statistics.mean(l) == mamimum:\r\n",
    "            review_lst.append((k,len(l)))\r\n",
    "    print(max(review_lst,key= lambda x : x[1])[0])\r\n"
   ],
   "outputs": [],
   "metadata": {}
  },
  {
   "cell_type": "code",
   "execution_count": 34,
   "source": [
    "def ชื่อสินค้าที่มีจำนวนคำเฉลี่ยต่อรีวิวมากที่สุด():\r\n",
    "    product_cum_review = {}\r\n",
    "    for i in lst:\r\n",
    "        if i['productName'] not in product_cum_review:\r\n",
    "            product_cum_review.setdefault(i['productName'],[len(i[\"reviewText\"].split())])\r\n",
    "        else:\r\n",
    "            product_cum_review[i['productName']].append(len(i[\"reviewText\"].split()))\r\n",
    "    k = [(i,statistics.mean(j)) for i,j in list(product_cum_review.items())]\r\n",
    "    print(max(k,key=lambda x : x[1])[0])\r\n",
    "        "
   ],
   "outputs": [],
   "metadata": {}
  },
  {
   "cell_type": "code",
   "execution_count": 35,
   "source": [
    "for nen in range(1,9):\r\n",
    "    if nen == 1: kor1()\r\n",
    "    elif nen == 2: kor2()\r\n",
    "    elif nen == 3: kor3()\r\n",
    "    elif nen == 4: category_ls(0)\r\n",
    "    elif nen == 5: category_ls(1)\r\n",
    "    elif nen == 6: most_review()\r\n",
    "    elif nen == 7: ชื่อสินค้าที่ได้คะแนนเฉลี่ยสูงที่สุด()\r\n",
    "    elif nen == 8: ชื่อสินค้าที่มีจำนวนคำเฉลี่ยต่อรีวิวมากที่สุด()"
   ],
   "outputs": [
    {
     "output_type": "stream",
     "name": "stdout",
     "text": [
      "9000\n",
      "8346\n",
      "459\n",
      "10\n",
      "26\n",
      "A231WM2Z2JL0U3\n",
      "Tripp Lite Isobar 4 Outlet Surge Protector Power Strip, 6ft Cord, Right-Angle Plug, Metal, Lifetime Limited Warranty & $50,000 INSURANCE (ISOBAR4ULTRA)\n",
      "Koss ESP-950 Electrostatic Stereophone\n"
     ]
    }
   ],
   "metadata": {}
  },
  {
   "cell_type": "code",
   "execution_count": 36,
   "source": [
    "lst[0]"
   ],
   "outputs": [
    {
     "output_type": "execute_result",
     "data": {
      "text/plain": [
       "{'reviewerID': 'AAZ084UMH8VZ2',\n",
       " 'productID': '0594451647',\n",
       " 'productName': 'Barnes & Noble HDTV Adapter Kit for NOOK HD and NOOK HD+',\n",
       " 'helpful': [0, 0],\n",
       " 'summary': 'A Perfdect Nook HD+ hook up',\n",
       " 'reviewText': \"This adaptor is real easy to setup and use right out of the box. I had not problem with it at all, it is well worth the purchase. I recommend this adaptor very much for viewing your Nook videos on your HDTV. I just disagree with other reviews on the length of the adaptor, I found it to be fairly adequate as to how and where it is connected to my TV. For me it was just right not too long or too short, I was able to place my Nook right below the connection on the TV stand, it did not fall or anything else, it is fine. Use your own judgement, I'm too busy watching my movies :)\",\n",
       " 'overall': 5.0,\n",
       " 'unixReviewTime': 1399161600,\n",
       " 'category': 'Electronics > Computers & Accessories > Tablet Accessories > Chargers & Adapters',\n",
       " 'price': '$18.95'}"
      ]
     },
     "metadata": {},
     "execution_count": 36
    }
   ],
   "metadata": {}
  },
  {
   "cell_type": "code",
   "execution_count": 42,
   "source": [
    "f = lambda x : x**2 + 2*x + 1\r\n",
    "f(0)"
   ],
   "outputs": [
    {
     "output_type": "execute_result",
     "data": {
      "text/plain": [
       "1"
      ]
     },
     "metadata": {},
     "execution_count": 42
    }
   ],
   "metadata": {}
  },
  {
   "cell_type": "code",
   "execution_count": 47,
   "source": [
    "def g(x):\r\n",
    "    return x**2 + 2*x + 1\r\n",
    "g(0)"
   ],
   "outputs": [
    {
     "output_type": "execute_result",
     "data": {
      "text/plain": [
       "1"
      ]
     },
     "metadata": {},
     "execution_count": 47
    }
   ],
   "metadata": {}
  },
  {
   "cell_type": "code",
   "execution_count": 3,
   "source": [
    "lst = [(\"G\",5),(\"A\",8),(\"Y\",69),(\"B\",420),(\"A\",0.125),(\"R\",-856456461)]\r\n",
    "max(lst,key = lambda f : f[1])"
   ],
   "outputs": [
    {
     "output_type": "execute_result",
     "data": {
      "text/plain": [
       "('B', 420)"
      ]
     },
     "metadata": {},
     "execution_count": 3
    }
   ],
   "metadata": {}
  }
 ],
 "metadata": {
  "orig_nbformat": 4,
  "language_info": {
   "name": "python",
   "version": "3.9.6",
   "mimetype": "text/x-python",
   "codemirror_mode": {
    "name": "ipython",
    "version": 3
   },
   "pygments_lexer": "ipython3",
   "nbconvert_exporter": "python",
   "file_extension": ".py"
  },
  "kernelspec": {
   "name": "python3",
   "display_name": "Python 3.9.6 64-bit ('python39': conda)"
  },
  "interpreter": {
   "hash": "7cffbab6619079a2a799a61432cc0cf7b30e6fb2dcb99e0e31409e12eb5c19b2"
  }
 },
 "nbformat": 4,
 "nbformat_minor": 2
}