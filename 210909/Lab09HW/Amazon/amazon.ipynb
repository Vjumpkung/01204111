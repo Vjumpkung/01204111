{
 "cells": [
  {
   "cell_type": "code",
   "execution_count": 2,
   "source": [
    "import json,statistics\r\n",
    "fn = input(\"file name: \")\r\n",
    "with open(fn) as fp:\r\n",
    "    data = fp.readlines()\r\n",
    "    lst = [json.loads(data[i]) for i in range(9000)]\r\n",
    "nen = int(input(\"input: \"))"
   ],
   "outputs": [],
   "metadata": {}
  },
  {
   "cell_type": "code",
   "execution_count": 3,
   "source": [
    "def kor1():\r\n",
    "    print(len(lst))"
   ],
   "outputs": [],
   "metadata": {}
  },
  {
   "cell_type": "code",
   "execution_count": 4,
   "source": [
    "def kor3():\r\n",
    "    productidls = set()\r\n",
    "    for i in lst:\r\n",
    "        if i[\"productID\"] not in productidls:\r\n",
    "            productidls.add(i[\"productID\"])\r\n",
    "    print(len(productidls))"
   ],
   "outputs": [],
   "metadata": {}
  },
  {
   "cell_type": "code",
   "execution_count": 5,
   "source": [
    "def kor2():\r\n",
    "    reviewerIDidls = set()\r\n",
    "    for i in lst:\r\n",
    "        if i[\"reviewerID\"] not in reviewerIDidls:\r\n",
    "            reviewerIDidls.add(i[\"reviewerID\"])\r\n",
    "    print(len(reviewerIDidls))"
   ],
   "outputs": [],
   "metadata": {}
  },
  {
   "cell_type": "code",
   "execution_count": 6,
   "source": [
    "def category_ls(pos):\r\n",
    "    sinkarluck = {}\r\n",
    "    for i in lst:\r\n",
    "        if (i[\"category\"].split(\">\"))[pos] not in sinkarluck:\r\n",
    "            sinkarluck.setdefault((i[\"category\"].split(\">\"))[pos],1)\r\n",
    "        else:\r\n",
    "            sinkarluck[(i[\"category\"].split(\">\"))[pos]] += 1\r\n",
    "    print(len(sinkarluck))"
   ],
   "outputs": [
    {
     "output_type": "stream",
     "name": "stdout",
     "text": [
      "26\n"
     ]
    }
   ],
   "metadata": {}
  },
  {
   "cell_type": "code",
   "execution_count": 7,
   "source": [
    "def most_review():\r\n",
    "    review_count = {}\r\n",
    "    for i in lst:\r\n",
    "        if i[\"reviewerID\"] not in review_count:\r\n",
    "            review_count.setdefault(i[\"reviewerID\"],1)\r\n",
    "        else:\r\n",
    "            review_count[i[\"reviewerID\"]] += 1\r\n",
    "    print(max(review_count.items(),key=lambda x : x[1])[0])"
   ],
   "outputs": [],
   "metadata": {}
  },
  {
   "cell_type": "code",
   "execution_count": 8,
   "source": [
    "def ชื่อสินค้าที่ได้คะแนนเฉลี่ยสูงที่สุด():\r\n",
    "    reviewPro = {}\r\n",
    "    for i in lst:\r\n",
    "        if i['productName'] not in reviewPro:\r\n",
    "            reviewPro.setdefault(i['productName'],[i['overall']])\r\n",
    "        else:\r\n",
    "            reviewPro[i['productName']].append(i['overall'])\r\n",
    "    review_lst = []\r\n",
    "    mamimum = statistics.mean(max(reviewPro.items(),key=lambda x : statistics.mean(x[1]))[1])\r\n",
    "    for k,l in list(reviewPro.items()):\r\n",
    "        if statistics.mean(l) == mamimum:\r\n",
    "            review_lst.append((k,len(l)))\r\n",
    "    print(max(review_lst,key= lambda x : x[1])[0])\r\n"
   ],
   "outputs": [],
   "metadata": {}
  },
  {
   "cell_type": "code",
   "execution_count": 9,
   "source": [
    "def ชื่อสินค้าที่มีจำนวนคำเฉลี่ยต่อรีวิวมากที่สุด():\r\n",
    "    product_cum_review = {}\r\n",
    "    for i in lst:\r\n",
    "        if i['productName'] not in product_cum_review:\r\n",
    "            product_cum_review.setdefault(i['productName'],[len(i[\"reviewText\"].split())])\r\n",
    "        else:\r\n",
    "            product_cum_review[i['productName']].append(len(i[\"reviewText\"].split()))\r\n",
    "    k = [(i,statistics.mean(j)) for i,j in list(product_cum_review.items())]\r\n",
    "    print(max(k,key=lambda x : x[1])[0])\r\n",
    "        "
   ],
   "outputs": [],
   "metadata": {}
  },
  {
   "cell_type": "code",
   "execution_count": 10,
   "source": [
    "if nen == 1: kor1()\r\n",
    "elif nen == 2: kor2()\r\n",
    "elif nen == 3: kor3()\r\n",
    "elif nen == 4: category_ls(0)\r\n",
    "elif nen == 5: category_ls(1)\r\n",
    "elif nen == 6: most_review()\r\n",
    "elif nen == 7: ชื่อสินค้าที่ได้คะแนนเฉลี่ยสูงที่สุด()\r\n",
    "elif nen == 8: ชื่อสินค้าที่มีจำนวนคำเฉลี่ยต่อรีวิวมากที่สุด()"
   ],
   "outputs": [
    {
     "output_type": "stream",
     "name": "stdout",
     "text": [
      "26\n"
     ]
    }
   ],
   "metadata": {}
  }
 ],
 "metadata": {
  "orig_nbformat": 4,
  "language_info": {
   "name": "python",
   "version": "3.9.6",
   "mimetype": "text/x-python",
   "codemirror_mode": {
    "name": "ipython",
    "version": 3
   },
   "pygments_lexer": "ipython3",
   "nbconvert_exporter": "python",
   "file_extension": ".py"
  },
  "kernelspec": {
   "name": "python3",
   "display_name": "Python 3.9.6 64-bit ('python39': conda)"
  },
  "interpreter": {
   "hash": "7cffbab6619079a2a799a61432cc0cf7b30e6fb2dcb99e0e31409e12eb5c19b2"
  }
 },
 "nbformat": 4,
 "nbformat_minor": 2
}