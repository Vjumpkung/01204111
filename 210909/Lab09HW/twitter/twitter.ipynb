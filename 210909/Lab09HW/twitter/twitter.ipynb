{
 "cells": [
  {
   "cell_type": "code",
   "execution_count": 49,
   "source": [
    "import json\r\n",
    "data = json.load(open(input(\"File name: \")))\r\n",
    "nen = int(input(\"input: \"))\r\n",
    "if nen == 1:\r\n",
    "    print(len(data))\r\n",
    "elif nen == 2:\r\n",
    "    users = []\r\n",
    "    for i in data:\r\n",
    "        if i[\"author\"] not in users:\r\n",
    "            users.append(i[\"author\"])\r\n",
    "        else:\r\n",
    "            continue\r\n",
    "    print(len(users))\r\n",
    "elif nen == 3:\r\n",
    "    tweet_count = {}\r\n",
    "    for i in data:\r\n",
    "        if i[\"author\"] not in tweet_count:\r\n",
    "            tweet_count.setdefault(i[\"author\"],1)\r\n",
    "        else:\r\n",
    "            tweet_count[i[\"author\"]] += 1\r\n",
    "    k = sorted(tweet_count.items(),reverse=True,key=lambda x : x[1])\r\n",
    "    for j in k:\r\n",
    "        if j[1] == k[0][1]:\r\n",
    "            print(j[0])\r\n",
    "elif nen == 4:\r\n",
    "    topic_dick = set()\r\n",
    "    for i in data:\r\n",
    "        if i[\"topic\"] not in topic_dick:\r\n",
    "            topic_dick.add(i[\"topic\"])\r\n",
    "        else:\r\n",
    "            pass\r\n",
    "    print(len(topic_dick))\r\n",
    "elif nen == 5:\r\n",
    "    alert_ls = 0\r\n",
    "    for i in data:\r\n",
    "        if i[\"topic_priority\"] == \"ALERT\":\r\n",
    "            alert_ls += 1\r\n",
    "    print(alert_ls)\r\n",
    "elif nen == 6:\r\n",
    "    unimportant_ls = 0\r\n",
    "    for i in data:\r\n",
    "        if i[\"topic_priority\"] == \"UNIMPORTANT\":\r\n",
    "            unimportant_ls += 1\r\n",
    "    print(unimportant_ls)\r\n",
    "elif nen == 7:\r\n",
    "    def isEnglish(s):\r\n",
    "        try:\r\n",
    "            s.encode(encoding='utf-8').decode('ascii')\r\n",
    "        except UnicodeDecodeError:\r\n",
    "            return False\r\n",
    "        else:\r\n",
    "            return True\r\n",
    "    for i in data:\r\n",
    "        if isEnglish(i[\"text\"]):\r\n",
    "            continue\r\n",
    "        else:\r\n",
    "            print(False)\r\n",
    "            break\r\n",
    "elif nen == 8:\r\n",
    "    print(len(max(data,key=lambda x : len(x['text'].split()))[\"text\"].split()))"
   ],
   "outputs": [
    {
     "output_type": "stream",
     "name": "stdout",
     "text": [
      "35\n"
     ]
    }
   ],
   "metadata": {}
  },
  {
   "cell_type": "code",
   "execution_count": null,
   "source": [],
   "outputs": [],
   "metadata": {}
  }
 ],
 "metadata": {
  "orig_nbformat": 4,
  "language_info": {
   "name": "python",
   "version": "3.6.13",
   "mimetype": "text/x-python",
   "codemirror_mode": {
    "name": "ipython",
    "version": 3
   },
   "pygments_lexer": "ipython3",
   "nbconvert_exporter": "python",
   "file_extension": ".py"
  },
  "kernelspec": {
   "name": "python3",
   "display_name": "Python 3.6.13 64-bit ('elab': conda)"
  },
  "interpreter": {
   "hash": "15bb5b5caed0bbca38a2f71d04205bf45dd89b88527a22cde4771643e1402263"
  }
 },
 "nbformat": 4,
 "nbformat_minor": 2
}