{
 "cells": [
  {
   "cell_type": "code",
   "execution_count": null,
   "source": [
    "import json\r\n",
    "data = json.load(open(input(\"File Name: \")))\r\n",
    "nen = int(input(\"Input : \"))\r\n",
    "if nen == 1:\r\n",
    "    print(len(data))\r\n",
    "elif nen == 2:\r\n",
    "    population = 0\r\n",
    "    for i in data:\r\n",
    "        population += int(i[\"population\"])\r\n",
    "    print(population)\r\n",
    "elif nen == 3:\r\n",
    "    start_with_C = 0\r\n",
    "    five_let = 0\r\n",
    "    for i in data:\r\n",
    "        if i[\"country\"][0] == \"C\":\r\n",
    "            start_with_C += 1\r\n",
    "        if len(i[\"country\"]) > 5:\r\n",
    "            five_let += 1\r\n",
    "    print(start_with_C)\r\n",
    "    print(five_let)\r\n",
    "elif nen == 4:\r\n",
    "    rawarng = 0\r\n",
    "    haroirarn = 0\r\n",
    "    sibrarn = 0\r\n",
    "    for i in data:\r\n",
    "        poppermill = i[\"population\"]\r\n",
    "        if int(poppermill) > 500000000:\r\n",
    "            haroirarn += 1\r\n",
    "        if 250000000 < int(poppermill) < 750000000:\r\n",
    "            rawarng += 1\r\n",
    "        if int(poppermill) < 10000000:\r\n",
    "            sibrarn += 1\r\n",
    "    print(haroirarn)\r\n",
    "    print(rawarng)\r\n",
    "    print(sibrarn)\r\n",
    "elif nen == 5:\r\n",
    "    print(f\"{100*sum([float(i['World']) for i in data[0:20]]):.2f}\")\r\n",
    "    print(f\"{100*sum([float(i['World']) for i in data[49:150]]):.2f}\")"
   ],
   "outputs": [],
   "metadata": {}
  },
  {
   "cell_type": "code",
   "execution_count": 3,
   "source": [
    "#mix and match\r\n",
    "print([exec(\"import json\"),(lambda data,nen : [len(data),sum([int(i[\"population\"]) for i in data]),f\"{sum([1 for i in data if i['country'][0] == 'C'])}\\n{sum([1 for i in data if len(i['country']) > 5])}\",f\"{sum([1 for i in data if int(i['population']) > 500e6])}\\n{sum([1 for i in data if 250e6 < int(i['population']) < 750e6])}\\n{sum([1 for i in data if int(i['population']) < 10e6])}\",f\"{100*sum([float(i['World']) for i in data[0:20]]):.2f}\\n{100*sum([float(i['World']) for i in data[49:150]]):.2f}\"][nen-1])(json.load(open(input(\"File Name: \"))),int(input(\"Input : \")))][1])"
   ],
   "outputs": [
    {
     "output_type": "stream",
     "name": "stdout",
     "text": [
      "195\n"
     ]
    }
   ],
   "metadata": {}
  }
 ],
 "metadata": {
  "orig_nbformat": 4,
  "language_info": {
   "name": "python",
   "version": "3.6.13",
   "mimetype": "text/x-python",
   "codemirror_mode": {
    "name": "ipython",
    "version": 3
   },
   "pygments_lexer": "ipython3",
   "nbconvert_exporter": "python",
   "file_extension": ".py"
  },
  "kernelspec": {
   "name": "python3",
   "display_name": "Python 3.6.13 64-bit ('elab': conda)"
  },
  "interpreter": {
   "hash": "c0ce7a4de90984b074fb61d36c8f151b370ea8860eecea01391ee083639484b6"
  }
 },
 "nbformat": 4,
 "nbformat_minor": 2
}