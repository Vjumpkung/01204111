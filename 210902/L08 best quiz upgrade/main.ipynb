{
 "cells": [
  {
   "cell_type": "code",
   "execution_count": 107,
   "source": [
    "fn = input(\"File name: \")\r\n",
    "with open(fn) as df:\r\n",
    "    data = df.readlines()\r\n",
    "    data = [i.strip().split(\"\\n\") for i in data]"
   ],
   "outputs": [],
   "metadata": {}
  },
  {
   "cell_type": "code",
   "execution_count": 108,
   "source": [
    "dick = {}\r\n",
    "for i in range(len(data)):\r\n",
    "    dick[data[i][0].split()[0]] = sorted(list(map(int,data[i][0].split()[1:])))\r\n",
    "for i in dick:\r\n",
    "    dick[i] = sum(dick[i][1:-1])\r\n",
    "print(max(dick.values()))\r\n",
    "[print(i) for i in dick if dick[i] == max(dick.values())][0]"
   ],
   "outputs": [
    {
     "output_type": "stream",
     "name": "stdout",
     "text": [
      "24\n",
      "Non\n",
      "Plapud\n"
     ]
    }
   ],
   "metadata": {}
  }
 ],
 "metadata": {
  "orig_nbformat": 4,
  "language_info": {
   "name": "python"
  }
 },
 "nbformat": 4,
 "nbformat_minor": 2
}