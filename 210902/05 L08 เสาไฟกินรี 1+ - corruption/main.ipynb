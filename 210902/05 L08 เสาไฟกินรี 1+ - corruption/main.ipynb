{
 "cells": [
  {
   "cell_type": "code",
   "execution_count": null,
   "source": [
    "fn = input(\"Filename : \")\r\n",
    "with open(fn) as df:\r\n",
    "    data = df.readlines()[1:]\r\n",
    "    data = [i.strip().split(\"\\n\") for i in data]\r\n",
    "    data = [data[i][0].split(\",\") for i in range(len(data))]\r\n",
    "    data = list(zip(*data))\r\n",
    "tuujarit = []\r\n",
    "for i in range(len(data[0])):\r\n",
    "    if (int(data[1][i]) <= 1 and int(data[2][i]) <= 1000):\r\n",
    "        continue\r\n",
    "    elif (1 < int(data[1][i]) <= 4 and int(data[2][i]) <= 5000):\r\n",
    "        continue\r\n",
    "    elif (4 < int(data[1][i]) <= 8 and int(data[2][i]) <= 30000):\r\n",
    "        continue\r\n",
    "    elif (int(data[1][i]) > 8 and int(data[2][i]) <= 75000):\r\n",
    "        continue\r\n",
    "    tuujarit.append(int(data[0][i]))\r\n",
    "if len(tuujarit) == 0:\r\n",
    "    print(\"No\")\r\n",
    "else:\r\n",
    "    tuujarit.sort()\r\n",
    "    print(\"Yes\")\r\n",
    "    for i in tuujarit:\r\n",
    "        print(i)"
   ],
   "outputs": [],
   "metadata": {}
  }
 ],
 "metadata": {
  "orig_nbformat": 4,
  "language_info": {
   "name": "python",
   "version": "3.6.13",
   "mimetype": "text/x-python",
   "codemirror_mode": {
    "name": "ipython",
    "version": 3
   },
   "pygments_lexer": "ipython3",
   "nbconvert_exporter": "python",
   "file_extension": ".py"
  },
  "kernelspec": {
   "name": "python3",
   "display_name": "Python 3.6.13 64-bit ('elab': conda)"
  },
  "interpreter": {
   "hash": "15bb5b5caed0bbca38a2f71d04205bf45dd89b88527a22cde4771643e1402263"
  }
 },
 "nbformat": 4,
 "nbformat_minor": 2
}