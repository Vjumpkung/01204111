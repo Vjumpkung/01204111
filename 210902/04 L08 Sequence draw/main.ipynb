{
 "cells": [
  {
   "cell_type": "code",
   "execution_count": 26,
   "source": [
    "name = input('File name: ')\r\n",
    "d={}\r\n",
    "decoy=[]\r\n",
    "with open(name) as fl:\r\n",
    "    s=[i.strip('\\n') for i in fl.readlines()]\r\n",
    "    n=int(s[0])\r\n",
    "    for i in s:\r\n",
    "        if i == s[0]:continue\r\n",
    "        if i in '0123456789':\r\n",
    "            d[int(n)]=decoy\r\n",
    "            n=i\r\n",
    "            decoy=[]\r\n",
    "            continue\r\n",
    "        decoy.append(i)\r\n",
    "d=dict(sorted(d.items()))\r\n",
    "for i,v in d.items():\r\n",
    "    for j in v:\r\n",
    "        print(j)"
   ],
   "outputs": [
    {
     "output_type": "stream",
     "name": "stdout",
     "text": [
      "8\n",
      " ooooo\n",
      "6\n",
      "|  O  |\n",
      "4\n",
      "| > < |\n",
      "2\n",
      " ooooo\n",
      "0\n",
      " ooooo\n",
      "| > < |\n",
      "|  O  |\n",
      " ooooo\n"
     ]
    }
   ],
   "metadata": {}
  }
 ],
 "metadata": {
  "orig_nbformat": 4,
  "language_info": {
   "name": "python",
   "version": "3.6.13",
   "mimetype": "text/x-python",
   "codemirror_mode": {
    "name": "ipython",
    "version": 3
   },
   "pygments_lexer": "ipython3",
   "nbconvert_exporter": "python",
   "file_extension": ".py"
  },
  "kernelspec": {
   "name": "python3",
   "display_name": "Python 3.6.13 64-bit ('elab': conda)"
  },
  "interpreter": {
   "hash": "15bb5b5caed0bbca38a2f71d04205bf45dd89b88527a22cde4771643e1402263"
  }
 },
 "nbformat": 4,
 "nbformat_minor": 2
}