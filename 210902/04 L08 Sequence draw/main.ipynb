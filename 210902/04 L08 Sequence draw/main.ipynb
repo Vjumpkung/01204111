{
 "cells": [
  {
   "cell_type": "code",
   "execution_count": 26,
   "source": [
    "import re\r\n",
    "#fn = \"case3.txt\"\r\n",
    "fn = input(\"File name: \")\r\n",
    "with open(fn) as df:\r\n",
    "    txt = df.read()\r\n",
    "draw = [i[1:len(i)-1] for i in re.findall(r\"[^0-9]+[^0-9]\",txt)]\r\n",
    "num = re.findall(r\"[0-9]\",txt)\r\n",
    "summary = sorted(list(zip(num,draw)),key=lambda x : x[0])\r\n",
    "for d in summary:\r\n",
    "    print(d[1])"
   ],
   "outputs": [
    {
     "output_type": "stream",
     "name": "stdout",
     "text": [
      "8\n",
      " ooooo\n",
      "6\n",
      "|  O  |\n",
      "4\n",
      "| > < |\n",
      "2\n",
      " ooooo\n",
      "0\n",
      " ooooo\n",
      "| > < |\n",
      "|  O  |\n",
      " ooooo\n"
     ]
    }
   ],
   "metadata": {}
  }
 ],
 "metadata": {
  "orig_nbformat": 4,
  "language_info": {
   "name": "python",
   "version": "3.6.13",
   "mimetype": "text/x-python",
   "codemirror_mode": {
    "name": "ipython",
    "version": 3
   },
   "pygments_lexer": "ipython3",
   "nbconvert_exporter": "python",
   "file_extension": ".py"
  },
  "kernelspec": {
   "name": "python3",
   "display_name": "Python 3.6.13 64-bit ('elab': conda)"
  },
  "interpreter": {
   "hash": "15bb5b5caed0bbca38a2f71d04205bf45dd89b88527a22cde4771643e1402263"
  }
 },
 "nbformat": 4,
 "nbformat_minor": 2
}