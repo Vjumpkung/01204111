{
 "cells": [
  {
   "cell_type": "code",
   "execution_count": 196,
   "source": [
    "import pandas as pd\r\n",
    "df = pd.read_csv(\"pantip-read-20181015-20181222.csv\")\r\n",
    "df[\"total_reads\"] = df.drop(columns=\"uid\").sum(axis=1)\r\n",
    "df[\"ratio_rad\"] = df[\"rajdumnern\"].div(df[\"total_reads\"])\r\n",
    "df[\"top2\"] = list(map(lambda x : 100*sum(sorted(x,reverse=True)[1:3]),df.drop(columns=\"uid\").to_numpy()))/df[\"total_reads\"]"
   ],
   "outputs": [],
   "metadata": {}
  },
  {
   "cell_type": "code",
   "execution_count": 197,
   "source": [
    "def kor1(): print(df.count()[0]+1)\r\n",
    "def kor2(): print(df.drop(columns=[\"uid\",\"total_reads\"]).max().idxmax())\r\n",
    "def kor3(): print(*df[\"blueplanet\"].sort_values(ascending=False)[0:3].values)\r\n",
    "def kor4(): print(df[\"uid\"][df[\"total_reads\"].idxmax()],df[\"total_reads\"].max())\r\n",
    "def kor5(): print(df[\"uid\"][df[\"tvshow\"].idxmax()],df[\"tvshow\"].max())\r\n",
    "def kor6(): print(df[\"korea\"][df.korea > 500].count())\r\n",
    "def kor7(): print(df[\"siam\"][df.siam > df.food].count())\r\n",
    "def kor8(): print(df[\"uid\"][df[\"ratio_rad\"].idxmax()])\r\n",
    "def kor9(): print(df[\"top2\"][df.top2 > 70].count())\r\n",
    "def kor10(): print(df[\"pantip\"][df.pantip == 0].count())\r\n"
   ],
   "outputs": [],
   "metadata": {}
  },
  {
   "cell_type": "code",
   "execution_count": 199,
   "source": [
    "import time\r\n",
    "t1 = time.time()\r\n",
    "kor1()\r\n",
    "kor2()\r\n",
    "kor3()\r\n",
    "kor4()\r\n",
    "kor5()\r\n",
    "kor6()\r\n",
    "kor7()\r\n",
    "kor8()\r\n",
    "kor9()\r\n",
    "kor10()\r\n",
    "t2 = time.time()\r\n",
    "print(f\"Time : {t2-t1}\")"
   ],
   "outputs": [
    {
     "output_type": "stream",
     "name": "stdout",
     "text": [
      "9901\n",
      "tvshow\n",
      "3449 3160 2999\n",
      "pf4unt4gz1T3NV1j7f7y 9526\n",
      "p3tlfimrqyaqg4PCxwT 7167\n",
      "287\n",
      "4959\n",
      "osx28zi68qruN87x5ND\n",
      "1422\n",
      "4494\n",
      "Time : 0.019527912139892578\n"
     ]
    }
   ],
   "metadata": {}
  }
 ],
 "metadata": {
  "orig_nbformat": 4,
  "language_info": {
   "name": "python",
   "version": "3.9.6",
   "mimetype": "text/x-python",
   "codemirror_mode": {
    "name": "ipython",
    "version": 3
   },
   "pygments_lexer": "ipython3",
   "nbconvert_exporter": "python",
   "file_extension": ".py"
  },
  "kernelspec": {
   "name": "python3",
   "display_name": "Python 3.9.6 64-bit ('python39': conda)"
  },
  "interpreter": {
   "hash": "7cffbab6619079a2a799a61432cc0cf7b30e6fb2dcb99e0e31409e12eb5c19b2"
  }
 },
 "nbformat": 4,
 "nbformat_minor": 2
}