{
 "cells": [
  {
   "cell_type": "code",
   "execution_count": 1,
   "source": [
    "import time"
   ],
   "outputs": [],
   "metadata": {}
  },
  {
   "cell_type": "code",
   "execution_count": 2,
   "source": [
    "inp = \"pantip-read-20181015-20181222.csv\"\r\n",
    "with open(inp) as fp:\r\n",
    "  data = fp.readlines()\r\n",
    "  data_nohead = (lambda data_nohead : list(map(list,zip(*[data_nohead[i].strip().split(\",\") for i in range(len(data_nohead))]))))(data_nohead = data[1:])"
   ],
   "outputs": [],
   "metadata": {}
  },
  {
   "cell_type": "code",
   "execution_count": 3,
   "source": [
    "t1 = time.time()\r\n",
    "for num in range(11):\r\n",
    "    if   num == 1: print(len(data_nohead[0])+1)\r\n",
    "    elif num == 2: print((data[0].split(\",\")[[max(i) for i in [list(map(int,i)) for i in data_nohead[:len(data_nohead)-1]]].index(max([max(i) for i in [list(map(int,i)) for i in data_nohead[:len(data_nohead)-1]]]))]))\r\n",
    "    elif num == 3: print(*sorted([list(map(int,i)) for i in data_nohead[:len(data_nohead)-1]][5],reverse=True)[0:3])\r\n",
    "    elif num == 4: print((lambda sum_axis_1: data_nohead[-1][sum_axis_1.index(max(sum_axis_1))])(sum_axis_1 = (lambda axis_1:[sum(axis_1[i]) for i in range(len(axis_1))])(list(map(list,zip(*[list(map(int,i)) for i in data_nohead[:len(data_nohead)-1]]))))),max((lambda axis_1:[sum(axis_1[i]) for i in range(len(axis_1))])(list(map(list,zip(*[list(map(int,i)) for i in data_nohead[:len(data_nohead)-1]]))))))\r\n",
    "    elif num == 5: print(data_nohead[-1][[list(map(int,i)) for i in data_nohead[:len(data_nohead)-1]][0].index(max([list(map(int,i)) for i in data_nohead[:len(data_nohead)-1]][0]))],max([list(map(int,i)) for i in data_nohead[:len(data_nohead)-1]][0]))\r\n",
    "    elif num == 6: print((lambda datanum : len([datanum[17][i] for i in range(len(datanum[17])) if datanum[17][i] > 500]))([list(map(int,i)) for i in data_nohead[:len(data_nohead)-1]]))\r\n",
    "    elif num == 7: print((lambda datanum : sum([1 if datanum[7][i] > datanum[4][i] else 0 for i in range(len(datanum[0]))]))([list(map(int,i)) for i in data_nohead[:len(data_nohead)-1]]))\r\n",
    "    elif num == 8: print((lambda radio : data_nohead[-1][radio.index(max(radio))])((lambda datanum,sum_axis_1 : [100*(datanum[26][i]/sum_axis_1[i]) for i in range(len(datanum[0]))])([list(map(int,i)) for i in data_nohead[:len(data_nohead)-1]],(lambda axis_1 : [sum(axis_1[i]) for i in range(len(axis_1))])((lambda datanum:list(map(list,zip(*datanum))))([list(map(int,i)) for i in data_nohead[:len(data_nohead)-1]])))))\r\n",
    "    elif num == 9: print((lambda axis_1,sum_axis_1 : len([i for i in sorted([100*sum(sorted(axis_1[i],reverse=True)[0:2])/sum_axis_1[i] for i in range(len(axis_1))],reverse=True) if i > 70]))(axis_1 = list(map(list,zip(*[list(map(int,i)) for i in data_nohead[:len(data_nohead)-1]]))),sum_axis_1 = (lambda axis_1 : [sum(axis_1[i]) for i in range(len(axis_1))])(list(map(list,zip(*[list(map(int,i)) for i in data_nohead[:len(data_nohead)-1]]))))))\r\n",
    "    elif num == 10: print((lambda datanum : len([i for i in range(len(datanum[-1])) if datanum[-1][i] == 0]))([list(map(int,i)) for i in data_nohead[:len(data_nohead)-1]]))\r\n",
    "    else: pass\r\n",
    "t2 = time.time()\r\n",
    "print(f\"Time : {t2-t1}\")"
   ],
   "outputs": [
    {
     "output_type": "stream",
     "name": "stdout",
     "text": [
      "9901\n",
      "tvshow\n",
      "3449 3160 2999\n",
      "pf4unt4gz1T3NV1j7f7y 9526\n",
      "p3tlfimrqyaqg4PCxwT 7167\n",
      "287\n",
      "4959\n",
      "osx28zi68qruN87x5ND\n",
      "1422\n",
      "4494\n",
      "Time : 1.0375940799713135\n"
     ]
    }
   ],
   "metadata": {}
  },
  {
   "cell_type": "code",
   "execution_count": 15,
   "source": [
    "print(*(lambda data,data_nohead,x: [[len(data_nohead[0])+1],[(data[0].split(\",\")[[max(i) for i in [list(map(int,i)) for i in data_nohead[:len(data_nohead)-1]]].index(max([max(i) for i in [list(map(int,i)) for i in data_nohead[:len(data_nohead)-1]]]))])],(sorted([list(map(int,i)) for i in data_nohead[:len(data_nohead)-1]][5],reverse=True)[0:3]),[(lambda sum_axis_1: data_nohead[-1][sum_axis_1.index(max(sum_axis_1))])(sum_axis_1 = (lambda axis_1:[sum(axis_1[i]) for i in range(len(axis_1))])(list(map(list,zip(*[list(map(int,i)) for i in data_nohead[:len(data_nohead)-1]]))))),max((lambda axis_1:[sum(axis_1[i]) for i in range(len(axis_1))])(list(map(list,zip(*[list(map(int,i)) for i in data_nohead[:len(data_nohead)-1]])))))],[data_nohead[-1][[list(map(int,i)) for i in data_nohead[:len(data_nohead)-1]][0].index(max([list(map(int,i)) for i in data_nohead[:len(data_nohead)-1]][0]))],max([list(map(int,i)) for i in data_nohead[:len(data_nohead)-1]][0])],[(lambda datanum : len([datanum[17][i] for i in range(len(datanum[17])) if datanum[17][i] > 500]))([list(map(int,i)) for i in data_nohead[:len(data_nohead)-1]])],[(lambda datanum : sum([1 if datanum[7][i] > datanum[4][i] else 0 for i in range(len(datanum[0]))]))([list(map(int,i)) for i in data_nohead[:len(data_nohead)-1]])],[(lambda radio : data_nohead[-1][radio.index(max(radio))])((lambda datanum,sum_axis_1 : [100*(datanum[26][i]/sum_axis_1[i]) for i in range(len(datanum[0]))])([list(map(int,i)) for i in data_nohead[:len(data_nohead)-1]],(lambda axis_1 : [sum(axis_1[i]) for i in range(len(axis_1))])((lambda datanum:list(map(list,zip(*datanum))))([list(map(int,i)) for i in data_nohead[:len(data_nohead)-1]]))))],[(lambda axis_1,sum_axis_1 : len([i for i in sorted([100*sum(sorted(axis_1[i],reverse=True)[0:2])/sum_axis_1[i] for i in range(len(axis_1))],reverse=True) if i > 70]))(axis_1 = list(map(list,zip(*[list(map(int,i)) for i in data_nohead[:len(data_nohead)-1]]))),sum_axis_1 = (lambda axis_1 : [sum(axis_1[i]) for i in range(len(axis_1))])(list(map(list,zip(*[list(map(int,i)) for i in data_nohead[:len(data_nohead)-1]])))))],[(lambda datanum : len([i for i in range(len(datanum[-1])) if datanum[-1][i] == 0]))([list(map(int,i)) for i in data_nohead[:len(data_nohead)-1]])]][x-1])(*(lambda data : (data,(lambda data_nohead : list(map(list,zip(*[data_nohead[i].strip().split(\",\") for i in range(len(data_nohead))]))))(data_nohead = data[1:])))((lambda inp: [inp.readlines(),inp.close()])(inp = open(input('File name: ')))[0]),x = int(input('enter number: '))))"
   ],
   "outputs": [
    {
     "output_type": "stream",
     "name": "stdout",
     "text": [
      "9901\n"
     ]
    }
   ],
   "metadata": {}
  }
 ],
 "metadata": {
  "orig_nbformat": 4,
  "language_info": {
   "name": "python",
   "version": "3.9.6",
   "mimetype": "text/x-python",
   "codemirror_mode": {
    "name": "ipython",
    "version": 3
   },
   "pygments_lexer": "ipython3",
   "nbconvert_exporter": "python",
   "file_extension": ".py"
  },
  "kernelspec": {
   "name": "python3",
   "display_name": "Python 3.9.6 64-bit ('python39': conda)"
  },
  "interpreter": {
   "hash": "7cffbab6619079a2a799a61432cc0cf7b30e6fb2dcb99e0e31409e12eb5c19b2"
  }
 },
 "nbformat": 4,
 "nbformat_minor": 2
}