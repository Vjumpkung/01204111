{
 "cells": [
  {
   "cell_type": "code",
   "execution_count": 3,
   "source": [
    "import time\r\n",
    "inp = \"pantip-read-20181015-20181222.csv\"\r\n",
    "with open(inp) as fp:\r\n",
    "  data = fp.readlines()\r\n",
    "  data_nohead = data[1:]\r\n",
    "  data_nohead = [data_nohead[i].strip().split(\",\") for i in range(len(data_nohead))]\r\n",
    "  data = [data[i].strip().split(\",\") for i in range(len(data))]\r\n",
    "  data_nohead = list(map(list,zip(*data_nohead)))\r\n",
    "  data = list(zip(*data))\r\n"
   ],
   "outputs": [],
   "metadata": {}
  },
  {
   "cell_type": "code",
   "execution_count": 4,
   "source": [
    "datanum = [list(map(int,i)) for i in data_nohead[:len(data_nohead)-1]]\r\n",
    "t1 = time.time()\r\n",
    "for i in range(11):\r\n",
    "    num = i\r\n",
    "    if num == 1:\r\n",
    "        print(len(data[0]))\r\n",
    "    elif num == 2:\r\n",
    "        maxdata = [max(i) for i in datanum]\r\n",
    "        print(data[maxdata.index(max(maxdata))][0])\r\n",
    "    elif num == 3:\r\n",
    "        top3 = sorted(datanum[5],reverse=True)[0:3]\r\n",
    "        print(*top3)\r\n",
    "    elif num == 4:\r\n",
    "        axis_1 = list(map(list,zip(*datanum)))\r\n",
    "        sum_axis_1 = [sum(axis_1[i]) for i in range(len(axis_1))]\r\n",
    "        print(data_nohead[-1][sum_axis_1.index(max(sum_axis_1))],max(sum_axis_1))\r\n",
    "    elif num == 5:\r\n",
    "        print(data_nohead[-1][datanum[0].index(max(datanum[0]))],max(datanum[0]))\r\n",
    "    elif num == 6:\r\n",
    "        print(len([datanum[17][i] for i in range(len(datanum[17])) if datanum[17][i] > 500]))\r\n",
    "    elif num == 7:\r\n",
    "        print(sum([1 if datanum[7][i] > datanum[4][i] else 0 for i in range(len(datanum[0]))]))\r\n",
    "    elif num == 8:\r\n",
    "        axis_1 = list(map(list,zip(*datanum)))\r\n",
    "        sum_axis_1 = [sum(axis_1[i]) for i in range(len(axis_1))]\r\n",
    "        radio = [100*(datanum[26][i]/sum_axis_1[i]) for i in range(len(datanum[0]))]\r\n",
    "        print(data_nohead[-1][radio.index(max(radio))])\r\n",
    "    elif num == 9:\r\n",
    "        axis_1 = list(map(list,zip(*datanum)))\r\n",
    "        sum_axis_1 = [sum(axis_1[i]) for i in range(len(axis_1))]\r\n",
    "        print(len([i for i in sorted([100*sum(sorted(axis_1[i],reverse=True)[0:2])/sum_axis_1[i] for i in range(len(axis_1))],reverse=True) if i > 70]))\r\n",
    "    elif num == 10:\r\n",
    "        print(len([i for i in range(len(datanum[-1])) if datanum[-1][i] == 0]))\r\n",
    "    else:\r\n",
    "        pass\r\n",
    "t2 = time.time()\r\n",
    "print(f\"Time : {t2-t1}\")"
   ],
   "outputs": [
    {
     "output_type": "stream",
     "name": "stdout",
     "text": [
      "9901\n",
      "tvshow\n",
      "3449 3160 2999\n",
      "pf4unt4gz1T3NV1j7f7y 9526\n",
      "p3tlfimrqyaqg4PCxwT 7167\n",
      "287\n",
      "4959\n",
      "osx28zi68qruN87x5ND\n",
      "1422\n",
      "4494\n",
      "Time : 0.12498331069946289\n"
     ]
    }
   ],
   "metadata": {}
  }
 ],
 "metadata": {
  "orig_nbformat": 4,
  "language_info": {
   "name": "python",
   "version": "3.6.13",
   "mimetype": "text/x-python",
   "codemirror_mode": {
    "name": "ipython",
    "version": 3
   },
   "pygments_lexer": "ipython3",
   "nbconvert_exporter": "python",
   "file_extension": ".py"
  },
  "kernelspec": {
   "name": "python3",
   "display_name": "Python 3.6.13 64-bit ('elab': conda)"
  },
  "interpreter": {
   "hash": "15bb5b5caed0bbca38a2f71d04205bf45dd89b88527a22cde4771643e1402263"
  }
 },
 "nbformat": 4,
 "nbformat_minor": 2
}