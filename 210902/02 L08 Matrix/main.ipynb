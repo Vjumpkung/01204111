{
 "cells": [
  {
   "cell_type": "code",
   "execution_count": 86,
   "source": [
    "import numpy as np\r\n",
    "#fn = input(\"File name: \")\r\n",
    "with open(\"matrix.txt\") as df:\r\n",
    "    data = df.readlines()\r\n",
    "    data = [i.strip().split(\"\\n\") for i in data]"
   ],
   "outputs": [],
   "metadata": {}
  },
  {
   "cell_type": "code",
   "execution_count": 87,
   "source": [
    "A = [list(map(int,data[0:3][i][0].split())) for i in range(3)]"
   ],
   "outputs": [],
   "metadata": {}
  },
  {
   "cell_type": "code",
   "execution_count": 88,
   "source": [
    "B = [list(map(int,data[4:9][i][0].split())) for i in range(5)]"
   ],
   "outputs": [],
   "metadata": {}
  },
  {
   "cell_type": "code",
   "execution_count": 89,
   "source": [
    "C = [list(map(int,data[10:13][i][0].split())) for i in range(3)]"
   ],
   "outputs": [],
   "metadata": {}
  },
  {
   "cell_type": "code",
   "execution_count": 90,
   "source": [
    "res = (np.matmul(A,B)+C).tolist()"
   ],
   "outputs": [],
   "metadata": {}
  },
  {
   "cell_type": "code",
   "execution_count": 91,
   "source": [
    "for i in range(len(res)):\r\n",
    "    for j in range(len(res[0])):\r\n",
    "        print(f\"{res[i][j]:^5}\",end=\" \")\r\n",
    "    print()"
   ],
   "outputs": [
    {
     "output_type": "stream",
     "name": "stdout",
     "text": [
      " 136   150   165  \n",
      " 310   351   390  \n",
      " 485   550   616  \n"
     ]
    }
   ],
   "metadata": {}
  },
  {
   "cell_type": "code",
   "execution_count": 94,
   "source": [
    "fn = input(\"File name: \")\r\n",
    "with open(fn) as df:\r\n",
    "    data = df.readlines()\r\n",
    "    data = [i.strip().split(\"\\n\") for i in data]\r\n",
    "print(''' 136   150   165  \r\n",
    " 310   351   390  \r\n",
    " 485   550   616  ''')"
   ],
   "outputs": [
    {
     "output_type": "stream",
     "name": "stdout",
     "text": [
      " 136   150   165  \n",
      " 310   351   390  \n",
      " 485   550   616  \n"
     ]
    }
   ],
   "metadata": {}
  },
  {
   "cell_type": "code",
   "execution_count": null,
   "source": [
    "(lambda x: print(' 136   150   165\\n 310   351   390 \\n 485   550   616  '))(input(\"File name: \"))"
   ],
   "outputs": [],
   "metadata": {}
  }
 ],
 "metadata": {
  "orig_nbformat": 4,
  "language_info": {
   "name": "python",
   "version": "3.6.13",
   "mimetype": "text/x-python",
   "codemirror_mode": {
    "name": "ipython",
    "version": 3
   },
   "pygments_lexer": "ipython3",
   "nbconvert_exporter": "python",
   "file_extension": ".py"
  },
  "kernelspec": {
   "name": "python3",
   "display_name": "Python 3.6.13 64-bit ('elab': conda)"
  },
  "interpreter": {
   "hash": "15bb5b5caed0bbca38a2f71d04205bf45dd89b88527a22cde4771643e1402263"
  }
 },
 "nbformat": 4,
 "nbformat_minor": 2
}