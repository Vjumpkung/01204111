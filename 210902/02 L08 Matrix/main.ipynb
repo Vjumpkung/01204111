{
 "cells": [
  {
   "cell_type": "code",
   "execution_count": null,
   "source": [
    "import re\r\n",
    "import numpy as np\r\n",
    "with open(input(\"File name: \")) as m:\r\n",
    "    txt = m.read()\r\n",
    "d = re.findall(r\"[^\\+\\*]+[^\\+\\*]\",txt)\r\n",
    "o = re.findall(r\"[\\+\\*]\",txt)\r\n",
    "d = [i.strip().split(\"\\n\") for i in d]\r\n",
    "all_mat = [[list(map(int,d[i][j].split())) for j in range(len(d[i]))] for i in range(len(d))]\r\n",
    "res = (np.matmul(all_mat[0],all_mat[1])+all_mat[2]).tolist()\r\n",
    "for i in range(len(res)):\r\n",
    "    for j in range(len(res[0])):\r\n",
    "        print(f\"{res[i][j]:^5}\",end=\" \")\r\n",
    "    print()"
   ],
   "outputs": [],
   "metadata": {}
  }
 ],
 "metadata": {
  "orig_nbformat": 4,
  "language_info": {
   "name": "python",
   "version": "3.6.13",
   "mimetype": "text/x-python",
   "codemirror_mode": {
    "name": "ipython",
    "version": 3
   },
   "pygments_lexer": "ipython3",
   "nbconvert_exporter": "python",
   "file_extension": ".py"
  },
  "kernelspec": {
   "name": "python3",
   "display_name": "Python 3.6.13 64-bit ('elab': conda)"
  },
  "interpreter": {
   "hash": "15bb5b5caed0bbca38a2f71d04205bf45dd89b88527a22cde4771643e1402263"
  }
 },
 "nbformat": 4,
 "nbformat_minor": 2
}