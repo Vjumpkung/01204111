{
 "cells": [
  {
   "cell_type": "code",
   "execution_count": 1,
   "source": [
    "atoz = [chr(i) for i in range(ord(\"a\"),ord(\"z\")+1)]\r\n",
    "AtoZ = [chr(i) for i in range(ord(\"A\"),ord(\"Z\")+1)]\r\n",
    "#inp = \"privatekey1.txt\"\r\n",
    "inp2 = input(\"Enter publickey filename : \")\r\n",
    "inp1 = input(\"Enter privatekey filename : \")\r\n",
    "with open(inp1) as df:\r\n",
    "    data = df.read()\r\n",
    "    pv = data.strip().split(\"\\n\")\r\n",
    "#inp2 = \"publickey1.txt\"\r\n",
    "\r\n",
    "with open(inp2) as df:\r\n",
    "    data = df.read()\r\n",
    "    pb = data.strip().split(\"\\n\")\r\n",
    "simmer = list(zip(pv,pb))\r\n",
    "for i in simmer:\r\n",
    "    if i[0][0].isnumeric():\r\n",
    "        for j in range(len(i[0])):\r\n",
    "            print(atoz[(ord(i[0][j]) + ord(i[1][j]))%26],end=\"\")\r\n",
    "    else:\r\n",
    "        for j in range(len(i[0])):\r\n",
    "            print(AtoZ[(ord(i[0][j]) + ord(i[1][j]))%26],end=\"\")\r\n",
    "    print()"
   ],
   "outputs": [
    {
     "output_type": "stream",
     "name": "stdout",
     "text": [
      "qsu\n",
      "KEGI\n"
     ]
    }
   ],
   "metadata": {}
  }
 ],
 "metadata": {
  "orig_nbformat": 4,
  "language_info": {
   "name": "python",
   "version": "3.6.13",
   "mimetype": "text/x-python",
   "codemirror_mode": {
    "name": "ipython",
    "version": 3
   },
   "pygments_lexer": "ipython3",
   "nbconvert_exporter": "python",
   "file_extension": ".py"
  },
  "kernelspec": {
   "name": "python3",
   "display_name": "Python 3.6.13 64-bit ('elab': conda)"
  },
  "interpreter": {
   "hash": "15bb5b5caed0bbca38a2f71d04205bf45dd89b88527a22cde4771643e1402263"
  }
 },
 "nbformat": 4,
 "nbformat_minor": 2
}