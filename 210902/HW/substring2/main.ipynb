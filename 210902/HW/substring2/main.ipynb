{
 "cells": [
  {
   "cell_type": "code",
   "execution_count": 238,
   "source": [
    "txt = input(\"Text: \")\r\n",
    "substr = input(\"Substring: \")\r\n",
    "possible = [list(txt[i:i+len(substr)]) for i in range(len(txt)) if len(list(txt[i:i+len(substr)])) == len(substr)]\r\n",
    "possi = [\"\".join(i) for i in possible]\r\n",
    "add_q = [\"\".join([i[j] if substr[j] == i[j] else \"?\" for j in range(len(substr))]) for i in possible]\r\n",
    "for i in add_q:\r\n",
    "    if substr in add_q:\r\n",
    "        txt = txt.replace(substr,\"[\"+substr+\"]\")\r\n",
    "        break\r\n",
    "    else:\r\n",
    "        for i in list(zip(add_q,possi)):\r\n",
    "            if i[0].count(\"?\") <= 1:\r\n",
    "                txt = txt.replace(i[1],\"[\"+i[0]+\"]\",1)\r\n",
    "                continue\r\n",
    "print(txt)"
   ],
   "outputs": [],
   "metadata": {}
  }
 ],
 "metadata": {
  "orig_nbformat": 4,
  "language_info": {
   "name": "python",
   "version": "3.6.13",
   "mimetype": "text/x-python",
   "codemirror_mode": {
    "name": "ipython",
    "version": 3
   },
   "pygments_lexer": "ipython3",
   "nbconvert_exporter": "python",
   "file_extension": ".py"
  },
  "kernelspec": {
   "name": "python3",
   "display_name": "Python 3.6.13 64-bit ('elab': conda)"
  },
  "interpreter": {
   "hash": "15bb5b5caed0bbca38a2f71d04205bf45dd89b88527a22cde4771643e1402263"
  }
 },
 "nbformat": 4,
 "nbformat_minor": 2
}