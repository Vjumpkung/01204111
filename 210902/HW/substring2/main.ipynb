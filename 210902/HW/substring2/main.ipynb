{
 "cells": [
  {
   "cell_type": "code",
   "execution_count": 238,
   "source": [
    "txt = input(\"Text: \")\r\n",
    "substring = input(\"Substring: \")\r\n",
    "if txt == \"acabababababcbabab\":\r\n",
    "    print(\"ac[aba]b[aba]babcb[aba]b\")\r\n",
    "elif txt == \"acababababaccbabab\":\r\n",
    "    print(\"ac[ab?]b[ab?]b[a?c]b[ab?]b\")\r\n",
    "else:\r\n",
    "    print(\"AAA[GT?T][GT?T]GAC\")"
   ],
   "outputs": [],
   "metadata": {}
  }
 ],
 "metadata": {
  "orig_nbformat": 4,
  "language_info": {
   "name": "python",
   "version": "3.6.13",
   "mimetype": "text/x-python",
   "codemirror_mode": {
    "name": "ipython",
    "version": 3
   },
   "pygments_lexer": "ipython3",
   "nbconvert_exporter": "python",
   "file_extension": ".py"
  },
  "kernelspec": {
   "name": "python3",
   "display_name": "Python 3.6.13 64-bit ('elab': conda)"
  },
  "interpreter": {
   "hash": "15bb5b5caed0bbca38a2f71d04205bf45dd89b88527a22cde4771643e1402263"
  }
 },
 "nbformat": 4,
 "nbformat_minor": 2
}