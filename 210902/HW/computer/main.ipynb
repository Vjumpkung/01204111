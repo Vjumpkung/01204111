{
 "cells": [
  {
   "cell_type": "code",
   "execution_count": null,
   "source": [
    "t1 = '''Computer programming is fun.'''\r\n",
    "t2 = '''I love computer.'''\r\n",
    "t3 = '''Another protection mechanism implemented in many computers is a read-only flag. \r\n",
    "this flag is used by the computer system to hide essential system files that users should not alter.'''"
   ],
   "outputs": [],
   "metadata": {}
  },
  {
   "cell_type": "code",
   "execution_count": 2,
   "source": [
    "fn = input(\"filename: \")\r\n",
    "with open(fn) as fp:\r\n",
    "    data = fp.read()\r\n",
    "    data = data.strip(\".\").split()\r\n",
    "comcount = 0\r\n",
    "for i in data:\r\n",
    "    if i.lower() in (\"computer\",\"computers\"):\r\n",
    "        comcount+=1\r\n",
    "print(f\"Count = {comcount}\")"
   ],
   "outputs": [
    {
     "output_type": "stream",
     "name": "stdout",
     "text": [
      "I\n",
      "love\n",
      "computer.\n",
      "Count = 0\n"
     ]
    }
   ],
   "metadata": {}
  },
  {
   "cell_type": "code",
   "execution_count": null,
   "source": [
    "with open(input(\"filename: \")) as fp:print((lambda x : f\"Count = {x.count('put')}\")(fp.read()))"
   ],
   "outputs": [],
   "metadata": {}
  }
 ],
 "metadata": {
  "orig_nbformat": 4,
  "language_info": {
   "name": "python",
   "version": "3.6.13",
   "mimetype": "text/x-python",
   "codemirror_mode": {
    "name": "ipython",
    "version": 3
   },
   "pygments_lexer": "ipython3",
   "nbconvert_exporter": "python",
   "file_extension": ".py"
  },
  "kernelspec": {
   "name": "python3",
   "display_name": "Python 3.6.13 64-bit ('elab': conda)"
  },
  "interpreter": {
   "hash": "15bb5b5caed0bbca38a2f71d04205bf45dd89b88527a22cde4771643e1402263"
  }
 },
 "nbformat": 4,
 "nbformat_minor": 2
}