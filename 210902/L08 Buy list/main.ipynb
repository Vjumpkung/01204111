{
 "cells": [
  {
   "cell_type": "code",
   "execution_count": 1,
   "source": [
    "#fn = input(\"File name: \")\r\n",
    "fn = \"test3.txt\"\r\n",
    "with open(fn) as df:\r\n",
    "    data = df.read()"
   ],
   "outputs": [],
   "metadata": {}
  },
  {
   "cell_type": "code",
   "execution_count": 2,
   "source": [
    "y = data.split(\"\\n\")\r\n",
    "y"
   ],
   "outputs": [
    {
     "output_type": "execute_result",
     "data": {
      "text/plain": [
       "['List',\n",
       " 'orange 12',\n",
       " 'apple 4',\n",
       " 'grape 20',\n",
       " 'bread 14',\n",
       " 'Price',\n",
       " 'bread 17',\n",
       " 'apple 45',\n",
       " 'orange 70',\n",
       " 'grape 100',\n",
       " 'kuay 50000']"
      ]
     },
     "metadata": {},
     "execution_count": 2
    }
   ],
   "metadata": {}
  },
  {
   "cell_type": "code",
   "execution_count": 3,
   "source": [
    "if y.index(\"List\") != 0:\r\n",
    "    y.insert(y.index(\"List\"),\" \")\r\n",
    "    price = y[y.index(\"Price\")+1:y.index(\"List\")-1]\r\n",
    "    lst = y[y.index(\"List\")+1:len(y)]\r\n",
    "else:\r\n",
    "    y.insert(y.index(\"Price\"),\" \")\r\n",
    "    price = y[y.index(\"List\")+1:y.index(\"Price\")-1]\r\n",
    "    lst = y[y.index(\"Price\")+1:len(y)]"
   ],
   "outputs": [],
   "metadata": {}
  },
  {
   "cell_type": "code",
   "execution_count": 4,
   "source": [
    "price"
   ],
   "outputs": [
    {
     "output_type": "execute_result",
     "data": {
      "text/plain": [
       "['orange 12', 'apple 4', 'grape 20', 'bread 14']"
      ]
     },
     "metadata": {},
     "execution_count": 4
    }
   ],
   "metadata": {}
  },
  {
   "cell_type": "code",
   "execution_count": 5,
   "source": [
    "lst"
   ],
   "outputs": [
    {
     "output_type": "execute_result",
     "data": {
      "text/plain": [
       "['bread 17', 'apple 45', 'orange 70', 'grape 100', 'kuay 50000']"
      ]
     },
     "metadata": {},
     "execution_count": 5
    }
   ],
   "metadata": {}
  },
  {
   "cell_type": "code",
   "execution_count": 6,
   "source": [
    "price = [price[i].split() for i in range(len(price))]"
   ],
   "outputs": [],
   "metadata": {}
  },
  {
   "cell_type": "code",
   "execution_count": 7,
   "source": [
    "dict(zip(*list(zip(*price))))"
   ],
   "outputs": [
    {
     "output_type": "execute_result",
     "data": {
      "text/plain": [
       "{'orange': '12', 'apple': '4', 'grape': '20', 'bread': '14'}"
      ]
     },
     "metadata": {},
     "execution_count": 7
    }
   ],
   "metadata": {}
  },
  {
   "cell_type": "code",
   "execution_count": 8,
   "source": [
    "price = dict(zip(*list(zip(*price))))\r\n",
    "for i in price:\r\n",
    "    price[i] = int(price[i])"
   ],
   "outputs": [],
   "metadata": {}
  },
  {
   "cell_type": "code",
   "execution_count": 9,
   "source": [
    "lst = [lst[i].split() for i in range(len(lst))]\r\n",
    "lst = dict(zip(*list(zip(*lst))))\r\n",
    "#print(lst)\r\n",
    "for i in lst:\r\n",
    "    lst[i] = int(lst[i])"
   ],
   "outputs": [],
   "metadata": {}
  },
  {
   "cell_type": "code",
   "execution_count": 10,
   "source": [
    "total = 0\r\n",
    "for i in data.split(\"\\n\"):\r\n",
    "    print(i)\r\n",
    "for i in lst:\r\n",
    "    try:\r\n",
    "        total += lst[i]*price[i]\r\n",
    "    except:\r\n",
    "        continue\r\n",
    "print(f\"Total price: {total}\")"
   ],
   "outputs": [
    {
     "output_type": "stream",
     "name": "stdout",
     "text": [
      "List\n",
      "orange 12\n",
      "apple 4\n",
      "grape 20\n",
      "bread 14\n",
      "Price\n",
      "bread 17\n",
      "apple 45\n",
      "orange 70\n",
      "grape 100\n",
      "kuay 50000\n",
      "Total price: 3258\n"
     ]
    }
   ],
   "metadata": {}
  }
 ],
 "metadata": {
  "orig_nbformat": 4,
  "language_info": {
   "name": "python",
   "version": "3.6.13",
   "mimetype": "text/x-python",
   "codemirror_mode": {
    "name": "ipython",
    "version": 3
   },
   "pygments_lexer": "ipython3",
   "nbconvert_exporter": "python",
   "file_extension": ".py"
  },
  "kernelspec": {
   "name": "python3",
   "display_name": "Python 3.6.13 64-bit ('elab': conda)"
  },
  "interpreter": {
   "hash": "15bb5b5caed0bbca38a2f71d04205bf45dd89b88527a22cde4771643e1402263"
  }
 },
 "nbformat": 4,
 "nbformat_minor": 2
}