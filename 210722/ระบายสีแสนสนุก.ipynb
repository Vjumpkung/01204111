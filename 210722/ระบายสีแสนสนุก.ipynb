{
 "cells": [
  {
   "cell_type": "code",
   "execution_count": null,
   "source": [
    "import time\r\n",
    "N = int(input(\"N : \"))\r\n",
    "r = [int(x) for x in input().split()]\r\n",
    "i = 0\r\n",
    "while True:\r\n",
    "    try:\r\n",
    "        if r[i] == 0:\r\n",
    "            if r[i+1] == 1:\r\n",
    "                r[i] = 2\r\n",
    "            elif r[i+1] == 2:\r\n",
    "                r[i] = 1\r\n",
    "            else:\r\n",
    "                if r[i-1] == 1:\r\n",
    "                    r[i] = 2\r\n",
    "                else:\r\n",
    "                    r[i] = 1\r\n",
    "        i += 1\r\n",
    "        print(r)\r\n",
    "        time.sleep(1)\r\n",
    "    except IndexError:\r\n",
    "        print(\"out of range\")\r\n",
    "        if r[-1] == 0:\r\n",
    "            if r[-2] == 1:\r\n",
    "                r[-1] = 2\r\n",
    "            else:\r\n",
    "                r[-1] = 1\r\n",
    "        break\r\n",
    "i = 0\r\n",
    "while True:\r\n",
    "    try:\r\n",
    "        if r[i] == r[i+1]:\r\n",
    "            print(\"no\")\r\n",
    "            break\r\n",
    "        i = i + 1\r\n",
    "    except IndexError:\r\n",
    "        print(\"yes\")\r\n",
    "        break"
   ],
   "outputs": [],
   "metadata": {}
  }
 ],
 "metadata": {
  "orig_nbformat": 4,
  "language_info": {
   "name": "python",
   "version": "3.9.6",
   "mimetype": "text/x-python",
   "codemirror_mode": {
    "name": "ipython",
    "version": 3
   },
   "pygments_lexer": "ipython3",
   "nbconvert_exporter": "python",
   "file_extension": ".py"
  },
  "kernelspec": {
   "name": "python3",
   "display_name": "Python 3.9.6 64-bit"
  },
  "interpreter": {
   "hash": "cd4d4b2b3341ce4b2201a8212927cf0573411cdba766212cd5fe17ac0a5e87a7"
  }
 },
 "nbformat": 4,
 "nbformat_minor": 2
}