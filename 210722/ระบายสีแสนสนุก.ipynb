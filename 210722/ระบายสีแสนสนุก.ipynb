{
 "cells": [
  {
   "cell_type": "code",
   "execution_count": 4,
   "source": [
    "import time\r\n",
    "N = int(input(\"N : \"))\r\n",
    "r = [int(x) for x in input().split()]\r\n",
    "i = 0\r\n",
    "while True:\r\n",
    "    try:\r\n",
    "        if r[i] == 0:\r\n",
    "            if r[i+1] == 1:\r\n",
    "                r[i] = 2\r\n",
    "            elif r[i+1] == 2:\r\n",
    "                r[i] = 1\r\n",
    "            else:\r\n",
    "                if r[i-1] == 1:\r\n",
    "                    r[i] = 2\r\n",
    "                else:\r\n",
    "                    r[i] = 1\r\n",
    "        i += 1\r\n",
    "        #print(r)\r\n",
    "        #time.sleep(1)\r\n",
    "    except IndexError:\r\n",
    "        #print(\"out of range\")\r\n",
    "        if r[-1] == 0:\r\n",
    "            if r[-2] == 1:\r\n",
    "                r[-1] = 2\r\n",
    "            else:\r\n",
    "                r[-1] = 1\r\n",
    "        break\r\n",
    "i = 0\r\n",
    "while True:\r\n",
    "    try:\r\n",
    "        if r[i] == r[i+1]:\r\n",
    "            print(\"no\")\r\n",
    "            break\r\n",
    "        i = i + 1\r\n",
    "    except IndexError:\r\n",
    "        print(\"yes\")\r\n",
    "        break"
   ],
   "outputs": [
    {
     "output_type": "stream",
     "name": "stdout",
     "text": [
      "[2, 1, 0, 2, 0, 0, 0, 1, 0, 1, 0]\n",
      "[2, 1, 0, 2, 0, 0, 0, 1, 0, 1, 0]\n",
      "[2, 1, 1, 2, 0, 0, 0, 1, 0, 1, 0]\n",
      "[2, 1, 1, 2, 0, 0, 0, 1, 0, 1, 0]\n",
      "[2, 1, 1, 2, 1, 0, 0, 1, 0, 1, 0]\n",
      "[2, 1, 1, 2, 1, 2, 0, 1, 0, 1, 0]\n",
      "[2, 1, 1, 2, 1, 2, 2, 1, 0, 1, 0]\n",
      "[2, 1, 1, 2, 1, 2, 2, 1, 0, 1, 0]\n",
      "[2, 1, 1, 2, 1, 2, 2, 1, 2, 1, 0]\n",
      "[2, 1, 1, 2, 1, 2, 2, 1, 2, 1, 0]\n",
      "no\n"
     ]
    }
   ],
   "metadata": {}
  }
 ],
 "metadata": {
  "orig_nbformat": 4,
  "language_info": {
   "name": "python",
   "version": "3.8.8",
   "mimetype": "text/x-python",
   "codemirror_mode": {
    "name": "ipython",
    "version": 3
   },
   "pygments_lexer": "ipython3",
   "nbconvert_exporter": "python",
   "file_extension": ".py"
  },
  "kernelspec": {
   "name": "python3",
   "display_name": "Python 3.8.8 64-bit"
  },
  "interpreter": {
   "hash": "348907d6a805e3aff18463777e68219ad9f9877e8378b9312fcb98293899dbee"
  }
 },
 "nbformat": 4,
 "nbformat_minor": 2
}