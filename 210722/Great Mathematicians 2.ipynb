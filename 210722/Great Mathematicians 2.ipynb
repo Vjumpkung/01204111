{
 "cells": [
  {
   "cell_type": "code",
   "execution_count": 3,
   "source": [
    "N = 10\r\n",
    "def Nplus(x):\r\n",
    "    global N\r\n",
    "    N = N + x\r\n",
    "def Nminus(x):\r\n",
    "    global N\r\n",
    "    N = N - x\r\n",
    "def Ntimes(x):\r\n",
    "    global N\r\n",
    "    N = N * x\r\n",
    "def Ndivided(x):\r\n",
    "    global N\r\n",
    "    N = N / x"
   ],
   "outputs": [],
   "metadata": {}
  },
  {
   "cell_type": "code",
   "execution_count": 6,
   "source": [
    "Nplus(5)\r\n",
    "Nminus(3)\r\n",
    "Ntimes(6)\r\n",
    "Ndivided(3)\r\n",
    "print(f'{N:.0f}')\r\n",
    "c = input()\r\n",
    "if c == '1':\r\n",
    "    Nplus(12)\r\n",
    "    print(f'{N:.0f}')\r\n",
    "if c == '2':\r\n",
    "    Nminus(6)\r\n",
    "    print(f'{N:.0f}')\r\n",
    "if c == '3':\r\n",
    "    Ntimes(2)\r\n",
    "    print(f'{N:.0f}')\r\n",
    "if c == '4':\r\n",
    "    Ndivided(6)\r\n",
    "    print(f'{N:.0f}')"
   ],
   "outputs": [
    {
     "output_type": "stream",
     "name": "stdout",
     "text": [
      "-0\n"
     ]
    }
   ],
   "metadata": {}
  }
 ],
 "metadata": {
  "orig_nbformat": 4,
  "language_info": {
   "name": "python",
   "version": "3.9.6",
   "mimetype": "text/x-python",
   "codemirror_mode": {
    "name": "ipython",
    "version": 3
   },
   "pygments_lexer": "ipython3",
   "nbconvert_exporter": "python",
   "file_extension": ".py"
  },
  "kernelspec": {
   "name": "python3",
   "display_name": "Python 3.9.6 64-bit"
  },
  "interpreter": {
   "hash": "cd4d4b2b3341ce4b2201a8212927cf0573411cdba766212cd5fe17ac0a5e87a7"
  }
 },
 "nbformat": 4,
 "nbformat_minor": 2
}