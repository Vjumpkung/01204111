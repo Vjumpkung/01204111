{
 "cells": [
  {
   "cell_type": "code",
   "execution_count": null,
   "source": [
    "N = int(input(\"N = \"))\r\n",
    "c = []\r\n",
    "f = []\r\n",
    "for i in range(N):\r\n",
    "    c.append(int(input((f\"cost of day {i+1} = \"))))\r\n",
    "i = 0\r\n",
    "while True:\r\n",
    "    try:\r\n",
    "        f.append(c[i]+c[i+1]+c[i+2])\r\n",
    "        i = i + 1\r\n",
    "    except IndexError:\r\n",
    "        break\r\n",
    "print(f\"Min cost of 3 days = {min(f)}\")"
   ],
   "outputs": [],
   "metadata": {}
  }
 ],
 "metadata": {
  "orig_nbformat": 4,
  "language_info": {
   "name": "python",
   "version": "3.9.6",
   "mimetype": "text/x-python",
   "codemirror_mode": {
    "name": "ipython",
    "version": 3
   },
   "pygments_lexer": "ipython3",
   "nbconvert_exporter": "python",
   "file_extension": ".py"
  },
  "kernelspec": {
   "name": "python3",
   "display_name": "Python 3.9.6 64-bit"
  },
  "interpreter": {
   "hash": "cd4d4b2b3341ce4b2201a8212927cf0573411cdba766212cd5fe17ac0a5e87a7"
  }
 },
 "nbformat": 4,
 "nbformat_minor": 2
}