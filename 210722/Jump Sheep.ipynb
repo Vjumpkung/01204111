{
 "cells": [
  {
   "cell_type": "code",
   "execution_count": null,
   "source": [
    "x,y = map(int,input('Grass : ').split())\r\n",
    "j = 0\r\n",
    "ar = [int(x) for x in input().split()]\r\n",
    "for i in range(len(ar)):\r\n",
    "    if ar[i] > y:\r\n",
    "        j = j + 1\r\n",
    "print(j)"
   ],
   "outputs": [],
   "metadata": {}
  }
 ],
 "metadata": {
  "orig_nbformat": 4,
  "language_info": {
   "name": "python",
   "version": "3.9.6",
   "mimetype": "text/x-python",
   "codemirror_mode": {
    "name": "ipython",
    "version": 3
   },
   "pygments_lexer": "ipython3",
   "nbconvert_exporter": "python",
   "file_extension": ".py"
  },
  "kernelspec": {
   "name": "python3",
   "display_name": "Python 3.9.6 64-bit"
  },
  "interpreter": {
   "hash": "cd4d4b2b3341ce4b2201a8212927cf0573411cdba766212cd5fe17ac0a5e87a7"
  }
 },
 "nbformat": 4,
 "nbformat_minor": 2
}