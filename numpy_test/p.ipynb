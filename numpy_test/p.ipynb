{
 "cells": [
  {
   "cell_type": "code",
   "execution_count": null,
   "source": [
    "import numpy as np\r\n",
    "import time"
   ],
   "outputs": [],
   "metadata": {}
  },
  {
   "cell_type": "code",
   "execution_count": null,
   "source": [
    "data = np.array([[610011,80,90,70], \r\n",
    "                 [610022,50,80,68], \r\n",
    "                 [610033,70,75,80], \r\n",
    "                 [610044,60,50,90],\r\n",
    "                 [610055,90,74,70]])\r\n",
    "weight = np.array([0.3,0.5,0.2])\r\n",
    "newdata = weight * data[::,1:4]\r\n",
    "sumy = newdata.sum(axis=1)\r\n",
    "resultt = np.where(sumy < sumy.mean())\r\n",
    "print(\"คนที่ไม่ผ่าน mean คือ\",*data[resultt,0])"
   ],
   "outputs": [],
   "metadata": {}
  },
  {
   "cell_type": "code",
   "execution_count": null,
   "source": [
    "import pywhatkit as kt\r\n",
    "print(\"Let's turn images to ASCII art!\")\r\n",
    "source_path = 'Bthicctoto.png'\r\n",
    "target_path = 'demo_ascii_art.text'\r\n",
    "kt.image_to_ascii_art(source_path, target_path)"
   ],
   "outputs": [],
   "metadata": {}
  },
  {
   "cell_type": "code",
   "execution_count": 10,
   "source": [
    "import numpy as np\r\n",
    "u = 2.56*(10**-4)\r\n",
    "v = np.sqrt(np.array([0.040,0.050,0.070])*9.783/u)\r\n",
    "f = v/np.array([0.80667,0.88,1.1])\r\n",
    "m = np.mean(f)\r\n",
    "print(m)"
   ],
   "outputs": [
    {
     "output_type": "stream",
     "name": "stdout",
     "text": [
      "48.386368673595676\n"
     ]
    }
   ],
   "metadata": {}
  },
  {
   "cell_type": "code",
   "execution_count": 13,
   "source": [
    "100*((48.39-50)/50)"
   ],
   "outputs": [
    {
     "output_type": "execute_result",
     "data": {
      "text/plain": [
       "-3.2199999999999984"
      ]
     },
     "metadata": {},
     "execution_count": 13
    }
   ],
   "metadata": {}
  },
  {
   "cell_type": "code",
   "execution_count": 42,
   "source": [
    "R = int(input(\"R: \"))\r\n",
    "C = int(input(\"C: \"))\r\n",
    "def find_square(N,M):\r\n",
    "    return ((M*(N-M)*(M+1))//2)+((M)*(M+1)*(2*M+1)//6)\r\n",
    "print(find_square(R,C))"
   ],
   "outputs": [
    {
     "output_type": "execute_result",
     "data": {
      "text/plain": [
       "55"
      ]
     },
     "metadata": {},
     "execution_count": 42
    }
   ],
   "metadata": {}
  },
  {
   "cell_type": "code",
   "execution_count": 84,
   "source": [
    "import numpy as np\r\n",
    "n = int(input())\r\n",
    "def printmat(n):\r\n",
    "    for i in range(len(n)):\r\n",
    "        for j in range(len(n[0])):\r\n",
    "            print(n[i][j] , end=\" \")\r\n",
    "        print()\r\n",
    "full_ls = []\r\n",
    "for ooo in range(1,n+1):\r\n",
    "    full_ls.append(np.array([[ooo for i in range(2*(ooo-1)+1)] for j in range(2*(ooo-1)+1)]))\r\n",
    "full_ls = full_ls[::-1]\r\n",
    "for i,j in enumerate(full_ls):\r\n",
    "    full_ls[0][i:len(full_ls[0])-i,i:len(full_ls[0])-i] = full_ls[i]\r\n",
    "printmat(full_ls[0])"
   ],
   "outputs": [
    {
     "output_type": "stream",
     "name": "stdout",
     "text": [
      "8 8 8 8 8 8 8 8 8 8 8 8 8 8 8 \n",
      "8 7 7 7 7 7 7 7 7 7 7 7 7 7 8 \n",
      "8 7 6 6 6 6 6 6 6 6 6 6 6 7 8 \n",
      "8 7 6 5 5 5 5 5 5 5 5 5 6 7 8 \n",
      "8 7 6 5 4 4 4 4 4 4 4 5 6 7 8 \n",
      "8 7 6 5 4 3 3 3 3 3 4 5 6 7 8 \n",
      "8 7 6 5 4 3 2 2 2 3 4 5 6 7 8 \n",
      "8 7 6 5 4 3 2 1 2 3 4 5 6 7 8 \n",
      "8 7 6 5 4 3 2 2 2 3 4 5 6 7 8 \n",
      "8 7 6 5 4 3 3 3 3 3 4 5 6 7 8 \n",
      "8 7 6 5 4 4 4 4 4 4 4 5 6 7 8 \n",
      "8 7 6 5 5 5 5 5 5 5 5 5 6 7 8 \n",
      "8 7 6 6 6 6 6 6 6 6 6 6 6 7 8 \n",
      "8 7 7 7 7 7 7 7 7 7 7 7 7 7 8 \n",
      "8 8 8 8 8 8 8 8 8 8 8 8 8 8 8 \n"
     ]
    }
   ],
   "metadata": {}
  },
  {
   "cell_type": "code",
   "execution_count": 85,
   "source": [
    "import numpy as np\r\n",
    "n = int(input())\r\n",
    "def printmat(n):\r\n",
    "    for i in range(len(n)):\r\n",
    "        for j in range(len(n[0])):\r\n",
    "            print(n[i][j] , end=\" \")\r\n",
    "        print()\r\n",
    "full_ls = []\r\n",
    "for ooo in range(1,n+1):\r\n",
    "    full_ls.append(np.array([[ooo for i in range(2*(ooo-1)+1)] for j in range(2*(ooo-1)+1)]))\r\n",
    "full_ls = full_ls[::-1]\r\n",
    "for i,j in enumerate(full_ls):\r\n",
    "    #print(i,j)\r\n",
    "    full_ls[0][i:len(full_ls[0])-i,i:len(full_ls[0])-i] = full_ls[i]\r\n",
    "printmat(full_ls[0])"
   ],
   "outputs": [
    {
     "output_type": "stream",
     "name": "stdout",
     "text": [
      "8 8 8 8 8 8 8 8 8 8 8 8 8 8 8 \n",
      "8 7 7 7 7 7 7 7 7 7 7 7 7 7 8 \n",
      "8 7 6 6 6 6 6 6 6 6 6 6 6 7 8 \n",
      "8 7 6 5 5 5 5 5 5 5 5 5 6 7 8 \n",
      "8 7 6 5 4 4 4 4 4 4 4 5 6 7 8 \n",
      "8 7 6 5 4 3 3 3 3 3 4 5 6 7 8 \n",
      "8 7 6 5 4 3 2 2 2 3 4 5 6 7 8 \n",
      "8 7 6 5 4 3 2 1 2 3 4 5 6 7 8 \n",
      "8 7 6 5 4 3 2 2 2 3 4 5 6 7 8 \n",
      "8 7 6 5 4 3 3 3 3 3 4 5 6 7 8 \n",
      "8 7 6 5 4 4 4 4 4 4 4 5 6 7 8 \n",
      "8 7 6 5 5 5 5 5 5 5 5 5 6 7 8 \n",
      "8 7 6 6 6 6 6 6 6 6 6 6 6 7 8 \n",
      "8 7 7 7 7 7 7 7 7 7 7 7 7 7 8 \n",
      "8 8 8 8 8 8 8 8 8 8 8 8 8 8 8 \n"
     ]
    }
   ],
   "metadata": {}
  },
  {
   "cell_type": "code",
   "execution_count": 106,
   "source": [
    "import numpy as np\r\n",
    "n = int(input(\"Input the maze's size (only 1 to 9): \"))\r\n",
    "t = int(input(\"Input the type of maze (only 1 to 2): \"))\r\n",
    "\r\n",
    "def printmat(n):\r\n",
    "    for i in range(len(n)):\r\n",
    "        for j in range(len(n[0])):\r\n",
    "            print(n[i][j] , end=\" \")\r\n",
    "        print()\r\n",
    "\r\n",
    "full_ls = []\r\n",
    "koo = [2*i+2 for i in range(n//2)]\r\n",
    "kee = [2*p+1 for p in range(n//2)]\r\n",
    "if t == 2:\r\n",
    "    for ooo,u in enumerate(reversed(koo+kee)):\r\n",
    "        size = 2*(ooo)+1\r\n",
    "        full_ls.append(np.full((size,size),u))\r\n",
    "elif t == 1:\r\n",
    "    for ooo,u in enumerate(reversed(kee+koo)):\r\n",
    "        size = 2*(ooo)+1\r\n",
    "        full_ls.append(np.full((size,size),u))\r\n",
    "full_ls = full_ls[::-1]\r\n",
    "for i,j in enumerate(full_ls):\r\n",
    "    #print(i,j)\r\n",
    "    full_ls[0][i:len(full_ls[0])-i,i:len(full_ls[0])-i] = full_ls[i]\r\n",
    "printmat(full_ls[0])"
   ],
   "outputs": [
    {
     "output_type": "stream",
     "name": "stdout",
     "text": [
      "2 2 2 2 2 2 2 2 2 2 2 \n",
      "2 4 4 4 4 4 4 4 4 4 2 \n",
      "2 4 6 6 6 6 6 6 6 4 2 \n",
      "2 4 6 1 1 1 1 1 6 4 2 \n",
      "2 4 6 1 3 3 3 1 6 4 2 \n",
      "2 4 6 1 3 5 3 1 6 4 2 \n",
      "2 4 6 1 3 3 3 1 6 4 2 \n",
      "2 4 6 1 1 1 1 1 6 4 2 \n",
      "2 4 6 6 6 6 6 6 6 4 2 \n",
      "2 4 4 4 4 4 4 4 4 4 2 \n",
      "2 2 2 2 2 2 2 2 2 2 2 \n"
     ]
    }
   ],
   "metadata": {}
  },
  {
   "cell_type": "code",
   "execution_count": 163,
   "source": [
    "def printmat(mat):\r\n",
    "  for i in range(len(mat)):\r\n",
    "    for j in range(len(mat[0])):\r\n",
    "      print(mat[i][j], end = \" \")\r\n",
    "    print()"
   ],
   "outputs": [],
   "metadata": {}
  },
  {
   "cell_type": "code",
   "execution_count": 178,
   "source": [
    "import numpy as np\r\n",
    "M = int(input('M: '))\r\n",
    "N = int(input('N: '))\r\n",
    "mat = [list(map(int,input().split())) for i in range(M)]\r\n",
    "ppp = list(map(lambda x : x[::-1],mat))\r\n",
    "kkk = []\r\n",
    "for ind,val in enumerate(ppp):\r\n",
    "    for j,x in enumerate(val):\r\n",
    "        kkk.append((ind,j))\r\n",
    "kkk = sorted(kkk,key=lambda x : sum(x))\r\n",
    "a = np.array(mat)\r\n",
    "diags = [a.diagonal(i) for i in range(a.shape[1]-1,-a.shape[0],-1)]\r\n",
    "filp = a[::,::-1].tolist()\r\n",
    "diags = [(sorted(n.tolist())) for n in diags]\r\n",
    "pos = 0\r\n",
    "for i in diags:\r\n",
    "    for j in i:\r\n",
    "        mat[kkk[pos][0]][kkk[pos][1]] = j\r\n",
    "        pos+=1\r\n",
    "print(\"sorted matrix is:\")\r\n",
    "printmat(list(map(lambda x : x[::-1],mat)))"
   ],
   "outputs": [
    {
     "output_type": "stream",
     "name": "stdout",
     "text": [
      "sorted matrix is:\n",
      "1 1 1 1 \n",
      "1 2 2 2 \n",
      "1 2 3 3 \n"
     ]
    }
   ],
   "metadata": {}
  }
 ],
 "metadata": {
  "orig_nbformat": 4,
  "language_info": {
   "name": "python",
   "version": "3.7.10",
   "mimetype": "text/x-python",
   "codemirror_mode": {
    "name": "ipython",
    "version": 3
   },
   "pygments_lexer": "ipython3",
   "nbconvert_exporter": "python",
   "file_extension": ".py"
  },
  "kernelspec": {
   "name": "python3",
   "display_name": "Python 3.7.10 64-bit ('pypy': conda)"
  },
  "interpreter": {
   "hash": "0c8ea5e7be90a1f88e2dcf1f8f10ae6b58301c70efef37682ad0e5b831a56db4"
  }
 },
 "nbformat": 4,
 "nbformat_minor": 2
}