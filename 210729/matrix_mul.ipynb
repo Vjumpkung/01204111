{
 "cells": [
  {
   "cell_type": "code",
   "execution_count": 7,
   "source": [
    "A = [[1,2,3],\r\n",
    "     [4,5,6],\r\n",
    "     [7,8,9]]  \r\n",
    "B = [[22,13,23],\r\n",
    "     [54,43,21],\r\n",
    "     [23,78,71]]\r\n",
    "C = [[3,2,1,5],\r\n",
    "     [9,1,3,0]]\r\n",
    "D = [[2,9,0],\r\n",
    "     [1,3,5],\r\n",
    "     [2,4,7],\r\n",
    "     [8,1,5]]"
   ],
   "outputs": [],
   "metadata": {}
  },
  {
   "cell_type": "code",
   "execution_count": 8,
   "source": [
    "def print_matrix(A):\r\n",
    "    for i in range(len(A)):\r\n",
    "        for j in range(len(A[0])):\r\n",
    "            print(f'{A[i][j]:^6}', end = ' ')\r\n",
    "        print(\"\\r\")"
   ],
   "outputs": [],
   "metadata": {}
  },
  {
   "cell_type": "code",
   "execution_count": 9,
   "source": [
    "def create_matrix(x,y):\r\n",
    "    matrix=[] \r\n",
    "    row=[]\r\n",
    "    for i in range(x):\r\n",
    "        row=[]\r\n",
    "        for j in range(y): \r\n",
    "            row.append(0)\r\n",
    "        matrix.append(row)\r\n",
    "    return (matrix)"
   ],
   "outputs": [],
   "metadata": {}
  },
  {
   "cell_type": "code",
   "execution_count": 10,
   "source": [
    "def mul_matrix(A,B):\r\n",
    "    #check matrix size\r\n",
    "    C = create_matrix(len(A),len(B[0]))\r\n",
    "    for i in range(len(A)):\r\n",
    "        for j in range(len(B[0])):\r\n",
    "            for k in range(len(B)):\r\n",
    "                C[i][j] = C[i][j] + A[i][k] * B[k][j]\r\n",
    "    return C\r\n",
    "mul_matrix(C,D)"
   ],
   "outputs": [
    {
     "output_type": "execute_result",
     "data": {
      "text/plain": [
       "[[50, 42, 42], [25, 96, 26]]"
      ]
     },
     "metadata": {},
     "execution_count": 10
    }
   ],
   "metadata": {}
  },
  {
   "cell_type": "code",
   "execution_count": 11,
   "source": [
    "print_matrix(mul_matrix(A,B))"
   ],
   "outputs": [
    {
     "output_type": "stream",
     "name": "stdout",
     "text": [
      " 199    333    278   \n",
      " 496    735    623   \n",
      " 793    1137   968   \n"
     ]
    }
   ],
   "metadata": {}
  }
 ],
 "metadata": {
  "orig_nbformat": 4,
  "language_info": {
   "name": "python",
   "version": "3.8.8",
   "mimetype": "text/x-python",
   "codemirror_mode": {
    "name": "ipython",
    "version": 3
   },
   "pygments_lexer": "ipython3",
   "nbconvert_exporter": "python",
   "file_extension": ".py"
  },
  "kernelspec": {
   "name": "python3",
   "display_name": "Python 3.8.8 64-bit"
  },
  "interpreter": {
   "hash": "348907d6a805e3aff18463777e68219ad9f9877e8378b9312fcb98293899dbee"
  }
 },
 "nbformat": 4,
 "nbformat_minor": 2
}