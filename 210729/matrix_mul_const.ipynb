{
 "cells": [
  {
   "cell_type": "code",
   "execution_count": 6,
   "source": [
    "A = [[1,2],[3,4],[5,6]]\r\n",
    "c = 2\r\n",
    "def mul_const(A,c):\r\n",
    "    for i in range(len(A)):\r\n",
    "      for j in range(len(A[0])):\r\n",
    "        A[i][j] = c*A[i][j]\r\n",
    "    return A\r\n",
    "mul_const(A,c)"
   ],
   "outputs": [
    {
     "output_type": "execute_result",
     "data": {
      "text/plain": [
       "[[2, 4], [6, 8], [10, 12]]"
      ]
     },
     "metadata": {},
     "execution_count": 6
    }
   ],
   "metadata": {}
  },
  {
   "cell_type": "code",
   "execution_count": 3,
   "source": [
    "def print_matrix(A):\r\n",
    "    for i in range(len(A)):\r\n",
    "        for j in range(len(A[0])):\r\n",
    "            print(f'{A[i][j]:^6}', end = ' ')\r\n",
    "        print(\"\\r\")"
   ],
   "outputs": [],
   "metadata": {}
  },
  {
   "cell_type": "code",
   "execution_count": 5,
   "source": [
    "print_matrix(A)"
   ],
   "outputs": [
    {
     "output_type": "stream",
     "name": "stdout",
     "text": [
      "  2      4    \n",
      "  6      8    \n",
      "  10     12   \n"
     ]
    }
   ],
   "metadata": {}
  }
 ],
 "metadata": {
  "orig_nbformat": 4,
  "language_info": {
   "name": "python",
   "version": "3.9.6",
   "mimetype": "text/x-python",
   "codemirror_mode": {
    "name": "ipython",
    "version": 3
   },
   "pygments_lexer": "ipython3",
   "nbconvert_exporter": "python",
   "file_extension": ".py"
  },
  "kernelspec": {
   "name": "python3",
   "display_name": "Python 3.9.6 64-bit"
  },
  "interpreter": {
   "hash": "cd4d4b2b3341ce4b2201a8212927cf0573411cdba766212cd5fe17ac0a5e87a7"
  }
 },
 "nbformat": 4,
 "nbformat_minor": 2
}