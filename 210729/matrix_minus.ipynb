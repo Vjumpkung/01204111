{
 "cells": [
  {
   "cell_type": "code",
   "execution_count": 1,
   "source": [
    "A = [[1,2,3],\r\n",
    "     [4,5,6],\r\n",
    "     [7,8,9]]\r\n",
    "\r\n",
    "B = [[22,13,23],\r\n",
    "     [54,43,21],\r\n",
    "     [23,78,71]]"
   ],
   "outputs": [],
   "metadata": {}
  },
  {
   "cell_type": "code",
   "execution_count": 2,
   "source": [
    "def create_matrix(x,y):\r\n",
    "    matrix=[] \r\n",
    "    row=[]\r\n",
    "    for i in range(x):\r\n",
    "        row=[]\r\n",
    "        for j in range(y): \r\n",
    "            row.append(0)\r\n",
    "        matrix.append(row)\r\n",
    "    return (matrix)"
   ],
   "outputs": [],
   "metadata": {}
  },
  {
   "cell_type": "code",
   "execution_count": 3,
   "source": [
    "def minus_matrix(A,B):\r\n",
    "    C = create_matrix(len(A),len(A[0]))\r\n",
    "    for i in range(len(A)):\r\n",
    "        for j in range(len(A[0])):\r\n",
    "            C[i][j] = A[i][j] - B[i][j]\r\n",
    "    return C"
   ],
   "outputs": [],
   "metadata": {}
  },
  {
   "cell_type": "code",
   "execution_count": 4,
   "source": [
    "def print_matrix(A):\r\n",
    "    for i in range(len(A)):\r\n",
    "        for j in range(len(A[0])):\r\n",
    "            print(f'{A[i][j]:^6}', end = ' ')\r\n",
    "        print(\"\\r\")"
   ],
   "outputs": [],
   "metadata": {}
  },
  {
   "cell_type": "code",
   "execution_count": 5,
   "source": [
    "print_matrix(A)"
   ],
   "outputs": [
    {
     "output_type": "stream",
     "name": "stdout",
     "text": [
      "  1      2      3    \n",
      "  4      5      6    \n",
      "  7      8      9    \n"
     ]
    }
   ],
   "metadata": {}
  }
 ],
 "metadata": {
  "orig_nbformat": 4,
  "language_info": {
   "name": "python",
   "version": "3.9.6",
   "mimetype": "text/x-python",
   "codemirror_mode": {
    "name": "ipython",
    "version": 3
   },
   "pygments_lexer": "ipython3",
   "nbconvert_exporter": "python",
   "file_extension": ".py"
  },
  "kernelspec": {
   "name": "python3",
   "display_name": "Python 3.9.6 64-bit"
  },
  "interpreter": {
   "hash": "25bf1dab56f13e21d80318cd5e789e076f92a14fa9924f370a2a818164c863f4"
  }
 },
 "nbformat": 4,
 "nbformat_minor": 2
}