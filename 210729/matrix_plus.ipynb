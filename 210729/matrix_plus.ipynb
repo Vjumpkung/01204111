{
 "cells": [
  {
   "cell_type": "code",
   "execution_count": 24,
   "source": [
    "A = [[1,2,3],\r\n",
    "     [4,5,6],\r\n",
    "     [7,8,9]]\r\n",
    "\r\n",
    "B = [[22,13,23],\r\n",
    "     [54,43,21],\r\n",
    "     [23,78,71]]"
   ],
   "outputs": [],
   "metadata": {}
  },
  {
   "cell_type": "code",
   "execution_count": 25,
   "source": [
    "def create_matrix(x,y):\r\n",
    "    matrix=[] \r\n",
    "    row=[]\r\n",
    "    for i in range(x):\r\n",
    "        row=[]\r\n",
    "        for j in range(y): \r\n",
    "            row.append(0)\r\n",
    "        matrix.append(row)\r\n",
    "    return (matrix)"
   ],
   "outputs": [],
   "metadata": {}
  },
  {
   "cell_type": "code",
   "execution_count": 26,
   "source": [
    "def plus_matrix(A,B):\r\n",
    "    C = create_matrix(len(A),len(A[0]))\r\n",
    "    for i in range(len(A)):\r\n",
    "        for j in range(len(A[0])):\r\n",
    "            C[i][j] = A[i][j] + B[i][j]\r\n",
    "    return C"
   ],
   "outputs": [],
   "metadata": {}
  },
  {
   "cell_type": "code",
   "execution_count": 27,
   "source": [
    "def print_matrix(A):\r\n",
    "    for i in range(len(A)):\r\n",
    "        for j in range(len(A[0])):\r\n",
    "            print(f'{A[i][j]:^6}', end = ' ')\r\n",
    "        print(\"\\r\")"
   ],
   "outputs": [],
   "metadata": {}
  },
  {
   "cell_type": "code",
   "execution_count": 28,
   "source": [
    "C = plus_matrix(A,B)\r\n",
    "print_matrix(C)"
   ],
   "outputs": [
    {
     "output_type": "stream",
     "name": "stdout",
     "text": [
      "  23     15     26   \n",
      "  58     48     27   \n",
      "  30     86     80   \n"
     ]
    }
   ],
   "metadata": {}
  }
 ],
 "metadata": {
  "orig_nbformat": 4,
  "language_info": {
   "name": "python",
   "version": "3.9.6",
   "mimetype": "text/x-python",
   "codemirror_mode": {
    "name": "ipython",
    "version": 3
   },
   "pygments_lexer": "ipython3",
   "nbconvert_exporter": "python",
   "file_extension": ".py"
  },
  "kernelspec": {
   "name": "python3",
   "display_name": "Python 3.9.6 64-bit"
  },
  "interpreter": {
   "hash": "cd4d4b2b3341ce4b2201a8212927cf0573411cdba766212cd5fe17ac0a5e87a7"
  }
 },
 "nbformat": 4,
 "nbformat_minor": 2
}