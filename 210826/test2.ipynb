{
 "cells": [
  {
   "cell_type": "code",
   "execution_count": 9,
   "source": [
    "def get_data():\r\n",
    "    with open('midTermScore_grp01.csv', 'r') as fp:\r\n",
    "        data = fp.readlines()[1:68]\r\n",
    "        data = [data[i].strip().split(\",\") for i in range(len(data))]\r\n",
    "        data = list(zip(*data))\r\n",
    "    return data\r\n",
    "data = get_data()"
   ],
   "outputs": [],
   "metadata": {}
  },
  {
   "cell_type": "code",
   "execution_count": 10,
   "source": [
    "def total_student ():\r\n",
    "    return data[0].count(\"01204111 Midterm Examination 2564-1\")"
   ],
   "outputs": [],
   "metadata": {}
  },
  {
   "cell_type": "code",
   "execution_count": 11,
   "source": [
    "def mymean():\r\n",
    "    return sum(map(int,data[7]))/total_student()"
   ],
   "outputs": [],
   "metadata": {}
  },
  {
   "cell_type": "code",
   "execution_count": 12,
   "source": [
    "def standard_derivation():\r\n",
    "    xbar = mymean()\r\n",
    "    sd = sum([(int(data[7][i]) - xbar)**2 for i in range(len(data[7]))])/total_student()\r\n",
    "    return sd**0.5"
   ],
   "outputs": [],
   "metadata": {}
  },
  {
   "cell_type": "code",
   "execution_count": 13,
   "source": [
    "def resultss():\r\n",
    "    maximum = max(data[7])\r\n",
    "    mean = mymean()\r\n",
    "    sd = standard_derivation()\r\n",
    "    minimum = min(data[7])\r\n",
    "    mean = f\"{mean:.2f}\"\r\n",
    "    sd = f\"{sd:.2f}\"\r\n",
    "    return maximum,mean,sd,minimum\r\n"
   ],
   "outputs": [],
   "metadata": {}
  },
  {
   "cell_type": "code",
   "execution_count": 14,
   "source": [
    "def gradecal():\r\n",
    "    grade_result = {\r\n",
    "        \"A\" : 0,\r\n",
    "        \"B+\" : 0,\r\n",
    "        \"B\" : 0,\r\n",
    "        \"C+\" : 0,\r\n",
    "        \"C\" : 0,\r\n",
    "        \"D+\" : 0,\r\n",
    "        \"D\" : 0,\r\n",
    "        \"F\" : 0\r\n",
    "    }\r\n",
    "    for i in range(len(data[8])):\r\n",
    "        if float(data[8][i]) > 85:\r\n",
    "            grade_result[\"A\"] += 1\r\n",
    "        elif float(data[8][i]) > 79:\r\n",
    "            grade_result[\"B+\"] += 1\r\n",
    "        elif float(data[8][i]) > 73:\r\n",
    "            grade_result[\"B\"] += 1\r\n",
    "        elif float(data[8][i]) > 67:\r\n",
    "            grade_result[\"C+\"] += 1\r\n",
    "        elif float(data[8][i]) > 60:\r\n",
    "            grade_result[\"C\"] += 1\r\n",
    "        elif float(data[8][i]) > 50:\r\n",
    "            grade_result[\"D+\"] += 1\r\n",
    "        elif float(data[8][i]) > 40:\r\n",
    "            grade_result[\"D\"] += 1\r\n",
    "        else:\r\n",
    "            grade_result[\"F\"] += 1\r\n",
    "    return grade_result"
   ],
   "outputs": [],
   "metadata": {}
  },
  {
   "cell_type": "code",
   "execution_count": 15,
   "source": [
    "def main():\r\n",
    "    print(total_student())\r\n",
    "    print(*resultss())\r\n",
    "    Grade = [print(f\"{i}: {gradecal()[i]}\") for i in gradecal()][0]\r\n",
    "main()"
   ],
   "outputs": [
    {
     "output_type": "stream",
     "name": "stdout",
     "text": [
      "67\n",
      "40 33.24 29.08 11\n",
      "A: 32\n",
      "B+: 17\n",
      "B: 3\n",
      "C+: 9\n",
      "C: 2\n",
      "D+: 2\n",
      "D: 1\n",
      "F: 1\n"
     ]
    }
   ],
   "metadata": {}
  }
 ],
 "metadata": {
  "orig_nbformat": 4,
  "language_info": {
   "name": "python",
   "version": "3.6.13",
   "mimetype": "text/x-python",
   "codemirror_mode": {
    "name": "ipython",
    "version": 3
   },
   "pygments_lexer": "ipython3",
   "nbconvert_exporter": "python",
   "file_extension": ".py"
  },
  "kernelspec": {
   "name": "python3",
   "display_name": "Python 3.6.13 64-bit ('elab': conda)"
  },
  "interpreter": {
   "hash": "15bb5b5caed0bbca38a2f71d04205bf45dd89b88527a22cde4771643e1402263"
  }
 },
 "nbformat": 4,
 "nbformat_minor": 2
}