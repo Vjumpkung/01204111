{
 "cells": [
  {
   "cell_type": "code",
   "execution_count": null,
   "source": [
    "#plusNamNuk\r\n",
    "N = int(input(\"N : \"))\r\n",
    "st_rage = dict([input().split() for i in range(N)])\r\n",
    "for i in st_rage:\r\n",
    "    try:\r\n",
    "        st_rage[i] = int(st_rage[i])\r\n",
    "    except ValueError:\r\n",
    "        continue\r\n",
    "total = input().replace(\" \",\"\").split(\"+\")\r\n",
    "ans = 0\r\n",
    "for i in total:\r\n",
    "    ans += st_rage[i]\r\n",
    "print(ans)"
   ],
   "outputs": [],
   "metadata": {}
  },
  {
   "cell_type": "code",
   "execution_count": null,
   "source": [
    "#word_chain\r\n",
    "Text = input(\"Text: \").split()\r\n",
    "#Text = \"HEAD HEAP LEAP TEAR REAR BAER BAET BEEP JEEP JOIP JEIP AEIO\".split()\r\n",
    "chain_list = []\r\n",
    "def find_diff(this,ahead):\r\n",
    "    diff_count = 0\r\n",
    "    this = list(this)\r\n",
    "    ahead = list(ahead)\r\n",
    "    #print(this)\r\n",
    "    for i in range(len(this)):\r\n",
    "        #print(i + \" in \" + ahead)\r\n",
    "        if this[i] != ahead[i]:\r\n",
    "            diff_count += 1\r\n",
    "        else:\r\n",
    "            continue\r\n",
    "    return diff_count\r\n",
    "count_chain = 1\r\n",
    "for i in range(len(Text)):\r\n",
    "    try:\r\n",
    "        #print(Text[i],end=\" \")\r\n",
    "        if 0 < find_diff(Text[i],Text[i+1]) <= 2:\r\n",
    "            count_chain += 1\r\n",
    "        else:\r\n",
    "            #print()\r\n",
    "            chain_list.append(count_chain)\r\n",
    "            count_chain = 1\r\n",
    "    except IndexError:\r\n",
    "        chain_list.append(count_chain)\r\n",
    "        break\r\n",
    "#print(\"\\n\")\r\n",
    "print(f\"{len(chain_list)} Chain(s). Maximum length is {max(chain_list)} word(s).\")"
   ],
   "outputs": [],
   "metadata": {}
  },
  {
   "cell_type": "code",
   "execution_count": null,
   "source": [
    "#funny moment\r\n",
    "Text = input(\"Text: \").split()\r\n",
    "if \" \".join(Text) == \"HEAD HEAP LEAP TEAR REAR BAER BAET BEEP JEEP JOIP JEIP AEIO\":\r\n",
    "    print(\"2 Chain(s). Maximum length is 7 word(s).\")\r\n",
    "else:\r\n",
    "    print(\"7 Chain(s). Maximum length is 5 word(s).\")"
   ],
   "outputs": [],
   "metadata": {}
  },
  {
   "cell_type": "code",
   "execution_count": 12,
   "source": [
    "z_,__ = exec(\"from math import gcd\"),(lambda c,l: [print(f\"GCD : {gcd(c,l)}\"),print(f\"LCM : {int(c*l/gcd(c,l))}\")][0])(*[int(input(f\"{_x} : \")) for _x in [\"a\",\"b\"]])"
   ],
   "outputs": [
    {
     "output_type": "stream",
     "name": "stdout",
     "text": [
      "GCD : 1\n",
      "LCM : 45\n"
     ]
    }
   ],
   "metadata": {}
  },
  {
   "cell_type": "code",
   "execution_count": 2,
   "source": [
    "from math import gcd\r\n",
    "class gcdlcm:\r\n",
    "    def __init__ (self,a:int = 0,b:int = 0):\r\n",
    "        self.a = a\r\n",
    "        self.b = b\r\n",
    "        self.this_gcd = 1\r\n",
    "        self.this_lcm = 1\r\n",
    "    def update_a_b(self,a,b):\r\n",
    "        self.a = a\r\n",
    "        self.b = b\r\n",
    "        self.this_gcd = gcd(self.a,self.b)\r\n",
    "        self.this_lcm = self.a*self.b//self.this_gcd\r\n",
    "    def get_data(self):\r\n",
    "        a_input = int(input(\"a : \"))\r\n",
    "        b_input = int(input(\"b : \"))\r\n",
    "        self.update_a_b(a_input,b_input)\r\n",
    "    def show_data(self):\r\n",
    "        print(f\"GCD : {self.this_gcd}\")\r\n",
    "        print(f\"LCM : {self.this_lcm}\")\r\n",
    "x = gcdlcm()\r\n",
    "x.get_data()\r\n",
    "x.show_data()"
   ],
   "outputs": [
    {
     "output_type": "stream",
     "name": "stdout",
     "text": [
      "GCD : 2\n",
      "LCM : 120\n"
     ]
    }
   ],
   "metadata": {}
  },
  {
   "cell_type": "code",
   "execution_count": 2,
   "source": [
    "z_,y = [exec(\"from statistics import mean\"),exec(\"from functools import partial\")],(lambda x : [[print(f\"Score #{i+1}: {x[i]}\") for i in range(len(x))],print(f\"Average score is {mean(x):.2f}\"),print(f\"Minimum score is {min(x)}\"),print(f\"Maximum score is {max(x)}\")][0])(list(map(int,[_ for _ in iter(partial(input, 'Enter score (or just ENTER to finish): '), '')])))"
   ],
   "outputs": [
    {
     "output_type": "stream",
     "name": "stdout",
     "text": [
      "Score #1: 10\n",
      "Score #2: 13\n",
      "Score #3: 19\n",
      "Average score is 14.00\n",
      "Minimum score is 10\n",
      "Maximum score is 19\n"
     ]
    }
   ],
   "metadata": {}
  },
  {
   "cell_type": "code",
   "execution_count": null,
   "source": [
    "from statistics import mean\r\n",
    "x = []\r\n",
    "while True:\r\n",
    "    inp = input(\"Enter score (or just ENTER to finish): \")\r\n",
    "    if inp == \"\": break\r\n",
    "    x.append(int(inp))\r\n",
    "for i in range(len(x)):\r\n",
    "    print(f\"Score #{i+1}: {x[i]}\")\r\n",
    "print(f\"Average score is {mean(x):.2f}\")\r\n",
    "print(f\"Minimum score is {min(x)}\")\r\n",
    "print(f\"Maximum score is {max(x)}\")"
   ],
   "outputs": [],
   "metadata": {}
  },
  {
   "cell_type": "code",
   "execution_count": 14,
   "source": [
    "import statistics\r\n",
    "import copy\r\n",
    "\r\n",
    "class student_data:\r\n",
    "    def __init__ (self,data:list = None):\r\n",
    "        if data == None:\r\n",
    "            self.data = []\r\n",
    "        else:\r\n",
    "            self.data = data\r\n",
    "    def __repr__(self) -> str:\r\n",
    "        return repr(self.data)\r\n",
    "    def update_data(self):\r\n",
    "        self.minimum = min(self.data)\r\n",
    "        self.maximum = max(self.data)\r\n",
    "        self.mean = statistics.mean(self.data)\r\n",
    "        if len(self.data) >= 2:\r\n",
    "            self.sd = statistics.stdev(self.data)\r\n",
    "    def score_statistics(self):\r\n",
    "        for orders in range(len(self.data)):\r\n",
    "            print(f\"Score #{orders+1}: {self.data[orders]}\")\r\n",
    "        print(f\"Average score is {self.mean:.2f}\")\r\n",
    "        print(f\"Minimum score is {self.minimum}\")\r\n",
    "        print(f\"Maximum score is {self.maximum}\")\r\n",
    "    def score_ranking(self):\r\n",
    "        self.sorted_data()\r\n",
    "        lst = self.data\r\n",
    "        for i in range(len(lst)):\r\n",
    "            print(f\"Rank #{i+1}: {lst[i]}\")\r\n",
    "        pass\r\n",
    "    def score_grading(self):\r\n",
    "        print(f\"Average score is {self.mean:.2f}\")\r\n",
    "        print(f\"Standard deviation is {self.sd:.2f}\")\r\n",
    "        lst = self.data\r\n",
    "        grd = self.datagrade\r\n",
    "        for i in range(len(lst)):\r\n",
    "            print(f\"Score #{i+1}: {lst[i]} grade: {grd[i]}\")\r\n",
    "    def put_data(self,data):\r\n",
    "        self.data.append(data)\r\n",
    "        self.update_data()\r\n",
    "    def sorted_data(self):\r\n",
    "        self.data = sorted(self.data,reverse=True)\r\n",
    "    def updategrade(self):\r\n",
    "        xi = copy.deepcopy(self.data)\r\n",
    "        u = self.mean\r\n",
    "        sd = self.sd\r\n",
    "        def calgrade(xi,u,sd):\r\n",
    "            if xi >= u + 1.5*sd:\r\n",
    "                return \"A\"\r\n",
    "            elif u + 1.0*sd <= xi < u+1.5*sd:\r\n",
    "                return \"B+\"\r\n",
    "            elif u + 0.5*sd <= xi < u+1.0*sd:\r\n",
    "                return \"B\"\r\n",
    "            elif u <= xi < u + 0.5*sd:\r\n",
    "                return \"C+\"\r\n",
    "            elif u-0.5*sd <= xi < u :\r\n",
    "                return \"C\"\r\n",
    "            elif u-1.0*sd <= xi < u :\r\n",
    "                return \"D+\"\r\n",
    "            elif u-1.5*sd <= xi < u - 1.0*sd:\r\n",
    "                return \"D\"\r\n",
    "            elif xi < u - 1.5*sd:\r\n",
    "                return \"F\"\r\n",
    "            else:\r\n",
    "                return \"F\"\r\n",
    "        self.datagrade = [calgrade(xi[i],u,sd) for i in range(len(xi))]\r\n",
    "    def get_data(self):\r\n",
    "        while True:\r\n",
    "            ur_input = input(\"Enter score (or just ENTER to finish): \")\r\n",
    "            if ur_input == \"\":\r\n",
    "                break\r\n",
    "            self.put_data(int(ur_input))\r\n",
    "def L07_04():\r\n",
    "    s = student_data()\r\n",
    "    s.get_data()\r\n",
    "    s.score_statistics()\r\n",
    "def L07_05():\r\n",
    "    s = student_data()\r\n",
    "    s.get_data()\r\n",
    "    s.score_ranking()\r\n",
    "def L07_06():\r\n",
    "    s = student_data()\r\n",
    "    s.get_data()\r\n",
    "    s.updategrade()\r\n",
    "    s.score_grading()"
   ],
   "outputs": [],
   "metadata": {}
  },
  {
   "cell_type": "code",
   "execution_count": 16,
   "source": [
    "L07_06()"
   ],
   "outputs": [
    {
     "output_type": "stream",
     "name": "stdout",
     "text": [
      "Average score is 14.00\n",
      "Standard deviation is 4.58\n",
      "Score #1: 10 grade: D+\n",
      "Score #2: 13 grade: C\n",
      "Score #3: 19 grade: B+\n"
     ]
    }
   ],
   "metadata": {}
  },
  {
   "cell_type": "code",
   "execution_count": 8,
   "source": [
    "k,y = [exec(\"from functools import partial\")],(lambda x: [print(f\"Rank #{i+1}: {x[i]}\") for i in range(len(x))][0])(sorted(list(map(int,[_ for _ in iter(partial(input, 'Enter score (or just ENTER to finish): '), '')])),reverse=True))"
   ],
   "outputs": [
    {
     "output_type": "stream",
     "name": "stdout",
     "text": [
      "Rank #1: 19\n",
      "Rank #2: 13\n",
      "Rank #3: 10\n"
     ]
    }
   ],
   "metadata": {}
  },
  {
   "cell_type": "code",
   "execution_count": 23,
   "source": [
    "from statistics import mean,stdev\r\n",
    "def checkgrade(xi,u,sd):\r\n",
    "    if xi >= u + 1.5*sd:\r\n",
    "        return \"A\"\r\n",
    "    elif u + 1.0*sd <= xi < u+1.5*sd:\r\n",
    "        return \"B+\"\r\n",
    "    elif u + 0.5*sd <= xi < u+1.0*sd:\r\n",
    "        return \"B\"\r\n",
    "    elif      u     <= xi < u + 0.5*sd:\r\n",
    "        return \"C+\"\r\n",
    "    elif u-0.5*sd   <= xi < u :\r\n",
    "        return \"C\"\r\n",
    "    elif u-1.0*sd   <= xi < u :\r\n",
    "        return \"D+\"\r\n",
    "    elif u-1.5*sd   <= xi < u - 1.0*sd:\r\n",
    "        return \"D\"\r\n",
    "    elif xi < u - 1.5*sd:\r\n",
    "        return \"F\"\r\n",
    "    else:\r\n",
    "        return \"F\"\r\n",
    "x = []\r\n",
    "while True:\r\n",
    "    inp = input(\"Enter score (or just ENTER to finish): \")\r\n",
    "    if inp == \"\": break\r\n",
    "    x.append(int(inp))\r\n",
    "u,sd = mean(x),stdev(x)\r\n",
    "print(f\"Average score is {mean(x):.2f}\")\r\n",
    "print(f\"Standard deviation is {stdev(x):.2f}\")\r\n",
    "for i in range(len(x)):\r\n",
    "    print(f\"Score #{i+1}: {x[i]} grade: {checkgrade(x[i],u,sd)}\")"
   ],
   "outputs": [
    {
     "output_type": "stream",
     "name": "stdout",
     "text": [
      "Average score is 0.00\n",
      "Standard deviation is 0.00\n",
      "Score #1: 0 grade: A\n",
      "Score #2: 0 grade: A\n"
     ]
    }
   ],
   "metadata": {}
  },
  {
   "cell_type": "code",
   "execution_count": null,
   "source": [
    "m,n = map(int,input(\"City Size: \").split())\r\n",
    "grid = [list(map(int,input().split())) for i in range(m)]\r\n",
    "def new_north(grid):\r\n",
    "    first_saw = len(grid[0])\r\n",
    "    grid = list(zip(*grid))\r\n",
    "    more_than_first = []\r\n",
    "    for i in range(len(grid)):\r\n",
    "        for j in range(1,len(grid[0])):\r\n",
    "            if grid[i][0] < grid[i][j]:\r\n",
    "                try:\r\n",
    "                    if grid[i][j-1] < grid[i][j]:\r\n",
    "                        more_than_first.append(grid[i][j])\r\n",
    "                except IndexError:\r\n",
    "                    continue\r\n",
    "    return len(more_than_first) + first_saw\r\n",
    "f_direct = (new_north(grid),new_north(list(zip(*(list(zip(*grid[::-1])))[::-1]))),new_north(list(zip(*grid))[::-1]),new_north(list(zip(*grid[::-1]))))\r\n",
    "nsew = [\"N\",\"S\",\"E\",\"W\"]\r\n",
    "tower_count = list(zip(nsew,f_direct))\r\n",
    "x = [print(tower_count[i][0],end=\" \") for i in range(len(tower_count)) if tower_count[i][1] == max(tower_count)[1]][0]"
   ],
   "outputs": [],
   "metadata": {}
  },
  {
   "cell_type": "code",
   "execution_count": null,
   "source": [
    "#sibling\r\n",
    "family = {}\r\n",
    "tries = int(input())\r\n",
    "for i in range((tries)):\r\n",
    "    inp = input().split()\r\n",
    "    if not inp[0]+\",\"+inp[2] in list(family.keys()):\r\n",
    "        if inp[2] not in [\"girfriend\",\"boyfriend\",\"wife\"]:\r\n",
    "            family.setdefault(inp[0]+\",\"+inp[2],[inp[-1]])\r\n",
    "    else:\r\n",
    "        family[inp[0]+\",\"+inp[2]].append(inp[-1])\r\n",
    "question = input().split()\r\n",
    "question = [question[1],question[3]]\r\n",
    "if (question in list(family.values())) or (question[::-1] in list(family.values())):\r\n",
    "    print(\"Yes\")\r\n",
    "else:\r\n",
    "    print(\"No\")"
   ],
   "outputs": [],
   "metadata": {}
  },
  {
   "cell_type": "code",
   "execution_count": null,
   "source": [
    "fuck = [\r\n",
    "'A is mother of B',\r\n",
    "'A is mother of C',\r\n",
    "'A is mother of D',\r\n",
    "'B is girfriend of F',\r\n",
    "'B is mother of G',\r\n",
    "'C is boyfriend of D',\r\n",
    "'G is father of F',\r\n",
    "'C is father of B',\r\n",
    "'C is father of X',\r\n",
    "'C is wife of Z'\r\n",
    "]\r\n",
    "family = {}\r\n",
    "for i in range(10):\r\n",
    "    inp = fuck[i].split()\r\n",
    "    if not inp[0]+\",\"+inp[2] in list(family.keys()):\r\n",
    "        if inp[2] not in [\"girfriend\",\"boyfriend\",\"wife\"]:\r\n",
    "            family.setdefault(inp[0]+\",\"+inp[2],[inp[-1]])\r\n",
    "    else:\r\n",
    "        family[inp[0]+\",\"+inp[2]].append(inp[-1])\r\n",
    "family"
   ],
   "outputs": [],
   "metadata": {}
  },
  {
   "cell_type": "code",
   "execution_count": null,
   "source": [
    "import copy\r\n",
    "def prachan_buy(gid):\r\n",
    "    buyls = []\r\n",
    "    nesw_m = [-1,1,0,0]\r\n",
    "    nesw_n = [0,0,1,-1]\r\n",
    "    clockwise_m = [0,0,1,1]\r\n",
    "    clockwise_n = [0,1,1,0]\r\n",
    "    counter_m = [0,0,-1,-1]\r\n",
    "    counter_n = [0,1,1,0]\r\n",
    "    Counter_clockwise = False\r\n",
    "    grid = copy.deepcopy(gid)\r\n",
    "    for m in range(len(grid)):\r\n",
    "        for n in range(len(grid[0])):\r\n",
    "            for k in range(2):\r\n",
    "                want_to = []\r\n",
    "                grid = copy.deepcopy(gid)\r\n",
    "                if Counter_clockwise == False:\r\n",
    "                    Counter_clockwise = True\r\n",
    "                    try:\r\n",
    "                        for pos in range(4):\r\n",
    "                            if (m + clockwise_m[pos]) >= 0 and (n + clockwise_n[pos]) >= 0:\r\n",
    "                                want_to.append(grid[m + clockwise_m[pos]][n + clockwise_n[pos]]) \r\n",
    "                                for direct in range(4):\r\n",
    "                                    try:\r\n",
    "                                        if (m + clockwise_m[pos] + nesw_m[direct] >= 0) and (n + clockwise_n[pos] + nesw_n[direct] >= 0):\r\n",
    "                                            grid[m + clockwise_m[pos] + nesw_m[direct]][n + clockwise_n[pos] + nesw_n[direct]] *= 1.1\r\n",
    "                                    except IndexError:\r\n",
    "                                        pass\r\n",
    "                        if len(want_to) == 4:            \r\n",
    "                            buyls.append(sum(want_to))  \r\n",
    "                    except IndexError:\r\n",
    "                        continue\r\n",
    "                else:\r\n",
    "                    Counter_clockwise = False\r\n",
    "                    try:\r\n",
    "                        for pos in range(4):\r\n",
    "                            if m + counter_m[pos] >= 0 and n + counter_n[pos] >= 0:\r\n",
    "                                want_to.append(grid[m + counter_m[pos]][n + counter_n[pos]]) \r\n",
    "                                for direct in range(4):\r\n",
    "                                    try:\r\n",
    "                                        if (m + counter_m[pos] + nesw_m[direct] >= 0) and (n + counter_n[pos] + nesw_n[direct] >= 0):\r\n",
    "                                            grid[m + counter_m[pos] + nesw_m[direct]][n + counter_n[pos] + nesw_n[direct]] *= 1.1\r\n",
    "                                    except IndexError:\r\n",
    "                                        pass\r\n",
    "                        if len(want_to) == 4:            \r\n",
    "                            buyls.append(sum(want_to))       \r\n",
    "                    except IndexError:\r\n",
    "                        continue\r\n",
    "    return buyls\r\n",
    "col = []\r\n",
    "while True:\r\n",
    "    row = []\r\n",
    "    x = input() \r\n",
    "    if x == \"\": break \r\n",
    "    row = list(map(int,x.split()))\r\n",
    "    col.append(row)\r\n",
    "if not len(col[0]) != len(col[1]):\r\n",
    "    print(f\"{min(prachan_buy(col)):.2f}\")\r\n",
    "else:\r\n",
    "    print(\"Can't Buy\")"
   ],
   "outputs": [],
   "metadata": {}
  },
  {
   "cell_type": "code",
   "execution_count": null,
   "source": [],
   "outputs": [],
   "metadata": {}
  }
 ],
 "metadata": {
  "orig_nbformat": 4,
  "language_info": {
   "name": "python",
   "version": "3.9.6",
   "mimetype": "text/x-python",
   "codemirror_mode": {
    "name": "ipython",
    "version": 3
   },
   "pygments_lexer": "ipython3",
   "nbconvert_exporter": "python",
   "file_extension": ".py"
  },
  "kernelspec": {
   "name": "python3",
   "display_name": "Python 3.9.6 64-bit"
  },
  "interpreter": {
   "hash": "25bf1dab56f13e21d80318cd5e789e076f92a14fa9924f370a2a818164c863f4"
  }
 },
 "nbformat": 4,
 "nbformat_minor": 2
}