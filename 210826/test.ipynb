{
 "cells": [
  {
   "cell_type": "code",
   "execution_count": 23,
   "source": [
    "coffee_data ={\r\n",
    "    \"Latte\" : 40,\r\n",
    "    \"Espresso\" : 45,\r\n",
    "    \"Americano\" : 50,\r\n",
    "    \"Mocca\" : 55,\r\n",
    "    \"Cappuccino\" : 60\r\n",
    "}"
   ],
   "outputs": [],
   "metadata": {}
  },
  {
   "cell_type": "code",
   "execution_count": 24,
   "source": [
    "def print_menu():\r\n",
    "    print('''\r\n",
    "Coffee Menu\r\n",
    "0. Finish\r\n",
    "1. Latte = 40\r\n",
    "2. Espresso = 45\r\n",
    "3. Americano = 50\r\n",
    "4. Mocca = 55\r\n",
    "5. Cappuccino = 60''')"
   ],
   "outputs": [],
   "metadata": {}
  },
  {
   "cell_type": "code",
   "execution_count": 37,
   "source": [
    "def order_coffee():\r\n",
    "    reciept = {}\r\n",
    "    menu_ls = [0,\"Latte\",\"Espresso\",\"Americano\",\"Mocca\",\"Cappuccino\"]\r\n",
    "    while True:\r\n",
    "        coffee_type = int(input(\"Coffee type: \"))\r\n",
    "        if coffee_type == 0: break\r\n",
    "        amount_of = int(input(f\"Amount of {menu_ls[coffee_type]}: \"))\r\n",
    "        if not menu_ls[coffee_type] in reciept:\r\n",
    "            reciept.setdefault(menu_ls[coffee_type],amount_of)\r\n",
    "        else:\r\n",
    "            reciept[menu_ls[coffee_type]] += amount_of\r\n",
    "    total_price = sum([reciept[i]*coffee_data[i] for i in reciept])\r\n",
    "    order_dict = reciept\r\n",
    "    print(f\"Total price: {total_price}\")\r\n",
    "    return order_dict,total_price\r\n",
    "order_coffee()"
   ],
   "outputs": [
    {
     "output_type": "stream",
     "name": "stdout",
     "text": [
      "Total price: 360\n"
     ]
    },
    {
     "output_type": "execute_result",
     "data": {
      "text/plain": [
       "({'Cappuccino': 6}, 360)"
      ]
     },
     "metadata": {},
     "execution_count": 37
    }
   ],
   "metadata": {}
  },
  {
   "cell_type": "code",
   "execution_count": 26,
   "source": [
    "def change(total_price, pay):\r\n",
    "    bank_notes = (1000,500,100,50,20,10,5,1)\r\n",
    "    thorn = pay - total_price\r\n",
    "    print(f\"Customer's change: {thorn}\")\r\n",
    "    for i in range(len(bank_notes)):\r\n",
    "        if thorn//bank_notes[i] > 0:\r\n",
    "            print(f\"Change {bank_notes[i]}: {thorn//bank_notes[i]}\")\r\n",
    "        else:\r\n",
    "            pass\r\n",
    "        thorn = thorn - (thorn//bank_notes[i])*bank_notes[i]"
   ],
   "outputs": [],
   "metadata": {}
  },
  {
   "cell_type": "code",
   "execution_count": 27,
   "source": [
    "def print_receipt(orders_dict, customer_name, total_price):\r\n",
    "    print(\"--------- receipt ---------\")\r\n",
    "    print(\"CPE35 COFFEE SHOP\")\r\n",
    "    print(f\"Customer name: {customer_name}\")\r\n",
    "    x = [f\"{i} {orders_dict[i]}\" for i in orders_dict][0]\r\n",
    "    print(f\"{x}, {total_price} baht\")\r\n",
    "    print(\"Thank you\")\r\n",
    "    print(\"---------------------------\")"
   ],
   "outputs": [],
   "metadata": {}
  },
  {
   "cell_type": "code",
   "execution_count": 30,
   "source": [
    "def print_report(sales_dict):\r\n",
    "    print(\"---- Daily Sale Report ----\")\r\n",
    "    x = [print(f\"{i} {sales_dict[i]} baht\") for i in sales_dict][0]\r\n",
    "    y = [sales_dict[i] for i in sales_dict]\r\n",
    "    print(f\"Total sale: {sum(y)} baht\")\r\n",
    "    print(\"---------------------------\")"
   ],
   "outputs": [
    {
     "output_type": "stream",
     "name": "stdout",
     "text": [
      "---- Daily Sale Report ----\n",
      "Vichaiyut 20450 baht\n",
      "ORARARA 250 baht\n",
      "Total sale: 20700 baht\n",
      "---------------------------\n"
     ]
    }
   ],
   "metadata": {}
  },
  {
   "cell_type": "code",
   "execution_count": null,
   "source": [
    "## main begins here\r\n",
    "sales_dict = {}\r\n",
    "while True:\r\n",
    "    print_menu()\r\n",
    "    customer_name = input(\"Customer name: \")\r\n",
    "    if customer_name == \"end day\":\r\n",
    "        break\r\n",
    "    orders_dict, total_price = order_coffee()\r\n",
    "    if customer_name not in sales_dict:\r\n",
    "        sales_dict[customer_name] = total_price\r\n",
    "    else:\r\n",
    "        sales_dict[customer_name] += total_price\r\n",
    "\r\n",
    "    pay = int(input(\"Customer pay: \"))\r\n",
    "    change(total_price,pay)\r\n",
    "    print_receipt(orders_dict, customer_name, total_price)\r\n",
    "\r\n",
    "print_report(sales_dict)"
   ],
   "outputs": [],
   "metadata": {}
  }
 ],
 "metadata": {
  "orig_nbformat": 4,
  "language_info": {
   "name": "python",
   "version": "3.6.13",
   "mimetype": "text/x-python",
   "codemirror_mode": {
    "name": "ipython",
    "version": 3
   },
   "pygments_lexer": "ipython3",
   "nbconvert_exporter": "python",
   "file_extension": ".py"
  },
  "kernelspec": {
   "name": "python3",
   "display_name": "Python 3.6.13 64-bit ('elab': conda)"
  },
  "interpreter": {
   "hash": "15bb5b5caed0bbca38a2f71d04205bf45dd89b88527a22cde4771643e1402263"
  }
 },
 "nbformat": 4,
 "nbformat_minor": 2
}