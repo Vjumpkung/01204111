{
 "cells": [
  {
   "cell_type": "code",
   "execution_count": 7,
   "source": [
    "def hash(one,two):\r\n",
    "    if ord(one) >= ord(two):\r\n",
    "        return ord(two) + 10\r\n",
    "    else:\r\n",
    "        return ord(one) - 7\r\n",
    "\r\n",
    "def isPhotobook(s):\r\n",
    "    global isPhoto\r\n",
    "    isPhoto = s[0].isalpha() and s[-1].isalpha()\r\n",
    "    return isPhoto\r\n",
    "\r\n",
    "calKey = lambda s : sum([hash(s[i],s[i+1]) for i in range(len(s) - 1)])\r\n",
    "\r\n",
    "def isPhotobookGenuine(uid):\r\n",
    "    if not isPhoto:\r\n",
    "        return 'Incorrect Type'\r\n",
    "    return uid%2 == 0\r\n",
    "\r\n",
    "def isAlbumGenuine(uid):\r\n",
    "    if isPhoto:\r\n",
    "        return 'Incorrect Type'\r\n",
    "    return uid%2 == 1\r\n",
    "\r\n",
    "def solve():\r\n",
    "    n = int(input())\r\n",
    "    ids = [input() for i in range(n)]\r\n",
    "    real_photo_book = 0\r\n",
    "    fake_album = 0  \r\n",
    "    for id in ids:\r\n",
    "        isPhotobook(id)\r\n",
    "        UID = calKey(id)\r\n",
    "        if isPhoto:\r\n",
    "            if isPhotobookGenuine(UID):\r\n",
    "                real_photo_book+=1\r\n",
    "        else:\r\n",
    "            if isAlbumGenuine(UID):\r\n",
    "                fake_album+=1\r\n",
    "    print(real_photo_book)\r\n",
    "    print(fake_album)"
   ],
   "outputs": [],
   "metadata": {}
  }
 ],
 "metadata": {
  "orig_nbformat": 4,
  "language_info": {
   "name": "python",
   "version": "3.6.13",
   "mimetype": "text/x-python",
   "codemirror_mode": {
    "name": "ipython",
    "version": 3
   },
   "pygments_lexer": "ipython3",
   "nbconvert_exporter": "python",
   "file_extension": ".py"
  },
  "kernelspec": {
   "name": "python3",
   "display_name": "Python 3.6.13 64-bit ('elab': conda)"
  },
  "interpreter": {
   "hash": "1b6539e9ad35fc39de9761771fdbe27c8409b0251b431a05aac35241c2500571"
  }
 },
 "nbformat": 4,
 "nbformat_minor": 2
}