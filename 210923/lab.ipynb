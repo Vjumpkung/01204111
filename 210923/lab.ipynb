{
 "cells": [
  {
   "cell_type": "code",
   "execution_count": null,
   "source": [
    "# def minus(a,b):\r\n",
    "#     return [i for i in a if i not in b]\r\n",
    "minus = lambda a,b : [i for i in a if i not in b]\r\n",
    "A = list(map(int,input(\"Input set A: \").split()))\r\n",
    "B = list(map(int,input(\"Input set B: \").split()))\r\n",
    "X = minus(A,B)\r\n",
    "if X == []:\r\n",
    "    print(\"A minus B: empty set\")\r\n",
    "else:\r\n",
    "    print(f\"A minus B: {X}\")"
   ],
   "outputs": [],
   "metadata": {}
  },
  {
   "cell_type": "code",
   "execution_count": 17,
   "source": [
    "def union(a,b):\r\n",
    "    Y = []\r\n",
    "    X = a+b\r\n",
    "    P = [Y.append(i) for i in X if i not in Y]\r\n",
    "    return sorted(Y)\r\n",
    "A = list(map(int,input(\"Input set A: \").split()))\r\n",
    "B = list(map(int,input(\"Input set B: \").split()))\r\n",
    "X = union(A,B)\r\n",
    "if X == []:\r\n",
    "    print(\"A union B: empty set\")\r\n",
    "else:\r\n",
    "    print(f\"A union B: {X}\")"
   ],
   "outputs": [
    {
     "output_type": "stream",
     "name": "stdout",
     "text": [
      "A union B: [2, 3, 5, 7, 9, 11, 13, 17, 19]\n"
     ]
    }
   ],
   "metadata": {}
  },
  {
   "cell_type": "code",
   "execution_count": 11,
   "source": [
    "def all_possible_stairs(n):\r\n",
    "    if n == 0:\r\n",
    "        return 1\r\n",
    "    elif n < 0:\r\n",
    "        return 0\r\n",
    "    else:\r\n",
    "        return all_possible_stairs(n-1)+all_possible_stairs(n-2)+all_possible_stairs(n-3)\r\n",
    "nen = int(input(\"n : \"))\r\n",
    "print(all_possible_stairs(nen))"
   ],
   "outputs": [
    {
     "output_type": "stream",
     "name": "stdout",
     "text": [
      "2\n"
     ]
    }
   ],
   "metadata": {}
  },
  {
   "cell_type": "code",
   "execution_count": null,
   "source": [
    "from statistics import mean\r\n",
    "with open(input(\"Enter file name: \")) as f:\r\n",
    "    data = f.readlines()\r\n",
    "    data = [i.strip().split(\",\") for i in data]\r\n",
    "    head = data[0]\r\n",
    "    val = data[1:]\r\n",
    "    citites = [dict(zip(head,i)) for i in val]\r\n",
    "print(f\"Minimum: {min(citites,key=lambda x : float(x['temperature']))['temperature']}\")\r\n",
    "print(f\"Maximum: {max(citites,key=lambda x : float(x['temperature']))['temperature']}\")\r\n",
    "print(f\"Average temperature: {mean([float(i['temperature']) for i in citites]):.4f}\")"
   ],
   "outputs": [],
   "metadata": {}
  },
  {
   "cell_type": "code",
   "execution_count": null,
   "source": [
    "import numpy as np\r\n",
    "import sys\r\n",
    " \r\n",
    "if sys.version_info[0] >= 3:\r\n",
    "    xrange = range\r\n",
    " \r\n",
    "def move(x, y, columns, rows):\r\n",
    "    if y < (rows - 1):\r\n",
    "        return max(0, x-1), y+1\r\n",
    "    return x+1, y\r\n",
    " \r\n",
    "def zigzag(rows, columns):\r\n",
    "    x, y = 0, 0\r\n",
    "    size = rows * columns\r\n",
    "    for _ in xrange(size):\r\n",
    "        yield y, x\r\n",
    "        if (x + y) & 1:\r\n",
    "            x, y = move(x, y, columns, rows)\r\n",
    "        else:\r\n",
    "            y, x = move(y, x, rows, columns)\r\n",
    " \r\n",
    "# test code\r\n",
    "nen = int(input())\r\n",
    "i, rows, cols = 0, nen, nen\r\n",
    "mat = [[0 for x in range(cols)] for y in range(rows)]\r\n",
    "for (y, x) in zigzag(rows, cols):\r\n",
    "    mat[y][x], i = i, i + 1\r\n",
    " \r\n",
    "ans = (np.rot90(np.array(mat)+1)).tolist()\r\n",
    "for x in range(len(ans)):\r\n",
    "    for y in range(len(ans[0])):\r\n",
    "        print(f'{ans[x][y]:3.0f}',end=' ')\r\n",
    "    print()"
   ],
   "outputs": [],
   "metadata": {}
  },
  {
   "cell_type": "code",
   "execution_count": 10,
   "source": [
    "n = int(input('n : '))\r\n",
    "a,b,c = int(input('a : ')),int(input('b : ')),int(input('c : '))\r\n",
    "if (a or b or c) > n:\r\n",
    "    print(0)\r\n",
    "else:\r\n",
    "    def find_possible(n):\r\n",
    "        if n == 0:\r\n",
    "            return 1\r\n",
    "        elif n < 0:\r\n",
    "            return 0\r\n",
    "        else:\r\n",
    "            return find_possible(n-a)+find_possible(n-b)+find_possible(n-c)\r\n",
    "    print(find_possible(n))"
   ],
   "outputs": [
    {
     "output_type": "stream",
     "name": "stdout",
     "text": [
      "4\n"
     ]
    }
   ],
   "metadata": {}
  },
  {
   "cell_type": "code",
   "execution_count": null,
   "source": [
    "from itertools import combinations\r\n",
    "N = int(input('N : '))\r\n",
    "lst = []\r\n",
    "for i in range(N):\r\n",
    "    dick = {}\r\n",
    "    t,n = input().split()\r\n",
    "    n = int(n)\r\n",
    "    dick.setdefault(n,t)\r\n",
    "    lst.append(dick)\r\n",
    "XX = int(input('xx : '))\r\n",
    "for i in range(N):\r\n",
    "    for j in (combinations(lst,i+1)):\r\n",
    "        sam = 0\r\n",
    "        current = []\r\n",
    "        for k in j:\r\n",
    "            #print(k,end=\" \")\r\n",
    "            sam += list(k.keys())[0]\r\n",
    "            current += k.values()\r\n",
    "        if sam == XX:\r\n",
    "            print(\" \".join(current))\r\n",
    "            break"
   ],
   "outputs": [],
   "metadata": {}
  },
  {
   "cell_type": "code",
   "execution_count": null,
   "source": [
    "N = int(input())\r\n",
    "wait_num = list(range(1,N**2+1))\r\n",
    "blank_mat = [[0 for j in range(N)] for i in range(N)]"
   ],
   "outputs": [],
   "metadata": {}
  },
  {
   "cell_type": "code",
   "execution_count": null,
   "source": [
    "def move_up(x,y):\r\n",
    "    global current_pos\r\n",
    "    current_pos = (x-1,y)\r\n",
    "    return current_pos"
   ],
   "outputs": [],
   "metadata": {}
  },
  {
   "cell_type": "code",
   "execution_count": null,
   "source": [
    "def move_right(x,y):\r\n",
    "    global current_pos\r\n",
    "    current_pos = (x,y+1)\r\n",
    "    return current_pos"
   ],
   "outputs": [],
   "metadata": {}
  },
  {
   "cell_type": "code",
   "execution_count": null,
   "source": [
    "def move_upper_right(x,y):\r\n",
    "    global current_pos\r\n",
    "    current_pos = (x-1,y-1)\r\n",
    "    return current_pos"
   ],
   "outputs": [],
   "metadata": {}
  },
  {
   "cell_type": "code",
   "execution_count": null,
   "source": [
    "def move_lower_left(x,y):\r\n",
    "    global current_pos\r\n",
    "    current_pos = (x+1,y+1)\r\n",
    "    return current_pos"
   ],
   "outputs": [],
   "metadata": {}
  },
  {
   "cell_type": "code",
   "execution_count": null,
   "source": [
    "def print_pos():\r\n",
    "    print(wait_num[ind],end=\"  \")\r\n",
    "    print(current_pos)"
   ],
   "outputs": [],
   "metadata": {}
  },
  {
   "cell_type": "code",
   "execution_count": 165,
   "source": [
    "start_pos = (len(blank_mat)-1,0)\r\n",
    "current_pos = start_pos\r\n",
    "last_pos = (0,len(blank_mat)-1)\r\n",
    "cham_nuan_cheng = 1\r\n",
    "isMoveUp,isMoveRight,isLowerRight,isUpperLeft = True,False,False,False\r\n",
    "ind = 0\r\n",
    "while ind <= len(wait_num):\r\n",
    "    if wait_num[ind] == wait_num[-1]:\r\n",
    "        break\r\n",
    "    if ind == 0:\r\n",
    "        blank_mat[current_pos[0]][current_pos[1]] = wait_num[ind]\r\n",
    "        #print_pos()\r\n",
    "        move_up(*current_pos)\r\n",
    "        isMoveUp,isMoveRight,isLowerRight,isUpperLeft = False,False,True,False\r\n",
    "        ind += 1\r\n",
    "        continue\r\n",
    "    elif ind > 0:\r\n",
    "        #print_pos()\r\n",
    "        if (current_pos[0] >= 0 and current_pos[1] >= 0) and (current_pos[0] < len(blank_mat) and current_pos[1] < len(blank_mat)):\r\n",
    "            if isLowerRight:\r\n",
    "                # move_lower_left(*current_pos)\r\n",
    "                # isMoveUp,isMoveRight,isLowerRight,isUpperLeft = False,True,False,False\r\n",
    "                # ind += 1\r\n",
    "                while True:\r\n",
    "                    blank_mat[current_pos[0]][current_pos[1]] = wait_num[ind]\r\n",
    "                    #print_pos()\r\n",
    "                    if (current_pos[0]+1 >= 0 and current_pos[1]+1 >= 0) and (current_pos[0]+1 < len(blank_mat) and current_pos[1]+1 < len(blank_mat)): #predict future\r\n",
    "                        move_lower_left(*current_pos)\r\n",
    "                        isMoveUp,isMoveRight,isLowerRight,isUpperLeft = False,True,False,False\r\n",
    "                        ind += 1\r\n",
    "                    else:\r\n",
    "                        break\r\n",
    "                continue\r\n",
    "            if isUpperLeft:\r\n",
    "                # move_upper_right(*current_pos)\r\n",
    "                # isMoveUp,isMoveRight,isLowerRight,isUpperLeft = True,False,False,False\r\n",
    "                # ind += 1\r\n",
    "                while True:\r\n",
    "                    blank_mat[current_pos[0]][current_pos[1]] = wait_num[ind]\r\n",
    "                    #print_pos()\r\n",
    "                    if (current_pos[0]-1 >= 0 and current_pos[1]-1 >= 0) and (current_pos[0]-1 < len(blank_mat) and current_pos[1]-1 < len(blank_mat)): #predict future\r\n",
    "                        move_upper_right(*current_pos)\r\n",
    "                        isMoveUp,isMoveRight,isLowerRight,isUpperLeft = True,False,False,False\r\n",
    "                        ind += 1\r\n",
    "                    else:\r\n",
    "                        break\r\n",
    "                continue\r\n",
    "            if isMoveRight:\r\n",
    "                if (current_pos[0] >= 0 and current_pos[1]+1 >= 0) and (current_pos[0] < len(blank_mat) and current_pos[1]+1 < len(blank_mat)): #predict future\r\n",
    "                    move_right(*current_pos)\r\n",
    "                    isMoveUp,isMoveRight,isLowerRight,isUpperLeft = False,False,False,True\r\n",
    "                    ind += 1\r\n",
    "                    continue\r\n",
    "                else:\r\n",
    "                    move_up(*current_pos)\r\n",
    "                    isMoveUp,isMoveRight,isLowerRight,isUpperLeft = False,False,False,True\r\n",
    "                    ind += 1\r\n",
    "                    continue\r\n",
    "                #print(\"error\")\r\n",
    "            if isMoveUp:\r\n",
    "                if (current_pos[0]-1 >= 0 and current_pos[1] >= 0) and (current_pos[0]-1 < len(blank_mat) and current_pos[1] < len(blank_mat)): #predict future\r\n",
    "                    move_up(*current_pos)\r\n",
    "                    isMoveUp,isMoveRight,isLowerRight,isUpperLeft = False,False,True,False\r\n",
    "                    ind += 1\r\n",
    "                    continue\r\n",
    "                #print('error')\r\n",
    "                else:\r\n",
    "                    move_right(*current_pos)\r\n",
    "                    isMoveUp,isMoveRight,isLowerRight,isUpperLeft = False,False,True,False\r\n",
    "                    ind+=1\r\n",
    "                    continue\r\n",
    "#print_pos()\r\n",
    "blank_mat[current_pos[0]][current_pos[1]] = wait_num[ind]\r\n",
    "ans = blank_mat\r\n",
    "for x in range(len(ans)):\r\n",
    "    for y in range(len(ans[0])):\r\n",
    "        print(f'{ans[x][y]:3.0f}',end=' ')\r\n",
    "    print()"
   ],
   "outputs": [
    {
     "output_type": "stream",
     "name": "stdout",
     "text": [
      " 15  16  22  23  25 \n",
      "  7  14  17  21  24 \n",
      "  6   8  13  18  20 \n",
      "  2   5   9  12  19 \n",
      "  1   3   4  10  11 \n"
     ]
    }
   ],
   "metadata": {}
  }
 ],
 "metadata": {
  "orig_nbformat": 4,
  "language_info": {
   "name": "python",
   "version": "3.6.13",
   "mimetype": "text/x-python",
   "codemirror_mode": {
    "name": "ipython",
    "version": 3
   },
   "pygments_lexer": "ipython3",
   "nbconvert_exporter": "python",
   "file_extension": ".py"
  },
  "kernelspec": {
   "name": "python3",
   "display_name": "Python 3.6.13 64-bit ('elab': conda)"
  },
  "interpreter": {
   "hash": "1b6539e9ad35fc39de9761771fdbe27c8409b0251b431a05aac35241c2500571"
  }
 },
 "nbformat": 4,
 "nbformat_minor": 2
}