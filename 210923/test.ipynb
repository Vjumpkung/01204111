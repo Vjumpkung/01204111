{
 "cells": [
  {
   "cell_type": "code",
   "execution_count": 87,
   "source": [
    "class City:\r\n",
    "  nbCity = 0\r\n",
    "  def __init__(s,city,country,lat,long,temp):\r\n",
    "    s.city = city; s.country = country; s.lat = lat\r\n",
    "    s.long = long; s.temp = temp; City.nbCity += 1\r\n",
    "class Country:\r\n",
    "  nbCountry = 0\r\n",
    "  def __init__(self,coun,pop,isEU,coastline):\r\n",
    "    self.coun,self.pop,self.isEU,self.coastline = coun,pop,isEU,coastline\r\n",
    "    Country.nbCountry += 1\r\n",
    "\r\n",
    "def readCity():\r\n",
    "  myCity = []\r\n",
    "  with open('Cities.csv') as fp:\r\n",
    "    c = fp.readline()\r\n",
    "    for c in fp:\r\n",
    "      cc = c.strip().split(',')\r\n",
    "      city,country,lat,long,temp = cc[0],cc[1],float(cc[2]),float(cc[3]),float(cc[4])\r\n",
    "      myCity.append(City(city,country,lat,long,temp))\r\n",
    "  return myCity\r\n",
    "\r\n",
    "def test_readCity(myCity):\r\n",
    "  for c in myCity:\r\n",
    "    print(c.city,c.country,c.lat,c.long,c.temp)\r\n",
    "\r\n",
    "def readCountry():\r\n",
    "  myCountry = []\r\n",
    "  with open('Countries.csv') as fp:\r\n",
    "    c = fp.readline()\r\n",
    "    for c in fp:\r\n",
    "      cc = c.strip().split(',')\r\n",
    "      coun,pop,isEU,coastline = cc[0],float(cc[1]),cc[2],cc[3]\r\n",
    "      myCountry.append(Country(coun,pop,isEU,coastline))\r\n",
    "  return myCountry\r\n",
    "\r\n",
    "def q01(myCity, myCountry):\r\n",
    "    each_country = {}\r\n",
    "    for i in myCountry:\r\n",
    "        if i.isEU == \"yes\" and i.coastline == \"no\":\r\n",
    "            each_country.setdefault(i.coun,[])\r\n",
    "        else:\r\n",
    "            continue\r\n",
    "    for j in myCity:\r\n",
    "        if j.country in each_country.keys():\r\n",
    "            each_country[j.country].append(j.temp)\r\n",
    "    for i in each_country:\r\n",
    "        try:\r\n",
    "            print(f\"{i}: {sum(each_country[i])/len(each_country[i]):.2f}\")\r\n",
    "        except ZeroDivisionError: \r\n",
    "            pass\r\n",
    "\r\n",
    "def q02(myCity, myCountry):\r\n",
    "    each_country = {}\r\n",
    "    for i in myCountry:\r\n",
    "        if i.isEU == \"no\":\r\n",
    "            each_country.setdefault(i.coun,[])\r\n",
    "        else:\r\n",
    "            continue\r\n",
    "    for j in myCity:\r\n",
    "        if j.country in each_country.keys():\r\n",
    "            each_country[j.country].append(j.temp)\r\n",
    "    maxx = -1e8\r\n",
    "    minn = 1e8\r\n",
    "    current_max = ''\r\n",
    "    current_min = ''\r\n",
    "    for i in each_country:\r\n",
    "      try:\r\n",
    "        mean = sum(each_country[i])/len(each_country[i])\r\n",
    "        if mean > maxx:\r\n",
    "          maxx = mean\r\n",
    "          current_max = i\r\n",
    "        if mean < minn:\r\n",
    "          minn = mean\r\n",
    "          current_min = i\r\n",
    "      except ZeroDivisionError:\r\n",
    "        continue\r\n",
    "    print(f\"The highest average city temperature: {current_max} ({maxx:.2f})\")\r\n",
    "    print(f\"The lowest average city temperature: {current_min} ({minn:.2f})\")\r\n",
    "\r\n",
    "### main begins here\r\n",
    "myCity = readCity()\r\n",
    "myCountry = readCountry()"
   ],
   "outputs": [],
   "metadata": {}
  },
  {
   "cell_type": "code",
   "execution_count": 88,
   "source": [
    "q02(myCity, myCountry)"
   ],
   "outputs": [
    {
     "output_type": "stream",
     "name": "stdout",
     "text": [
      "The highest average city temperature: Albania (15.18)\n",
      "The lowest average city temperature: Norway (3.73)\n"
     ]
    }
   ],
   "metadata": {}
  }
 ],
 "metadata": {
  "orig_nbformat": 4,
  "language_info": {
   "name": "python",
   "version": "3.6.13",
   "mimetype": "text/x-python",
   "codemirror_mode": {
    "name": "ipython",
    "version": 3
   },
   "pygments_lexer": "ipython3",
   "nbconvert_exporter": "python",
   "file_extension": ".py"
  },
  "kernelspec": {
   "name": "python3",
   "display_name": "Python 3.6.13 64-bit ('elab': conda)"
  },
  "interpreter": {
   "hash": "1b6539e9ad35fc39de9761771fdbe27c8409b0251b431a05aac35241c2500571"
  }
 },
 "nbformat": 4,
 "nbformat_minor": 2
}