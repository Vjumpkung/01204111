{
 "cells": [
  {
   "cell_type": "code",
   "execution_count": 1,
   "source": [
    "print((lambda x,y,z : ((x[0][0]*y[0][1]*z[0][2]) + (x[0][1]*y[0][2]*z[0][0]) + (x[0][2]*y[0][0]*z[0][1])) - ((x[0][2]*y[0][1]*z[0][0])+(x[0][0]*y[0][2]*z[0][1])+(x[0][1]*y[0][0]*z[0][2])))(*[[list(map(int,input(f\"Row {i+1} : \").split()))] for i in range(3)]))"
   ],
   "outputs": [
    {
     "output_type": "stream",
     "name": "stdout",
     "text": [
      "0\n"
     ]
    }
   ],
   "metadata": {}
  }
 ],
 "metadata": {
  "orig_nbformat": 4,
  "language_info": {
   "name": "python",
   "version": "3.6.13",
   "mimetype": "text/x-python",
   "codemirror_mode": {
    "name": "ipython",
    "version": 3
   },
   "pygments_lexer": "ipython3",
   "nbconvert_exporter": "python",
   "file_extension": ".py"
  },
  "kernelspec": {
   "name": "python3",
   "display_name": "Python 3.6.13 64-bit ('elab': conda)"
  },
  "interpreter": {
   "hash": "15bb5b5caed0bbca38a2f71d04205bf45dd89b88527a22cde4771643e1402263"
  }
 },
 "nbformat": 4,
 "nbformat_minor": 2
}