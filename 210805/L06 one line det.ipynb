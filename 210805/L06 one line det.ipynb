{
 "cells": [
  {
   "cell_type": "code",
   "execution_count": null,
   "source": [
    "import numpy as np\r\n",
    "a1,a2,a3 = map(int,input(\"Row 1 : \").split())\r\n",
    "a4,a5,a6 = map(int,input(\"Row 2 : \").split())\r\n",
    "a7,a8,a9 = map(int,input(\"Row 3 : \").split())\r\n",
    "A = np.array([[a1,a2,a3],[a4,a5,a6],[a7,a8,a9]])\r\n",
    "def det_matrix(A):\r\n",
    "    return np.linalg.det(A)\r\n",
    "print(int(det_matrix(A)))"
   ],
   "outputs": [],
   "metadata": {}
  },
  {
   "cell_type": "code",
   "execution_count": null,
   "source": [],
   "outputs": [],
   "metadata": {}
  },
  {
   "cell_type": "code",
   "execution_count": 1,
   "source": [
    "print((lambda x,y,z : ((x[0][0]*y[0][1]*z[0][2]) + (x[0][1]*y[0][2]*z[0][0]) + (x[0][2]*y[0][0]*z[0][1])) - ((x[0][2]*y[0][1]*z[0][0])+(x[0][0]*y[0][2]*z[0][1])+(x[0][1]*y[0][0]*z[0][2])))(*[[list(map(int,input(f\"Row {i+1} : \").split()))] for i in range(3)]))"
   ],
   "outputs": [
    {
     "output_type": "stream",
     "name": "stdout",
     "text": [
      "2844\n"
     ]
    }
   ],
   "metadata": {}
  }
 ],
 "metadata": {
  "orig_nbformat": 4,
  "language_info": {
   "name": "python",
   "version": "3.9.6",
   "mimetype": "text/x-python",
   "codemirror_mode": {
    "name": "ipython",
    "version": 3
   },
   "pygments_lexer": "ipython3",
   "nbconvert_exporter": "python",
   "file_extension": ".py"
  },
  "kernelspec": {
   "name": "python3",
   "display_name": "Python 3.9.6 64-bit ('python39': conda)"
  },
  "interpreter": {
   "hash": "7cffbab6619079a2a799a61432cc0cf7b30e6fb2dcb99e0e31409e12eb5c19b2"
  }
 },
 "nbformat": 4,
 "nbformat_minor": 2
}