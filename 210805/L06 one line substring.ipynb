{
 "cells": [
  {
   "cell_type": "code",
   "execution_count": null,
   "source": [
    "#substring\r\n",
    "Text = input(\"Text: \")\r\n",
    "subString = input(\"Substring: \")\r\n",
    "Text = Text.replace(subString,\"[\"+subString+\"]\")\r\n",
    "if not \"[\" in Text:\r\n",
    "    print(\"Not found\")\r\n",
    "else:\r\n",
    "    print(Text)"
   ],
   "outputs": [],
   "metadata": {}
  },
  {
   "cell_type": "code",
   "execution_count": 9,
   "source": [
    "((lambda Textt : print(Textt) if \"[\" in Textt else print(\"Not found\"))((lambda Text,subString: Text.replace(subString,\"[\"+subString+\"]\"))((input(\"Text: \")),(input(\"Substring: \")))))"
   ],
   "outputs": [
    {
     "output_type": "stream",
     "name": "stdout",
     "text": [
      "Not found\n"
     ]
    }
   ],
   "metadata": {}
  }
 ],
 "metadata": {
  "orig_nbformat": 4,
  "language_info": {
   "name": "python",
   "version": "3.9.6",
   "mimetype": "text/x-python",
   "codemirror_mode": {
    "name": "ipython",
    "version": 3
   },
   "pygments_lexer": "ipython3",
   "nbconvert_exporter": "python",
   "file_extension": ".py"
  },
  "kernelspec": {
   "name": "python3",
   "display_name": "Python 3.9.6 64-bit"
  },
  "interpreter": {
   "hash": "cd4d4b2b3341ce4b2201a8212927cf0573411cdba766212cd5fe17ac0a5e87a7"
  }
 },
 "nbformat": 4,
 "nbformat_minor": 2
}