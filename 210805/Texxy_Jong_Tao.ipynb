{
 "cells": [
  {
   "cell_type": "code",
   "execution_count": 2,
   "source": [
    "codename = []\r\n",
    "start = []\r\n",
    "final = []\r\n",
    "passengy = []\r\n",
    "maxpassengy = []\r\n",
    "codewithpassengyname = {}"
   ],
   "outputs": [],
   "metadata": {}
  },
  {
   "cell_type": "code",
   "execution_count": 3,
   "source": [
    "#1\r\n",
    "def AddFlightData():\r\n",
    "    adddata = input('Add data : ')\r\n",
    "    adddata = adddata.split()\r\n",
    "    codename.append(adddata[0])\r\n",
    "    start.append(adddata[1])\r\n",
    "    final.append(adddata[3])\r\n",
    "    passengy.append(int(adddata[4]))\r\n",
    "    maxpassengy.append(int(adddata[6]))"
   ],
   "outputs": [],
   "metadata": {}
  },
  {
   "cell_type": "code",
   "execution_count": 4,
   "source": [
    "#2\r\n",
    "def ShowSpecificData():\r\n",
    "    code = input('Enter code : ')\r\n",
    "    for k in range(len(codename)):\r\n",
    "        if code == codename[k]:\r\n",
    "            print(codename[k], 'is from', start[k], 'to', final[k]+',','number of people booking is', str(int(passengy[k]))+'/'+str(int(maxpassengy[k])))"
   ],
   "outputs": [],
   "metadata": {}
  },
  {
   "cell_type": "code",
   "execution_count": 5,
   "source": [
    "#3\r\n",
    "def ShowAllData():\r\n",
    "    print('All flight data')\r\n",
    "    for p in range(len(codename)):\r\n",
    "        print(codename[p], 'is from', start[p], 'to', final[p]+',','number of people booking is', str(int(passengy[p]))+'/'+str(int(maxpassengy[p]))) "
   ],
   "outputs": [],
   "metadata": {}
  },
  {
   "cell_type": "code",
   "execution_count": 6,
   "source": [
    "#4\r\n",
    "def FlightBooking():\r\n",
    "    pname = input('Enter your name : ')\r\n",
    "    bookcode = input('Enter flight code : ')\r\n",
    "    for b in range(len(codename)):\r\n",
    "        if bookcode == codename[b]:\r\n",
    "            if passengy[b] < maxpassengy[b]:\r\n",
    "                if pname not in codewithpassengyname:\r\n",
    "                    codewithpassengyname.setdefault(pname , [bookcode])\r\n",
    "                else:\r\n",
    "                    codewithpassengyname[pname].append(bookcode)\r\n",
    "                passengy[b] = passengy[b]+1\r\n",
    "                print('Success')\r\n",
    "            elif passengy[b] >= passengy[b]:\r\n",
    "                print(\"The flight is full, Sorry\")"
   ],
   "outputs": [],
   "metadata": {}
  },
  {
   "cell_type": "code",
   "execution_count": 7,
   "source": [
    "#5\r\n",
    "def ShowPeopleFlightData():\r\n",
    "    maname = input('Enter your name : ')\r\n",
    "    myText = \"\"\r\n",
    "    for i in range(len(codewithpassengyname[maname])):\r\n",
    "        myText = myText + codewithpassengyname[maname][i] + \" \"\r\n",
    "    print(f'{maname} is booking flight code = {myText}')  "
   ],
   "outputs": [],
   "metadata": {}
  },
  {
   "cell_type": "code",
   "execution_count": 8,
   "source": [
    "def main():\r\n",
    "    print('Select menu :')\r\n",
    "    print('1. add flight data')\r\n",
    "    print('2. flight data by code')\r\n",
    "    print('3. show all flight data')\r\n",
    "    print('4. flight booking')\r\n",
    "    print('5. show people flight data')\r\n",
    "    print('6. exit')\r\n",
    "    while True:\r\n",
    "        m = int(input('menu : '))\r\n",
    "        if m == 6:\r\n",
    "            print(\"EXIT!!!!!!!!!!!!!!!\")\r\n",
    "            break\r\n",
    "        elif m == 1:\r\n",
    "            AddFlightData()\r\n",
    "        elif m == 2:\r\n",
    "            ShowSpecificData()\r\n",
    "        elif m == 3:\r\n",
    "            ShowAllData()\r\n",
    "        elif m == 4:\r\n",
    "            FlightBooking()\r\n",
    "        elif m == 5:\r\n",
    "            ShowPeopleFlightData()"
   ],
   "outputs": [],
   "metadata": {}
  },
  {
   "cell_type": "code",
   "execution_count": 9,
   "source": [
    "main()"
   ],
   "outputs": [
    {
     "output_type": "stream",
     "name": "stdout",
     "text": [
      "Select menu :\n",
      "1. add flight data\n",
      "2. flight data by code\n",
      "3. show all flight data\n",
      "4. flight booking\n",
      "5. show people flight data\n",
      "6. exit\n",
      "EXIT!!!!!!!!!!!!!!!\n"
     ]
    }
   ],
   "metadata": {}
  }
 ],
 "metadata": {
  "orig_nbformat": 4,
  "language_info": {
   "name": "python",
   "version": "3.9.6",
   "mimetype": "text/x-python",
   "codemirror_mode": {
    "name": "ipython",
    "version": 3
   },
   "pygments_lexer": "ipython3",
   "nbconvert_exporter": "python",
   "file_extension": ".py"
  },
  "kernelspec": {
   "name": "python3",
   "display_name": "Python 3.9.6 64-bit ('python39': conda)"
  },
  "interpreter": {
   "hash": "7cffbab6619079a2a799a61432cc0cf7b30e6fb2dcb99e0e31409e12eb5c19b2"
  }
 },
 "nbformat": 4,
 "nbformat_minor": 2
}