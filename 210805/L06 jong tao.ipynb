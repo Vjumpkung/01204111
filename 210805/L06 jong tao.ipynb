{
 "cells": [
  {
   "cell_type": "code",
   "execution_count": 277,
   "source": [
    "#from pprint import pp"
   ],
   "outputs": [],
   "metadata": {}
  },
  {
   "cell_type": "code",
   "execution_count": 278,
   "source": [
    "flight_data = []\r\n",
    "'''flight_data = [{'id': '00x541d',\r\n",
    "                'from': 'aaaa',\r\n",
    "                'to': 'bbbb',\r\n",
    "                'reserve': 0,\r\n",
    "                'maximum': 50,\r\n",
    "                'MoreReserved': []},\r\n",
    "                {'id': '00x578x',\r\n",
    "                'from': 'cccc',\r\n",
    "                'to': 'dddd',\r\n",
    "                'reserve': 100,\r\n",
    "                'maximum': 100,\r\n",
    "                'MoreReserved': ['vjump']},\r\n",
    "                {'id': '00x579q',\r\n",
    "                'from': 'eeee',\r\n",
    "                'to': 'uuuu',\r\n",
    "                'reserve': 49,\r\n",
    "                'maximum': 50,\r\n",
    "                'MoreReserved': ['vjump']}]'''\r\n",
    "#pp(flight_data[2]['MoreReserved'])"
   ],
   "outputs": [
    {
     "output_type": "execute_result",
     "data": {
      "text/plain": [
       "\"flight_data = [{'id': '00x541d',\\n                'from': 'aaaa',\\n                'to': 'bbbb',\\n                'reserve': 0,\\n                'maximum': 50,\\n                'MoreReserved': []},\\n                {'id': '00x578x',\\n                'from': 'cccc',\\n                'to': 'dddd',\\n                'reserve': 100,\\n                'maximum': 100,\\n                'MoreReserved': ['vjump']},\\n                {'id': '00x579q',\\n                'from': 'eeee',\\n                'to': 'uuuu',\\n                'reserve': 49,\\n                'maximum': 50,\\n                'MoreReserved': ['vjump']}]\""
      ]
     },
     "metadata": {},
     "execution_count": 278
    }
   ],
   "metadata": {}
  },
  {
   "cell_type": "code",
   "execution_count": 279,
   "source": [
    "def AddData():\r\n",
    "    FlightData = {}\r\n",
    "    Add_Data = input(\"Add data : \")\r\n",
    "    Add_Data = Add_Data.split()\r\n",
    "    FlightData.setdefault(\"id\",Add_Data[0])\r\n",
    "    FlightData.setdefault(\"from\",Add_Data[1])\r\n",
    "    FlightData.setdefault(\"to\",Add_Data[3])\r\n",
    "    FlightData.setdefault(\"reserve\",int(Add_Data[4]))\r\n",
    "    FlightData.setdefault(\"maximum\",int(Add_Data[6]))\r\n",
    "    FlightData.setdefault(\"MoreReserved\",[])\r\n",
    "    flight_data.append(FlightData)\r\n",
    "    return None"
   ],
   "outputs": [],
   "metadata": {}
  },
  {
   "cell_type": "markdown",
   "source": [
    "```py\r\n",
    "[{'id': '00x541d',\r\n",
    "  'from': 'aaaa',\r\n",
    "  'to': 'bbbb',\r\n",
    "  'reserve': 0,\r\n",
    "  'maximum': 50,\r\n",
    "  'MoreReserved': []},\r\n",
    " {'id': '00x578x',\r\n",
    "  'from': 'cccc',\r\n",
    "  'to': 'dddd',\r\n",
    "  'reserve': 100,\r\n",
    "  'maximum': 100,\r\n",
    "  'MoreReserved': []},\r\n",
    " {'id': '00x579q',\r\n",
    "  'from': 'eeee',\r\n",
    "  'to': 'uuuu',\r\n",
    "  'reserve': 49,\r\n",
    "  'maximum': 50,\r\n",
    "  'MoreReserved': []}]\r\n",
    "  ```"
   ],
   "metadata": {}
  },
  {
   "cell_type": "code",
   "execution_count": 280,
   "source": [
    "#3\r\n",
    "def All_flight_data():\r\n",
    "    print(\"All flight data\")\r\n",
    "    for i in range(len(flight_data)):\r\n",
    "        print(f\"{flight_data[i]['id']} is from {flight_data[i]['from']} to {flight_data[i]['to']}, number of people booking is {flight_data[i]['reserve']}/{flight_data[i]['maximum']}\")\r\n",
    "    return None"
   ],
   "outputs": [],
   "metadata": {}
  },
  {
   "cell_type": "code",
   "execution_count": 281,
   "source": [
    "def list_flight_data():\r\n",
    "    getFlightId = []\r\n",
    "    getreserve = []\r\n",
    "    getmaximum = []\r\n",
    "    getMoreReserved = []\r\n",
    "    for i in range(len(flight_data)):\r\n",
    "        getFlightId.append(flight_data[i]['id'])\r\n",
    "        getreserve.append(flight_data[i]['reserve'])\r\n",
    "        getmaximum.append(flight_data[i]['maximum'])\r\n",
    "        getMoreReserved.append(flight_data[i]['MoreReserved'])\r\n",
    "    return(getFlightId,getreserve,getmaximum,getMoreReserved)\r\n",
    "#pp(list_flight_data())"
   ],
   "outputs": [],
   "metadata": {}
  },
  {
   "cell_type": "code",
   "execution_count": 282,
   "source": [
    "#4\r\n",
    "def Passenger_buy_Tua_Kleang_Bin ():\r\n",
    "    getFlightId = []\r\n",
    "    getreserve = []\r\n",
    "    getmaximum = []\r\n",
    "    Name = input(\"Enter your name : \")\r\n",
    "    Fight = input(\"Enter flight code : \")\r\n",
    "    for i in range(len(flight_data)):\r\n",
    "        getFlightId.append(flight_data[i]['id'])\r\n",
    "        getreserve.append(flight_data[i]['reserve'])\r\n",
    "        getmaximum.append(flight_data[i]['maximum'])\r\n",
    "    capacity = map(list,zip(getreserve,getmaximum))\r\n",
    "    if (Fight in getFlightId) and (getreserve[getFlightId.index(Fight)] < getmaximum[getFlightId.index(Fight)]):\r\n",
    "        print(\"Success\")\r\n",
    "        flight_data[getFlightId.index(Fight)]['MoreReserved'].append(Name)\r\n",
    "        flight_data[getFlightId.index(Fight)]['reserve'] += 1\r\n",
    "    else:\r\n",
    "        print(\"The flight is full, Sorry\")\r\n",
    "    #pp(getFlightId)"
   ],
   "outputs": [],
   "metadata": {}
  },
  {
   "cell_type": "code",
   "execution_count": 283,
   "source": [
    "#2\r\n",
    "def showFlightData():\r\n",
    "    enter_code = input(\"Enter code : \")\r\n",
    "    flightid,reserved,maximumm,aaaaaaaaa = list_flight_data()\r\n",
    "    i = flightid.index(enter_code)\r\n",
    "    print(f\"{flight_data[i]['id']} is from {flight_data[i]['from']} to {flight_data[i]['to']}, number of people booking is {flight_data[i]['reserve']}/{flight_data[i]['maximum']}\")"
   ],
   "outputs": [],
   "metadata": {}
  },
  {
   "cell_type": "code",
   "execution_count": 284,
   "source": [
    "#5\r\n",
    "def show_people_fight_data():\r\n",
    "    id_reserved = []\r\n",
    "    ur_name = input(\"Enter your name : \")\r\n",
    "    for i in range(len(flight_data)):\r\n",
    "        if ur_name in flight_data[i]['MoreReserved']:\r\n",
    "            id_reserved.append(flight_data[i]['id']) \r\n",
    "    print(f\"{ur_name} is booking flight code = \",end=\"\")\r\n",
    "    print(*(id_reserved[::-1]))\r\n",
    "#show_people_fight_data()"
   ],
   "outputs": [],
   "metadata": {}
  },
  {
   "cell_type": "code",
   "execution_count": 285,
   "source": [
    "print(\"Select menu :\\n1. add flight data\\n2. flight data by code\\n3. show all flight data\\n4. flight booking\\n5. show people flight data\\n6. exit\")"
   ],
   "outputs": [
    {
     "output_type": "stream",
     "name": "stdout",
     "text": [
      "Select menu :\n",
      "1. add flight data\n",
      "2. flight data by code\n",
      "3. show all flight data\n",
      "4. flight booking\n",
      "5. show people flight data\n",
      "6. exit\n"
     ]
    }
   ],
   "metadata": {}
  },
  {
   "cell_type": "code",
   "execution_count": 286,
   "source": [
    "def main():\r\n",
    "    while True:\r\n",
    "        menu = int(input(\"menu : \"))\r\n",
    "        if   menu == 6: print(\"EXIT!!!!!!!!!!!!!!!\") ;break\r\n",
    "        elif menu == 1: AddData()\r\n",
    "        elif menu == 2: showFlightData()\r\n",
    "        elif menu == 3: All_flight_data()\r\n",
    "        elif menu == 4: Passenger_buy_Tua_Kleang_Bin()\r\n",
    "        elif menu == 5: show_people_fight_data()\r\n",
    "        #pp(flight_data)"
   ],
   "outputs": [],
   "metadata": {}
  },
  {
   "cell_type": "code",
   "execution_count": 287,
   "source": [
    "main()"
   ],
   "outputs": [
    {
     "output_type": "stream",
     "name": "stdout",
     "text": [
      "EXIT!!!!!!!!!!!!!!!\n"
     ]
    }
   ],
   "metadata": {}
  }
 ],
 "metadata": {
  "orig_nbformat": 4,
  "language_info": {
   "name": "python",
   "version": "3.9.6",
   "mimetype": "text/x-python",
   "codemirror_mode": {
    "name": "ipython",
    "version": 3
   },
   "pygments_lexer": "ipython3",
   "nbconvert_exporter": "python",
   "file_extension": ".py"
  },
  "kernelspec": {
   "name": "python3",
   "display_name": "Python 3.9.6 64-bit"
  },
  "interpreter": {
   "hash": "cd4d4b2b3341ce4b2201a8212927cf0573411cdba766212cd5fe17ac0a5e87a7"
  }
 },
 "nbformat": 4,
 "nbformat_minor": 2
}