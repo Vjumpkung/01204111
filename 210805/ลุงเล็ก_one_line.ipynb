{
 "cells": [
  {
   "cell_type": "code",
   "execution_count": null,
   "source": [
    "N,M = int(input(\"N = \")),int(input(\"M = \"))\r\n",
    "cod = [int(input(f\"cost of day {i+1} = \")) for i in range(N)]\r\n",
    "possible_M = [sum(cod[cursor:cursor+M]) for cursor in range(len(cod)) if cursor+M <= len(cod)]\r\n",
    "outputt = [print(f\"Min cost of {M} days = {possible_M[k]}\") for k in range(len(possible_M)) if possible_M[k] == min(possible_M)][0]"
   ],
   "outputs": [],
   "metadata": {}
  },
  {
   "cell_type": "code",
   "execution_count": null,
   "source": [
    "cod,M = ((lambda N,M : [[int(input(f\"cost of day {i+1} = \")) for i in range(N)],M])(int(input(\"N = \")),int(input(\"M = \"))))\r\n",
    "M,possible_M = (lambda cod,M : [M,[sum(cod[cursor:cursor+M]) for cursor in range(len(cod)) if cursor+M <= len(cod)]])(cod,M)\r\n",
    "outputt = (lambda M,possible_M: [print(f\"Min cost of {M} days = {possible_M[k]}\") for k in range(len(possible_M)) if possible_M[k] == min(possible_M)][0])(M,possible_M)"
   ],
   "outputs": [],
   "metadata": {}
  },
  {
   "cell_type": "code",
   "execution_count": 2,
   "source": [
    "(lambda M,possible_M: print(f\"Min cost of {M} days = {min(possible_M)}\"))(*(lambda cod,M : [M,[sum(cod[cursor:cursor+M]) for cursor in range(len(cod)) if cursor+M <= len(cod)]])(*((lambda N,M : [[int(input(f\"cost of day {i+1} = \")) for i in range(N)],M])(int(input(\"N = \")),int(input(\"M = \"))))))"
   ],
   "outputs": [
    {
     "output_type": "stream",
     "name": "stdout",
     "text": [
      "Min cost of 5 days = 13\n"
     ]
    }
   ],
   "metadata": {}
  },
  {
   "cell_type": "code",
   "execution_count": null,
   "source": [],
   "outputs": [],
   "metadata": {}
  }
 ],
 "metadata": {
  "orig_nbformat": 4,
  "language_info": {
   "name": "python",
   "version": "3.6.13",
   "mimetype": "text/x-python",
   "codemirror_mode": {
    "name": "ipython",
    "version": 3
   },
   "pygments_lexer": "ipython3",
   "nbconvert_exporter": "python",
   "file_extension": ".py"
  },
  "kernelspec": {
   "name": "python3",
   "display_name": "Python 3.6.13 64-bit ('elab': conda)"
  },
  "interpreter": {
   "hash": "15bb5b5caed0bbca38a2f71d04205bf45dd89b88527a22cde4771643e1402263"
  }
 },
 "nbformat": 4,
 "nbformat_minor": 2
}