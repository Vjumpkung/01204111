{
 "cells": [
  {
   "cell_type": "markdown",
   "source": [
    "# Write a program to analyse the below csv data to answer these two questions? "
   ],
   "metadata": {}
  },
  {
   "cell_type": "code",
   "execution_count": null,
   "source": [
    "from pprint import pp"
   ],
   "outputs": [],
   "metadata": {}
  },
  {
   "cell_type": "code",
   "execution_count": 9,
   "source": [
    "def read_data():\r\n",
    "    with open(\"amazon-orders.txt\" , mode=\"r\") as csv_file:\r\n",
    "        data = csv_file.read()\r\n",
    "    data = data.split(\"\\n\")[4:]\r\n",
    "    data = [data[i].split(\",\") for i in range(len(data))]\r\n",
    "    data = list(zip(*data))\r\n",
    "    return data"
   ],
   "outputs": [],
   "metadata": {}
  },
  {
   "cell_type": "markdown",
   "source": [
    "# How much had I spent each day?"
   ],
   "metadata": {}
  },
  {
   "cell_type": "code",
   "execution_count": 10,
   "source": [
    "def spend_each_day(data):\r\n",
    "    spend_each_day = {}\r\n",
    "    for i in range(len(data[0])):\r\n",
    "        if data[0][i] not in list(spend_each_day.keys()):\r\n",
    "            spend_each_day.setdefault(data[0][i],float(data[20][i].strip(\"$\")))\r\n",
    "        else:\r\n",
    "            spend_each_day[data[0][i]] += float(data[20][i].strip(\"$\"))\r\n",
    "    return (spend_each_day)"
   ],
   "outputs": [],
   "metadata": {}
  },
  {
   "cell_type": "markdown",
   "source": [
    "# How much and which day had I got the most promotion amount?"
   ],
   "metadata": {}
  },
  {
   "cell_type": "code",
   "execution_count": 11,
   "source": [
    "def most_promotion(data):\r\n",
    "    new_data_col_18 = [float((data[18][i]).strip(\"$\")) for i in range(len(data[18]))]\r\n",
    "    amount = max(new_data_col_18)\r\n",
    "    promo_date = data[0][new_data_col_18.index(amount)]\r\n",
    "    return amount,promo_date"
   ],
   "outputs": [],
   "metadata": {}
  },
  {
   "cell_type": "markdown",
   "source": [
    "# Run Program Here"
   ],
   "metadata": {}
  },
  {
   "cell_type": "code",
   "execution_count": 12,
   "source": [
    "def main():\r\n",
    "    data = read_data()\r\n",
    "    return most_promotion(data),spend_each_day(data)\r\n",
    "pp(main()[0])\r\n",
    "pp(main()[1])"
   ],
   "outputs": [
    {
     "output_type": "stream",
     "name": "stdout",
     "text": [
      "(15.0, '07/30/19')\n",
      "{'04/01/19': 63.910000000000004, '04/04/19': 156.12, '04/05/19': 27.64, '04/07/19': 40.63, '04/08/19': 44.99, '04/20/19': 28.8, '04/23/19': 37.08, '05/05/19': 12.99, '05/06/19': 7.6, '05/10/19': 27.99, '05/14/19': 16.16, '05/18/19': 10.5, '05/19/19': 38.89, '05/21/19': 30.42, '05/22/19': 62.739999999999995, '05/24/19': 7.67, '05/25/19': 9.8, '05/28/19': 13.95, '05/29/19': 9.99, '05/30/19': 45.379999999999995, '06/03/19': 42.87, '06/05/19': 12.26, '06/18/19': 12.64, '06/25/19': 62.58, '07/03/19': 69.57, '07/06/19': 447.36, '07/07/19': 41.97, '07/09/19': 16.46, '07/17/19': 38.5, '07/18/19': 145.88, '07/21/19': 12.61, '07/23/19': 45.29, '07/30/19': 42.33, '07/31/19': 94.16}\n"
     ]
    }
   ],
   "metadata": {}
  }
 ],
 "metadata": {
  "orig_nbformat": 4,
  "language_info": {
   "name": "python",
   "version": "3.8.8",
   "mimetype": "text/x-python",
   "codemirror_mode": {
    "name": "ipython",
    "version": 3
   },
   "pygments_lexer": "ipython3",
   "nbconvert_exporter": "python",
   "file_extension": ".py"
  },
  "kernelspec": {
   "name": "python3",
   "display_name": "Python 3.8.8 64-bit ('base': conda)"
  },
  "interpreter": {
   "hash": "430f1c63627d9b863fc174d5b288526dd274c8851c8551f402fcf24b846224bb"
  }
 },
 "nbformat": 4,
 "nbformat_minor": 2
}