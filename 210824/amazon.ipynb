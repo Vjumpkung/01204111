{
 "cells": [
  {
   "cell_type": "code",
   "execution_count": null,
   "source": [
    "def print_spend_each_day(spend_each_day):\r\n",
    "    print(\"|   data   |  total   |\")\r\n",
    "    for i in list(spend_each_day.items()):\r\n",
    "        print(f\"| {i[0]} |  ${i[1]:.2f}\".ljust(22),end=\"|\\n\")"
   ],
   "outputs": [],
   "metadata": {}
  }
 ],
 "metadata": {
  "orig_nbformat": 4,
  "language_info": {
   "name": "python"
  }
 },
 "nbformat": 4,
 "nbformat_minor": 2
}