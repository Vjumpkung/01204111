{
 "cells": [
  {
   "cell_type": "code",
   "execution_count": 61,
   "source": [
    "example_studict = [\r\n",
    "    {\r\n",
    "        \"name\" : \"vjump\",\r\n",
    "        \"subject\" : \r\n",
    "        {\r\n",
    "            \"Physic I\" : \"A\",\r\n",
    "            \"Math I\" : \"B\",\r\n",
    "            \"Land of Smile\" : \"C\",\r\n",
    "            \"Intro Japanese\" : \"D\"\r\n",
    "        }\r\n",
    "    },\r\n",
    "    {\r\n",
    "        \"name\" : \"john\",\r\n",
    "        \"subject\" : \r\n",
    "        {\r\n",
    "            \"Physic I\" : \"F\",\r\n",
    "            \"Math I\" : \"F\",\r\n",
    "            \"Land of Smile\" : \"D\",\r\n",
    "            \"Intro Japanese\" : \"A\"\r\n",
    "        }\r\n",
    "    }\r\n",
    "]"
   ],
   "outputs": [],
   "metadata": {}
  },
  {
   "cell_type": "code",
   "execution_count": 62,
   "source": [
    "subDic = {'Physic I': 3, 'Lab Physic I': 1, 'Math I': 3, 'Com Programming': 3, 'Thai Lang Com': 3, 'Art of Living': 3, 'Land of Smile': 3, 'Intro Japanese': 3}\r\n",
    "subList = ['Physic I', 'Lab Physic I', 'Math I', 'Com Programming', 'Thai Lang Com', 'Art of Living', 'Land of Smile', 'Intro Japanese']\r\n",
    "grade = {\r\n",
    "    \"A\"  : 4,\r\n",
    "    \"B+\" : 3.5,\r\n",
    "    \"B\"  : 3,\r\n",
    "    \"C+\" : 2.5,\r\n",
    "    \"C\"  : 2,\r\n",
    "    \"D+\" : 1.5,\r\n",
    "    \"D\"  : 1,\r\n",
    "    \"F\"  : 0\r\n",
    "}"
   ],
   "outputs": [],
   "metadata": {}
  },
  {
   "cell_type": "code",
   "execution_count": 63,
   "source": [
    "list((example_studict[0][\"subject\"]).items())"
   ],
   "outputs": [
    {
     "output_type": "execute_result",
     "data": {
      "text/plain": [
       "[('Physic I', 'A'),\n",
       " ('Math I', 'B'),\n",
       " ('Land of Smile', 'C'),\n",
       " ('Intro Japanese', 'D')]"
      ]
     },
     "metadata": {},
     "execution_count": 63
    }
   ],
   "metadata": {}
  },
  {
   "cell_type": "code",
   "execution_count": 64,
   "source": [
    "subject_grade_list = list((example_studict[0][\"subject\"]).items())\r\n",
    "len(subject_grade_list)\r\n",
    "grade_test = []\r\n",
    "i = 0\r\n",
    "grade_test.append(subDic[subject_grade_list[i][0]] * grade[subject_grade_list[i][1]])\r\n",
    "grade_test"
   ],
   "outputs": [
    {
     "output_type": "execute_result",
     "data": {
      "text/plain": [
       "[12]"
      ]
     },
     "metadata": {},
     "execution_count": 64
    }
   ],
   "metadata": {}
  },
  {
   "cell_type": "code",
   "execution_count": 65,
   "source": [
    "def example_gpa(example_studict):\r\n",
    "    grade_keep = []\r\n",
    "    weight = []\r\n",
    "    for jjj in range(len(example_studict)):\r\n",
    "        subject_grade_list = list((example_studict[jjj][\"subject\"]).items())\r\n",
    "        for i in subject_grade_list:\r\n",
    "            x = subDic[i[0]] * grade[i[1]]\r\n",
    "            y = subDic[i[0]]\r\n",
    "            grade_keep.append(x)\r\n",
    "            weight.append(y)\r\n",
    "        print(\" GPA: \",end=\"\")\r\n",
    "        print((sum(grade_keep))/(sum(weight)))"
   ],
   "outputs": [],
   "metadata": {}
  },
  {
   "cell_type": "code",
   "execution_count": 66,
   "source": [
    "def example_print_grade(example_studict):\r\n",
    "    for k in range(len(example_studict)):\r\n",
    "        this_example_student_grade = list(example_studict[k][\"subject\"].items())\r\n",
    "        print(f\"Name: {example_studict[k]['name']}\")\r\n",
    "        for m in this_example_student_grade:\r\n",
    "            print(f\"{m[0]} ({m[1]})\",end=\", \")\r\n",
    "        print(\"\\r\")"
   ],
   "outputs": [],
   "metadata": {}
  },
  {
   "cell_type": "code",
   "execution_count": 67,
   "source": [
    "grade = {\r\n",
    "    \"A\"  : 4,\r\n",
    "    \"B+\" : 3.5,\r\n",
    "    \"B\"  : 3,\r\n",
    "    \"C+\" : 2.5,\r\n",
    "    \"C\"  : 2,\r\n",
    "    \"D+\" : 1.5,\r\n",
    "    \"D\"  : 1,\r\n",
    "    \"F\"  : 0\r\n",
    "}\r\n",
    "list(grade.keys())"
   ],
   "outputs": [
    {
     "output_type": "execute_result",
     "data": {
      "text/plain": [
       "['A', 'B+', 'B', 'C+', 'C', 'D+', 'D', 'F']"
      ]
     },
     "metadata": {},
     "execution_count": 67
    }
   ],
   "metadata": {}
  },
  {
   "cell_type": "code",
   "execution_count": 68,
   "source": [
    "for i in example_studict:\r\n",
    "    print(i)"
   ],
   "outputs": [
    {
     "output_type": "stream",
     "name": "stdout",
     "text": [
      "{'name': 'vjump', 'subject': {'Physic I': 'A', 'Math I': 'B', 'Land of Smile': 'C', 'Intro Japanese': 'D'}}\n",
      "{'name': 'john', 'subject': {'Physic I': 'F', 'Math I': 'F', 'Land of Smile': 'D', 'Intro Japanese': 'A'}}\n"
     ]
    }
   ],
   "metadata": {}
  },
  {
   "cell_type": "code",
   "execution_count": 70,
   "source": [
    "subDic = {'Physic I': 3, 'Lab Physic I': 1, 'Math I': 3, 'Com Programming': 3, 'Thai Lang Com': 3, 'Art of Living': 3, 'Land of Smile': 3, 'Intro Japanese': 3}\r\n",
    "subList = ['Physic I', 'Lab Physic I', 'Math I', 'Com Programming', 'Thai Lang Com', 'Art of Living', 'Land of Smile', 'Intro Japanese']"
   ],
   "outputs": [],
   "metadata": {}
  },
  {
   "cell_type": "code",
   "execution_count": 71,
   "source": [
    "def printSubList():\r\n",
    "    for items in range(len(subList)):\r\n",
    "        text = f\"[{subList.index(subList[items])+1}] {subList[items]}\"\r\n",
    "        if items % 2 != 0:\r\n",
    "            print(f\"{text}\".ljust(25))\r\n",
    "        else:\r\n",
    "            print(f\"{text}\".ljust(25), end=\"\")"
   ],
   "outputs": [],
   "metadata": {}
  },
  {
   "cell_type": "code",
   "execution_count": 72,
   "source": [
    "def AddSubject(student_name):\r\n",
    "    student_subject_with_grade = {}\r\n",
    "    while True:\r\n",
    "        printSubList()\r\n",
    "        try:\r\n",
    "            menu = int(input('Select either subject [1]..[8] or 0: '))\r\n",
    "            if menu == 0:\r\n",
    "                break\r\n",
    "            if menu in list(range(1,9)):\r\n",
    "                yourgrade = input(f'Enter grade you get for [{subList[menu-1]}]: ').upper()\r\n",
    "                if yourgrade not in list(grade.keys()):\r\n",
    "                    raise ValueError\r\n",
    "                else:\r\n",
    "                    student_subject_with_grade.setdefault(subList[menu-1],yourgrade)\r\n",
    "            else:\r\n",
    "                print(\"ERROR: only integer 1..8 accepted!\")\r\n",
    "                continue\r\n",
    "            print(student_subject_with_grade)\r\n",
    "        except ValueError:\r\n",
    "            print(\"ERROR: either of A,B+,B,..F is accepted!\")\r\n",
    "            continue      \r\n",
    "    print(student_name,end=\" \")\r\n",
    "    print(student_subject_with_grade)    \r\n",
    "    return student_subject_with_grade\r\n"
   ],
   "outputs": [],
   "metadata": {}
  },
  {
   "cell_type": "code",
   "execution_count": 73,
   "source": [
    "def calgrade(example_studict):\r\n",
    "    grade_keep = []\r\n",
    "    weight = []\r\n",
    "    subject_grade_list = list((example_studict[\"subject\"]).items())\r\n",
    "    for i in subject_grade_list:\r\n",
    "        x = subDic[i[0]] * grade[i[1]]\r\n",
    "        y = subDic[i[0]]\r\n",
    "        grade_keep.append(x)\r\n",
    "        weight.append(y)\r\n",
    "    print(\" GPA: \",end=\"\")\r\n",
    "    print(f\"{(sum(grade_keep))/(sum(weight)):.2f}\")"
   ],
   "outputs": [],
   "metadata": {}
  },
  {
   "cell_type": "code",
   "execution_count": 74,
   "source": [
    "def print_grade(example_studict):\r\n",
    "    for k in range(len(example_studict)):\r\n",
    "        this_example_student_grade = list(example_studict[k][\"subject\"].items())\r\n",
    "        print(f\"Name: {example_studict[k]['name']}\")\r\n",
    "        for m in this_example_student_grade:\r\n",
    "            print(f\"{m[0]} ({m[1]})\",end=\", \")\r\n",
    "        print(\"\\r\")\r\n",
    "        calgrade(example_studict[k])"
   ],
   "outputs": [],
   "metadata": {}
  },
  {
   "cell_type": "code",
   "execution_count": 75,
   "source": [
    "student_dict = []\r\n",
    "def AddStudent():\r\n",
    "    while True:\r\n",
    "        student_data = {}\r\n",
    "        student_name = input(\"Enter student's name or press ENTER to end: \")\r\n",
    "        if student_name == \"\":\r\n",
    "            print_grade(student_dict)\r\n",
    "            break\r\n",
    "        student_data.setdefault(\"name\",student_name)\r\n",
    "        student_data.setdefault(\"subject\",AddSubject(student_name))\r\n",
    "        student_dict.append(student_data)\r\n",
    "AddStudent()"
   ],
   "outputs": [
    {
     "output_type": "stream",
     "name": "stdout",
     "text": [
      "[1] Physic I             [2] Lab Physic I         \n",
      "[3] Math I               [4] Com Programming      \n",
      "[5] Thai Lang Com        [6] Art of Living        \n",
      "[7] Land of Smile        [8] Intro Japanese       \n",
      "{'Physic I': 'A'}\n",
      "{'Physic I': 'A', 'Lab Physic I': 'B'}\n",
      "vjump {'Physic I': 'A', 'Lab Physic I': 'B'}\n",
      "Name: vjump\n",
      "Physic I (A), Lab Physic I (B), \n",
      " GPA: 3.75\n"
     ]
    }
   ],
   "metadata": {}
  }
 ],
 "metadata": {
  "orig_nbformat": 4,
  "language_info": {
   "name": "python",
   "version": "3.8.8",
   "mimetype": "text/x-python",
   "codemirror_mode": {
    "name": "ipython",
    "version": 3
   },
   "pygments_lexer": "ipython3",
   "nbconvert_exporter": "python",
   "file_extension": ".py"
  },
  "kernelspec": {
   "name": "python3",
   "display_name": "Python 3.8.8 64-bit ('base': conda)"
  },
  "interpreter": {
   "hash": "430f1c63627d9b863fc174d5b288526dd274c8851c8551f402fcf24b846224bb"
  }
 },
 "nbformat": 4,
 "nbformat_minor": 2
}