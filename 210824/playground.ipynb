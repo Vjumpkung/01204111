{
 "cells": [
  {
   "cell_type": "code",
   "execution_count": 11,
   "source": [
    "studDic = {'Kun Toto': {'Physic I': 'A', 'Lab Physic I': 'C+', 'Thai Lang Com': 'B+', 'Land of Smile': 'D', 'Intro Japanese': 'B+'}, 'Somchai Rukdee': {'Lab Physic I': 'B+', 'Physic I': 'B', 'Math I': 'C', 'Com Programming': 'D', 'Thai Lang Com': 'F', 'Art of Living': 'A', 'Land of Smile': 'A'}}"
   ],
   "outputs": [],
   "metadata": {}
  },
  {
   "cell_type": "code",
   "execution_count": 27,
   "source": [
    "with open(\"studentDic.txt\" , \"w\") as fp:\r\n",
    "    for n,v in studDic.items():\r\n",
    "        print(f\"{n}\",end=\"\")\r\n",
    "        fp.write(f\"{n}\")\r\n",
    "        for s,g in v.items():\r\n",
    "            print(f\",{s},{g}\",end=\"\")\r\n",
    "            fp.write(f\",{s},{g}\")\r\n",
    "        print()\r\n",
    "        fp.write(\"\\n\")"
   ],
   "outputs": [
    {
     "output_type": "stream",
     "name": "stdout",
     "text": [
      "Kun Toto,Physic I,A,Lab Physic I,C+,Thai Lang Com,B+,Land of Smile,D,Intro Japanese,B+\n",
      "Somchai Rukdee,Lab Physic I,B+,Physic I,B,Math I,C,Com Programming,D,Thai Lang Com,F,Art of Living,A,Land of Smile,A\n"
     ]
    }
   ],
   "metadata": {}
  },
  {
   "cell_type": "code",
   "execution_count": 13,
   "source": [
    "\r\n",
    "fp.close()"
   ],
   "outputs": [
    {
     "output_type": "stream",
     "name": "stdout",
     "text": [
      "Kun Toto,Physic I,A,Lab Physic I,C+,Thai Lang Com,B+,Land of Smile,D,Intro Japanese,B+\n",
      "Somchai Rukdee,Lab Physic I,B+,Physic I,B,Math I,C,Com Programming,D,Thai Lang Com,F,Art of Living,A,Land of Smile,A\n"
     ]
    }
   ],
   "metadata": {}
  },
  {
   "cell_type": "code",
   "execution_count": 41,
   "source": [
    "'''s = \"\"\r\n",
    "s1 = \"\"'''\r\n",
    "with open(\"studentDic.txt\" , \"r\") as fp:\r\n",
    "    s = fp.read()\r\n",
    "    '''for line in fp:\r\n",
    "        s1 += line\r\n",
    "        line = line.strip()\r\n",
    "        print(line)\r\n",
    "        s += line'''\r\n",
    "    #fp.close()\r\n",
    "stdDico = {}\r\n",
    "for line in s.split(\"\\n\"):\r\n",
    "    if line != \"\":\r\n",
    "        w = line.split(\",\")\r\n",
    "        n , v = w[0] , {}\r\n",
    "        for i in range(1,len(w),2):\r\n",
    "            v[w[i]] = w[i+1]\r\n",
    "        stdDico[n] = v\r\n",
    "print(stdDico)\r\n",
    "id(stdDico) == id(studDic)"
   ],
   "outputs": [
    {
     "output_type": "stream",
     "name": "stdout",
     "text": [
      "{'Kun Toto': {'Physic I': 'A', 'Lab Physic I': 'C+', 'Thai Lang Com': 'B+', 'Land of Smile': 'D', 'Intro Japanese': 'B+'}, 'Somchai Rukdee': {'Lab Physic I': 'B+', 'Physic I': 'B', 'Math I': 'C', 'Com Programming': 'D', 'Thai Lang Com': 'F', 'Art of Living': 'A', 'Land of Smile': 'A'}}\n"
     ]
    },
    {
     "output_type": "execute_result",
     "data": {
      "text/plain": [
       "False"
      ]
     },
     "metadata": {},
     "execution_count": 41
    }
   ],
   "metadata": {}
  }
 ],
 "metadata": {
  "orig_nbformat": 4,
  "language_info": {
   "name": "python",
   "version": "3.8.8",
   "mimetype": "text/x-python",
   "codemirror_mode": {
    "name": "ipython",
    "version": 3
   },
   "pygments_lexer": "ipython3",
   "nbconvert_exporter": "python",
   "file_extension": ".py"
  },
  "kernelspec": {
   "name": "python3",
   "display_name": "Python 3.8.8 64-bit ('base': conda)"
  },
  "interpreter": {
   "hash": "430f1c63627d9b863fc174d5b288526dd274c8851c8551f402fcf24b846224bb"
  }
 },
 "nbformat": 4,
 "nbformat_minor": 2
}