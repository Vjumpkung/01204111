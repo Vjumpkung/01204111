{
 "cells": [
  {
   "cell_type": "markdown",
   "source": [
    "# Write a program to analyse the below csv data to answer these two questions? "
   ],
   "metadata": {}
  },
  {
   "cell_type": "code",
   "execution_count": null,
   "source": [
    "def read_data():\r\n",
    "    with open(\"amazon-orders.txt\" , mode=\"r\") as csv_file:\r\n",
    "        data = None # Your code here\r\n",
    "    return data # ส่วนนี้สามารถ return เป็นอย่างอื่นได้นะ"
   ],
   "outputs": [],
   "metadata": {}
  },
  {
   "cell_type": "markdown",
   "source": [
    "# How much had I spent each day? เราจ่ายไปวันละเท่าไหร่นะ ?"
   ],
   "metadata": {}
  },
  {
   "cell_type": "code",
   "execution_count": null,
   "source": [
    "def spend_each_day(data):\r\n",
    "    # Your code here\r\n",
    "    return None"
   ],
   "outputs": [],
   "metadata": {}
  },
  {
   "cell_type": "markdown",
   "source": [
    "# How much and which day had I got the most promotion amount? วันไหนได้ส่วนลดเยอะสุด ?"
   ],
   "metadata": {}
  },
  {
   "cell_type": "code",
   "execution_count": null,
   "source": [
    "def most_promotion(data):\r\n",
    "    # Your code here\r\n",
    "    return None"
   ],
   "outputs": [],
   "metadata": {}
  },
  {
   "cell_type": "markdown",
   "source": [
    "# Run Program Here"
   ],
   "metadata": {}
  },
  {
   "cell_type": "code",
   "execution_count": null,
   "source": [
    "def main():\r\n",
    "    # Your code here\r\n",
    "    return None\r\n",
    "main()"
   ],
   "outputs": [],
   "metadata": {}
  },
  {
   "cell_type": "markdown",
   "source": [
    "# Example output  \r\n",
    "## ข้อที่ 1 How much had I spent each day?\r\n",
    "```\r\n",
    " {'04/01/19': 63.910000000000004,\r\n",
    "  '04/04/19': 156.12,\r\n",
    "  '04/05/19': 27.64,\r\n",
    "  '04/07/19': 40.63,\r\n",
    "  '04/08/19': 44.99,\r\n",
    "  '04/20/19': 28.8,\r\n",
    "  '04/23/19': 37.08,\r\n",
    "  '05/05/19': 12.99,\r\n",
    "  '05/06/19': 7.6,\r\n",
    "  '05/10/19': 27.99,\r\n",
    "  '05/14/19': 16.16,\r\n",
    "  '05/18/19': 10.5,\r\n",
    "  '05/19/19': 38.89,\r\n",
    "  '05/21/19': 30.42,\r\n",
    "  '05/22/19': 62.739999999999995,\r\n",
    "  '05/24/19': 7.67,\r\n",
    "  '05/25/19': 9.8,\r\n",
    "  '05/28/19': 13.95,\r\n",
    "  '05/29/19': 9.99,\r\n",
    "  '05/30/19': 45.379999999999995,\r\n",
    "  '06/03/19': 42.87,\r\n",
    "  '06/05/19': 12.26,\r\n",
    "  '06/18/19': 12.64,\r\n",
    "  '06/25/19': 62.58,\r\n",
    "  '07/03/19': 69.57,\r\n",
    "  '07/06/19': 447.36,\r\n",
    "  '07/07/19': 41.97,\r\n",
    "  '07/09/19': 16.46,\r\n",
    "  '07/17/19': 38.5,\r\n",
    "  '07/18/19': 145.88,\r\n",
    "  '07/21/19': 12.61,\r\n",
    "  '07/23/19': 45.29,\r\n",
    "  '07/30/19': 42.33,\r\n",
    "  '07/31/19': 94.16}\r\n",
    "```\r\n",
    "## ข้อที่ 2 How much and which day had I got the most promotion amount?\r\n",
    "```\r\n",
    "  (15.0, '07/30/19')\r\n",
    "```\r\n",
    "# สิ่งที่ได้จากเรื่องนี้  \r\n",
    "  - ## list tuple\r\n",
    "  - ## list comprehension\r\n",
    "  - ## dictionary\r\n",
    "  - ## zip\r\n",
    "  - ## การใช้งาน def ให้ถูกต้อง\r\n",
    "  - ## การอ่านข้อมูลจาก txt"
   ],
   "metadata": {}
  }
 ],
 "metadata": {
  "orig_nbformat": 4,
  "language_info": {
   "name": "python",
   "version": "3.6.13",
   "mimetype": "text/x-python",
   "codemirror_mode": {
    "name": "ipython",
    "version": 3
   },
   "pygments_lexer": "ipython3",
   "nbconvert_exporter": "python",
   "file_extension": ".py"
  },
  "kernelspec": {
   "name": "python3",
   "display_name": "Python 3.8.8 64-bit ('base': conda)"
  },
  "interpreter": {
   "hash": "430f1c63627d9b863fc174d5b288526dd274c8851c8551f402fcf24b846224bb"
  }
 },
 "nbformat": 4,
 "nbformat_minor": 2
}