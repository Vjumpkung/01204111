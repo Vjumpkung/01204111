{
 "cells": [
  {
   "cell_type": "code",
   "execution_count": 7,
   "source": [
    "grade = {\r\n",
    "    \"A\"  : 4,\r\n",
    "    \"B+\" : 3.5,\r\n",
    "    \"B\"  : 3,\r\n",
    "    \"C+\" : 2.5,\r\n",
    "    \"C\"  : 2,\r\n",
    "    \"D+\" : 1.5,\r\n",
    "    \"D\"  : 1,\r\n",
    "    \"F\"  : 0\r\n",
    "}\r\n",
    "subDic = {'Physic I': 3, 'Lab Physic I': 1, 'Math I': 3, 'Com Programming': 3, 'Thai Lang Com': 3, 'Art of Living': 3, 'Land of Smile': 3, 'Intro Japanese': 3}\r\n",
    "subList = ['Physic I', 'Lab Physic I', 'Math I', 'Com Programming', 'Thai Lang Com', 'Art of Living', 'Land of Smile', 'Intro Japanese']"
   ],
   "outputs": [],
   "metadata": {}
  },
  {
   "cell_type": "code",
   "execution_count": 8,
   "source": [
    "def AddSubject(student_name):\r\n",
    "    student_subject_with_grade = {}\r\n",
    "    while True:\r\n",
    "        printSubList()\r\n",
    "        try:\r\n",
    "            menu = int(input('Select either subject [1]..[8] or 0: '))\r\n",
    "            if menu == 0:\r\n",
    "                break\r\n",
    "            if menu in list(range(1,9)):\r\n",
    "                try:\r\n",
    "                    yourgrade = input(f'Enter grade you get for [{subList[menu-1]}]: ').upper()\r\n",
    "                    if yourgrade not in list(grade.keys()):\r\n",
    "                        raise ValueError\r\n",
    "                    else:\r\n",
    "                        student_subject_with_grade.setdefault(subList[menu-1],yourgrade)\r\n",
    "                except ValueError:\r\n",
    "                    print(\"ERROR: either of A,B+,B,..F is accepted!\")\r\n",
    "            else:\r\n",
    "                print(\"ERROR: only integer 1..8 accepted!\")\r\n",
    "                continue\r\n",
    "            print(student_subject_with_grade)\r\n",
    "        except ValueError:\r\n",
    "            print(\"ERROR: only integer 1..8 accepted!\")\r\n",
    "    print(student_name,end=\" \")\r\n",
    "    print(student_subject_with_grade)    \r\n",
    "    return student_subject_with_grade\r\n"
   ],
   "outputs": [],
   "metadata": {}
  },
  {
   "cell_type": "code",
   "execution_count": 9,
   "source": [
    "def printSubList():\r\n",
    "    for items in range(len(subList)):\r\n",
    "        text = f\"[{subList.index(subList[items])+1}] {subList[items]}\"\r\n",
    "        if items % 2 != 0:\r\n",
    "            print(f\"{text}\".ljust(25))\r\n",
    "        else:\r\n",
    "            print(f\"{text}\".ljust(25), end=\"\")"
   ],
   "outputs": [],
   "metadata": {}
  },
  {
   "cell_type": "code",
   "execution_count": 10,
   "source": [
    "def calgrade(example_studict):\r\n",
    "    grade_keep = []\r\n",
    "    weight = []\r\n",
    "    subject_grade_list = list((example_studict[\"subject\"]).items())\r\n",
    "    for i in subject_grade_list:\r\n",
    "        x = subDic[i[0]] * grade[i[1]]\r\n",
    "        y = subDic[i[0]]\r\n",
    "        grade_keep.append(x)\r\n",
    "        weight.append(y)\r\n",
    "    print(\" GPA: \",end=\"\")\r\n",
    "    print(f\"{(sum(grade_keep))/(sum(weight)):.2f}\")"
   ],
   "outputs": [],
   "metadata": {}
  },
  {
   "cell_type": "code",
   "execution_count": 11,
   "source": [
    "def print_grade(example_studict):\r\n",
    "    for k in range(len(example_studict)):\r\n",
    "        this_example_student_grade = list(example_studict[k][\"subject\"].items())\r\n",
    "        print(f\"Name: {example_studict[k]['name']}\")\r\n",
    "        for m in this_example_student_grade:\r\n",
    "            print(f\"{m[0]} ({m[1]})\",end=\", \")\r\n",
    "        print(\"\\r\")\r\n",
    "        calgrade(example_studict[k])"
   ],
   "outputs": [],
   "metadata": {}
  },
  {
   "cell_type": "code",
   "execution_count": 12,
   "source": [
    "student_dict = []\r\n",
    "def AddStudent():\r\n",
    "    while True:\r\n",
    "        student_data = {}\r\n",
    "        student_name = input(\"Enter student's name or press ENTER to end: \")\r\n",
    "        if student_name == \"\":\r\n",
    "            print_grade(student_dict)\r\n",
    "            break\r\n",
    "        student_data.setdefault(\"name\",student_name)\r\n",
    "        student_data.setdefault(\"subject\",AddSubject(student_name))\r\n",
    "        student_dict.append(student_data)\r\n",
    "AddStudent()"
   ],
   "outputs": [
    {
     "output_type": "stream",
     "name": "stdout",
     "text": [
      "[1] Physic I             [2] Lab Physic I         \n",
      "[3] Math I               [4] Com Programming      \n",
      "[5] Thai Lang Com        [6] Art of Living        \n",
      "[7] Land of Smile        [8] Intro Japanese       \n",
      "ERROR: only integer 1..8 accepted!\n",
      "[1] Physic I             [2] Lab Physic I         \n",
      "[3] Math I               [4] Com Programming      \n",
      "[5] Thai Lang Com        [6] Art of Living        \n",
      "[7] Land of Smile        [8] Intro Japanese       \n",
      "{'Physic I': 'A'}\n",
      "[1] Physic I             [2] Lab Physic I         \n",
      "[3] Math I               [4] Com Programming      \n",
      "[5] Thai Lang Com        [6] Art of Living        \n",
      "[7] Land of Smile        [8] Intro Japanese       \n",
      "vjump {'Physic I': 'A'}\n",
      "Name: vjump\n",
      "Physic I (A), \n",
      " GPA: 4.0\n"
     ]
    }
   ],
   "metadata": {}
  }
 ],
 "metadata": {
  "orig_nbformat": 4,
  "language_info": {
   "name": "python",
   "version": "3.6.13",
   "mimetype": "text/x-python",
   "codemirror_mode": {
    "name": "ipython",
    "version": 3
   },
   "pygments_lexer": "ipython3",
   "nbconvert_exporter": "python",
   "file_extension": ".py"
  },
  "kernelspec": {
   "name": "python3",
   "display_name": "Python 3.6.13 64-bit ('elab': conda)"
  },
  "interpreter": {
   "hash": "15bb5b5caed0bbca38a2f71d04205bf45dd89b88527a22cde4771643e1402263"
  }
 },
 "nbformat": 4,
 "nbformat_minor": 2
}