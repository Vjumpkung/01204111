{
 "cells": [
  {
   "cell_type": "code",
   "execution_count": 6,
   "metadata": {},
   "outputs": [
    {
     "name": "stdout",
     "output_type": "stream",
     "text": [
      "51\n"
     ]
    }
   ],
   "source": [
    "i = 0\r\n",
    "while True:\r\n",
    "    if i == 0:\r\n",
    "        ur_score = int(input(\"Enter your score : \"))\r\n",
    "    else:\r\n",
    "        ur_score = int(input(\"Error score... Enter your score again : \"))\r\n",
    "    if ur_score < 0 or ur_score > 100:\r\n",
    "        i = i+1\r\n",
    "    else:\r\n",
    "        break\r\n",
    "    \r\n",
    "if 0 <= ur_score <= 49:\r\n",
    "    print(\"Grade F\")\r\n",
    "elif 50 <= ur_score <= 59:\r\n",
    "    print(\"Grade D\")\r\n",
    "elif 60 <= ur_score <= 69:\r\n",
    "    print(\"Grade C\")\r\n",
    "elif 70 <= ur_score <= 79:\r\n",
    "    print(\"Grade B\")\r\n",
    "elif 80 <= ur_score <= 100:\r\n",
    "    print(\"Grade A\")"
   ]
  }
 ],
 "metadata": {
  "interpreter": {
   "hash": "2db524e06e9f5f4ffedc911c917cb75e12dbc923643829bf417064a77eb14d37"
  },
  "kernelspec": {
   "display_name": "Python 3.8.8 64-bit",
   "name": "python3"
  },
  "language_info": {
   "codemirror_mode": {
    "name": "ipython",
    "version": 3
   },
   "file_extension": ".py",
   "mimetype": "text/x-python",
   "name": "python",
   "nbconvert_exporter": "python",
   "pygments_lexer": "ipython3",
   "version": "3.8.8"
  },
  "orig_nbformat": 4
 },
 "nbformat": 4,
 "nbformat_minor": 2
}