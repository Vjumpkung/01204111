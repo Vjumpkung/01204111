{
 "cells": [
  {
   "cell_type": "code",
   "execution_count": null,
   "metadata": {},
   "outputs": [],
   "source": [
    "while True:\r\n",
    "    input_pole = int(input(\"number of electric poles : \"))\r\n",
    "    if input_pole > 1:\r\n",
    "        break\r\n",
    "    else:\r\n",
    "        continue\r\n",
    "i = 1\r\n",
    "pricelist = []\r\n",
    "while i <= input_pole:\r\n",
    "    get_price = int(input())\r\n",
    "    pricelist.append(get_price)\r\n",
    "    i = i+1\r\n",
    "pricelist.sort()\r\n",
    "if max(pricelist) > int(pricelist[-2])*3:\r\n",
    "    print(\"YES\")\r\n",
    "    print(max(pricelist))\r\n",
    "else:\r\n",
    "    print(\"NO\")\r\n"
   ]
  },
  {
   "cell_type": "code",
   "execution_count": null,
   "metadata": {},
   "outputs": [],
   "source": [
    "kilo = int(input(\"Input distance(kilometer): \"))\r\n",
    "minute = kilo*10\r\n",
    "hour = minute//60\r\n",
    "remiander_from_hour = minute%60\r\n",
    "if minute == 60:\r\n",
    "    total_time = remiander_from_hour\r\n",
    "else:\r\n",
    "    additional_time = hour*10\r\n",
    "    total_time = remiander_from_hour + additional_time\r\n",
    "print(f\"It takes {hour} hours and {total_time} minutes to reach the destination.\")"
   ]
  },
  {
   "cell_type": "code",
   "execution_count": 63,
   "metadata": {},
   "outputs": [
    {
     "name": "stdout",
     "output_type": "stream",
     "text": [
      "Police distance: 20456\n",
      "Criminal distance: 102\n",
      "Caught him!\n"
     ]
    }
   ],
   "source": [
    "i = 1\r\n",
    "player_speed = 0\r\n",
    "police_distance = []\r\n",
    "while True:\r\n",
    "    police_distance_input = int(input(\"Input distance: \"))\r\n",
    "    police_distance.append(police_distance_input)\r\n",
    "    print(f\"Police distance: {sum(police_distance)}\")\r\n",
    "    player_speed = player_speed + 2**i\r\n",
    "    criminal_distence = 100 + player_speed\r\n",
    "    print(f\"Criminal distance: {criminal_distence}\")\r\n",
    "    i = i+1\r\n",
    "    if sum(police_distance) >= criminal_distence:\r\n",
    "        print(\"Caught him!\")\r\n",
    "        break\r\n",
    "    else:\r\n",
    "        continue\r\n"
   ]
  },
  {
   "cell_type": "code",
   "execution_count": null,
   "metadata": {},
   "outputs": [],
   "source": [
    "O_input = int(input())\r\n",
    "i = 1\r\n",
    "while i <= O_input:\r\n",
    "    print(\"O\"*i,end=\"\")\r\n",
    "    print(\"\\r\")\r\n",
    "    i = i+1"
   ]
  },
  {
   "cell_type": "code",
   "execution_count": 69,
   "metadata": {},
   "outputs": [
    {
     "name": "stdout",
     "output_type": "stream",
     "text": [
      "20456 seconds equals 5 hour(s) 40 minute(s) and 56 second(s)\n"
     ]
    }
   ],
   "source": [
    "wi_na_tee = int(input(\"s: \"))\r\n",
    "hours = int(wi_na_tee//3600)\r\n",
    "minute = int((wi_na_tee - (hours*3600))//60)\r\n",
    "seconds = wi_na_tee - (minute*60) - (hours*3600)\r\n",
    "print(f\"{wi_na_tee} seconds equals {hours} hour(s) {minute} minute(s) and {seconds} second(s)\")"
   ]
  },
  {
   "cell_type": "code",
   "execution_count": 80,
   "metadata": {},
   "outputs": [
    {
     "name": "stdout",
     "output_type": "stream",
     "text": [
      "Summary price = 189.00\n"
     ]
    }
   ],
   "source": [
    "all_of_price = []\r\n",
    "how_many_days = int(input(\"How many day : \"))\r\n",
    "i = 1\r\n",
    "while i <= how_many_days:\r\n",
    "    input_it = float(input(f\"Input price in day {i} : \"))\r\n",
    "    all_of_price.append(input_it)\r\n",
    "    i = i+1\r\n",
    "discount = 0.95\r\n",
    "for j in range(len(all_of_price)):\r\n",
    "    all_of_price[j] = all_of_price[j]*discount\r\n",
    "    discount = discount - 0.01\r\n",
    "txt = \"Summary price = {total_all_of_price:.2f}\"\r\n",
    "print(txt.format(total_all_of_price = sum(all_of_price)))"
   ]
  },
  {
   "cell_type": "code",
   "execution_count": null,
   "metadata": {},
   "outputs": [],
   "source": []
  }
 ],
 "metadata": {
  "interpreter": {
   "hash": "2db524e06e9f5f4ffedc911c917cb75e12dbc923643829bf417064a77eb14d37"
  },
  "kernelspec": {
   "display_name": "Python 3.8.8 64-bit",
   "name": "python3"
  },
  "language_info": {
   "codemirror_mode": {
    "name": "ipython",
    "version": 3
   },
   "file_extension": ".py",
   "mimetype": "text/x-python",
   "name": "python",
   "nbconvert_exporter": "python",
   "pygments_lexer": "ipython3",
   "version": "3.8.8"
  },
  "orig_nbformat": 4
 },
 "nbformat": 4,
 "nbformat_minor": 2
}