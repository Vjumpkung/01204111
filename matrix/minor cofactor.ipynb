{
 "cells": [
  {
   "cell_type": "code",
   "execution_count": 261,
   "source": [
    "import numpy as np"
   ],
   "outputs": [],
   "metadata": {}
  },
  {
   "cell_type": "code",
   "execution_count": 262,
   "source": [
    "A = np.array([[ 8,  2, 14, 12],\r\n",
    "              [14, 15, 15,  3],\r\n",
    "              [18, 18,  7,  0],\r\n",
    "              [ 7,  5, 13,  0]])"
   ],
   "outputs": [],
   "metadata": {}
  },
  {
   "cell_type": "code",
   "execution_count": 265,
   "source": [
    "def minor(A,i,j):\r\n",
    "    A = np.delete(A,i-1,axis=0)\r\n",
    "    A = np.delete(A,j-1,axis=1)\r\n",
    "    return A"
   ],
   "outputs": [],
   "metadata": {}
  },
  {
   "cell_type": "code",
   "execution_count": 266,
   "source": [
    "def cofactor(A,i,j):\r\n",
    "    A = minor(A,i,j)\r\n",
    "    return (-1)**(i+j)*round(np.linalg.det(A),2)"
   ],
   "outputs": [],
   "metadata": {}
  },
  {
   "cell_type": "code",
   "execution_count": 267,
   "source": [
    "cofactor(A,4,3) # think in math way"
   ],
   "outputs": [
    {
     "output_type": "execute_result",
     "data": {
      "text/plain": [
       "540.0"
      ]
     },
     "metadata": {},
     "execution_count": 267
    }
   ],
   "metadata": {}
  }
 ],
 "metadata": {
  "orig_nbformat": 4,
  "language_info": {
   "name": "python",
   "version": "3.8.8",
   "mimetype": "text/x-python",
   "codemirror_mode": {
    "name": "ipython",
    "version": 3
   },
   "pygments_lexer": "ipython3",
   "nbconvert_exporter": "python",
   "file_extension": ".py"
  },
  "kernelspec": {
   "name": "python3",
   "display_name": "Python 3.8.8 64-bit ('base': conda)"
  },
  "interpreter": {
   "hash": "430f1c63627d9b863fc174d5b288526dd274c8851c8551f402fcf24b846224bb"
  }
 },
 "nbformat": 4,
 "nbformat_minor": 2
}