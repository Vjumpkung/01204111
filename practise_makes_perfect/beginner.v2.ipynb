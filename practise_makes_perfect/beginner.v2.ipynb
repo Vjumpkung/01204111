{
 "metadata": {
  "language_info": {
   "codemirror_mode": {
    "name": "ipython",
    "version": 3
   },
   "file_extension": ".py",
   "mimetype": "text/x-python",
   "name": "python",
   "nbconvert_exporter": "python",
   "pygments_lexer": "ipython3",
   "version": "3.6.13"
  },
  "orig_nbformat": 4,
  "kernelspec": {
   "name": "python3",
   "display_name": "Python 3.6.13 64-bit ('elab': conda)"
  },
  "interpreter": {
   "hash": "15bb5b5caed0bbca38a2f71d04205bf45dd89b88527a22cde4771643e1402263"
  }
 },
 "nbformat": 4,
 "nbformat_minor": 2,
 "cells": [
  {
   "cell_type": "code",
   "execution_count": null,
   "source": [
    "#simpleCalculator\r\n",
    "def plus (x,y) :\r\n",
    "    return x+y\r\n",
    "def minus (x,y) :\r\n",
    "    return x-y\r\n",
    "def multiply (x,y):\r\n",
    "    return x*y\r\n",
    "def division (x,y):\r\n",
    "    return x/y\r\n",
    "def modulo (x,y):\r\n",
    "    return x%y\r\n",
    "x = int(input(\"x: \"))\r\n",
    "operator = input(\"Operator: \")\r\n",
    "y = int(input(\"y: \"))\r\n",
    "if operator == \"+\":\r\n",
    "    print(plus(x,y))\r\n",
    "elif operator == \"-\":\r\n",
    "    print(minus(x,y))\r\n",
    "elif operator == \"*\":\r\n",
    "    print(multiply(x,y))\r\n",
    "elif operator == \"/\":\r\n",
    "    print(f\"{division(x,y):.2f}\")\r\n",
    "elif operator == \"%\":\r\n",
    "    print(modulo(x,y))\r\n",
    "else:\r\n",
    "    print(\"Unknown Operator\")"
   ],
   "outputs": [],
   "metadata": {}
  },
  {
   "cell_type": "code",
   "execution_count": 3,
   "source": [
    "#3num_sort\r\n",
    "import time\r\n",
    "def bubble_sort(x,y,z):\r\n",
    "    wait_num = 0\r\n",
    "    while not x <= y <= z:\r\n",
    "        if x >= y :\r\n",
    "            wait_num = y\r\n",
    "            y = x\r\n",
    "            x = wait_num\r\n",
    "        elif y >= z :\r\n",
    "            wait_num = z\r\n",
    "            z = y\r\n",
    "            y = wait_num\r\n",
    "    print(f\"{x} {y} {z}\")\r\n",
    "a = int(input())\r\n",
    "b = int(input())\r\n",
    "c = int(input())\r\n",
    "bubble_sort(a,b,c)"
   ],
   "outputs": [
    {
     "output_type": "stream",
     "name": "stdout",
     "text": [
      "77 88 99\n"
     ]
    }
   ],
   "metadata": {}
  },
  {
   "cell_type": "code",
   "execution_count": null,
   "source": [
    "#qualification\r\n",
    "W = int(input(\"Weight: \"))\r\n",
    "H = int(input(\"Height: \"))\r\n",
    "bmi = (W)/((H/100)**2)\r\n",
    "if bmi >= 30:\r\n",
    "    print(f\"Your BMI is {bmi:.1f} You're in the obese range.\")\r\n",
    "elif 25 <= bmi < 30:\r\n",
    "    print(f\"Your BMI is {bmi:.1f} You're in the overweight range.\")\r\n",
    "elif 18.6 <= bmi < 25:\r\n",
    "    print(f\"Your BMI is {bmi:.1f} You're in the healthy weight range.\")\r\n",
    "else:\r\n",
    "    print(f\"Your BMI is {bmi:.1f} You're in the underweight range.\")"
   ],
   "outputs": [],
   "metadata": {}
  },
  {
   "cell_type": "code",
   "execution_count": 1,
   "source": [
    "#change\r\n",
    "mon = int(input())\r\n",
    "def unoptimized_code_1 (mon):\r\n",
    "    pun = mon // 1000\r\n",
    "    ha_roi = (mon - pun*1000) // 500\r\n",
    "    roi = (mon - pun*1000 - ha_roi*500)//100\r\n",
    "    ha_sib = (mon - pun*1000 - ha_roi*500 - roi*100)//50\r\n",
    "    yee_sib = (mon - pun*1000 - ha_roi*500 - roi*100 - ha_sib*50)//20\r\n",
    "    sib = (mon - pun*1000 - ha_roi*500 - roi*100 - ha_sib*50 - yee_sib*20)//10\r\n",
    "    ha = (mon - pun*1000 - ha_roi*500 - roi*100 - ha_sib*50 - yee_sib*20 - sib*10)//5\r\n",
    "    one = (mon - pun*1000 - ha_roi*500 - roi*100 - ha_sib*50 - yee_sib*20 - sib*10 - ha*5)//1\r\n",
    "    print(f\"1000 => {int(pun)}\")\r\n",
    "    print(f\"500 => {int(ha_roi)}\")\r\n",
    "    print(f\"100 => {int(roi)}\")\r\n",
    "    print(f\"50 => {int(ha_sib)}\")\r\n",
    "    print(f\"20 => {int(yee_sib)}\")\r\n",
    "    print(f\"10 => {int(sib)}\")\r\n",
    "    print(f\"5 => {int(ha)}\")\r\n",
    "    print(f\"1 => {int(one)}\")\r\n",
    "def optimized_code(mon):\r\n",
    "    bank_notes = [1000,500,100,50,20,10,5,1]\r\n",
    "    for i in range(len(bank_notes)):\r\n",
    "        if mon//bank_notes[i] > 0:\r\n",
    "            thorn = mon//bank_notes[i]\r\n",
    "            print(f\"{bank_notes[i]} => {int(thorn)}\")\r\n",
    "            mon = mon - thorn*bank_notes[i]\r\n",
    "optimized_code(mon)"
   ],
   "outputs": [
    {
     "output_type": "stream",
     "name": "stdout",
     "text": [
      "1000 => 5000\n",
      "1 => 1\n"
     ]
    }
   ],
   "metadata": {}
  },
  {
   "cell_type": "code",
   "execution_count": 2,
   "source": [
    "myMonth = [31,28,31,30,31,30,31,31,30,31,30,31]\r\n",
    "d = int(input(\"d: \"))\r\n",
    "m = int(input(\"m: \"))\r\n",
    "y = int(input(\"y: \"))\r\n",
    "if (y % 4 == 0 and y % 100 != 0) or (y % 400 == 0) :\r\n",
    "    myMonth[1] = 29\r\n",
    "print(f\"{d+int(sum(myMonth[0:m-1]))}\")"
   ],
   "outputs": [
    {
     "output_type": "stream",
     "name": "stdout",
     "text": [
      "366\n"
     ]
    }
   ],
   "metadata": {}
  },
  {
   "cell_type": "code",
   "execution_count": null,
   "source": [
    "input_loop = [\"a\",\"b\",\"c\",\"d\",\"e\"]\r\n",
    "my_data = []\r\n",
    "for i in range(len(input_loop)):\r\n",
    "    my_data.append(int(input(f\"Input {input_loop[i]}: \")))\r\n",
    "u = sum(my_data)/len(my_data)\r\n",
    "def xminusmean (x):\r\n",
    "    return (x - u)**2\r\n",
    "sd = (sum(list(map(xminusmean,my_data)))/len(my_data))**0.5\r\n",
    "print(f\"mean: {u:.3f}\")\r\n",
    "print(f\"sd: {sd:.3f}\")"
   ],
   "outputs": [],
   "metadata": {}
  },
  {
   "cell_type": "code",
   "execution_count": null,
   "source": [
    "def letterstonumber(x):\r\n",
    "    if x == \"A\":\r\n",
    "        return 4\r\n",
    "    elif x == \"B+\":\r\n",
    "        return 3.5\r\n",
    "    elif x == \"B\":\r\n",
    "        return 3\r\n",
    "    elif x == \"C+\":\r\n",
    "        return 2.5\r\n",
    "    elif x == \"C\":\r\n",
    "        return 2\r\n",
    "    elif x == \"D+\":\r\n",
    "        return 1.5\r\n",
    "    elif x == \"D\":\r\n",
    "        return 1\r\n",
    "    else:\r\n",
    "        return 0\r\n",
    "allcredit = 0\r\n",
    "top = 0\r\n",
    "for i in range(1,int(input(\"How many subject: \"))+1):\r\n",
    "    credit = int(input(f\"Subject {i} Credits: \"))\r\n",
    "    grade = input(f\"Subject {i} Grade: \")\r\n",
    "    grade = letterstonumber(grade)\r\n",
    "    top = top + credit*grade\r\n",
    "    allcredit = allcredit + credit\r\n",
    "print(f\"Output: Total Credit = {allcredit:.1f} ,GPA = {top/allcredit:.2f}\")"
   ],
   "outputs": [],
   "metadata": {}
  },
  {
   "cell_type": "code",
   "execution_count": null,
   "source": [
    "n = int(input(\"input: \"))\r\n",
    "for a1 in range(1, (n+1)//2 + 1):\r\n",
    "    for a2 in range((n+1)//2 - a1):\r\n",
    "        print(\" \", end = \"\")\r\n",
    "    for a3 in range((a1*2)-1):\r\n",
    "        print(\"#\", end = \"\")\r\n",
    "    print()\r\n",
    "\r\n",
    "for a1 in range((n+1)//2 + 1, n + 1):\r\n",
    "    for a2 in range(a1 - (n+1)//2):\r\n",
    "        print(\" \", end = \"\")\r\n",
    "    for a3 in range((n+1 - a1)*2 - 1):\r\n",
    "        print(\"#\", end = \"\")\r\n",
    "    print()"
   ],
   "outputs": [],
   "metadata": {}
  },
  {
   "cell_type": "code",
   "execution_count": null,
   "source": [
    "while True: \r\n",
    "    deci = int(input(\"Input Decimal: \"))\r\n",
    "    if deci == -1:\r\n",
    "        print(\"Good bye.\")\r\n",
    "        break\r\n",
    "    h = hex(deci)\r\n",
    "    print(f\"Hex: {(str(h[2:len(h)])).upper()}\")"
   ],
   "outputs": [],
   "metadata": {}
  },
  {
   "cell_type": "code",
   "execution_count": null,
   "source": [
    "g = float(input(\"Input Gold: \"))\r\n",
    "if g < 1000 :\r\n",
    "    print(\"Not enough gold.\")\r\n",
    "elif 1000 <= g < 2000 :\r\n",
    "    print(\" ooooooo\\nooooooooo\\nooooooooo\\nooooooooo\\n ooooooo\\n    o\\n    o\\n    o\\n   ooo\\n    o\")\r\n",
    "elif 2000 <= g < 3000:\r\n",
    "    print(\" oooooooooo\\noooooooooooo\\noooooooooooo\\noooooooooooo\\noooooooooooo\\noooooooooooo\\n oooooooooo\\n     oo\\n     oo\\n     oo\\n     oo\\n    oooo\\n    oooo\\n     oo\")\r\n",
    "elif 3000 <= g < 4000:\r\n",
    "    print(\" ooooooooooooo\\n\"+\"ooooooooooooooo\\n\"*7+\" ooooooooooooo\\n\"+\"      ooo\\n\"*5+\"     ooooo\\n\"*3+\"      ooo\")"
   ],
   "outputs": [],
   "metadata": {}
  },
  {
   "cell_type": "code",
   "execution_count": 7,
   "source": [
    "n = int(input(\"n: \"))\r\n",
    "if n == 1: print(\"+\")\r\n",
    "elif n == 3: print(\"+++\\n\"*3)\r\n",
    "elif n >= 5:\r\n",
    "    j = 1\r\n",
    "    while j <= 3:\r\n",
    "        if j == 1:\r\n",
    "            space = n//2 - 1\r\n",
    "            for i in range(1,n//2+1):\r\n",
    "                print(\" \"*(i-1)+\"+\"+\" \"*space+\"+\"+\" \"*space+\"+\")\r\n",
    "                space = space - 1\r\n",
    "        elif j == 2:\r\n",
    "            print(\"+\"*n)\r\n",
    "        else:\r\n",
    "            space = n//2 - 1\r\n",
    "            for k in range(1,n//2+1):\r\n",
    "                print(\" \"*(space)+\"+\"+\" \"*(k-1)+\"+\"+\" \"*(k-1)+\"+\")\r\n",
    "                space = space - 1\r\n",
    "        j += 1"
   ],
   "outputs": [
    {
     "output_type": "stream",
     "name": "stdout",
     "text": [
      "+        +        +\n",
      " +       +       +\n",
      "  +      +      +\n",
      "   +     +     +\n",
      "    +    +    +\n",
      "     +   +   +\n",
      "      +  +  +\n",
      "       + + +\n",
      "        +++\n",
      "+ + + + + + + + + + + + + + + + + + + \n",
      "        +++\n",
      "       + + +\n",
      "      +  +  +\n",
      "     +   +   +\n",
      "    +    +    +\n",
      "   +     +     +\n",
      "  +      +      +\n",
      " +       +       +\n",
      "+        +        +\n"
     ]
    }
   ],
   "metadata": {}
  }
 ]
}