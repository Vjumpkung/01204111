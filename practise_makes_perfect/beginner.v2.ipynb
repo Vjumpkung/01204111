{
 "metadata": {
  "language_info": {
   "codemirror_mode": {
    "name": "ipython",
    "version": 3
   },
   "file_extension": ".py",
   "mimetype": "text/x-python",
   "name": "python",
   "nbconvert_exporter": "python",
   "pygments_lexer": "ipython3",
   "version": "3.9.6"
  },
  "orig_nbformat": 4,
  "kernelspec": {
   "name": "python3",
   "display_name": "Python 3.9.6 64-bit"
  },
  "interpreter": {
   "hash": "aee8b7b246df8f9039afb4144a1f6fd8d2ca17a180786b69acc140d282b71a49"
  }
 },
 "nbformat": 4,
 "nbformat_minor": 2,
 "cells": [
  {
   "cell_type": "code",
   "execution_count": null,
   "metadata": {},
   "outputs": [],
   "source": [
    "#simpleCalculator\n",
    "def plus (x,y) :\n",
    "    return x+y\n",
    "def minus (x,y) :\n",
    "    return x-y\n",
    "def multiply (x,y):\n",
    "    return x*y\n",
    "def division (x,y):\n",
    "    return x/y\n",
    "def modulo (x,y):\n",
    "    return x%y\n",
    "x = int(input(\"x: \"))\n",
    "operator = input(\"Operator: \")\n",
    "y = int(input(\"y: \"))\n",
    "if operator == \"+\":\n",
    "    print(plus(x,y))\n",
    "elif operator == \"-\":\n",
    "    print(minus(x,y))\n",
    "elif operator == \"*\":\n",
    "    print(multiply(x,y))\n",
    "elif operator == \"/\":\n",
    "    print(f\"{division(x,y):.2f}\")\n",
    "elif operator == \"%\":\n",
    "    print(modulo(x,y))\n",
    "else:\n",
    "    print(\"Unknown Operator\")"
   ]
  },
  {
   "cell_type": "code",
   "execution_count": null,
   "metadata": {},
   "outputs": [],
   "source": [
    "#3num_sort\n",
    "import time\n",
    "def bubble_sort(x,y,z):\n",
    "    wait_num = 0\n",
    "    while True:\n",
    "        if x <= y <= z :\n",
    "            break\n",
    "        elif x >= y :\n",
    "            wait_num = y\n",
    "            y = x\n",
    "            x = wait_num\n",
    "        elif y >= z :\n",
    "            wait_num = z\n",
    "            z = y\n",
    "            y = wait_num\n",
    "    print(f\"{x} {y} {z}\")\n",
    "a = int(input())\n",
    "b = int(input())\n",
    "c = int(input())\n",
    "bubble_sort(a,b,c)"
   ]
  },
  {
   "cell_type": "code",
   "execution_count": null,
   "metadata": {},
   "outputs": [],
   "source": [
    "#qualification\n",
    "W = int(input(\"Weight: \"))\n",
    "H = int(input(\"Height: \"))\n",
    "bmi = (W)/((H/100)**2)\n",
    "if bmi >= 30:\n",
    "    print(f\"Your BMI is {bmi:.1f} You're in the obese range.\")\n",
    "elif 25 <= bmi < 30:\n",
    "    print(f\"Your BMI is {bmi:.1f} You're in the overweight range.\")\n",
    "elif 18.6 <= bmi < 25:\n",
    "    print(f\"Your BMI is {bmi:.1f} You're in the healthy weight range.\")\n",
    "else:\n",
    "    print(f\"Your BMI is {bmi:.1f} You're in the underweight range.\")"
   ]
  },
  {
   "cell_type": "code",
   "execution_count": null,
   "metadata": {},
   "outputs": [],
   "source": [
    "#change\n",
    "mon = int(input())\n",
    "pun = mon // 1000\n",
    "ha_roi = (mon - pun*1000) // 500\n",
    "roi = (mon - pun*1000 - ha_roi*500)//100\n",
    "ha_sib = (mon - pun*1000 - ha_roi*500 - roi*100)//50\n",
    "yee_sib = (mon - pun*1000 - ha_roi*500 - roi*100 - ha_sib*50)//20\n",
    "sib = (mon - pun*1000 - ha_roi*500 - roi*100 - ha_sib*50 - yee_sib*20)//10\n",
    "ha = (mon - pun*1000 - ha_roi*500 - roi*100 - ha_sib*50 - yee_sib*20 - sib*10)//5\n",
    "one = (mon - pun*1000 - ha_roi*500 - roi*100 - ha_sib*50 - yee_sib*20 - sib*10 - ha*5)//1\n",
    "print(f\"1000 => {int(pun)}\")\n",
    "print(f\"500 => {int(ha_roi)}\")\n",
    "print(f\"100 => {int(roi)}\")\n",
    "print(f\"50 => {int(ha_sib)}\")\n",
    "print(f\"20 => {int(yee_sib)}\")\n",
    "print(f\"10 => {int(sib)}\")\n",
    "print(f\"5 => {int(ha)}\")\n",
    "print(f\"1 => {int(one)}\")"
   ]
  },
  {
   "cell_type": "code",
   "execution_count": 21,
   "metadata": {},
   "outputs": [
    {
     "output_type": "stream",
     "name": "stdout",
     "text": [
      "52\n"
     ]
    }
   ],
   "source": [
    "myMonth = [31,28,31,30,31,30,31,31,30,31,30,31]\n",
    "d = int(input(\"d: \"))\n",
    "m = int(input(\"m: \"))\n",
    "y = int(input(\"y: \"))\n",
    "if (y % 4 == 0 and y % 100 != 0) or (y % 400 == 0) :\n",
    "    myMonth[1] = 29\n",
    "month = int(sum(myMonth[0:m-1]))\n",
    "print(f\"{d+month}\")"
   ]
  },
  {
   "cell_type": "code",
   "execution_count": null,
   "metadata": {},
   "outputs": [],
   "source": []
  }
 ]
}