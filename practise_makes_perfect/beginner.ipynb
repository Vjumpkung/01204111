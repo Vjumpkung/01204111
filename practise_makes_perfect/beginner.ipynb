{
 "metadata": {
  "language_info": {
   "codemirror_mode": {
    "name": "ipython",
    "version": 3
   },
   "file_extension": ".py",
   "mimetype": "text/x-python",
   "name": "python",
   "nbconvert_exporter": "python",
   "pygments_lexer": "ipython3",
   "version": "3.8.8"
  },
  "orig_nbformat": 4,
  "kernelspec": {
   "name": "python3",
   "display_name": "Python 3.8.8 64-bit"
  },
  "interpreter": {
   "hash": "348907d6a805e3aff18463777e68219ad9f9877e8378b9312fcb98293899dbee"
  }
 },
 "nbformat": 4,
 "nbformat_minor": 2,
 "cells": [
  {
   "cell_type": "code",
   "execution_count": null,
   "source": [
    "TV = int(input(\"Number of TVs: \"))\r\n",
    "DVD = int(input(\"Number of DVD players: \"))\r\n",
    "AUD = int(input(\"Number of audio systems: \"))\r\n",
    "total_price = 3000*TV + 750*DVD + 1500*AUD\r\n",
    "print(f\"Your total amount is {total_price:.2f} baht.\")\r\n",
    "if total_price >= 10000 :\r\n",
    "    discount = total_price*7/100\r\n",
    "    new_price = total_price - discount\r\n",
    "    print(f\"You got a discount of {discount:.2f} baht.\")\r\n",
    "else:\r\n",
    "    new_price = total_price\r\n",
    "print(f\"Your payment is {new_price:.2f} baht. Thank you.\")"
   ],
   "outputs": [],
   "metadata": {}
  },
  {
   "cell_type": "code",
   "execution_count": null,
   "source": [
    "import sys\r\n",
    "from math import sqrt\r\n",
    "first = float(input(\"Please enter 1st coefficient: \"))\r\n",
    "if first == 0:\r\n",
    "    print(\"1st coefficient can't be zero. Program exits.\")\r\n",
    "    sys.exit()\r\n",
    "second = float(input(\"Please enter 2nd coefficient: \"))\r\n",
    "third = float(input(\"Please enter 3rd coefficient: \"))\r\n",
    "(a,b,c) = (first,second,third)\r\n",
    "D = ((b**2)-4*(a)*(c))\r\n",
    "if D > 0 :\r\n",
    "    first_root = (-b+sqrt(D))/(2*a)\r\n",
    "    second_root = (-b-sqrt(D))/(2*a)\r\n",
    "    print(f\"Two real roots: {first_root:.3f} and {second_root:.3f}\")\r\n",
    "elif D == 0:\r\n",
    "    root = (-b)/(2*a)\r\n",
    "    print(f\"There is one real root: {root:.3f}\")\r\n",
    "elif D < 0:\r\n",
    "    real_part = (-b)/(2*a)\r\n",
    "    img_part = (sqrt(-D))/(2*a)\r\n",
    "    if (1)*(img_part) > 0:\r\n",
    "        print(f\"Two complex roots: {real_part:.3f}+{img_part:.3f}i and {real_part:.3f}-{img_part:.3f}i\")\r\n",
    "    else:\r\n",
    "        print(f\"Two complex roots: {real_part:.3f}+{-img_part:.3f}i and {real_part:.3f}{img_part:.3f}i\")\r\n",
    "else:\r\n",
    "    sys.exit()"
   ],
   "outputs": [],
   "metadata": {}
  },
  {
   "cell_type": "code",
   "execution_count": null,
   "source": [
    "def input_score():\r\n",
    "    hw = int(input(\"Enter the percentage for homework: \"))\r\n",
    "    mid = int(input(\"Enter the percentage for midterm: \"))\r\n",
    "    fin = int(input(\"Enter the percentage for final: \"))\r\n",
    "    score = 0.05*hw + 0.4*mid + 0.55*fin\r\n",
    "    print(f\"Your total score is {score:.2f}\")\r\n",
    "    return score\r\n",
    "def gradeChecker(x):\r\n",
    "    if x >= 80:\r\n",
    "        return \"A\"\r\n",
    "    elif 75 <= x < 80:\r\n",
    "        return \"B+\"\r\n",
    "    elif 70 <= x < 75:\r\n",
    "        return \"B\"\r\n",
    "    elif 65 <= x < 70:\r\n",
    "        return \"C+\"\r\n",
    "    elif 60 <= x < 65:\r\n",
    "        return \"C\"\r\n",
    "    elif 55 <= x < 60:\r\n",
    "        return \"D+\"\r\n",
    "    elif 50 <= x < 55:\r\n",
    "        return \"D\"\r\n",
    "    else:\r\n",
    "        return \"F\"\r\n",
    "print(f\"You receive the grade {gradeChecker(input_score())}\")"
   ],
   "outputs": [],
   "metadata": {}
  },
  {
   "cell_type": "code",
   "execution_count": null,
   "source": [
    "txt = input(\"Enter a string: \")\r\n",
    "for i in range(len(txt)):\r\n",
    "    print(\" \"*i + txt[i])"
   ],
   "outputs": [],
   "metadata": {}
  },
  {
   "cell_type": "code",
   "execution_count": null,
   "source": [
    "patt = int(input(\"pattern: \"))\r\n",
    "chara = input(\"char: \")\r\n",
    "nen = int(input(\"n: \"))\r\n",
    "if patt == 1 :\r\n",
    "    for i in range(1,nen+1):\r\n",
    "        print(chara*i)\r\n",
    "elif patt == 2 :\r\n",
    "    for i in range(nen,0,-1):\r\n",
    "        print(chara*i)\r\n",
    "elif patt == 3 :\r\n",
    "    j = nen - 1\r\n",
    "    for i in range(1,nen+1):\r\n",
    "        print(\" \"*j + chara*i)\r\n",
    "        j -= 1\r\n",
    "else :\r\n",
    "    j = nen \r\n",
    "    for i in range(nen+1):\r\n",
    "        print(\" \"*i + chara*j)\r\n",
    "        j -= 1"
   ],
   "outputs": [],
   "metadata": {}
  },
  {
   "cell_type": "code",
   "execution_count": null,
   "source": [
    "positive = 0\r\n",
    "negative = 0\r\n",
    "my_input = 1\r\n",
    "while my_input != 0:\r\n",
    "    my_input = float(input(\"Enter a number (or just zero to exit): \"))\r\n",
    "    if my_input > 0 :\r\n",
    "        positive = positive + my_input\r\n",
    "    else :\r\n",
    "        negative = negative + my_input\r\n",
    "print(f\"The sum of positive numbers is {positive:.2f}\")\r\n",
    "print(f\"The sum of negative numbers is {negative:.2f}\")"
   ],
   "outputs": [],
   "metadata": {}
  },
  {
   "cell_type": "code",
   "execution_count": null,
   "source": [
    "H = int(input(\"How deep is the well? \"))\r\n",
    "U = int(input(\"How high the frog can jump up? \"))\r\n",
    "D = int(input(\"How far the frog slips down? \"))\r\n",
    "Depth = H\r\n",
    "day = 1\r\n",
    "if H > U and U <= D:\r\n",
    "    print(\"The frog is always stuck in the well.\")\r\n",
    "else:\r\n",
    "    while True:\r\n",
    "        Depth = Depth - U \r\n",
    "        if Depth <= 0 :\r\n",
    "            print(f\"The frog can escape the well on day {day}.\")\r\n",
    "            break\r\n",
    "        print(f\"On day {day} the frog leaps to the depth of {Depth} meters.\")\r\n",
    "\r\n",
    "        Depth = Depth + D\r\n",
    "        print(f\"At night he slips down to the depth of {Depth} meters.\")\r\n",
    "\r\n",
    "        day = day + 1"
   ],
   "outputs": [],
   "metadata": {
    "tags": []
   }
  },
  {
   "cell_type": "code",
   "execution_count": null,
   "source": [
    "n = int(input(\"How many bushes? \"))\r\n",
    "s = int(input(\"What is the bush size? \"))\r\n",
    "k = s - 1\r\n",
    "for i in range(n):\r\n",
    "    #print(f\"n = {i+1}\")\r\n",
    "\r\n",
    "    for j in range(s):\r\n",
    "        #print(f\"s = {j+1}\")\r\n",
    "        print(\" \"*k + \"*\"*((2*j)+1))\r\n",
    "        k = k - 1\r\n",
    "    k = s - 1"
   ],
   "outputs": [],
   "metadata": {}
  },
  {
   "cell_type": "code",
   "execution_count": null,
   "source": [
    "A = int(input(\"A: \"))\r\n",
    "B = int(input(\"B: \"))\r\n",
    "C = int(input(\"C: \"))\r\n",
    "if B <= 10 and A <= 15 and C <= 8 :\r\n",
    "    print(\"Box size 1\")\r\n",
    "elif A <= 25 and B <= 15 and C <= 12 :\r\n",
    "    print(\"Box size 2\")\r\n",
    "elif B <= 40 and A <= 50 and C <= 20 :\r\n",
    "    print(\"Box size 3\")\r\n",
    "else:\r\n",
    "    print(\"Oversize product\")"
   ],
   "outputs": [],
   "metadata": {}
  },
  {
   "cell_type": "code",
   "execution_count": null,
   "source": [
    "start = int(input(\"Enter initial amount in Baht: \"))\r\n",
    "dokbea = int(input(\"Enter interest rate in percent: \"))\r\n",
    "print(f\"Total amount after 1 year is {start*(1+(dokbea/100)):.2f} Baht.\")\r\n",
    "print(f\"Total amount after 5 years is {start*(1+(dokbea/100))**5:.2f} Baht.\")\r\n",
    "print(f\"Total amount after 10 years is {start*(1+(dokbea/100))**10:.2f} Baht.\")\r\n",
    "print(f\"Total amount after 20 years is {start*(1+(dokbea/100))**20:.2f} Baht.\")"
   ],
   "outputs": [],
   "metadata": {}
  },
  {
   "cell_type": "code",
   "execution_count": null,
   "source": [
    "print(\"Specify the properties of your trapezoid.\")\r\n",
    "a = float(input(\"Length of side a: \"))\r\n",
    "b = float(input(\"Length of side b: \"))\r\n",
    "h = float(input(\"Height: \"))\r\n",
    "print(f\"The area of the trapezoid is {(a+b)*(h)*(0.5):.2f}\")"
   ],
   "outputs": [],
   "metadata": {}
  },
  {
   "cell_type": "code",
   "execution_count": null,
   "source": [],
   "outputs": [],
   "metadata": {}
  }
 ]
}