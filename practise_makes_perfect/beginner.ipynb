{
 "metadata": {
  "language_info": {
   "codemirror_mode": {
    "name": "ipython",
    "version": 3
   },
   "file_extension": ".py",
   "mimetype": "text/x-python",
   "name": "python",
   "nbconvert_exporter": "python",
   "pygments_lexer": "ipython3",
   "version": "3.9.6"
  },
  "orig_nbformat": 4,
  "kernelspec": {
   "name": "python3",
   "display_name": "Python 3.9.6 64-bit"
  },
  "interpreter": {
   "hash": "aee8b7b246df8f9039afb4144a1f6fd8d2ca17a180786b69acc140d282b71a49"
  }
 },
 "nbformat": 4,
 "nbformat_minor": 2,
 "cells": [
  {
   "cell_type": "code",
   "execution_count": null,
   "metadata": {},
   "outputs": [],
   "source": [
    "TV = int(input(\"Number of TVs: \"))\n",
    "DVD = int(input(\"Number of DVD players: \"))\n",
    "AUD = int(input(\"Number of audio systems: \"))\n",
    "total_price = 3000*TV + 750*DVD + 1500*AUD\n",
    "print(f\"Your total amount is {total_price:.2f} baht.\")\n",
    "if total_price >= 10000 :\n",
    "    discount = total_price*7/100\n",
    "    new_price = total_price - discount\n",
    "    print(f\"You got a discount of {discount:.2f} baht.\")\n",
    "else:\n",
    "    new_price = total_price\n",
    "print(f\"Your payment is {new_price:.2f} baht. Thank you.\")"
   ]
  },
  {
   "cell_type": "code",
   "execution_count": null,
   "metadata": {},
   "outputs": [],
   "source": [
    "import sys\n",
    "from math import sqrt\n",
    "first = float(input(\"Please enter 1st coefficient: \"))\n",
    "if first == 0:\n",
    "    print(\"1st coefficient can't be zero. Program exits.\")\n",
    "    sys.exit()\n",
    "second = float(input(\"Please enter 2nd coefficient: \"))\n",
    "third = float(input(\"Please enter 3rd coefficient: \"))\n",
    "(a,b,c) = (first,second,third)\n",
    "D = ((b**2)-4*(a)*(c))\n",
    "if D > 0 :\n",
    "    first_root = (-b+sqrt(D))/(2*a)\n",
    "    second_root = (-b-sqrt(D))/(2*a)\n",
    "    print(f\"Two real roots: {first_root:.3f} and {second_root:.3f}\")\n",
    "elif D == 0:\n",
    "    root = (-b)/(2*a)\n",
    "    print(f\"There is one real root: {root:.3f}\")\n",
    "elif D < 0:\n",
    "    real_part = (-b)/(2*a)\n",
    "    img_part = (sqrt(-D))/(2*a)\n",
    "    if (1)*(img_part) > 0:\n",
    "        print(f\"Two complex roots: {real_part:.3f}+{img_part:.3f}i and {real_part:.3f}-{img_part:.3f}i\")\n",
    "    else:\n",
    "        print(f\"Two complex roots: {real_part:.3f}+{-img_part:.3f}i and {real_part:.3f}{img_part:.3f}i\")\n",
    "else:\n",
    "    sys.exit()"
   ]
  },
  {
   "cell_type": "code",
   "execution_count": null,
   "metadata": {},
   "outputs": [],
   "source": [
    "def input_score():\n",
    "    hw = int(input(\"Enter the percentage for homework: \"))\n",
    "    mid = int(input(\"Enter the percentage for midterm: \"))\n",
    "    fin = int(input(\"Enter the percentage for final: \"))\n",
    "    score = 0.05*hw + 0.4*mid + 0.55*fin\n",
    "    print(f\"Your total score is {score:.2f}\")\n",
    "    return score\n",
    "def gradeChecker(x):\n",
    "    if x >= 80:\n",
    "        return \"A\"\n",
    "    elif 75 <= x < 80:\n",
    "        return \"B+\"\n",
    "    elif 70 <= x < 75:\n",
    "        return \"B\"\n",
    "    elif 65 <= x < 70:\n",
    "        return \"C+\"\n",
    "    elif 60 <= x < 65:\n",
    "        return \"C\"\n",
    "    elif 55 <= x < 60:\n",
    "        return \"D+\"\n",
    "    elif 50 <= x < 55:\n",
    "        return \"D\"\n",
    "    else:\n",
    "        return \"F\"\n",
    "print(f\"You receive the grade {gradeChecker(input_score())}\")"
   ]
  },
  {
   "cell_type": "code",
   "execution_count": null,
   "metadata": {},
   "outputs": [],
   "source": [
    "txt = input(\"Enter a string: \")\n",
    "for i in range(len(txt)):\n",
    "    print(\" \"*i + txt[i])"
   ]
  },
  {
   "cell_type": "code",
   "execution_count": null,
   "metadata": {},
   "outputs": [],
   "source": [
    "patt = int(input(\"pattern: \"))\n",
    "chara = input(\"char: \")\n",
    "nen = int(input(\"n: \"))\n",
    "if patt == 1 :\n",
    "    for i in range(1,nen+1):\n",
    "        print(chara*i)\n",
    "elif patt == 2 :\n",
    "    for i in range(nen,0,-1):\n",
    "        print(chara*i)\n",
    "elif patt == 3 :\n",
    "    j = nen - 1\n",
    "    for i in range(1,nen+1):\n",
    "        print(\" \"*j + chara*i)\n",
    "        j -= 1\n",
    "else :\n",
    "    j = nen \n",
    "    for i in range(nen+1):\n",
    "        print(\" \"*i + chara*j)\n",
    "        j -= 1"
   ]
  },
  {
   "cell_type": "code",
   "execution_count": null,
   "metadata": {},
   "outputs": [],
   "source": [
    "positive = 0\n",
    "negative = 0\n",
    "while True:\n",
    "    my_input = float(input(\"Enter a number (or just zero to exit): \"))\n",
    "    if my_input > 0 :\n",
    "        positive = positive + my_input\n",
    "    elif my_input < 0:\n",
    "        negative = negative + my_input\n",
    "    else:\n",
    "        break\n",
    "print(f\"The sum of positive numbers is {positive:.2f}\")\n",
    "print(f\"The sum of negative numbers is {negative:.2f}\")"
   ]
  },
  {
   "cell_type": "code",
   "execution_count": null,
   "metadata": {
    "tags": []
   },
   "outputs": [],
   "source": [
    "import sys\n",
    "H = int(input(\"How deep is the well? \"))\n",
    "U = int(input(\"How high the frog can jump up? \"))\n",
    "D = int(input(\"How far the frog slips down? \"))\n",
    "Depth = H\n",
    "day = 1\n",
    "if H > U and U <= D:\n",
    "    print(\"The frog is always stuck in the well.\")\n",
    "    sys.exit()\n",
    "while True:\n",
    "    Depth = Depth - U \n",
    "    if Depth <= 0 :\n",
    "        print(f\"The frog can escape the well on day {day}.\")\n",
    "        break\n",
    "    print(f\"On day {day} the frog leaps to the depth of {Depth} meters.\")\n",
    "\n",
    "    Depth = Depth + D\n",
    "    print(f\"At night he slips down to the depth of {Depth} meters.\")\n",
    "\n",
    "    day = day + 1"
   ]
  },
  {
   "cell_type": "code",
   "execution_count": 90,
   "metadata": {},
   "outputs": [
    {
     "output_type": "stream",
     "name": "stdout",
     "text": [
      " *\n***\n *\n***\n *\n***\n *\n***\n"
     ]
    }
   ],
   "source": [
    "n = int(input(\"How many bushes? \"))\n",
    "s = int(input(\"What is the bush size? \"))\n",
    "k = s - 1\n",
    "for i in range(n):\n",
    "    #print(f\"n = {i+1}\")\n",
    "\n",
    "    for j in range(s):\n",
    "        #print(f\"s = {j+1}\")\n",
    "        print(\" \"*k + \"*\"*((2*j)+1))\n",
    "        k = k - 1\n",
    "    k = s - 1"
   ]
  },
  {
   "cell_type": "code",
   "execution_count": 22,
   "metadata": {},
   "outputs": [
    {
     "output_type": "stream",
     "name": "stdout",
     "text": [
      "Box size 3\n"
     ]
    }
   ],
   "source": [
    "A = int(input(\"A: \"))\n",
    "B = int(input(\"B: \"))\n",
    "C = int(input(\"C: \"))\n",
    "if B <= 10 and A <= 15 and C <= 8 :\n",
    "    print(\"Box size 1\")\n",
    "elif A <= 25 and B <= 15 and C <= 12 :\n",
    "    print(\"Box size 2\")\n",
    "elif B <= 40 and A <= 50 and C <= 20 :\n",
    "    print(\"Box size 3\")\n",
    "else:\n",
    "    print(\"Oversize product\")"
   ]
  },
  {
   "cell_type": "code",
   "execution_count": 29,
   "metadata": {},
   "outputs": [
    {
     "output_type": "stream",
     "name": "stdout",
     "text": [
      "Total amount after 1 year is 1500.00 Baht.\nTotal amount after 5 year is 7593.75 Baht.\nTotal amount after 10 year is 57665.04 Baht.\nTotal amount after 20 year is 3325256.73 Baht.\n"
     ]
    }
   ],
   "source": [
    "start = int(input(\"Enter initial amount in Baht: \"))\n",
    "dokbea = int(input(\"Enter interest rate in percent: \"))\n",
    "print(f\"Total amount after 1 year is {start*(1+(dokbea/100)):.2f} Baht.\")\n",
    "print(f\"Total amount after 5 years is {start*(1+(dokbea/100))**5:.2f} Baht.\")\n",
    "print(f\"Total amount after 10 years is {start*(1+(dokbea/100))**10:.2f} Baht.\")\n",
    "print(f\"Total amount after 20 years is {start*(1+(dokbea/100))**20:.2f} Baht.\")"
   ]
  },
  {
   "cell_type": "code",
   "execution_count": 32,
   "metadata": {},
   "outputs": [
    {
     "output_type": "stream",
     "name": "stdout",
     "text": [
      "Specify the properties of your trapezoid.\n",
      "The area of the trapezoid is 25.00\n"
     ]
    }
   ],
   "source": [
    "print(\"Specify the properties of your trapezoid.\")\n",
    "a = float(input(\"Length of side a: \"))\n",
    "b = float(input(\"Length of side b: \"))\n",
    "h = float(input(\"Height: \"))\n",
    "print(f\"The area of the trapezoid is {(a+b)*(h)*(0.5):.2f}\")"
   ]
  },
  {
   "cell_type": "code",
   "execution_count": null,
   "metadata": {},
   "outputs": [],
   "source": []
  }
 ]
}