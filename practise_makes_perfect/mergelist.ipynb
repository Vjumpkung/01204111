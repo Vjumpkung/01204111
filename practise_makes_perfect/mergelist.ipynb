{
 "cells": [
  {
   "cell_type": "code",
   "execution_count": 7,
   "source": [
    "#data = [['1','2'],['2','3'],['3','5'],['8','9'],['10','11'],['2','11'],['2','11'],['3','99'],['8','78'],['66','77'],['33','77']]\r\n",
    "data = [['1','2'],['2','3'],['3','5'],['8','9'],['10','11'],['2','11'],['2','11'],['3','99'],['8','78'],['66','77'],['33','77'],['33','77'],['78','90'],['43','51'],['11','90']]\r\n",
    "data = sorted([list(map(int,i)) for i in data])\r\n",
    "newdata = list(map(set,data))\r\n",
    "all_ways = []\r\n",
    "for i in range(len(newdata)):\r\n",
    "    testdata = newdata.copy()\r\n",
    "    first_set = testdata.pop(i)\r\n",
    "    audi = first_set\r\n",
    "    for i in newdata:\r\n",
    "        if len(audi.intersection(i)) > 0:\r\n",
    "            audi = audi.union(i)\r\n",
    "    all_ways.append(audi)\r\n",
    "#print(all_ways)\r\n",
    "testls = []\r\n",
    "for j,i in enumerate(all_ways):\r\n",
    "    huajai = all_ways.copy()[j]\r\n",
    "    for k in all_ways:\r\n",
    "        if len(huajai.intersection(k)) > 0:\r\n",
    "            huajai = huajai.union(k)\r\n",
    "    testls.append(huajai)\r\n",
    "#print(testls)\r\n",
    "fil_ways = []\r\n",
    "all_ways = testls\r\n",
    "for i in all_ways:\r\n",
    "    if i not in fil_ways:\r\n",
    "        fil_ways.append(i)\r\n",
    "    else:\r\n",
    "        pass\r\n",
    "#print(fil_ways)\r\n",
    "#print(fil_ways)\r\n",
    "for i in fil_ways[::-1]:\r\n",
    "    #print(i)\r\n",
    "    for j in fil_ways[::-1]:\r\n",
    "        if i.issubset(j) and i != j:\r\n",
    "            try:\r\n",
    "                fil_ways.remove(i)\r\n",
    "            except:\r\n",
    "                pass\r\n",
    "        else:\r\n",
    "            pass\r\n",
    "complete = list(map(list,fil_ways))\r\n",
    "complete = [sorted(k) for k in complete]\r\n",
    "finale = [list(map(str,l)) for l in complete]\r\n",
    "print(finale)"
   ],
   "outputs": [
    {
     "output_type": "stream",
     "name": "stdout",
     "text": [
      "[['1', '2', '3', '5', '8', '9', '10', '11', '78', '90', '99'], ['33', '66', '77'], ['43', '51']]\n"
     ]
    }
   ],
   "metadata": {}
  }
 ],
 "metadata": {
  "orig_nbformat": 4,
  "language_info": {
   "name": "python",
   "version": "3.6.13",
   "mimetype": "text/x-python",
   "codemirror_mode": {
    "name": "ipython",
    "version": 3
   },
   "pygments_lexer": "ipython3",
   "nbconvert_exporter": "python",
   "file_extension": ".py"
  },
  "kernelspec": {
   "name": "python3",
   "display_name": "Python 3.6.13 64-bit ('elab': conda)"
  },
  "interpreter": {
   "hash": "15bb5b5caed0bbca38a2f71d04205bf45dd89b88527a22cde4771643e1402263"
  }
 },
 "nbformat": 4,
 "nbformat_minor": 2
}