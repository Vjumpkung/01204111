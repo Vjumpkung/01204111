{
 "metadata": {
  "language_info": {
   "codemirror_mode": {
    "name": "ipython",
    "version": 3
   },
   "file_extension": ".py",
   "mimetype": "text/x-python",
   "name": "python",
   "nbconvert_exporter": "python",
   "pygments_lexer": "ipython3",
   "version": "3.8.8"
  },
  "orig_nbformat": 4,
  "kernelspec": {
   "name": "python3",
   "display_name": "Python 3.8.8 64-bit"
  },
  "interpreter": {
   "hash": "348907d6a805e3aff18463777e68219ad9f9877e8378b9312fcb98293899dbee"
  }
 },
 "nbformat": 4,
 "nbformat_minor": 2,
 "cells": [
  {
   "cell_type": "code",
   "execution_count": 37,
   "metadata": {},
   "outputs": [],
   "source": [
    "import random \n",
    "import time"
   ]
  },
  {
   "cell_type": "code",
   "execution_count": 38,
   "metadata": {},
   "outputs": [],
   "source": [
    "def random_list(y):\n",
    "    input_arr = []\n",
    "    for i in range(y):\n",
    "        input_arr.append(random.randint(1,10000))\n",
    "    print(\"Random Finished\")\n",
    "    return(input_arr)"
   ]
  },
  {
   "cell_type": "code",
   "execution_count": 39,
   "metadata": {},
   "outputs": [],
   "source": [
    "def maximum_1(x):\n",
    "    previous_input = 0\n",
    "    current_input = 0\n",
    "    while True:\n",
    "        for i in range(len(x)-1):\n",
    "            try:\n",
    "                if x[i] >= x[i+1]:\n",
    "                    x.pop(i+1)\n",
    "                else:\n",
    "                    x.pop(i)\n",
    "            except IndexError:\n",
    "                if x[-1] >= x[-2]:\n",
    "                    x.pop(-2)\n",
    "                else:\n",
    "                    x.pop(-1)\n",
    "        i = 0\n",
    "        if len(x) == 1:\n",
    "            return(x[0])"
   ]
  },
  {
   "cell_type": "code",
   "execution_count": 40,
   "metadata": {},
   "outputs": [],
   "source": [
    "def maximum_2(x):\n",
    "    while len(x) > 1:\n",
    "        if x[0] >= x[-1]:\n",
    "            x.pop(-1)\n",
    "        else:\n",
    "            x.pop(0)\n",
    "    return(x[0])"
   ]
  },
  {
   "cell_type": "code",
   "execution_count": 41,
   "metadata": {},
   "outputs": [],
   "source": [
    "def minimum_2(x):\n",
    "    while len(x) > 1:\n",
    "        if x[0] <= x[-1]:\n",
    "            x.pop(-1)\n",
    "        else:\n",
    "            x.pop(0)\n",
    "    return(x[0])"
   ]
  },
  {
   "cell_type": "code",
   "execution_count": 42,
   "metadata": {},
   "outputs": [
    {
     "output_type": "stream",
     "name": "stdout",
     "text": [
      "Random Finished\n"
     ]
    }
   ],
   "source": [
    "arr = random_list(1000000)\n",
    "test_1 = arr\n",
    "test_2 = arr"
   ]
  },
  {
   "cell_type": "code",
   "execution_count": 43,
   "metadata": {},
   "outputs": [
    {
     "output_type": "stream",
     "name": "stdout",
     "text": [
      "1\nminimum_2() time is 7.432419300079346\n"
     ]
    }
   ],
   "source": [
    "t0 = time.time()\n",
    "print(minimum_2(test_1))\n",
    "t1 = time.time()\n",
    "print(\"minimum_2() time is \" + str(t1-t0))"
   ]
  }
 ]
}