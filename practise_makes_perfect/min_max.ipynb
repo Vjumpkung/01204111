{
 "metadata": {
  "language_info": {
   "codemirror_mode": {
    "name": "ipython",
    "version": 3
   },
   "file_extension": ".py",
   "mimetype": "text/x-python",
   "name": "python",
   "nbconvert_exporter": "python",
   "pygments_lexer": "ipython3",
   "version": "3.9.6"
  },
  "orig_nbformat": 4,
  "kernelspec": {
   "name": "python3",
   "display_name": "Python 3.9.6 64-bit ('python39': conda)"
  },
  "interpreter": {
   "hash": "7cffbab6619079a2a799a61432cc0cf7b30e6fb2dcb99e0e31409e12eb5c19b2"
  }
 },
 "nbformat": 4,
 "nbformat_minor": 2,
 "cells": [
  {
   "cell_type": "code",
   "execution_count": null,
   "source": [
    "import random \r\n",
    "import time\r\n",
    "import numpy as np"
   ],
   "outputs": [],
   "metadata": {}
  },
  {
   "cell_type": "code",
   "execution_count": null,
   "source": [
    "def random_list(y):\r\n",
    "    input_arr = []\r\n",
    "    for i in range(y):\r\n",
    "        input_arr.append(random.randint(1,1000000))\r\n",
    "    print(\"Random Finished\")\r\n",
    "    return(input_arr)"
   ],
   "outputs": [],
   "metadata": {}
  },
  {
   "cell_type": "code",
   "execution_count": null,
   "source": [
    "def maximum_1(x):\r\n",
    "    previous_input = 0\r\n",
    "    current_input = 0\r\n",
    "    while True:\r\n",
    "        for i in range(len(x)-1):\r\n",
    "            try:\r\n",
    "                if x[i] >= x[i+1]:\r\n",
    "                    x.pop(i+1)\r\n",
    "                else:\r\n",
    "                    x.pop(i)\r\n",
    "            except IndexError:\r\n",
    "                if x[-1] >= x[-2]:\r\n",
    "                    x.pop(-2)\r\n",
    "                else:\r\n",
    "                    x.pop(-1)\r\n",
    "        i = 0\r\n",
    "        if len(x) == 1:\r\n",
    "            return(x[0])"
   ],
   "outputs": [],
   "metadata": {}
  },
  {
   "cell_type": "code",
   "execution_count": null,
   "source": [
    "def maximum_2(x):\r\n",
    "    while len(x) > 1:\r\n",
    "        if x[0] >= x[-1]:\r\n",
    "            x.pop(-1)\r\n",
    "        else:\r\n",
    "            x.pop(0)\r\n",
    "    return(x[0])"
   ],
   "outputs": [],
   "metadata": {}
  },
  {
   "cell_type": "code",
   "execution_count": null,
   "source": [
    "def minimum_2(x):\r\n",
    "    while len(x) > 1:\r\n",
    "        if x[0] <= x[-1]:\r\n",
    "            x.pop(-1)\r\n",
    "        else:\r\n",
    "            x.pop(0)\r\n",
    "    return(x[0])"
   ],
   "outputs": [],
   "metadata": {}
  },
  {
   "cell_type": "code",
   "execution_count": null,
   "source": [
    "arr = np.random.randint(1000000000, size=100000000)\r\n",
    "test_1 = arr.tolist()\r\n",
    "test_2 = arr"
   ],
   "outputs": [],
   "metadata": {}
  },
  {
   "cell_type": "code",
   "execution_count": null,
   "source": [
    "t0 = time.time()\r\n",
    "print(maximum_2(test_1))\r\n",
    "t1 = time.time()\r\n",
    "print(\"maximum_2() time is \" + str(t1-t0))"
   ],
   "outputs": [],
   "metadata": {}
  },
  {
   "cell_type": "code",
   "execution_count": 132,
   "source": [
    "t0 = time.time()\r\n",
    "print(max(test_1))\r\n",
    "t1 = time.time()\r\n",
    "print(\"max() time is \" + str(t1-t0))"
   ],
   "outputs": [
    {
     "output_type": "stream",
     "name": "stdout",
     "text": [
      "999999988\n",
      "max() time is 1.4964430332183838\n"
     ]
    }
   ],
   "metadata": {}
  },
  {
   "cell_type": "code",
   "execution_count": 133,
   "source": [
    "t0 = time.time()\r\n",
    "print(np.max(test_2))\r\n",
    "t1 = time.time()\r\n",
    "print(\"np.max() time is \" + str(t1-t0))"
   ],
   "outputs": [
    {
     "output_type": "stream",
     "name": "stdout",
     "text": [
      "999999988\n",
      "np.max() time is 0.1406116485595703\n"
     ]
    }
   ],
   "metadata": {}
  }
 ]
}