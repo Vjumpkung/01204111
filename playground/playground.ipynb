{
 "cells": [
  {
   "cell_type": "code",
   "execution_count": null,
   "source": [
    "import numpy as np\r\n",
    "data = np.array([[610011,80,90,70], \r\n",
    "                 [610022,50,80,68], \r\n",
    "                 [610033,70,75,80], \r\n",
    "                 [610044,60,50,90],\r\n",
    "                 [610055,90,74,70]])\r\n",
    "weight = np.array([0.3,0.5,0.2])\r\n",
    "newdata = weight * data[::,1:4]\r\n",
    "sumy = newdata.sum(axis=1)\r\n",
    "resultt = np.where(sumy < sumy.mean())\r\n",
    "print(\"คนที่ไม่ผ่าน mean คือ\",*data[resultt,0])"
   ],
   "outputs": [],
   "metadata": {}
  },
  {
   "cell_type": "code",
   "execution_count": null,
   "source": [
    "def upper(s):\r\n",
    "    res = \"\"\r\n",
    "    for i in s:\r\n",
    "        if i>\"a\" and i<=\"z\":\r\n",
    "            res += chr(ord(\"A\") + ord(i) - ord(\"a\"))\r\n",
    "        else:\r\n",
    "            res += i\r\n",
    "    return res"
   ],
   "outputs": [],
   "metadata": {}
  },
  {
   "cell_type": "code",
   "execution_count": null,
   "source": [
    "def lower(s):\r\n",
    "    res = \"\"\r\n",
    "    for i in s:\r\n",
    "        if i>\"A\" and i<=\"Z\":\r\n",
    "            res += chr(ord(\"a\") + ord(i) - ord(\"A\"))\r\n",
    "        else:\r\n",
    "            res += i\r\n",
    "    return res"
   ],
   "outputs": [],
   "metadata": {}
  },
  {
   "cell_type": "code",
   "execution_count": null,
   "source": [
    "def isupper(s):\r\n",
    "    res = False\r\n",
    "    if not len(s) != 0 or s!=\" \":\r\n",
    "        res = True\r\n",
    "        for i in s:\r\n",
    "            if \"a\" <= i <= \"z\":\r\n",
    "                res = False\r\n",
    "                break\r\n",
    "            elif \"A\" <= i <= \"Z\":\r\n",
    "                res = True\r\n",
    "                continue\r\n",
    "    return res"
   ],
   "outputs": [],
   "metadata": {}
  },
  {
   "cell_type": "code",
   "execution_count": null,
   "source": [
    "def islower(s):\r\n",
    "    res = False\r\n",
    "    if not len(s) != 0 or s!=\" \":\r\n",
    "        res = True\r\n",
    "        for i in s:\r\n",
    "            if \"A\" <= i <= \"Z\":\r\n",
    "                res = False\r\n",
    "                break\r\n",
    "            elif \"a\" <= i <= \"z\":\r\n",
    "                res = True\r\n",
    "                continue\r\n",
    "    return res"
   ],
   "outputs": [],
   "metadata": {}
  },
  {
   "cell_type": "code",
   "execution_count": null,
   "source": [
    "def isalpha(s):\r\n",
    "    AtoZ = [chr(x) for x in range(ord(\"A\"),ord(\"Z\")+1)]\r\n",
    "    atoz = [chr(x) for x in range(ord(\"a\"),ord(\"z\")+1)]\r\n",
    "    res = False\r\n",
    "    for i in s:\r\n",
    "        if i in (AtoZ or atoz):\r\n",
    "            res = True\r\n",
    "            continue\r\n",
    "        else:\r\n",
    "            res = False\r\n",
    "            break\r\n",
    "    return res"
   ],
   "outputs": [],
   "metadata": {}
  },
  {
   "cell_type": "code",
   "execution_count": null,
   "source": [
    "def isalnum(s):\r\n",
    "    AtoZ = [chr(x) for x in range(ord(\"A\"),ord(\"Z\")+1)]\r\n",
    "    atoz = [chr(x) for x in range(ord(\"a\"),ord(\"z\")+1)]\r\n",
    "    ZeroToNine = [chr(x) for x in range(ord(\"0\"),ord(\"9\")+1)]\r\n",
    "    res = False\r\n",
    "    for i in s:\r\n",
    "        if i in (AtoZ + atoz + ZeroToNine):\r\n",
    "            res = True\r\n",
    "            continue\r\n",
    "        else:\r\n",
    "            res = False\r\n",
    "            break\r\n",
    "    return res"
   ],
   "outputs": [],
   "metadata": {}
  },
  {
   "cell_type": "code",
   "execution_count": null,
   "source": [
    "def isdecimal(s):\r\n",
    "    ZeroToNine = [chr(x) for x in range(ord(\"0\"),ord(\"9\")+1)]\r\n",
    "    res = False\r\n",
    "    for i in s:\r\n",
    "        if i in (ZeroToNine):\r\n",
    "            res = True\r\n",
    "            continue\r\n",
    "        else:\r\n",
    "            res = False\r\n",
    "            break\r\n",
    "    return res"
   ],
   "outputs": [],
   "metadata": {}
  },
  {
   "cell_type": "code",
   "execution_count": null,
   "source": [
    "def isspace(s):\r\n",
    "    res = True\r\n",
    "    for i in s:\r\n",
    "        if not \" \" in i:\r\n",
    "            res = False\r\n",
    "            break\r\n",
    "        else:\r\n",
    "            continue\r\n",
    "    return res"
   ],
   "outputs": [],
   "metadata": {}
  },
  {
   "cell_type": "code",
   "execution_count": null,
   "source": [
    "def startswith(myText , startText):\r\n",
    "    try:\r\n",
    "        if (startText in myText) and (myText[0:(-1%len(startText))+1] == startText):\r\n",
    "            return True\r\n",
    "        else:\r\n",
    "            return False\r\n",
    "    except:\r\n",
    "        return True"
   ],
   "outputs": [],
   "metadata": {}
  },
  {
   "cell_type": "code",
   "execution_count": null,
   "source": [
    "def join(lsss,sepp):\r\n",
    "    newText = \"\"\r\n",
    "    for i in range(len(lsss)):\r\n",
    "        if i != len(lsss) - 1:\r\n",
    "            newText += lsss[i] + sepp\r\n",
    "        else:\r\n",
    "            newText += lsss[i]\r\n",
    "    return(newText)"
   ],
   "outputs": [],
   "metadata": {}
  },
  {
   "cell_type": "code",
   "execution_count": null,
   "source": [
    "def find(s,fin):\r\n",
    "    try:\r\n",
    "        return s.index(fin) \r\n",
    "    except ValueError:\r\n",
    "        return -1"
   ],
   "outputs": [],
   "metadata": {}
  },
  {
   "cell_type": "code",
   "execution_count": null,
   "source": [
    "def partition(s , sep):\r\n",
    "    if sep not in s:\r\n",
    "        front = s\r\n",
    "        back = \"\"\r\n",
    "        return (front , \"\" , back)\r\n",
    "    n = find(s,sep)\r\n",
    "    front = s[:n]\r\n",
    "    back = s[:n+len(sep)]\r\n",
    "    return (front,sep,back)"
   ],
   "outputs": [],
   "metadata": {}
  },
  {
   "cell_type": "code",
   "execution_count": null,
   "source": [
    "s = \"Hello, world, welcome to 111 @KU\""
   ],
   "outputs": [],
   "metadata": {}
  },
  {
   "cell_type": "code",
   "execution_count": null,
   "source": [
    "x = [chr(i) for i in range(ord(\"A\"),ord(\"Z\")+1)]\r\n",
    "print(join(x,\" \"))\r\n",
    "print(\" \".join(x))"
   ],
   "outputs": [],
   "metadata": {}
  },
  {
   "cell_type": "code",
   "execution_count": null,
   "source": [
    "from pprint import pp\r\n",
    "x = 4\r\n",
    "y = 4\r\n",
    "matrix = [[0 for j in range(y)] for i in range(x)]\r\n",
    "pp(matrix)"
   ],
   "outputs": [],
   "metadata": {}
  },
  {
   "cell_type": "code",
   "execution_count": null,
   "source": [
    "grid1 = [['1','2','3','4','5','6'],\r\n",
    "         ['.','o','o','.','.','.'],\r\n",
    "         ['o','o','o','o','.','.'],\r\n",
    "         ['o','o','o','o','o','.'],\r\n",
    "         ['.','o','o','o','o','o'],\r\n",
    "         ['o','o','o','o','o','.'],\r\n",
    "         ['o','o','o','o','.','.'],\r\n",
    "         ['.','o','o','.','.','.'],\r\n",
    "         ['.','.','.','.','.','.']]\r\n",
    "def print_grid(gid):\r\n",
    "    for i in range(len(gid)):\r\n",
    "        for j in range(len(gid[0])):\r\n",
    "            print(gid[i][j],end=\" \")\r\n",
    "        print(\"\\r\")\r\n",
    "print_grid(list(zip(*grid1[::-1])))\r\n",
    "print()\r\n",
    "print_grid(list(zip(*grid1))[::-1])"
   ],
   "outputs": [],
   "metadata": {}
  },
  {
   "cell_type": "code",
   "execution_count": null,
   "source": [
    "mydict = {\"id\" : 6969 , \"name\" : \"fuckyou\"}\r\n",
    "mydict[\"uid\"] = 641556456468\r\n",
    "mydict.get(\"id\")"
   ],
   "outputs": [],
   "metadata": {}
  },
  {
   "cell_type": "code",
   "execution_count": null,
   "source": [
    "from pprint import pp\r\n",
    "mydick = {}\r\n",
    "dick = \"0099dd5a6a580e2aa72e0ddaeed360ccf1671f06fc4af44ee7bc7ab389b9c198e97d72901fc79601d3b99980345cc1665bc89f4a2a4d3c0db170d9e595c8c221\"\r\n",
    "for i in dick:\r\n",
    "    if not i in mydick:\r\n",
    "        mydick[i] = 1\r\n",
    "    else:\r\n",
    "        mydick[i] += 1\r\n",
    "pp(mydick)"
   ],
   "outputs": [],
   "metadata": {}
  },
  {
   "cell_type": "code",
   "execution_count": null,
   "source": [
    "a = \"abcdefghijklmnopqrstuvwxyz\"\r\n",
    "b = list(range(ord(\"z\") - ord(\"z\")+1,ord(\"z\") - ord(\"a\")+1+1))\r\n",
    "pp(dict(zip(a,b)))"
   ],
   "outputs": [],
   "metadata": {}
  },
  {
   "cell_type": "code",
   "execution_count": null,
   "source": [
    "dick = [\r\n",
    "    {\r\n",
    "        \"name\" : \"vjump\",\r\n",
    "        \"age\" : 19,\r\n",
    "        \"college\" : \"Kasetsart University\"\r\n",
    "    },\r\n",
    "    {\r\n",
    "        \"name\" : \"Ganyu\",\r\n",
    "        \"age\" : 999,\r\n",
    "        \"college\" : \"Tevyat\"\r\n",
    "    }\r\n",
    "]\r\n",
    "updatedick = {\r\n",
    "    \"name\" : \"Keqing\",\r\n",
    "    \"age\" : 20,\r\n",
    "    \"college\" : \"Liyue\"\r\n",
    "}"
   ],
   "outputs": [],
   "metadata": {}
  },
  {
   "cell_type": "code",
   "execution_count": 32,
   "source": [
    "for i in dick:\r\n",
    "    print(i)"
   ],
   "outputs": [
    {
     "output_type": "stream",
     "name": "stdout",
     "text": [
      "{'name': 'vjump', 'age': 19, 'college': 'Kasetsart University'}\n",
      "{'name': 'Ganyu', 'age': 999, 'college': 'Tevyat'}\n",
      "{'name': 'Keqing', 'age': 20, 'college': 'Liyue'}\n"
     ]
    }
   ],
   "metadata": {}
  },
  {
   "cell_type": "code",
   "execution_count": 31,
   "source": [
    "update_2 = {\r\n",
    "    \"college\" : \"Mondstrat\"\r\n",
    "}\r\n",
    "update_2.values()"
   ],
   "outputs": [
    {
     "output_type": "execute_result",
     "data": {
      "text/plain": [
       "dict_values(['Mondstrat'])"
      ]
     },
     "metadata": {},
     "execution_count": 31
    }
   ],
   "metadata": {}
  },
  {
   "cell_type": "code",
   "execution_count": 34,
   "source": [
    "for i in range(len(dick)):\r\n",
    "    dick[i].update(update_2)\r\n",
    "print(dick)"
   ],
   "outputs": [
    {
     "output_type": "error",
     "ename": "AttributeError",
     "evalue": "'list' object has no attribute 'update'",
     "traceback": [
      "\u001b[1;31m---------------------------------------------------------------------------\u001b[0m",
      "\u001b[1;31mAttributeError\u001b[0m                            Traceback (most recent call last)",
      "\u001b[1;32mC:\\Users\\HAPPYH~1\\AppData\\Local\\Temp/ipykernel_6792/940663754.py\u001b[0m in \u001b[0;36m<module>\u001b[1;34m\u001b[0m\n\u001b[0;32m      1\u001b[0m \u001b[1;32mfor\u001b[0m \u001b[0mi\u001b[0m \u001b[1;32min\u001b[0m \u001b[0mrange\u001b[0m\u001b[1;33m(\u001b[0m\u001b[0mlen\u001b[0m\u001b[1;33m(\u001b[0m\u001b[0mdick\u001b[0m\u001b[1;33m)\u001b[0m\u001b[1;33m)\u001b[0m\u001b[1;33m:\u001b[0m\u001b[1;33m\u001b[0m\u001b[1;33m\u001b[0m\u001b[0m\n\u001b[1;32m----> 2\u001b[1;33m     \u001b[0mdick\u001b[0m\u001b[1;33m.\u001b[0m\u001b[0mupdate\u001b[0m\u001b[1;33m(\u001b[0m\u001b[0mupdate_2\u001b[0m\u001b[1;33m)\u001b[0m\u001b[1;33m\u001b[0m\u001b[1;33m\u001b[0m\u001b[0m\n\u001b[0m\u001b[0;32m      3\u001b[0m \u001b[0mprint\u001b[0m\u001b[1;33m(\u001b[0m\u001b[0mdick\u001b[0m\u001b[1;33m)\u001b[0m\u001b[1;33m\u001b[0m\u001b[1;33m\u001b[0m\u001b[0m\n",
      "\u001b[1;31mAttributeError\u001b[0m: 'list' object has no attribute 'update'"
     ]
    }
   ],
   "metadata": {}
  }
 ],
 "metadata": {
  "orig_nbformat": 4,
  "language_info": {
   "name": "python",
   "version": "3.9.6",
   "mimetype": "text/x-python",
   "codemirror_mode": {
    "name": "ipython",
    "version": 3
   },
   "pygments_lexer": "ipython3",
   "nbconvert_exporter": "python",
   "file_extension": ".py"
  },
  "kernelspec": {
   "name": "python3",
   "display_name": "Python 3.9.6 64-bit ('python39': conda)"
  },
  "interpreter": {
   "hash": "7cffbab6619079a2a799a61432cc0cf7b30e6fb2dcb99e0e31409e12eb5c19b2"
  }
 },
 "nbformat": 4,
 "nbformat_minor": 2
}