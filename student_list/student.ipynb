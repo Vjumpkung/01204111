{
 "cells": [
  {
   "cell_type": "code",
   "execution_count": 1,
   "source": [
    "import pandas as pd\r\n",
    "data = pd.read_csv('CPE35_student_list.csv')\r\n",
    "find_your_id = int(input(\"enter your student id \"))\r\n",
    "print(\"รหัสนิสิต :\",find_your_id)   \r\n",
    "print(\"ชื่อ(ไทย) :\",*list(data[data[\"student_id\"] == find_your_id]['thai_name']))\r\n",
    "print(\"ชื่อ(อังกฤษ) :\",*list(data[data[\"student_id\"] == find_your_id]['english_name']))\r\n",
    "print(\"ชื่อเล่น :\",*list(data[data[\"student_id\"] == find_your_id]['nickname']))\r\n",
    "print(\"เบอร์โทร :\",(str(*list(data[data[\"student_id\"] == find_your_id]['telephone_number']))).replace(\"-\",\"\"))\r\n",
    "print(\"เมลล์มหาลัย :\",*list(data[data[\"student_id\"] == find_your_id]['university_email']))"
   ],
   "outputs": [
    {
     "output_type": "stream",
     "name": "stdout",
     "text": [
      "รหัสนิสิต : 6410504047\n",
      "ชื่อ(ไทย) : นายชาญฤทธิ์ พิศิษฐ์จริง\n",
      "ชื่อ(อังกฤษ) : MisterChanrich PISITJING\n",
      "ชื่อเล่น : วีจั๊มพ์\n",
      "เบอร์โทร : 0836870094\n",
      "เมลล์มหาลัย : chanrich.p@ku.th\n"
     ]
    }
   ],
   "metadata": {}
  },
  {
   "cell_type": "code",
   "execution_count": null,
   "source": [],
   "outputs": [],
   "metadata": {}
  }
 ],
 "metadata": {
  "orig_nbformat": 4,
  "language_info": {
   "name": "python",
   "version": "3.9.6",
   "mimetype": "text/x-python",
   "codemirror_mode": {
    "name": "ipython",
    "version": 3
   },
   "pygments_lexer": "ipython3",
   "nbconvert_exporter": "python",
   "file_extension": ".py"
  },
  "kernelspec": {
   "name": "python3",
   "display_name": "Python 3.9.6 64-bit ('python39': conda)"
  },
  "interpreter": {
   "hash": "7cffbab6619079a2a799a61432cc0cf7b30e6fb2dcb99e0e31409e12eb5c19b2"
  }
 },
 "nbformat": 4,
 "nbformat_minor": 2
}