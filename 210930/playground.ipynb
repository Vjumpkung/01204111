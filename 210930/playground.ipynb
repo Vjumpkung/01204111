{
 "cells": [
  {
   "cell_type": "code",
   "execution_count": null,
   "source": [],
   "outputs": [],
   "metadata": {}
  },
  {
   "cell_type": "code",
   "execution_count": 63,
   "source": [
    "import numpy as np\r\n",
    "L = int(input(\"Length: \"))\r\n",
    "W = int(input(\"Width: \"))\r\n",
    "court = [list(map(int,input().split())) for i in range(L)]\r\n",
    "one_fourtwo = np.full((4,2),1).tolist()\r\n",
    "from copy import deepcopy\r\n",
    "pointer_x = 0\r\n",
    "pointer_y = 0\r\n",
    "possible_lst = []\r\n",
    "for i in range(len(court)):\r\n",
    "    for j in range(len(court[0])):\r\n",
    "        wait = []\r\n",
    "        if len(court[i:i+4]) > 3:\r\n",
    "            for row in court[i:i+4]:\r\n",
    "                if len(row[j:j+2]) > 1:\r\n",
    "                    #print(row[j:j+2])\r\n",
    "                    wait.append(row[j:j+2])\r\n",
    "            if not len(wait) == 0:\r\n",
    "                u = deepcopy(court)\r\n",
    "                if (one_fourtwo == wait) and (i != 0 and i+4 != len(u)-1 and j != 0 and j != len(u[0])-1):\r\n",
    "                    #print('possible')\r\n",
    "                    #print((i,i+4),(j,j+2))\r\n",
    "                    for p in range(i,i+4):\r\n",
    "                        for q in range(j,j+2):\r\n",
    "                            u[p][q] = 'x'\r\n",
    "                    possible_lst.append(u)\r\n",
    "                #print()\r\n",
    "print(f'{len(possible_lst)} possible court(s)')\r\n",
    "for i in possible_lst:\r\n",
    "    for p in range(len(i)):\r\n",
    "        for q in range(len(i[p])):\r\n",
    "            print(i[p][q],end=\" \")\r\n",
    "        print()\r\n",
    "    print()"
   ],
   "outputs": [
    {
     "output_type": "stream",
     "name": "stdout",
     "text": [
      "[[0 0 0 0]\n",
      " [0 1 0 1]\n",
      " [0 1 1 1]\n",
      " [1 1 1 1]\n",
      " [0 1 1 1]\n",
      " [0 1 1 1]\n",
      " [0 1 1 0]\n",
      " [0 0 0 0]]\n"
     ]
    }
   ],
   "metadata": {}
  },
  {
   "cell_type": "code",
   "execution_count": 79,
   "source": [],
   "outputs": [
    {
     "output_type": "stream",
     "name": "stdout",
     "text": [
      "2 possible court(s)\n",
      "0 0 0 0 \n",
      "0 1 0 1 \n",
      "0 x x 1 \n",
      "1 x x 1 \n",
      "0 x x 1 \n",
      "0 x x 1 \n",
      "0 1 1 0 \n",
      "0 0 0 0 \n",
      "\n",
      "0 0 0 0 \n",
      "0 1 0 1 \n",
      "0 1 x x \n",
      "1 1 x x \n",
      "0 1 x x \n",
      "0 1 x x \n",
      "0 1 1 0 \n",
      "0 0 0 0 \n",
      "\n"
     ]
    }
   ],
   "metadata": {}
  },
  {
   "cell_type": "code",
   "execution_count": null,
   "source": [],
   "outputs": [],
   "metadata": {}
  },
  {
   "cell_type": "code",
   "execution_count": null,
   "source": [
    "import numpy as np\r\n",
    "n = int(input('Input n: '))\r\n",
    "m = int(input('Input m: '))\r\n",
    "field = np.array([list(map(int,input().split())) for i in range(n)])\r\n",
    "for i in list(range(np.min(field),np.max(field)+1)):\r\n",
    "    finder = np.where(field == i)\r\n",
    "    print(f\"({finder[0][0]},{finder[1][0]})\")"
   ],
   "outputs": [],
   "metadata": {}
  },
  {
   "cell_type": "code",
   "execution_count": null,
   "source": [
    "def box_size(A,B,C):\r\n",
    "    res = \"\"\r\n",
    "    if B <= 10 and A <= 15 and C <= 8 :\r\n",
    "        print(\"Box size 1 \")\r\n",
    "        res = 1\r\n",
    "    elif A <= 25 and B <= 15 and C <= 12 :\r\n",
    "        print(\"Box size 2 \")\r\n",
    "        res = 2\r\n",
    "    elif B <= 40 and A <= 50 and C <= 20 :\r\n",
    "        print(\"Box size 3 \")\r\n",
    "        res = 3\r\n",
    "    else:\r\n",
    "        print(\"Oversize product\")\r\n",
    "        res = None\r\n",
    "    return res\r\n",
    "N = int(input(\"N: \"))\r\n",
    "total_box = {1 : 0 , 2 : 0 , 3 : 0}\r\n",
    "for i in range(1,N+1):\r\n",
    "    try:\r\n",
    "        total_box[box_size(int(input(f\"Order {i} A: \")),int(input(f\"Order {i} B: \")),int(input(f\"Order {i} C: \")))] += 1\r\n",
    "    except KeyError:\r\n",
    "        pass\r\n",
    "for i in total_box:\r\n",
    "    print(f\"Use Box size {i}: {total_box[i]}\")"
   ],
   "outputs": [],
   "metadata": {}
  }
 ],
 "metadata": {
  "orig_nbformat": 4,
  "language_info": {
   "name": "python",
   "version": "3.9.6",
   "mimetype": "text/x-python",
   "codemirror_mode": {
    "name": "ipython",
    "version": 3
   },
   "pygments_lexer": "ipython3",
   "nbconvert_exporter": "python",
   "file_extension": ".py"
  },
  "kernelspec": {
   "name": "python3",
   "display_name": "Python 3.6.13 64-bit ('elab': conda)"
  },
  "interpreter": {
   "hash": "1b6539e9ad35fc39de9761771fdbe27c8409b0251b431a05aac35241c2500571"
  }
 },
 "nbformat": 4,
 "nbformat_minor": 2
}