{
  "nbformat": 4,
  "nbformat_minor": 2,
  "metadata": {
    "kernelspec": {
      "name": "python3",
      "display_name": "Python 3.6.13 64-bit ('elab': conda)"
    },
    "language_info": {
      "codemirror_mode": {
        "name": "ipython",
        "version": 3
      },
      "file_extension": ".py",
      "mimetype": "text/x-python",
      "name": "python",
      "nbconvert_exporter": "python",
      "pygments_lexer": "ipython3",
      "version": "3.6.13"
    },
    "colab": {
      "name": "[Dataset3]ภูศิษฐ์สมบูรณ์ยิ่งสุข.ipynb",
      "provenance": [],
      "collapsed_sections": [],
      "toc_visible": true
    },
    "interpreter": {
      "hash": "15bb5b5caed0bbca38a2f71d04205bf45dd89b88527a22cde4771643e1402263"
    }
  },
  "cells": [
    {
      "cell_type": "markdown",
      "source": [
        "# IMDb\r\n",
        "\r\n",
        "เว็บ IMDb รวบรวมข้อมูลเกี่ยวกับภาพยนตร์ต่างๆ และตัดข้อมูลบางส่วนมาให้ใช้ทำการทดลองต่างๆ ได้ https://www.imdb.com/interfaces/\r\n",
        "\r\n",
        "โจทย์นี้คัดกรอง [ข้อมูลบางส่วนใน IMDb](https://drive.google.com/file/d/1V5VNg1WTMTS_eEOQqylektM9ZwdG1uq2/view?usp=sharing) มา โดยโดยมีไฟล์นี้อยู่\r\n",
        "\r\n",
        "**Cast.tsv**\r\n",
        "- tconst (string) - alphanumeric unique identifier of the title\r\n",
        "- ordering (integer) – a number to uniquely identify rows for a given titleId\r\n",
        "- nconst (string) - alphanumeric unique identifier of the name/person\r\n",
        "- category (string) - the category of job that person was in\r\n",
        "- job (string) - the specific job title if applicable, else '\\N'\r\n",
        "- characters (string) - the name of the character played if applicable, else '\\N'\r\n",
        "\r\n",
        "**Title.tsv**\r\n",
        "- tconst (string) - alphanumeric unique identifier of the title\r\n",
        "- titleType (string) – the type/format of the title (e.g. movie, short, tvseries, tvepisode, video, etc)\r\n",
        "- primaryTitle (string) – the more popular title / the title used by the filmmakers on promotional materials at the point of release\r\n",
        "- originalTitle (string) - original title, in the original language\r\n",
        "- isAdult (boolean) - 0: non-adult title; 1: adult title\r\n",
        "- startYear (YYYY) – represents the release year of a title. In the case of TV Series, it is the series start year\r\n",
        "- endYear (YYYY) – TV Series end year. ‘\\N’ for all other title types\r\n",
        "- runtimeMinutes – primary runtime of the title, in minutes\r\n",
        "- genres (string array) – includes up to three genres associated with the title\r\n",
        "\r\n",
        "**Star.tsv**\r\n",
        "- nconst (string) - alphanumeric unique identifier of the name/person\r\n",
        "- primaryName (string)– name by which the person is most often credited\r\n",
        "- birthYear – in YYYY format\r\n",
        "- deathYear – in YYYY format if applicable, else '\\N'\r\n",
        "- primaryProfession (array of strings)– the top-3 professions of the person\r\n",
        "- knownForTitles (array of tconsts) – titles the person is known for"
      ],
      "metadata": {
        "id": "z0INfx0o64RB"
      }
    },
    {
      "cell_type": "markdown",
      "source": [
        "## Preprocess"
      ],
      "metadata": {
        "id": "XMLJVpYiBBp1"
      }
    },
    {
      "cell_type": "markdown",
      "source": [
        "ใช้ encoding='utf-8' ตอนอ่านไฟล์"
      ],
      "metadata": {}
    },
    {
      "cell_type": "code",
      "execution_count": 226,
      "source": [
        "def read_table(file):\r\n",
        "    with open(file,encoding=\"utf-8\") as fp:\r\n",
        "        data = fp.readlines()\r\n",
        "        data = [i.strip().split(\"\\t\") for i in data[::2]]\r\n",
        "        datahead = data[0]\r\n",
        "        datavalue = data[1:]\r\n",
        "    return datahead,datavalue"
      ],
      "outputs": [],
      "metadata": {}
    },
    {
      "cell_type": "code",
      "execution_count": 227,
      "source": [
        "df_star_head,df_star = read_table('Star.tsv')\r\n",
        "df_cast_head,df_cast = read_table('Cast.tsv')\r\n",
        "df_title_head,df_title = read_table('Title.tsv')\r\n",
        "com_star  = [dict(zip(df_star_head,i)) for i in df_star]\r\n",
        "com_cast  = [dict(zip(df_cast_head,i)) for i in df_cast]\r\n",
        "com_title = [dict(zip(df_title_head,i)) for i in df_title]"
      ],
      "outputs": [],
      "metadata": {
        "id": "aRjNaAfIyPkZ",
        "colab": {
          "base_uri": "https://localhost:8080/",
          "height": 34
        },
        "outputId": "447617b4-248b-4556-d814-814810083428"
      }
    },
    {
      "cell_type": "markdown",
      "source": [
        "# 1. มีภาพยนตร์กี่ประเภท (genres) แต่ละประเภทมีอย่างละกี่เรื่อง (เรียงตาม genre)\r\n",
        "หาด้วย Title"
      ],
      "metadata": {
        "id": "OdR8yexJGztv"
      }
    },
    {
      "cell_type": "markdown",
      "source": [
        "```\r\n",
        "Action 733\r\n",
        "Adult 56\r\n",
        "Adventure 277\r\n",
        "Animation 132\r\n",
        "Biography 17\r\n",
        "8Comedy 1694\r\n",
        "Crime 488\r\n",
        "Documentary 484\r\n",
        "Drama 3041\r\n",
        "Family 247\r\n",
        "Fantasy 218\r\n",
        "History 120\r\n",
        "Horror 559\r\n",
        "Music 128\r\n",
        "Musical 74\r\n",
        "Mystery 268\r\n",
        "News 7\r\n",
        "Reality-TV 3\r\n",
        "Romance 825\r\n",
        "Sci-Fi 181\r\n",
        "Sport 80\r\n",
        "Thriller 726\r\n",
        "War 83\r\n",
        "Western 22\r\n",
        "\\N 270\r\n",
        "```"
      ],
      "metadata": {}
    },
    {
      "cell_type": "code",
      "execution_count": 228,
      "source": [
        "genre = {}\r\n",
        "for i in com_title:\r\n",
        "    for j in (i[\"genres\"]).split(\",\"):\r\n",
        "        if j not in genre:\r\n",
        "            genre.setdefault(j,1)\r\n",
        "        else:\r\n",
        "            genre[j] += 1\r\n",
        "for i in sorted(genre.items()):\r\n",
        "    print(*i)"
      ],
      "outputs": [
        {
          "output_type": "stream",
          "name": "stdout",
          "text": [
            "Action 733\n",
            "Adult 56\n",
            "Adventure 277\n",
            "Animation 132\n",
            "Biography 178\n",
            "Comedy 1694\n",
            "Crime 488\n",
            "Documentary 484\n",
            "Drama 3041\n",
            "Family 247\n",
            "Fantasy 218\n",
            "History 120\n",
            "Horror 559\n",
            "Music 128\n",
            "Musical 74\n",
            "Mystery 268\n",
            "News 7\n",
            "Reality-TV 3\n",
            "Romance 825\n",
            "Sci-Fi 181\n",
            "Sport 80\n",
            "Thriller 726\n",
            "War 83\n",
            "Western 22\n",
            "\\N 270\n"
          ]
        }
      ],
      "metadata": {}
    },
    {
      "cell_type": "markdown",
      "source": [
        "# 2. มีนักแสดงชายและหญิงอย่างละกี่คน\r\n",
        "นับจากไฟล์ Star"
      ],
      "metadata": {
        "id": "DawKBj6AQJR9"
      }
    },
    {
      "cell_type": "markdown",
      "source": [
        "```\r\n",
        "actress 3537\r\n",
        "actor 4300\r\n",
        "```"
      ],
      "metadata": {}
    },
    {
      "cell_type": "code",
      "execution_count": 229,
      "source": [
        "profession_count = {}\r\n",
        "for i in com_star:\r\n",
        "    for j in i[\"primaryProfession\"].split(\",\"):\r\n",
        "        if (j not in profession_count) and (j in (\"actor\",\"actress\")):\r\n",
        "            profession_count.setdefault(j,1)\r\n",
        "        elif (j in (\"actor\",\"actress\")):\r\n",
        "            profession_count[j] += 1\r\n",
        "profession_count"
      ],
      "outputs": [
        {
          "output_type": "execute_result",
          "data": {
            "text/plain": [
              "{'actress': 3537, 'actor': 4300}"
            ]
          },
          "metadata": {},
          "execution_count": 229
        }
      ],
      "metadata": {
        "id": "mUemvFPEA7it",
        "colab": {
          "base_uri": "https://localhost:8080/",
          "height": 204
        },
        "outputId": "ee702b0e-b14f-4c64-e876-e7a0f33051dc"
      }
    },
    {
      "cell_type": "code",
      "execution_count": 230,
      "source": [
        "for key, val in profession_count.items():\r\n",
        "    print(f\"{key:<20}{val}\")"
      ],
      "outputs": [
        {
          "output_type": "stream",
          "name": "stdout",
          "text": [
            "actress             3537\n",
            "actor               4300\n"
          ]
        }
      ],
      "metadata": {}
    },
    {
      "cell_type": "markdown",
      "source": [
        "# 3. นักแสดงที่ยังมีชีวิตมีอายุเท่าไหร่บ้าง แต่ละช่วงมีกี่คน \r\n",
        "หาด้วย Star"
      ],
      "metadata": {
        "id": "DZfyXkpYQoFe"
      }
    },
    {
      "cell_type": "markdown",
      "source": [
        "```\r\n",
        "32 213\r\n",
        "33 233\r\n",
        "34 288\r\n",
        "35 328\r\n",
        "36 317\r\n",
        "37 365\r\n",
        "38 389\r\n",
        "39 438\r\n",
        "40 430\r\n",
        "41 448\r\n",
        "42 495\r\n",
        "43 460\r\n",
        "44 442\r\n",
        "45 463\r\n",
        "46 472\r\n",
        "47 447\r\n",
        "48 505\r\n",
        "49 511\r\n",
        "50 498\r\n",
        "```"
      ],
      "metadata": {}
    },
    {
      "cell_type": "code",
      "execution_count": 231,
      "source": [
        "yrs = {}\r\n",
        "for i in com_star:\r\n",
        "    if i[\"birthYear\"] not in yrs and not (i[\"deathYear\"]).isnumeric():\r\n",
        "        yrs.setdefault(i[\"birthYear\"],1)\r\n",
        "    elif not (i[\"deathYear\"]).isnumeric():\r\n",
        "        yrs[i[\"birthYear\"]] += 1\r\n",
        "for i in sorted(list(map(lambda x : (2021-int(x[0]),x[1]),list(yrs.items())))):\r\n",
        "    print(*i)"
      ],
      "outputs": [
        {
          "output_type": "stream",
          "name": "stdout",
          "text": [
            "32 213\n",
            "33 233\n",
            "34 288\n",
            "35 328\n",
            "36 317\n",
            "37 365\n",
            "38 389\n",
            "39 438\n",
            "40 430\n",
            "41 448\n",
            "42 495\n",
            "43 460\n",
            "44 442\n",
            "45 463\n",
            "46 472\n",
            "47 447\n",
            "48 505\n",
            "49 511\n",
            "50 498\n"
          ]
        }
      ],
      "metadata": {}
    },
    {
      "cell_type": "markdown",
      "source": [
        "# 4. มีนักแสดงกี่คนที่เคยแสดงในภาพยนตร์ Action \r\n",
        "หาด้วย Cast + Title"
      ],
      "metadata": {
        "id": "XfXfRTGWSNt_"
      }
    },
    {
      "cell_type": "markdown",
      "source": [
        "```\r\n",
        "992\r\n",
        "```"
      ],
      "metadata": {}
    },
    {
      "cell_type": "code",
      "execution_count": 232,
      "source": [
        "act1 = []\r\n",
        "for i in com_title:\r\n",
        "    if \"Action\" in i[\"genres\"] :\r\n",
        "        act1.append(i[\"tconst\"])  \r\n",
        "act_c = 0\r\n",
        "castls = set()\r\n",
        "for i in com_cast:\r\n",
        "    if (i[\"tconst\"] in act1) and (i[\"nconst\"] not in castls) and (i[\"category\"] in (\"actor\",\"actress\")):\r\n",
        "        castls.add(i[\"nconst\"])\r\n",
        "        act_c += 1\r\n",
        "print(act_c)"
      ],
      "outputs": [
        {
          "output_type": "stream",
          "name": "stdout",
          "text": [
            "992\n"
          ]
        }
      ],
      "metadata": {}
    },
    {
      "cell_type": "markdown",
      "source": [
        "# 5. มีนักแสดงกี่คนที่แสดงในภาพยนตร์มากกว่า 1 ประเภท \r\n",
        "หาด้วย Cast + Title"
      ],
      "metadata": {
        "id": "Hi5YsW-wTL4y"
      }
    },
    {
      "cell_type": "markdown",
      "source": [
        "```\r\n",
        "3861\r\n",
        "```"
      ],
      "metadata": {}
    },
    {
      "cell_type": "code",
      "execution_count": 233,
      "source": [
        "def find_more_than_one(tconst):\r\n",
        "    for i in com_title:\r\n",
        "        if tconst == i[\"tconst\"] and (len(i[\"genres\"].split(\",\")) > 1):\r\n",
        "            return True\r\n",
        "    return False\r\n",
        "castls = set()\r\n",
        "g = 0\r\n",
        "for i in com_cast:\r\n",
        "    if (i[\"nconst\"] not in castls) and find_more_than_one(i[\"tconst\"]) and (i[\"category\"] in (\"actor\",\"actress\")):\r\n",
        "        castls.add(i[\"nconst\"])\r\n",
        "        g+=1\r\n",
        "g"
      ],
      "outputs": [
        {
          "output_type": "execute_result",
          "data": {
            "text/plain": [
              "3861"
            ]
          },
          "metadata": {},
          "execution_count": 233
        }
      ],
      "metadata": {}
    },
    {
      "cell_type": "markdown",
      "source": [
        "# 6. มีผู้กำกับกี่คนที่เป็นนักแสดงด้วย \r\n",
        "หาด้วย Star"
      ],
      "metadata": {
        "id": "UUv4xcj6Gj0Q"
      }
    },
    {
      "cell_type": "markdown",
      "source": [
        "```\r\n",
        "1424\r\n",
        "```"
      ],
      "metadata": {}
    },
    {
      "cell_type": "code",
      "execution_count": 234,
      "source": [
        "{\"actor\",\"actress\",\"director\"}.intersection(set(com_star[1045][\"primaryProfession\"].split(\",\")))"
      ],
      "outputs": [
        {
          "output_type": "execute_result",
          "data": {
            "text/plain": [
              "{'actress', 'director'}"
            ]
          },
          "metadata": {},
          "execution_count": 234
        }
      ],
      "metadata": {}
    },
    {
      "cell_type": "code",
      "execution_count": 235,
      "source": [
        "cit = 0\r\n",
        "for i in com_star:\r\n",
        "    if \"act\" in i[\"primaryProfession\"] and \"director\" in i[\"primaryProfession\"]:\r\n",
        "        cit+=1\r\n",
        "cit"
      ],
      "outputs": [
        {
          "output_type": "execute_result",
          "data": {
            "text/plain": [
              "1424"
            ]
          },
          "metadata": {},
          "execution_count": 235
        }
      ],
      "metadata": {}
    },
    {
      "cell_type": "markdown",
      "source": [
        "# 7. หาจำนวนภาพยนต์แนวรอมคอมในแต่ละปี (นับเฉพาะปีที่มีตั้งแต่ 1 เรื่องขึ้นไป)\r\n",
        "หาด้วย Title"
      ],
      "metadata": {
        "id": "BfNuCFFfLU9i"
      }
    },
    {
      "cell_type": "markdown",
      "source": [
        "```\r\n",
        "1991 3\r\n",
        "1992 2\r\n",
        "1993 3\r\n",
        "1994 1\r\n",
        "1995 4\r\n",
        "1996 8\r\n",
        "1997 3\r\n",
        "1998 13\r\n",
        "1999 8\r\n",
        "2000 8\r\n",
        "2001 7\r\n",
        "2002 15\r\n",
        "2003 9\r\n",
        "2004 8\r\n",
        "2005 15\r\n",
        "2006 13\r\n",
        "2007 15\r\n",
        "2008 9\r\n",
        "2009 10\r\n",
        "2010 25\r\n",
        "2011 24\r\n",
        "2012 18\r\n",
        "2013 14\r\n",
        "2014 24\r\n",
        "2015 21\r\n",
        "2016 22\r\n",
        "2017 10\r\n",
        "2018 14\r\n",
        "2019 15\r\n",
        "2020 5\r\n",
        "```"
      ],
      "metadata": {}
    },
    {
      "cell_type": "code",
      "execution_count": 236,
      "source": [
        "romcom = {}\r\n",
        "for i in com_title:\r\n",
        "    if ({\"Romance\",\"Comedy\"}.intersection(set(i[\"genres\"].split(\",\"))) == {\"Romance\",\"Comedy\"}) and (i[\"startYear\"] not in romcom):\r\n",
        "        romcom.setdefault(i[\"startYear\"],1)\r\n",
        "    elif ({\"Romance\",\"Comedy\"}.intersection(set(i[\"genres\"].split(\",\"))) == {\"Romance\",\"Comedy\"}):\r\n",
        "        romcom[i[\"startYear\"]] += 1\r\n",
        "for i in sorted(romcom.items()):\r\n",
        "    print(*i)"
      ],
      "outputs": [
        {
          "output_type": "stream",
          "name": "stdout",
          "text": [
            "1991 3\n",
            "1992 2\n",
            "1993 3\n",
            "1994 1\n",
            "1995 4\n",
            "1996 8\n",
            "1997 3\n",
            "1998 13\n",
            "1999 8\n",
            "2000 8\n",
            "2001 7\n",
            "2002 15\n",
            "2003 9\n",
            "2004 8\n",
            "2005 15\n",
            "2006 13\n",
            "2007 15\n",
            "2008 9\n",
            "2009 10\n",
            "2010 25\n",
            "2011 24\n",
            "2012 18\n",
            "2013 14\n",
            "2014 24\n",
            "2015 21\n",
            "2016 22\n",
            "2017 10\n",
            "2018 14\n",
            "2019 15\n",
            "2020 5\n"
          ]
        }
      ],
      "metadata": {}
    }
  ]
}