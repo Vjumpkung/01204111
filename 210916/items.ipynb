{
 "cells": [
  {
   "cell_type": "code",
   "execution_count": 31,
   "source": [
    "class Items:\r\n",
    "    def __init__(self,args):\r\n",
    "        self.ID,self.type,self.price = args"
   ],
   "outputs": [],
   "metadata": {}
  },
  {
   "cell_type": "code",
   "execution_count": 32,
   "source": [
    "hmy = int(input(\"How many products are there? : \"))\r\n",
    "lst = [Items(input().split()) for i in range(hmy)]\r\n",
    "def main():\r\n",
    "    while True:\r\n",
    "        input_id = (input(\"Id : \"))\r\n",
    "        for i in lst:\r\n",
    "            if i.ID == input_id:\r\n",
    "                while True:\r\n",
    "                    inp = int(input(\"Q : \"))\r\n",
    "                    if inp == 0: return\r\n",
    "                    elif inp == 1:\r\n",
    "                        print(f\"{i.type}\")\r\n",
    "                    elif inp == 2:\r\n",
    "                        print(f\"{i.price}\")\r\n",
    "                    elif inp == 3:\r\n",
    "                        input_id = int(input(\"Id : \"))\r\n",
    "                        break\r\n",
    "        if i.datapack['id'] != input_id:\r\n",
    "            print(\"This id doesn't exist.\")\r\n",
    "main()"
   ],
   "outputs": [
    {
     "output_type": "stream",
     "name": "stdout",
     "text": [
      "table\n",
      "2000\n"
     ]
    }
   ],
   "metadata": {}
  },
  {
   "cell_type": "code",
   "execution_count": null,
   "source": [],
   "outputs": [],
   "metadata": {}
  }
 ],
 "metadata": {
  "orig_nbformat": 4,
  "language_info": {
   "name": "python",
   "version": "3.6.13",
   "mimetype": "text/x-python",
   "codemirror_mode": {
    "name": "ipython",
    "version": 3
   },
   "pygments_lexer": "ipython3",
   "nbconvert_exporter": "python",
   "file_extension": ".py"
  },
  "kernelspec": {
   "name": "python3",
   "display_name": "Python 3.6.13 64-bit ('elab': conda)"
  },
  "interpreter": {
   "hash": "c0ce7a4de90984b074fb61d36c8f151b370ea8860eecea01391ee083639484b6"
  }
 },
 "nbformat": 4,
 "nbformat_minor": 2
}