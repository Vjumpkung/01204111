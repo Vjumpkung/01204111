{
 "cells": [
  {
   "cell_type": "code",
   "execution_count": 30,
   "source": [
    "import json \r\n",
    "x = json.load(open(input(\"Enter json filename : \")))"
   ],
   "outputs": [],
   "metadata": {}
  },
  {
   "cell_type": "code",
   "execution_count": 31,
   "source": [
    "class Racer:\r\n",
    "    def __init__(self,name,_range,velocity,response,goal ):\r\n",
    "        self.name = name\r\n",
    "        self._range = _range\r\n",
    "        self.velocity = velocity\r\n",
    "        self.response = response\r\n",
    "        self.goal = goal\r\n",
    "        self.now = 0\r\n",
    "    def __str__(self):\r\n",
    "        return f\"{self.name} , {self._range} , {self.velocity} , {self.response} , {self.now}\"\r\n",
    "    def cal_time(self):\r\n",
    "        ss = self.goal\r\n",
    "        ra = self._range\r\n",
    "        vi = self.velocity\r\n",
    "        ti = 0.0001\r\n",
    "        dn = 0\r\n",
    "        while True:\r\n",
    "            dn = dn + vi[0]*0.0001\r\n",
    "            ti += 0.0001\r\n",
    "            try:\r\n",
    "                if (ra[1] < dn):\r\n",
    "                    #print(\"pop\")\r\n",
    "                    vi.pop(0)\r\n",
    "                    ra.pop(0)\r\n",
    "            except IndexError:\r\n",
    "                pass\r\n",
    "            if dn >= ss:\r\n",
    "                break\r\n",
    "        self.ti = ti\r\n",
    "        dick = {\r\n",
    "            \"name\" : self.name,\r\n",
    "            \"time\" : float(f\"{self.ti:.2f}\"),\r\n",
    "            \"response\" : self.response\r\n",
    "        }\r\n",
    "        return dick"
   ],
   "outputs": [],
   "metadata": {}
  },
  {
   "cell_type": "code",
   "execution_count": 32,
   "source": [
    "op = []\r\n",
    "newls = []\r\n",
    "dis=int(input('Enter distance (meter) : '))\r\n",
    "for i in x['racer']:\r\n",
    "    r = Racer(i['name'],i['_range'],i['velocity'],i['response'],dis)\r\n",
    "    op.append(r)\r\n",
    "for i in op:\r\n",
    "    newls.append(i.cal_time())\r\n",
    "newls.sort(key=lambda x : (x['time'],-x['response'],x['name']))\r\n",
    "for i in newls:\r\n",
    "    print(f\"{i['name']} {i['time']:.2f}\")"
   ],
   "outputs": [
    {
     "output_type": "stream",
     "name": "stdout",
     "text": [
      "D 1.67\n",
      "A 1.67\n",
      "C 2.17\n",
      "B 13.50\n"
     ]
    }
   ],
   "metadata": {}
  }
 ],
 "metadata": {
  "orig_nbformat": 4,
  "language_info": {
   "name": "python",
   "version": "3.6.13",
   "mimetype": "text/x-python",
   "codemirror_mode": {
    "name": "ipython",
    "version": 3
   },
   "pygments_lexer": "ipython3",
   "nbconvert_exporter": "python",
   "file_extension": ".py"
  },
  "kernelspec": {
   "name": "python3",
   "display_name": "Python 3.6.13 64-bit ('elab': conda)"
  },
  "interpreter": {
   "hash": "c0ce7a4de90984b074fb61d36c8f151b370ea8860eecea01391ee083639484b6"
  }
 },
 "nbformat": 4,
 "nbformat_minor": 2
}