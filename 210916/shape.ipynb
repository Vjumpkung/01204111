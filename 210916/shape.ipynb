{
 "cells": [
  {
   "cell_type": "code",
   "execution_count": 5,
   "source": [
    "class Rectangle:\r\n",
    "    def __init__(self,l,w):\r\n",
    "        self.l = l\r\n",
    "        self.w = w\r\n",
    "    def area(self):\r\n",
    "        return self.l*self.w\r\n",
    "    def perimeter(self):\r\n",
    "        return 2*(self.l+self.w)\r\n",
    "    def is_square(self):\r\n",
    "        if self.l == self.w:\r\n",
    "            return \"This rectangle is square too.\"\r\n",
    "        else:\r\n",
    "            return \"This rectangle is not square.\"\r\n",
    "class Triangle:\r\n",
    "    def __init__(self,*args):\r\n",
    "        self.l1,self.l2,self.l3 = args\r\n",
    "    def area(self):\r\n",
    "        s = (self.l1+self.l2+self.l3)/2\r\n",
    "        return (s*(s-self.l1)*(s-self.l2)*(s-self.l3))**0.5\r\n",
    "    def perimeter(self):\r\n",
    "        return self.l1+self.l2+self.l3\r\n",
    "    def is_right_triangle(self):\r\n",
    "        if (self.l1**2 + self.l2**2 == self.l3**2) or ( self.l2**2 + self.l3**2 == self.l1**2 ) or ( self.l3**2 + self.l1**2 == self.l2**2 ):\r\n",
    "            return \"This triangle is right triangle too.\"\r\n",
    "        else:\r\n",
    "            return \"This triangle is not right triangle.\"\r\n",
    "class Circle:\r\n",
    "    def __init__(self,r):\r\n",
    "        self.r = r\r\n",
    "    def area(self):\r\n",
    "        return 3.14*self.r**2\r\n",
    "    def perimeter(self):\r\n",
    "        return 2*3.14*self.r\r\n",
    "            "
   ],
   "outputs": [],
   "metadata": {}
  },
  {
   "cell_type": "code",
   "execution_count": 6,
   "source": [
    "l = int(input(\"Enter rectangle length : \"))  \r\n",
    "w = int(input(\"Enter rectangle width : \"))  \r\n",
    "p1 = Rectangle(l,w)  \r\n",
    "print(f'Area is {p1.area()}.')  \r\n",
    "print(f'Perimeter is {p1.perimeter()}.')  \r\n",
    "print(p1.is_square()) \r\n",
    "\r\n",
    "l1 = int(input(\"Enter triangle first side length : \"))  \r\n",
    "l2 = int(input(\"Enter triangle second side length : \"))  \r\n",
    "l3 = int(input(\"Enter triangle third side length : \"))  \r\n",
    "p2 = Triangle(l1,l2,l3)  \r\n",
    "print(f'Area is {p2.area()}.')  \r\n",
    "print(f'Perimeter is {p2.perimeter()}.')  \r\n",
    "print(p2.is_right_triangle()) \r\n",
    "\r\n",
    "r = int(input(\"Enter circle radius : \"))  \r\n",
    "p3 = Circle(r)  \r\n",
    "print(f'Area is {p3.area()}.')  \r\n",
    "print(f'Perimeter is {p3.perimeter()}.')  "
   ],
   "outputs": [
    {
     "output_type": "error",
     "ename": "ValueError",
     "evalue": "invalid literal for int() with base 10: ''",
     "traceback": [
      "\u001b[1;31m---------------------------------------------------------------------------\u001b[0m",
      "\u001b[1;31mValueError\u001b[0m                                Traceback (most recent call last)",
      "\u001b[1;32m<ipython-input-6-13315e7cc17c>\u001b[0m in \u001b[0;36m<module>\u001b[1;34m()\u001b[0m\n\u001b[1;32m----> 1\u001b[1;33m \u001b[0ml\u001b[0m \u001b[1;33m=\u001b[0m \u001b[0mint\u001b[0m\u001b[1;33m(\u001b[0m\u001b[0minput\u001b[0m\u001b[1;33m(\u001b[0m\u001b[1;34m\"Enter rectangle length : \"\u001b[0m\u001b[1;33m)\u001b[0m\u001b[1;33m)\u001b[0m\u001b[1;33m\u001b[0m\u001b[1;33m\u001b[0m\u001b[0m\n\u001b[0m\u001b[0;32m      2\u001b[0m \u001b[0mw\u001b[0m \u001b[1;33m=\u001b[0m \u001b[0mint\u001b[0m\u001b[1;33m(\u001b[0m\u001b[0minput\u001b[0m\u001b[1;33m(\u001b[0m\u001b[1;34m\"Enter rectangle width : \"\u001b[0m\u001b[1;33m)\u001b[0m\u001b[1;33m)\u001b[0m\u001b[1;33m\u001b[0m\u001b[1;33m\u001b[0m\u001b[0m\n\u001b[0;32m      3\u001b[0m \u001b[0mp1\u001b[0m \u001b[1;33m=\u001b[0m \u001b[0mRectangle\u001b[0m\u001b[1;33m(\u001b[0m\u001b[0ml\u001b[0m\u001b[1;33m,\u001b[0m\u001b[0mw\u001b[0m\u001b[1;33m)\u001b[0m\u001b[1;33m\u001b[0m\u001b[1;33m\u001b[0m\u001b[0m\n\u001b[0;32m      4\u001b[0m \u001b[0mprint\u001b[0m\u001b[1;33m(\u001b[0m\u001b[1;34mf'Area is {p1.area()}.'\u001b[0m\u001b[1;33m)\u001b[0m\u001b[1;33m\u001b[0m\u001b[1;33m\u001b[0m\u001b[0m\n\u001b[0;32m      5\u001b[0m \u001b[0mprint\u001b[0m\u001b[1;33m(\u001b[0m\u001b[1;34mf'Perimeter is {p1.perimeter()}.'\u001b[0m\u001b[1;33m)\u001b[0m\u001b[1;33m\u001b[0m\u001b[1;33m\u001b[0m\u001b[0m\n",
      "\u001b[1;31mValueError\u001b[0m: invalid literal for int() with base 10: ''"
     ]
    }
   ],
   "metadata": {}
  }
 ],
 "metadata": {
  "orig_nbformat": 4,
  "language_info": {
   "name": "python",
   "version": "3.6.13",
   "mimetype": "text/x-python",
   "codemirror_mode": {
    "name": "ipython",
    "version": 3
   },
   "pygments_lexer": "ipython3",
   "nbconvert_exporter": "python",
   "file_extension": ".py"
  },
  "kernelspec": {
   "name": "python3",
   "display_name": "Python 3.6.13 64-bit ('elab': conda)"
  },
  "interpreter": {
   "hash": "c0ce7a4de90984b074fb61d36c8f151b370ea8860eecea01391ee083639484b6"
  }
 },
 "nbformat": 4,
 "nbformat_minor": 2
}