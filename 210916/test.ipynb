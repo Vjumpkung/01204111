{
 "cells": [
  {
   "cell_type": "code",
   "execution_count": 64,
   "source": [
    "import json\r\n",
    "x = json.load(open(input(\"Filename : \")))"
   ],
   "outputs": [],
   "metadata": {}
  },
  {
   "cell_type": "code",
   "execution_count": 41,
   "source": [
    "def one(data):\r\n",
    "    print(len(data))"
   ],
   "outputs": [
    {
     "output_type": "stream",
     "name": "stdout",
     "text": [
      "18986\n"
     ]
    }
   ],
   "metadata": {}
  },
  {
   "cell_type": "code",
   "execution_count": 38,
   "source": [
    "def two(data):\r\n",
    "    fr = int(input(\"From : \"))\r\n",
    "    tu = int(input(\"To : \"))\r\n",
    "    stw = input(\"Start with Char : \")\r\n",
    "    k = fr\r\n",
    "    for items in data[fr:tu+1]:\r\n",
    "        if items['title'][0].lower() == stw.lower():\r\n",
    "            print(f\"{k} : {items['title']}\")\r\n",
    "        k += 1"
   ],
   "outputs": [
    {
     "output_type": "stream",
     "name": "stdout",
     "text": [
      "10 : Naruto\n",
      "20 : Neon Genesis Evangelion\n"
     ]
    }
   ],
   "metadata": {}
  },
  {
   "cell_type": "code",
   "execution_count": 37,
   "source": [
    "def three(data):\r\n",
    "    fr = int(input(\"From : \"))\r\n",
    "    tu = int(input(\"To : \"))\r\n",
    "    ty = input('Type : ')\r\n",
    "    tvlst = [i for i in data[fr:tu+1] if i['type'] == ty]\r\n",
    "    print(f\"TV : {len(tvlst)}\")\r\n",
    "    maximum = -1e18\r\n",
    "    fav = -1e18\r\n",
    "    name = \"\"\r\n",
    "    name2 = \"\"\r\n",
    "    for i in tvlst:\r\n",
    "        if i['mal_score'] > maximum:\r\n",
    "            maximum = i['mal_score']\r\n",
    "            name = i['title']\r\n",
    "        if i['mal_favorites'] > fav:\r\n",
    "            fav = i['mal_favorites']\r\n",
    "            name2 = i['title']\r\n",
    "    print(\"Most scores :\",name)\r\n",
    "    print(\"Most favorites :\",name2)"
   ],
   "outputs": [
    {
     "output_type": "stream",
     "name": "stdout",
     "text": [
      "TV : 20\n",
      "Most scores : Monster\n",
      "Most favorites : One Piece\n"
     ]
    }
   ],
   "metadata": {}
  },
  {
   "cell_type": "code",
   "execution_count": 52,
   "source": [
    "def fourr(x):\r\n",
    "    fr = int(input(\"From : \"))\r\n",
    "    tu = int(input(\"To : \"))\r\n",
    "    src = input('Source : ')\r\n",
    "    stat = input('Status : ')\r\n",
    "    msc = float(input('Mul score : '))\r\n",
    "    k = fr\r\n",
    "    for p in x[fr:tu]:\r\n",
    "        if p['mal_score'] >= msc and p['source'] == src and p['status'] == stat:\r\n",
    "            print(f\"{k} : {p['title']}\")\r\n",
    "        k += 1"
   ],
   "outputs": [
    {
     "output_type": "stream",
     "name": "stdout",
     "text": [
      "2 : Trigun\n",
      "6 : Hachimitsu to Clover\n",
      "8 : Initial D Fourth Stage\n",
      "9 : Monster\n"
     ]
    }
   ],
   "metadata": {}
  },
  {
   "cell_type": "code",
   "execution_count": 71,
   "source": [
    "def fivef(x):\r\n",
    "    fr = int(input(\"From : \"))\r\n",
    "    tu = int(input(\"To : \"))\r\n",
    "    sea = input(\"Season : \")\r\n",
    "    c = 0\r\n",
    "    for i in x[fr:tu]:\r\n",
    "        try:\r\n",
    "            if sea in i['premiered']:\r\n",
    "                c+=1\r\n",
    "        except:\r\n",
    "            continue\r\n",
    "    print(c)"
   ],
   "outputs": [
    {
     "output_type": "stream",
     "name": "stdout",
     "text": [
      "11\n"
     ]
    }
   ],
   "metadata": {}
  },
  {
   "cell_type": "code",
   "execution_count": 79,
   "source": [
    "def siz(data):\r\n",
    "    fr = int(input(\"From : \"))\r\n",
    "    tu = int(input(\"To : \"))\r\n",
    "    c = 0\r\n",
    "    for i in data[fr:tu]:\r\n",
    "        try:\r\n",
    "            if i['aired_start'][0:4] == i['aired_end'][0:4]:\r\n",
    "                \r\n",
    "                c += 1\r\n",
    "        except:\r\n",
    "            continue \r\n",
    "    print(f\"Find : {c}\")"
   ],
   "outputs": [
    {
     "output_type": "stream",
     "name": "stdout",
     "text": [
      "Find : 6\n"
     ]
    }
   ],
   "metadata": {}
  },
  {
   "cell_type": "code",
   "execution_count": 81,
   "source": [
    "def sev(data):\r\n",
    "    tits = input()\r\n",
    "    for i in data:\r\n",
    "        if i['title'].lower() == tits.lower():\r\n",
    "            print(f\"{i['mal_rating']}\")\r\n",
    "            break"
   ],
   "outputs": [
    {
     "output_type": "stream",
     "name": "stdout",
     "text": [
      "PG-13 - Teens 13 or older\n"
     ]
    }
   ],
   "metadata": {}
  },
  {
   "cell_type": "code",
   "execution_count": 89,
   "source": [
    "def egg(data):\r\n",
    "    fr = int(input(\"From : \"))\r\n",
    "    tu = int(input(\"To : \"))\r\n",
    "    k = fr\r\n",
    "    maxima = len(max(data[fr:tu],key = lambda x : len(x['synopsis'].split()))['synopsis'].split())\r\n",
    "    for i in data[fr:tu]:\r\n",
    "        if len(i['synopsis'].split()) == maxima:\r\n",
    "            print(f\"{k} : {i['title']}\")\r\n",
    "        k += 1"
   ],
   "outputs": [
    {
     "output_type": "stream",
     "name": "stdout",
     "text": [
      "9 : Monster\n"
     ]
    }
   ],
   "metadata": {}
  },
  {
   "cell_type": "code",
   "execution_count": null,
   "source": [
    "nam = int(input('Menu : '))\r\n",
    "if nam == 1: one(x)\r\n",
    "elif nam == 2: two(x)\r\n",
    "elif nam == 3: three(x)\r\n",
    "elif nam == 4: fourr(x)\r\n",
    "elif nam == 5: fivef(x)\r\n",
    "elif nam == 6: siz(x)\r\n",
    "elif nam == 7: sev(x)\r\n",
    "elif nam == 8: egg(x)"
   ],
   "outputs": [],
   "metadata": {}
  },
  {
   "cell_type": "code",
   "execution_count": 94,
   "source": [
    "len(x[0:20])"
   ],
   "outputs": [
    {
     "output_type": "execute_result",
     "data": {
      "text/plain": [
       "20"
      ]
     },
     "metadata": {},
     "execution_count": 94
    }
   ],
   "metadata": {}
  }
 ],
 "metadata": {
  "orig_nbformat": 4,
  "language_info": {
   "name": "python",
   "version": "3.6.13",
   "mimetype": "text/x-python",
   "codemirror_mode": {
    "name": "ipython",
    "version": 3
   },
   "pygments_lexer": "ipython3",
   "nbconvert_exporter": "python",
   "file_extension": ".py"
  },
  "kernelspec": {
   "name": "python3",
   "display_name": "Python 3.6.13 64-bit ('elab': conda)"
  },
  "interpreter": {
   "hash": "15bb5b5caed0bbca38a2f71d04205bf45dd89b88527a22cde4771643e1402263"
  }
 },
 "nbformat": 4,
 "nbformat_minor": 2
}