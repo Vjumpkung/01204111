{
 "cells": [
  {
   "cell_type": "code",
   "execution_count": 78,
   "source": [
    "import csv\r\n",
    "maxx = -1\r\n",
    "minn = 1e9\r\n",
    "\r\n",
    "def read_csv(filename):\r\n",
    "    with open(filename) as f:\r\n",
    "        global maxx , minn\r\n",
    "        datas = csv.reader(f)\r\n",
    "        data = [ i for i in datas]\r\n",
    "        for i in range(1,len(data)) :\r\n",
    "            maxx = max(maxx,int(data[i][6]))\r\n",
    "            minn = min(minn,int(data[i][7]))\r\n",
    "    return data"
   ],
   "outputs": [],
   "metadata": {}
  },
  {
   "cell_type": "code",
   "execution_count": 88,
   "source": [
    "class Std(object):\r\n",
    "    \r\n",
    "    def __init__(self, *args):\r\n",
    "        self.id, self.gender, self.race, self.parental, self.lunch, self.test, self.math, self.reading, self.writing = args\r\n",
    "        \r\n",
    "    def show_data(self):\r\n",
    "        print(f'''gender : {self.gender}\r\n",
    "race/ethnicity : {self.race}\r\n",
    "parental level of education : {self.parental}\r\n",
    "lunch : {self.lunch}\r\n",
    "test preparation course : {self.test}\r\n",
    "math score : {self.math}\r\n",
    "reading score : {self.reading}\r\n",
    "writing score : {self.writing}''')\r\n",
    "    def less_from_max_math_score(self):\r\n",
    "        print(f\"less than max : {maxx - int(self.math)}\")\r\n",
    "    def more_from_min_reading_score(self):\r\n",
    "        print(f\"more than min : {int(self.reading) - minn}\")\r\n",
    "    def can_pass(self):\r\n",
    "        if (int(self.math)+ int(self.reading)+ int(self.writing)) > 240:\r\n",
    "            print(f\"Pass\")\r\n",
    "        else:\r\n",
    "            print(f\"Can't pass\")\r\n",
    "    def __repr__(self):\r\n",
    "        return f\"math score : {self.math}, reading score : {self.reading}, writing score : {self.writing}\""
   ],
   "outputs": [],
   "metadata": {}
  },
  {
   "cell_type": "code",
   "execution_count": 92,
   "source": [
    "# filename = input(\"Filename : \")\r\n",
    "# datas = read_csv(filename)\r\n",
    "datas = read_csv(\"StudentsPerformance.csv\")\r\n",
    "classes = list()\r\n",
    "for i in range(1,len(datas)) :\r\n",
    "    data = Std(datas[i][0],datas[i][1],datas[i][2],datas[i][3],datas[i][4],datas[i][5],datas[i][6],datas[i][7],datas[i][8])\r\n",
    "    classes.append(data)\r\n",
    "\r\n",
    "\r\n",
    "menu = int(input(\"Menu : \"))\r\n",
    "id = input(\"ID : \")\r\n",
    "for i in classes :\r\n",
    "    if i.id == id :\r\n",
    "        if menu == 1 : # show data\r\n",
    "            i.show_data()\r\n",
    "        elif menu == 2 : # less_from_max_math_score\r\n",
    "            i.less_from_max_math_score()\r\n",
    "        elif menu == 3 : # more_from_min_reading_score\r\n",
    "            i.more_from_min_reading_score()\r\n",
    "        elif menu == 4: # can_pass\r\n",
    "            i.can_pass()\r\n",
    "        elif menu == 5: # print\r\n",
    "            print(i)\r\n",
    "        break"
   ],
   "outputs": [
    {
     "output_type": "stream",
     "name": "stdout",
     "text": [
      "more than min : 55\n"
     ]
    }
   ],
   "metadata": {}
  },
  {
   "cell_type": "code",
   "execution_count": 27,
   "source": [
    "summ = 3\r\n",
    "for i in range(0,51):\r\n",
    "    summ += round((4*(-1)**i)/((2*i+2)*(2*i+3)*(2*i+4)),20)\r\n",
    "f\"{summ:.20f}\""
   ],
   "outputs": [
    {
     "output_type": "execute_result",
     "data": {
      "text/plain": [
       "'3.14159443076150868279'"
      ]
     },
     "metadata": {},
     "execution_count": 27
    }
   ],
   "metadata": {}
  },
  {
   "cell_type": "code",
   "execution_count": null,
   "source": [
    "3.14159076984979535041\r\n",
    "3.14159443076150868279"
   ],
   "outputs": [],
   "metadata": {}
  }
 ],
 "metadata": {
  "orig_nbformat": 4,
  "language_info": {
   "name": "python",
   "version": "3.6.13",
   "mimetype": "text/x-python",
   "codemirror_mode": {
    "name": "ipython",
    "version": 3
   },
   "pygments_lexer": "ipython3",
   "nbconvert_exporter": "python",
   "file_extension": ".py"
  },
  "kernelspec": {
   "name": "python3",
   "display_name": "Python 3.6.13 64-bit ('elab': conda)"
  },
  "interpreter": {
   "hash": "15bb5b5caed0bbca38a2f71d04205bf45dd89b88527a22cde4771643e1402263"
  }
 },
 "nbformat": 4,
 "nbformat_minor": 2
}