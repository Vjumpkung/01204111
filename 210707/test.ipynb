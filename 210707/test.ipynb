{
 "cells": [
  {
   "cell_type": "code",
   "execution_count": null,
   "metadata": {},
   "outputs": [],
   "source": [
    "while True:\r\n",
    "    name = input('Who are you? ')\r\n",
    "    if name != 'Joe':\r\n",
    "        continue\r\n",
    "    else:\r\n",
    "        passwd = input(\"Your password: \")\r\n",
    "        if passwd == '123':\r\n",
    "            break\r\n",
    "        print(\"Password not correct!\")\r\n",
    "print(\"Access Granted\")"
   ]
  },
  {
   "cell_type": "code",
   "execution_count": null,
   "metadata": {},
   "outputs": [],
   "source": [
    "while True:\r\n",
    "    name = input(\"Please type your name: \")\r\n",
    "    if name == \"123\":\r\n",
    "        break\r\n",
    "    print(f\"You type [{name}].\")\r\n",
    "print(\"Thank you\")"
   ]
  },
  {
   "cell_type": "code",
   "execution_count": null,
   "metadata": {},
   "outputs": [],
   "source": [
    "import time\r\n",
    "import random\r\n",
    "for i in range(100):\r\n",
    "    print(random.randint(1,100))\r\n",
    "    time.sleep(1)\r\n",
    "    "
   ]
  }
 ],
 "metadata": {
  "interpreter": {
   "hash": "2db524e06e9f5f4ffedc911c917cb75e12dbc923643829bf417064a77eb14d37"
  },
  "kernelspec": {
   "display_name": "Python 3.8.8 64-bit",
   "name": "python3"
  },
  "language_info": {
   "codemirror_mode": {
    "name": "ipython",
    "version": 3
   },
   "file_extension": ".py",
   "mimetype": "text/x-python",
   "name": "python",
   "nbconvert_exporter": "python",
   "pygments_lexer": "ipython3",
   "version": "3.8.8"
  },
  "orig_nbformat": 4
 },
 "nbformat": 4,
 "nbformat_minor": 2
}