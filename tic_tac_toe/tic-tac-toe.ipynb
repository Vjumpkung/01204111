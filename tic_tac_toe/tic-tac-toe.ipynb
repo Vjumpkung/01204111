{
  "nbformat": 4,
  "nbformat_minor": 2,
  "metadata": {
    "colab": {
      "name": "learn.ipynb",
      "provenance": [],
      "collapsed_sections": []
    },
    "kernelspec": {
      "name": "python3",
      "display_name": "Python 3.9.6 64-bit"
    },
    "language_info": {
      "name": "python",
      "version": "3.9.6",
      "mimetype": "text/x-python",
      "codemirror_mode": {
        "name": "ipython",
        "version": 3
      },
      "pygments_lexer": "ipython3",
      "nbconvert_exporter": "python",
      "file_extension": ".py"
    },
    "interpreter": {
      "hash": "cd4d4b2b3341ce4b2201a8212927cf0573411cdba766212cd5fe17ac0a5e87a7"
    }
  },
  "cells": [
    {
      "cell_type": "code",
      "execution_count": null,
      "source": [
        "grid = {\r\n",
        "    'top-L' : '     ' , 'top-M' : '     ' , 'top-R' : '     ',\r\n",
        "    'mid-L' : '     ' , 'mid-M' : '     ' , 'mid-R' : '     ',\r\n",
        "    'low-L' : '     ' , 'low-M' : '     ' , 'low-R' : '     ',\r\n",
        "}\r\n",
        "hintgrid = {\r\n",
        "    'top-L' : 'top-L' , 'top-M' : 'top-M' , 'top-R' : 'top-R',\r\n",
        "    'mid-L' : 'mid-L' , 'mid-M' : 'mid-M' , 'mid-R' : 'mid-R',\r\n",
        "    'low-L' : 'low-L' , 'low-M' : 'low-M' , 'low-R' : 'low-R',\r\n",
        "}"
      ],
      "outputs": [],
      "metadata": {
        "id": "PKxDx6-7Bp-A"
      }
    },
    {
      "cell_type": "code",
      "execution_count": null,
      "source": [
        "def printBoard(board):\r\n",
        "  print(board['top-L'] + '|' + board['top-M'] + '|' + board['top-R'])\r\n",
        "  print('-----+-----+-----')\r\n",
        "  print(board['mid-L'] + '|' + board['mid-M'] + '|' + board['mid-R'])\r\n",
        "  print('-----+-----+-----')\r\n",
        "  print(board['low-L'] + '|' + board['low-M'] + '|' + board['low-R'])"
      ],
      "outputs": [],
      "metadata": {
        "id": "ICxt8rYoUbv6"
      }
    },
    {
      "cell_type": "code",
      "execution_count": null,
      "source": [
        "def checkfillgrid(board):\r\n",
        "  grid = list(board.values())\r\n",
        "  if not '     ' in grid:\r\n",
        "    return False\r\n",
        "  else:\r\n",
        "    return True"
      ],
      "outputs": [],
      "metadata": {
        "id": "wn-vmMEDpkAV"
      }
    },
    {
      "cell_type": "code",
      "execution_count": null,
      "source": [
        "def checkWinner(board):\r\n",
        "  myOX2 = ('  O  ','  X  ')\r\n",
        "  grid = list(board.values())\r\n",
        "  if '     ' in grid:\r\n",
        "    if (grid[0] == grid[1] == grid[2]):\r\n",
        "      if (grid[0] and grid[1] and grid[2]) in myOX2:\r\n",
        "        return True\r\n",
        "    elif (grid[3] == grid[4] == grid[5]):\r\n",
        "      if (grid[3] and grid[4] and grid[5]) in myOX2:\r\n",
        "        return True\r\n",
        "    elif (grid[6] == grid[7] == grid[8]):\r\n",
        "      if (grid[6] and grid[7] and grid[8]) in myOX2:\r\n",
        "        return True\r\n",
        "    elif (grid[0] == grid[3] == grid[6]):\r\n",
        "      if (grid[0] and grid[3] and grid[6]) in myOX2:\r\n",
        "        return True\r\n",
        "    elif (grid[1] == grid[4] == grid[7]):\r\n",
        "      if (grid[1] and grid[4] and grid[7]) in myOX2:\r\n",
        "        return True\r\n",
        "    elif (grid[2] == grid[5] == grid[8]):\r\n",
        "      if (grid[2] and grid[5] and grid[8]) in myOX2:\r\n",
        "        return True\r\n",
        "    elif (grid[0] == grid[4] == grid[8]):\r\n",
        "      if (grid[0] and grid[4] and grid[8]) in myOX2:\r\n",
        "        return True\r\n",
        "    elif (grid[2] == grid[4] == grid[6]):\r\n",
        "      if (grid[2] and grid[4] and grid[6]) in myOX2:\r\n",
        "        return True"
      ],
      "outputs": [],
      "metadata": {
        "id": "k9VI3Nl_eimn"
      }
    },
    {
      "cell_type": "code",
      "execution_count": null,
      "source": [
        "def replaceOX(myinput,sym,board):\r\n",
        "  aleready = False\r\n",
        "  try: \r\n",
        "    if board[myinput] == '     ':\r\n",
        "      board[myinput] = '  ' + sym + '  ' \r\n",
        "      already = True\r\n",
        "    else:\r\n",
        "      print(\"you cannot replace this\")\r\n",
        "      already = False\r\n",
        "  except KeyError:\r\n",
        "    print(f\"{myinput} is invalid input\")\r\n",
        "    already = False\r\n",
        "  return(already)"
      ],
      "outputs": [],
      "metadata": {
        "id": "kEwQeGnFYJfC"
      }
    },
    {
      "cell_type": "code",
      "execution_count": null,
      "source": [
        "def tic_tac_toe():\r\n",
        "  symbols = ['O','X']\r\n",
        "  isPlayerTurn = True\r\n",
        "  myPlayer = symbols[0]\r\n",
        "  myAI = symbols[1]\r\n",
        "  player = input(\"select 'O' or 'X' : \")\r\n",
        "  if player == symbols[0]:\r\n",
        "    myPlayer = symbols[0]\r\n",
        "    myAI = symbols[1]\r\n",
        "  else:\r\n",
        "    myPlayer = symbols[1]\r\n",
        "    myAI = symbols[0]\r\n",
        "  print(f\"You selected {player}\")\r\n",
        "  while True:\r\n",
        "    print('-----------------')\r\n",
        "    printBoard(hintgrid) #print grid\r\n",
        "    print('-----------------\\n')\r\n",
        "    print('-----------------')\r\n",
        "    printBoard(grid)\r\n",
        "    print('-----------------')\r\n",
        "    if isPlayerTurn:\r\n",
        "      print(\"player turn\")\r\n",
        "      position = input(f\"place your {player} (or type 'exit' to exit) : \")\r\n",
        "    else:\r\n",
        "      print(\"AI turn\")\r\n",
        "      position = input(f\"place your {myAI} (or type 'exit' to exit) : \")\r\n",
        "    if position == \"exit\":\r\n",
        "      print(\"You have been exit\")\r\n",
        "      break\r\n",
        "    elif isPlayerTurn:\r\n",
        "      if replaceOX(position,myPlayer,grid):\r\n",
        "        isPlayerTurn = False\r\n",
        "      else:\r\n",
        "        isPlayerTurn = True\r\n",
        "    else:\r\n",
        "      if replaceOX(position,myAI,grid):\r\n",
        "        isPlayerTurn = True\r\n",
        "      else:\r\n",
        "        isPlayerTurn = False\r\n",
        "    if checkfillgrid(grid):\r\n",
        "      if checkWinner(grid):\r\n",
        "        print('-----------------')\r\n",
        "        printBoard(grid)\r\n",
        "        print('-----------------')\r\n",
        "        if not isPlayerTurn: print(f\"winner is {player}\")\r\n",
        "        else: print(f\"winner is {myAI}\")\r\n",
        "        break\r\n",
        "    else:\r\n",
        "        print('-----------------')\r\n",
        "        printBoard(grid)\r\n",
        "        print('-----------------')\r\n",
        "        print(\"TIE\")   \r\n",
        "        break"
      ],
      "outputs": [],
      "metadata": {
        "id": "UA-YjS_YU4Xh"
      }
    },
    {
      "cell_type": "code",
      "execution_count": null,
      "source": [
        "tic_tac_toe()"
      ],
      "outputs": [],
      "metadata": {
        "colab": {
          "base_uri": "https://localhost:8080/"
        },
        "id": "whmvOPZ3Ukwc",
        "outputId": "00b0993d-528f-4006-d089-5d1bbe29d3a4"
      }
    }
  ]
}